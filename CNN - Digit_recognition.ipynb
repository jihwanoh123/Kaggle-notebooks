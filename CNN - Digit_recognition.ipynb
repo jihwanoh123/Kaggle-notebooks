{
 "cells": [
  {
   "cell_type": "code",
   "execution_count": 1,
   "id": "0c3d47ff",
   "metadata": {
    "_cell_guid": "b1076dfc-b9ad-4769-8c92-a6c4dae69d19",
    "_uuid": "8f2839f25d086af736a60e9eeb907d3b93b6e0e5",
    "execution": {
     "iopub.execute_input": "2023-02-14T14:40:45.768612Z",
     "iopub.status.busy": "2023-02-14T14:40:45.767923Z",
     "iopub.status.idle": "2023-02-14T14:40:45.787866Z",
     "shell.execute_reply": "2023-02-14T14:40:45.786385Z"
    },
    "papermill": {
     "duration": 0.031581,
     "end_time": "2023-02-14T14:40:45.791595",
     "exception": false,
     "start_time": "2023-02-14T14:40:45.760014",
     "status": "completed"
    },
    "tags": []
   },
   "outputs": [
    {
     "name": "stdout",
     "output_type": "stream",
     "text": [
      "/kaggle/input/digit-recognizer/sample_submission.csv\n",
      "/kaggle/input/digit-recognizer/train.csv\n",
      "/kaggle/input/digit-recognizer/test.csv\n"
     ]
    }
   ],
   "source": [
    "# This Python 3 environment comes with many helpful analytics libraries installed\n",
    "# It is defined by the kaggle/python Docker image: https://github.com/kaggle/docker-python\n",
    "# For example, here's several helpful packages to load\n",
    "\n",
    "import numpy as np # linear algebra\n",
    "import pandas as pd # data processing, CSV file I/O (e.g. pd.read_csv)\n",
    "\n",
    "# Input data files are available in the read-only \"../input/\" directory\n",
    "# For example, running this (by clicking run or pressing Shift+Enter) will list all files under the input directory\n",
    "\n",
    "import os\n",
    "for dirname, _, filenames in os.walk('/kaggle/input'):\n",
    "    for filename in filenames:\n",
    "        print(os.path.join(dirname, filename))\n",
    "\n",
    "# You can write up to 20GB to the current directory (/kaggle/working/) that gets preserved as output when you create a version using \"Save & Run All\" \n",
    "# You can also write temporary files to /kaggle/temp/, but they won't be saved outside of the current session"
   ]
  },
  {
   "cell_type": "code",
   "execution_count": 2,
   "id": "01391039",
   "metadata": {
    "execution": {
     "iopub.execute_input": "2023-02-14T14:40:45.803264Z",
     "iopub.status.busy": "2023-02-14T14:40:45.802827Z",
     "iopub.status.idle": "2023-02-14T14:40:53.739105Z",
     "shell.execute_reply": "2023-02-14T14:40:53.737705Z"
    },
    "papermill": {
     "duration": 7.94494,
     "end_time": "2023-02-14T14:40:53.742017",
     "exception": false,
     "start_time": "2023-02-14T14:40:45.797077",
     "status": "completed"
    },
    "tags": []
   },
   "outputs": [],
   "source": [
    "from keras import layers,Sequential\n",
    "from keras.layers import Dense,Dropout,Conv2D,MaxPooling2D,Flatten\n",
    "from keras.preprocessing.image import *\n",
    "from tensorflow.keras.optimizers import Adam"
   ]
  },
  {
   "cell_type": "code",
   "execution_count": 3,
   "id": "ddfbbee7",
   "metadata": {
    "execution": {
     "iopub.execute_input": "2023-02-14T14:40:53.753706Z",
     "iopub.status.busy": "2023-02-14T14:40:53.752944Z",
     "iopub.status.idle": "2023-02-14T14:41:00.724403Z",
     "shell.execute_reply": "2023-02-14T14:41:00.723316Z"
    },
    "papermill": {
     "duration": 6.981094,
     "end_time": "2023-02-14T14:41:00.727697",
     "exception": false,
     "start_time": "2023-02-14T14:40:53.746603",
     "status": "completed"
    },
    "tags": []
   },
   "outputs": [],
   "source": [
    "train=pd.read_csv(\"/kaggle/input/digit-recognizer/train.csv\")\n",
    "test=pd.read_csv(\"/kaggle/input/digit-recognizer/test.csv\")"
   ]
  },
  {
   "cell_type": "code",
   "execution_count": 4,
   "id": "4924c4f2",
   "metadata": {
    "execution": {
     "iopub.execute_input": "2023-02-14T14:41:00.738681Z",
     "iopub.status.busy": "2023-02-14T14:41:00.738260Z",
     "iopub.status.idle": "2023-02-14T14:41:00.769183Z",
     "shell.execute_reply": "2023-02-14T14:41:00.767344Z"
    },
    "papermill": {
     "duration": 0.039967,
     "end_time": "2023-02-14T14:41:00.772204",
     "exception": false,
     "start_time": "2023-02-14T14:41:00.732237",
     "status": "completed"
    },
    "tags": []
   },
   "outputs": [
    {
     "data": {
      "text/html": [
       "<div>\n",
       "<style scoped>\n",
       "    .dataframe tbody tr th:only-of-type {\n",
       "        vertical-align: middle;\n",
       "    }\n",
       "\n",
       "    .dataframe tbody tr th {\n",
       "        vertical-align: top;\n",
       "    }\n",
       "\n",
       "    .dataframe thead th {\n",
       "        text-align: right;\n",
       "    }\n",
       "</style>\n",
       "<table border=\"1\" class=\"dataframe\">\n",
       "  <thead>\n",
       "    <tr style=\"text-align: right;\">\n",
       "      <th></th>\n",
       "      <th>label</th>\n",
       "      <th>pixel0</th>\n",
       "      <th>pixel1</th>\n",
       "      <th>pixel2</th>\n",
       "      <th>pixel3</th>\n",
       "      <th>pixel4</th>\n",
       "      <th>pixel5</th>\n",
       "      <th>pixel6</th>\n",
       "      <th>pixel7</th>\n",
       "      <th>pixel8</th>\n",
       "      <th>...</th>\n",
       "      <th>pixel774</th>\n",
       "      <th>pixel775</th>\n",
       "      <th>pixel776</th>\n",
       "      <th>pixel777</th>\n",
       "      <th>pixel778</th>\n",
       "      <th>pixel779</th>\n",
       "      <th>pixel780</th>\n",
       "      <th>pixel781</th>\n",
       "      <th>pixel782</th>\n",
       "      <th>pixel783</th>\n",
       "    </tr>\n",
       "  </thead>\n",
       "  <tbody>\n",
       "    <tr>\n",
       "      <th>0</th>\n",
       "      <td>1</td>\n",
       "      <td>0</td>\n",
       "      <td>0</td>\n",
       "      <td>0</td>\n",
       "      <td>0</td>\n",
       "      <td>0</td>\n",
       "      <td>0</td>\n",
       "      <td>0</td>\n",
       "      <td>0</td>\n",
       "      <td>0</td>\n",
       "      <td>...</td>\n",
       "      <td>0</td>\n",
       "      <td>0</td>\n",
       "      <td>0</td>\n",
       "      <td>0</td>\n",
       "      <td>0</td>\n",
       "      <td>0</td>\n",
       "      <td>0</td>\n",
       "      <td>0</td>\n",
       "      <td>0</td>\n",
       "      <td>0</td>\n",
       "    </tr>\n",
       "    <tr>\n",
       "      <th>1</th>\n",
       "      <td>0</td>\n",
       "      <td>0</td>\n",
       "      <td>0</td>\n",
       "      <td>0</td>\n",
       "      <td>0</td>\n",
       "      <td>0</td>\n",
       "      <td>0</td>\n",
       "      <td>0</td>\n",
       "      <td>0</td>\n",
       "      <td>0</td>\n",
       "      <td>...</td>\n",
       "      <td>0</td>\n",
       "      <td>0</td>\n",
       "      <td>0</td>\n",
       "      <td>0</td>\n",
       "      <td>0</td>\n",
       "      <td>0</td>\n",
       "      <td>0</td>\n",
       "      <td>0</td>\n",
       "      <td>0</td>\n",
       "      <td>0</td>\n",
       "    </tr>\n",
       "    <tr>\n",
       "      <th>2</th>\n",
       "      <td>1</td>\n",
       "      <td>0</td>\n",
       "      <td>0</td>\n",
       "      <td>0</td>\n",
       "      <td>0</td>\n",
       "      <td>0</td>\n",
       "      <td>0</td>\n",
       "      <td>0</td>\n",
       "      <td>0</td>\n",
       "      <td>0</td>\n",
       "      <td>...</td>\n",
       "      <td>0</td>\n",
       "      <td>0</td>\n",
       "      <td>0</td>\n",
       "      <td>0</td>\n",
       "      <td>0</td>\n",
       "      <td>0</td>\n",
       "      <td>0</td>\n",
       "      <td>0</td>\n",
       "      <td>0</td>\n",
       "      <td>0</td>\n",
       "    </tr>\n",
       "  </tbody>\n",
       "</table>\n",
       "<p>3 rows × 785 columns</p>\n",
       "</div>"
      ],
      "text/plain": [
       "   label  pixel0  pixel1  pixel2  pixel3  pixel4  pixel5  pixel6  pixel7  \\\n",
       "0      1       0       0       0       0       0       0       0       0   \n",
       "1      0       0       0       0       0       0       0       0       0   \n",
       "2      1       0       0       0       0       0       0       0       0   \n",
       "\n",
       "   pixel8  ...  pixel774  pixel775  pixel776  pixel777  pixel778  pixel779  \\\n",
       "0       0  ...         0         0         0         0         0         0   \n",
       "1       0  ...         0         0         0         0         0         0   \n",
       "2       0  ...         0         0         0         0         0         0   \n",
       "\n",
       "   pixel780  pixel781  pixel782  pixel783  \n",
       "0         0         0         0         0  \n",
       "1         0         0         0         0  \n",
       "2         0         0         0         0  \n",
       "\n",
       "[3 rows x 785 columns]"
      ]
     },
     "execution_count": 4,
     "metadata": {},
     "output_type": "execute_result"
    }
   ],
   "source": [
    "train.head(3)"
   ]
  },
  {
   "cell_type": "code",
   "execution_count": 5,
   "id": "3b58ab53",
   "metadata": {
    "execution": {
     "iopub.execute_input": "2023-02-14T14:41:00.784970Z",
     "iopub.status.busy": "2023-02-14T14:41:00.784020Z",
     "iopub.status.idle": "2023-02-14T14:41:01.029701Z",
     "shell.execute_reply": "2023-02-14T14:41:01.028675Z"
    },
    "papermill": {
     "duration": 0.254858,
     "end_time": "2023-02-14T14:41:01.032315",
     "exception": false,
     "start_time": "2023-02-14T14:41:00.777457",
     "status": "completed"
    },
    "tags": []
   },
   "outputs": [],
   "source": [
    "import numpy as np\n",
    "pixels=train.iloc[:,1:785]\n",
    "labels=train.iloc[:,0]\n",
    "pixels=np.array(pixels)\n",
    "digit=pixels.reshape(len(pixels),28,28,1)"
   ]
  },
  {
   "cell_type": "code",
   "execution_count": 6,
   "id": "adaaaea3",
   "metadata": {
    "execution": {
     "iopub.execute_input": "2023-02-14T14:41:01.044796Z",
     "iopub.status.busy": "2023-02-14T14:41:01.043632Z",
     "iopub.status.idle": "2023-02-14T14:41:01.223106Z",
     "shell.execute_reply": "2023-02-14T14:41:01.221900Z"
    },
    "papermill": {
     "duration": 0.188705,
     "end_time": "2023-02-14T14:41:01.226078",
     "exception": false,
     "start_time": "2023-02-14T14:41:01.037373",
     "status": "completed"
    },
    "tags": []
   },
   "outputs": [
    {
     "data": {
      "text/plain": [
       "<matplotlib.image.AxesImage at 0x7efc3bbb5450>"
      ]
     },
     "execution_count": 6,
     "metadata": {},
     "output_type": "execute_result"
    },
    {
     "data": {
      "image/png": "[encoded data removed]",
      "text/plain": [
       "<Figure size 432x288 with 1 Axes>"
      ]
     },
     "metadata": {
      "needs_background": "light"
     },
     "output_type": "display_data"
    }
   ],
   "source": [
    "import matplotlib.pyplot as plt\n",
    "plt.imshow(digit[1])"
   ]
  },
  {
   "cell_type": "code",
   "execution_count": 7,
   "id": "fa3ea1f1",
   "metadata": {
    "execution": {
     "iopub.execute_input": "2023-02-14T14:41:01.238231Z",
     "iopub.status.busy": "2023-02-14T14:41:01.237788Z",
     "iopub.status.idle": "2023-02-14T14:41:03.011850Z",
     "shell.execute_reply": "2023-02-14T14:41:03.010429Z"
    },
    "papermill": {
     "duration": 1.782971,
     "end_time": "2023-02-14T14:41:03.014328",
     "exception": false,
     "start_time": "2023-02-14T14:41:01.231357",
     "status": "completed"
    },
    "tags": []
   },
   "outputs": [
    {
     "data": {
      "text/plain": [
       "(33600, 28, 28, 1)"
      ]
     },
     "execution_count": 7,
     "metadata": {},
     "output_type": "execute_result"
    }
   ],
   "source": [
    "from sklearn.model_selection import train_test_split\n",
    "X_train,X_valid,Y_train,Y_valid=train_test_split(digit,labels,test_size=0.2)\n",
    "X_train.shape"
   ]
  },
  {
   "cell_type": "code",
   "execution_count": 8,
   "id": "f70655da",
   "metadata": {
    "execution": {
     "iopub.execute_input": "2023-02-14T14:41:03.027907Z",
     "iopub.status.busy": "2023-02-14T14:41:03.026957Z",
     "iopub.status.idle": "2023-02-14T14:41:03.227699Z",
     "shell.execute_reply": "2023-02-14T14:41:03.226416Z"
    },
    "papermill": {
     "duration": 0.210681,
     "end_time": "2023-02-14T14:41:03.230815",
     "exception": false,
     "start_time": "2023-02-14T14:41:03.020134",
     "status": "completed"
    },
    "tags": []
   },
   "outputs": [
    {
     "name": "stderr",
     "output_type": "stream",
     "text": [
      "2023-02-14 14:41:03.073342: I tensorflow/core/common_runtime/process_util.cc:146] Creating new thread pool with default inter op setting: 2. Tune using inter_op_parallelism_threads for best performance.\n"
     ]
    }
   ],
   "source": [
    "model=Sequential()\n",
    "model.add(Conv2D(8,kernel_size=(3,3),activation='relu',input_shape=(28,28,1)))\n",
    "model.add(Conv2D(16,kernel_size=(3,3),activation='relu'))\n",
    "model.add(MaxPooling2D(pool_size=(2,2)))\n",
    "model.add(Dropout(0.3))\n",
    "model.add(Conv2D(16,kernel_size=(3,3),activation='relu'))\n",
    "model.add(MaxPooling2D(pool_size=(2,2)))\n",
    "model.add(Dropout(0.3))\n",
    "\n",
    "model.add(Flatten())\n",
    "model.add(Dense(64,activation='relu'))\n",
    "model.add(Dropout(0.3))\n",
    "model.add(Dense(10,activation='softmax'))"
   ]
  },
  {
   "cell_type": "code",
   "execution_count": 9,
   "id": "cf67fb4a",
   "metadata": {
    "execution": {
     "iopub.execute_input": "2023-02-14T14:41:03.243425Z",
     "iopub.status.busy": "2023-02-14T14:41:03.242860Z",
     "iopub.status.idle": "2023-02-14T14:41:03.259816Z",
     "shell.execute_reply": "2023-02-14T14:41:03.258608Z"
    },
    "papermill": {
     "duration": 0.026523,
     "end_time": "2023-02-14T14:41:03.262690",
     "exception": false,
     "start_time": "2023-02-14T14:41:03.236167",
     "status": "completed"
    },
    "tags": []
   },
   "outputs": [],
   "source": [
    "model.compile(loss='sparse_categorical_crossentropy',optimizer='adam',metrics=['accuracy'])"
   ]
  },
  {
   "cell_type": "code",
   "execution_count": 10,
   "id": "390af6ac",
   "metadata": {
    "execution": {
     "iopub.execute_input": "2023-02-14T14:41:03.275074Z",
     "iopub.status.busy": "2023-02-14T14:41:03.274634Z",
     "iopub.status.idle": "2023-02-14T14:49:26.451284Z",
     "shell.execute_reply": "2023-02-14T14:49:26.450257Z"
    },
    "papermill": {
     "duration": 503.79806,
     "end_time": "2023-02-14T14:49:27.066141",
     "exception": false,
     "start_time": "2023-02-14T14:41:03.268081",
     "status": "completed"
    },
    "tags": []
   },
   "outputs": [
    {
     "name": "stderr",
     "output_type": "stream",
     "text": [
      "2023-02-14 14:41:03.718052: I tensorflow/compiler/mlir/mlir_graph_optimization_pass.cc:185] None of the MLIR Optimization Passes are enabled (registered 2)\n"
     ]
    },
    {
     "name": "stdout",
     "output_type": "stream",
     "text": [
      "Epoch 1/44\n",
      "1050/1050 [==============================] - 12s 11ms/step - loss: 2.1756 - accuracy: 0.5238\n",
      "Epoch 2/44\n",
      "1050/1050 [==============================] - 12s 11ms/step - loss: 0.4619 - accuracy: 0.8541\n",
      "Epoch 3/44\n",
      "1050/1050 [==============================] - 11s 10ms/step - loss: 0.3025 - accuracy: 0.9076\n",
      "Epoch 4/44\n",
      "1050/1050 [==============================] - 11s 10ms/step - loss: 0.2386 - accuracy: 0.9309\n",
      "Epoch 5/44\n",
      "1050/1050 [==============================] - 12s 11ms/step - loss: 0.2015 - accuracy: 0.9411\n",
      "Epoch 6/44\n",
      "1050/1050 [==============================] - 11s 10ms/step - loss: 0.1711 - accuracy: 0.9495\n",
      "Epoch 7/44\n",
      "1050/1050 [==============================] - 10s 10ms/step - loss: 0.1489 - accuracy: 0.9561\n",
      "Epoch 8/44\n",
      "1050/1050 [==============================] - 11s 11ms/step - loss: 0.1427 - accuracy: 0.9585\n",
      "Epoch 9/44\n",
      "1050/1050 [==============================] - 10s 10ms/step - loss: 0.1331 - accuracy: 0.9612\n",
      "Epoch 10/44\n",
      "1050/1050 [==============================] - 10s 10ms/step - loss: 0.1275 - accuracy: 0.9628\n",
      "Epoch 11/44\n",
      "1050/1050 [==============================] - 12s 11ms/step - loss: 0.1120 - accuracy: 0.9667\n",
      "Epoch 12/44\n",
      "1050/1050 [==============================] - 11s 10ms/step - loss: 0.1106 - accuracy: 0.9675\n",
      "Epoch 13/44\n",
      "1050/1050 [==============================] - 11s 10ms/step - loss: 0.1023 - accuracy: 0.9700\n",
      "Epoch 14/44\n",
      "1050/1050 [==============================] - 11s 11ms/step - loss: 0.1032 - accuracy: 0.9701\n",
      "Epoch 15/44\n",
      "1050/1050 [==============================] - 11s 11ms/step - loss: 0.0989 - accuracy: 0.9709\n",
      "Epoch 16/44\n",
      "1050/1050 [==============================] - 11s 11ms/step - loss: 0.0963 - accuracy: 0.9714\n",
      "Epoch 17/44\n",
      "1050/1050 [==============================] - 10s 10ms/step - loss: 0.0932 - accuracy: 0.9736\n",
      "Epoch 18/44\n",
      "1050/1050 [==============================] - 10s 10ms/step - loss: 0.0913 - accuracy: 0.9724\n",
      "Epoch 19/44\n",
      "1050/1050 [==============================] - 11s 11ms/step - loss: 0.0915 - accuracy: 0.9737\n",
      "Epoch 20/44\n",
      "1050/1050 [==============================] - 10s 10ms/step - loss: 0.0891 - accuracy: 0.9741\n",
      "Epoch 21/44\n",
      "1050/1050 [==============================] - 10s 10ms/step - loss: 0.0856 - accuracy: 0.9746\n",
      "Epoch 22/44\n",
      "1050/1050 [==============================] - 11s 10ms/step - loss: 0.0833 - accuracy: 0.9754\n",
      "Epoch 23/44\n",
      "1050/1050 [==============================] - 10s 10ms/step - loss: 0.0877 - accuracy: 0.9747\n",
      "Epoch 24/44\n",
      "1050/1050 [==============================] - 10s 10ms/step - loss: 0.0873 - accuracy: 0.9738\n",
      "Epoch 25/44\n",
      "1050/1050 [==============================] - 11s 10ms/step - loss: 0.0779 - accuracy: 0.9776\n",
      "Epoch 26/44\n",
      "1050/1050 [==============================] - 10s 10ms/step - loss: 0.0789 - accuracy: 0.9765\n",
      "Epoch 27/44\n",
      "1050/1050 [==============================] - 10s 10ms/step - loss: 0.0806 - accuracy: 0.9758\n",
      "Epoch 28/44\n",
      "1050/1050 [==============================] - 11s 11ms/step - loss: 0.0787 - accuracy: 0.9767\n",
      "Epoch 29/44\n",
      "1050/1050 [==============================] - 11s 10ms/step - loss: 0.0816 - accuracy: 0.9768\n",
      "Epoch 30/44\n",
      "1050/1050 [==============================] - 11s 10ms/step - loss: 0.0807 - accuracy: 0.9762\n",
      "Epoch 31/44\n",
      "1050/1050 [==============================] - 12s 11ms/step - loss: 0.0811 - accuracy: 0.9756\n",
      "Epoch 32/44\n",
      "1050/1050 [==============================] - 11s 10ms/step - loss: 0.0751 - accuracy: 0.9779\n",
      "Epoch 33/44\n",
      "1050/1050 [==============================] - 10s 10ms/step - loss: 0.0788 - accuracy: 0.9776\n",
      "Epoch 34/44\n",
      "1050/1050 [==============================] - 12s 11ms/step - loss: 0.0754 - accuracy: 0.9781\n",
      "Epoch 35/44\n",
      "1050/1050 [==============================] - 11s 10ms/step - loss: 0.0787 - accuracy: 0.9772\n",
      "Epoch 36/44\n",
      "1050/1050 [==============================] - 11s 10ms/step - loss: 0.0731 - accuracy: 0.9788\n",
      "Epoch 37/44\n",
      "1050/1050 [==============================] - 12s 11ms/step - loss: 0.0799 - accuracy: 0.9759\n",
      "Epoch 38/44\n",
      "1050/1050 [==============================] - 11s 10ms/step - loss: 0.0778 - accuracy: 0.9766\n",
      "Epoch 39/44\n",
      "1050/1050 [==============================] - 11s 11ms/step - loss: 0.0766 - accuracy: 0.9768\n",
      "Epoch 40/44\n",
      "1050/1050 [==============================] - 10s 10ms/step - loss: 0.0743 - accuracy: 0.9778\n",
      "Epoch 41/44\n",
      "1050/1050 [==============================] - 10s 10ms/step - loss: 0.0724 - accuracy: 0.9789\n",
      "Epoch 42/44\n",
      "1050/1050 [==============================] - 11s 11ms/step - loss: 0.0765 - accuracy: 0.9791\n",
      "Epoch 43/44\n",
      "1050/1050 [==============================] - 10s 10ms/step - loss: 0.0722 - accuracy: 0.9786\n",
      "Epoch 44/44\n",
      "1050/1050 [==============================] - 11s 10ms/step - loss: 0.0749 - accuracy: 0.9771\n"
     ]
    },
    {
     "data": {
      "text/plain": [
       "<keras.callbacks.History at 0x7efc399f1790>"
      ]
     },
     "execution_count": 10,
     "metadata": {},
     "output_type": "execute_result"
    }
   ],
   "source": [
    "model.fit(X_train,Y_train,epochs=44)"
   ]
  },
  {
   "cell_type": "code",
   "execution_count": 11,
   "id": "9a95e22d",
   "metadata": {
    "execution": {
     "iopub.execute_input": "2023-02-14T14:49:28.154265Z",
     "iopub.status.busy": "2023-02-14T14:49:28.153478Z",
     "iopub.status.idle": "2023-02-14T14:49:29.168444Z",
     "shell.execute_reply": "2023-02-14T14:49:29.167125Z"
    },
    "papermill": {
     "duration": 1.569358,
     "end_time": "2023-02-14T14:49:29.171374",
     "exception": false,
     "start_time": "2023-02-14T14:49:27.602016",
     "status": "completed"
    },
    "tags": []
   },
   "outputs": [
    {
     "data": {
      "text/plain": [
       "0.9891666666666666"
      ]
     },
     "execution_count": 11,
     "metadata": {},
     "output_type": "execute_result"
    }
   ],
   "source": [
    "y_pred=model.predict(X_valid)\n",
    "y_predict=[np.argmax(pred) for pred in y_pred]\n",
    "from sklearn.metrics import accuracy_score\n",
    "accuracy_score(Y_valid,y_predict)"
   ]
  },
  {
   "cell_type": "code",
   "execution_count": 12,
   "id": "63d7b280",
   "metadata": {
    "execution": {
     "iopub.execute_input": "2023-02-14T14:49:30.325410Z",
     "iopub.status.busy": "2023-02-14T14:49:30.324604Z",
     "iopub.status.idle": "2023-02-14T14:49:33.921646Z",
     "shell.execute_reply": "2023-02-14T14:49:33.920292Z"
    },
    "papermill": {
     "duration": 4.14246,
     "end_time": "2023-02-14T14:49:33.924609",
     "exception": false,
     "start_time": "2023-02-14T14:49:29.782149",
     "status": "completed"
    },
    "tags": []
   },
   "outputs": [],
   "source": [
    "test_x=np.array(test)\n",
    "test_x=test_x.reshape(len(test_x),28,28,1)\n",
    "test_pred=model.predict(test_x)\n",
    "test_predict=[np.argmax(pred) for pred in test_pred]"
   ]
  },
  {
   "cell_type": "code",
   "execution_count": 13,
   "id": "52ba0d69",
   "metadata": {
    "execution": {
     "iopub.execute_input": "2023-02-14T14:49:35.105693Z",
     "iopub.status.busy": "2023-02-14T14:49:35.104864Z",
     "iopub.status.idle": "2023-02-14T14:49:35.153229Z",
     "shell.execute_reply": "2023-02-14T14:49:35.151831Z"
    },
    "papermill": {
     "duration": 0.686415,
     "end_time": "2023-02-14T14:49:35.155649",
     "exception": false,
     "start_time": "2023-02-14T14:49:34.469234",
     "status": "completed"
    },
    "tags": []
   },
   "outputs": [
    {
     "data": {
      "text/html": [
       "<div>\n",
       "<style scoped>\n",
       "    .dataframe tbody tr th:only-of-type {\n",
       "        vertical-align: middle;\n",
       "    }\n",
       "\n",
       "    .dataframe tbody tr th {\n",
       "        vertical-align: top;\n",
       "    }\n",
       "\n",
       "    .dataframe thead th {\n",
       "        text-align: right;\n",
       "    }\n",
       "</style>\n",
       "<table border=\"1\" class=\"dataframe\">\n",
       "  <thead>\n",
       "    <tr style=\"text-align: right;\">\n",
       "      <th></th>\n",
       "      <th>ImageId</th>\n",
       "      <th>Label</th>\n",
       "    </tr>\n",
       "  </thead>\n",
       "  <tbody>\n",
       "    <tr>\n",
       "      <th>0</th>\n",
       "      <td>1</td>\n",
       "      <td>2</td>\n",
       "    </tr>\n",
       "    <tr>\n",
       "      <th>1</th>\n",
       "      <td>2</td>\n",
       "      <td>0</td>\n",
       "    </tr>\n",
       "    <tr>\n",
       "      <th>2</th>\n",
       "      <td>3</td>\n",
       "      <td>9</td>\n",
       "    </tr>\n",
       "  </tbody>\n",
       "</table>\n",
       "</div>"
      ],
      "text/plain": [
       "   ImageId  Label\n",
       "0        1      2\n",
       "1        2      0\n",
       "2        3      9"
      ]
     },
     "execution_count": 13,
     "metadata": {},
     "output_type": "execute_result"
    }
   ],
   "source": [
    "submission=pd.DataFrame()\n",
    "image_id=[i for i in range(1,len(test_x)+1)]\n",
    "submission['ImageId']=image_id\n",
    "submission['Label']=test_predict\n",
    "submission.head(3)"
   ]
  },
  {
   "cell_type": "code",
   "execution_count": 14,
   "id": "b5f5d72d",
   "metadata": {
    "execution": {
     "iopub.execute_input": "2023-02-14T14:49:36.231765Z",
     "iopub.status.busy": "2023-02-14T14:49:36.231318Z",
     "iopub.status.idle": "2023-02-14T14:49:36.269650Z",
     "shell.execute_reply": "2023-02-14T14:49:36.268306Z"
    },
    "papermill": {
     "duration": 0.58034,
     "end_time": "2023-02-14T14:49:36.272515",
     "exception": false,
     "start_time": "2023-02-14T14:49:35.692175",
     "status": "completed"
    },
    "tags": []
   },
   "outputs": [],
   "source": [
    "submission.to_csv('submission.csv',index=False)"
   ]
  },
  {
   "cell_type": "code",
   "execution_count": null,
   "id": "3a1de26e",
   "metadata": {
    "papermill": {
     "duration": 0.53781,
     "end_time": "2023-02-14T14:49:37.418520",
     "exception": false,
     "start_time": "2023-02-14T14:49:36.880710",
     "status": "completed"
    },
    "tags": []
   },
   "outputs": [],
   "source": []
  }
 ],
 "metadata": {
  "kernelspec": {
   "display_name": "Python 3",
   "language": "python",
   "name": "python3"
  },
  "language_info": {
   "codemirror_mode": {
    "name": "ipython",
    "version": 3
   },
   "file_extension": ".py",
   "mimetype": "text/x-python",
   "name": "python",
   "nbconvert_exporter": "python",
   "pygments_lexer": "ipython3",
   "version": "3.7.12"
  },
  "papermill": {
   "default_parameters": {},
   "duration": 545.662591,
   "end_time": "2023-02-14T14:49:41.442394",
   "environment_variables": {},
   "exception": null,
   "input_path": "__notebook__.ipynb",
   "output_path": "__notebook__.ipynb",
   "parameters": {},
   "start_time": "2023-02-14T14:40:35.779803",
   "version": "2.3.4"
  }
 },
 "nbformat": 4,
 "nbformat_minor": 5
}
