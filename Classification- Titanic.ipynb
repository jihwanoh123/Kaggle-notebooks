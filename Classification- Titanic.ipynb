{
 "cells": [
  {
   "cell_type": "code",
   "execution_count": 1,
   "id": "34213caf",
   "metadata": {
    "_cell_guid": "b1076dfc-b9ad-4769-8c92-a6c4dae69d19",
    "_uuid": "8f2839f25d086af736a60e9eeb907d3b93b6e0e5",
    "execution": {
     "iopub.execute_input": "2022-05-23T11:28:27.533732Z",
     "iopub.status.busy": "2022-05-23T11:28:27.533081Z",
     "iopub.status.idle": "2022-05-23T11:28:27.549328Z",
     "shell.execute_reply": "2022-05-23T11:28:27.548326Z"
    },
    "papermill": {
     "duration": 0.07121,
     "end_time": "2022-05-23T11:28:27.552010",
     "exception": false,
     "start_time": "2022-05-23T11:28:27.480800",
     "status": "completed"
    },
    "tags": []
   },
   "outputs": [
    {
     "name": "stdout",
     "output_type": "stream",
     "text": [
      "/kaggle/input/titanic/train.csv\n",
      "/kaggle/input/titanic/test.csv\n",
      "/kaggle/input/titanic/gender_submission.csv\n"
     ]
    }
   ],
   "source": [
    "# This Python 3 environment comes with many helpful analytics libraries installed\n",
    "# It is defined by the kaggle/python Docker image: https://github.com/kaggle/docker-python\n",
    "# For example, here's several helpful packages to load\n",
    "\n",
    "import numpy as np # linear algebra\n",
    "import pandas as pd # data processing, CSV file I/O (e.g. pd.read_csv)\n",
    "\n",
    "# Input data files are available in the read-only \"../input/\" directory\n",
    "# For example, running this (by clicking run or pressing Shift+Enter) will list all files under the input directory\n",
    "\n",
    "import os\n",
    "for dirname, _, filenames in os.walk('/kaggle/input'):\n",
    "    for filename in filenames:\n",
    "        print(os.path.join(dirname, filename))\n",
    "\n",
    "# You can write up to 20GB to the current directory (/kaggle/working/) that gets preserved as output when you create a version using \"Save & Run All\" \n",
    "# You can also write temporary files to /kaggle/temp/, but they won't be saved outside of the current session"
   ]
  },
  {
   "cell_type": "code",
   "execution_count": 2,
   "id": "cfb9812b",
   "metadata": {
    "execution": {
     "iopub.execute_input": "2022-05-23T11:28:27.654060Z",
     "iopub.status.busy": "2022-05-23T11:28:27.653491Z",
     "iopub.status.idle": "2022-05-23T11:28:27.689411Z",
     "shell.execute_reply": "2022-05-23T11:28:27.688559Z"
    },
    "papermill": {
     "duration": 0.089101,
     "end_time": "2022-05-23T11:28:27.691525",
     "exception": false,
     "start_time": "2022-05-23T11:28:27.602424",
     "status": "completed"
    },
    "tags": []
   },
   "outputs": [
    {
     "data": {
      "text/html": [
       "<div>\n",
       "<style scoped>\n",
       "    .dataframe tbody tr th:only-of-type {\n",
       "        vertical-align: middle;\n",
       "    }\n",
       "\n",
       "    .dataframe tbody tr th {\n",
       "        vertical-align: top;\n",
       "    }\n",
       "\n",
       "    .dataframe thead th {\n",
       "        text-align: right;\n",
       "    }\n",
       "</style>\n",
       "<table border=\"1\" class=\"dataframe\">\n",
       "  <thead>\n",
       "    <tr style=\"text-align: right;\">\n",
       "      <th></th>\n",
       "      <th>PassengerId</th>\n",
       "      <th>Survived</th>\n",
       "      <th>Pclass</th>\n",
       "      <th>Name</th>\n",
       "      <th>Sex</th>\n",
       "      <th>Age</th>\n",
       "      <th>SibSp</th>\n",
       "      <th>Parch</th>\n",
       "      <th>Ticket</th>\n",
       "      <th>Fare</th>\n",
       "      <th>Cabin</th>\n",
       "      <th>Embarked</th>\n",
       "    </tr>\n",
       "  </thead>\n",
       "  <tbody>\n",
       "    <tr>\n",
       "      <th>0</th>\n",
       "      <td>1</td>\n",
       "      <td>0</td>\n",
       "      <td>3</td>\n",
       "      <td>Braund, Mr. Owen Harris</td>\n",
       "      <td>male</td>\n",
       "      <td>22.0</td>\n",
       "      <td>1</td>\n",
       "      <td>0</td>\n",
       "      <td>A/5 21171</td>\n",
       "      <td>7.2500</td>\n",
       "      <td>NaN</td>\n",
       "      <td>S</td>\n",
       "    </tr>\n",
       "    <tr>\n",
       "      <th>1</th>\n",
       "      <td>2</td>\n",
       "      <td>1</td>\n",
       "      <td>1</td>\n",
       "      <td>Cumings, Mrs. John Bradley (Florence Briggs Th...</td>\n",
       "      <td>female</td>\n",
       "      <td>38.0</td>\n",
       "      <td>1</td>\n",
       "      <td>0</td>\n",
       "      <td>PC 17599</td>\n",
       "      <td>71.2833</td>\n",
       "      <td>C85</td>\n",
       "      <td>C</td>\n",
       "    </tr>\n",
       "    <tr>\n",
       "      <th>2</th>\n",
       "      <td>3</td>\n",
       "      <td>1</td>\n",
       "      <td>3</td>\n",
       "      <td>Heikkinen, Miss. Laina</td>\n",
       "      <td>female</td>\n",
       "      <td>26.0</td>\n",
       "      <td>0</td>\n",
       "      <td>0</td>\n",
       "      <td>STON/O2. 3101282</td>\n",
       "      <td>7.9250</td>\n",
       "      <td>NaN</td>\n",
       "      <td>S</td>\n",
       "    </tr>\n",
       "    <tr>\n",
       "      <th>3</th>\n",
       "      <td>4</td>\n",
       "      <td>1</td>\n",
       "      <td>1</td>\n",
       "      <td>Futrelle, Mrs. Jacques Heath (Lily May Peel)</td>\n",
       "      <td>female</td>\n",
       "      <td>35.0</td>\n",
       "      <td>1</td>\n",
       "      <td>0</td>\n",
       "      <td>113803</td>\n",
       "      <td>53.1000</td>\n",
       "      <td>C123</td>\n",
       "      <td>S</td>\n",
       "    </tr>\n",
       "    <tr>\n",
       "      <th>4</th>\n",
       "      <td>5</td>\n",
       "      <td>0</td>\n",
       "      <td>3</td>\n",
       "      <td>Allen, Mr. William Henry</td>\n",
       "      <td>male</td>\n",
       "      <td>35.0</td>\n",
       "      <td>0</td>\n",
       "      <td>0</td>\n",
       "      <td>373450</td>\n",
       "      <td>8.0500</td>\n",
       "      <td>NaN</td>\n",
       "      <td>S</td>\n",
       "    </tr>\n",
       "  </tbody>\n",
       "</table>\n",
       "</div>"
      ],
      "text/plain": [
       "   PassengerId  Survived  Pclass  \\\n",
       "0            1         0       3   \n",
       "1            2         1       1   \n",
       "2            3         1       3   \n",
       "3            4         1       1   \n",
       "4            5         0       3   \n",
       "\n",
       "                                                Name     Sex   Age  SibSp  \\\n",
       "0                            Braund, Mr. Owen Harris    male  22.0      1   \n",
       "1  Cumings, Mrs. John Bradley (Florence Briggs Th...  female  38.0      1   \n",
       "2                             Heikkinen, Miss. Laina  female  26.0      0   \n",
       "3       Futrelle, Mrs. Jacques Heath (Lily May Peel)  female  35.0      1   \n",
       "4                           Allen, Mr. William Henry    male  35.0      0   \n",
       "\n",
       "   Parch            Ticket     Fare Cabin Embarked  \n",
       "0      0         A/5 21171   7.2500   NaN        S  \n",
       "1      0          PC 17599  71.2833   C85        C  \n",
       "2      0  STON/O2. 3101282   7.9250   NaN        S  \n",
       "3      0            113803  53.1000  C123        S  \n",
       "4      0            373450   8.0500   NaN        S  "
      ]
     },
     "execution_count": 2,
     "metadata": {},
     "output_type": "execute_result"
    }
   ],
   "source": [
    "train_data = pd.read_csv(\"/kaggle/input/titanic/train.csv\")\n",
    "train_data.head()"
   ]
  },
  {
   "cell_type": "code",
   "execution_count": 3,
   "id": "17edf743",
   "metadata": {
    "execution": {
     "iopub.execute_input": "2022-05-23T11:28:27.797616Z",
     "iopub.status.busy": "2022-05-23T11:28:27.796818Z",
     "iopub.status.idle": "2022-05-23T11:28:27.828695Z",
     "shell.execute_reply": "2022-05-23T11:28:27.828022Z"
    },
    "papermill": {
     "duration": 0.085505,
     "end_time": "2022-05-23T11:28:27.830556",
     "exception": false,
     "start_time": "2022-05-23T11:28:27.745051",
     "status": "completed"
    },
    "tags": []
   },
   "outputs": [
    {
     "data": {
      "text/html": [
       "<div>\n",
       "<style scoped>\n",
       "    .dataframe tbody tr th:only-of-type {\n",
       "        vertical-align: middle;\n",
       "    }\n",
       "\n",
       "    .dataframe tbody tr th {\n",
       "        vertical-align: top;\n",
       "    }\n",
       "\n",
       "    .dataframe thead th {\n",
       "        text-align: right;\n",
       "    }\n",
       "</style>\n",
       "<table border=\"1\" class=\"dataframe\">\n",
       "  <thead>\n",
       "    <tr style=\"text-align: right;\">\n",
       "      <th></th>\n",
       "      <th>PassengerId</th>\n",
       "      <th>Pclass</th>\n",
       "      <th>Name</th>\n",
       "      <th>Sex</th>\n",
       "      <th>Age</th>\n",
       "      <th>SibSp</th>\n",
       "      <th>Parch</th>\n",
       "      <th>Ticket</th>\n",
       "      <th>Fare</th>\n",
       "      <th>Cabin</th>\n",
       "      <th>Embarked</th>\n",
       "    </tr>\n",
       "  </thead>\n",
       "  <tbody>\n",
       "    <tr>\n",
       "      <th>0</th>\n",
       "      <td>892</td>\n",
       "      <td>3</td>\n",
       "      <td>Kelly, Mr. James</td>\n",
       "      <td>male</td>\n",
       "      <td>34.5</td>\n",
       "      <td>0</td>\n",
       "      <td>0</td>\n",
       "      <td>330911</td>\n",
       "      <td>7.8292</td>\n",
       "      <td>NaN</td>\n",
       "      <td>Q</td>\n",
       "    </tr>\n",
       "    <tr>\n",
       "      <th>1</th>\n",
       "      <td>893</td>\n",
       "      <td>3</td>\n",
       "      <td>Wilkes, Mrs. James (Ellen Needs)</td>\n",
       "      <td>female</td>\n",
       "      <td>47.0</td>\n",
       "      <td>1</td>\n",
       "      <td>0</td>\n",
       "      <td>363272</td>\n",
       "      <td>7.0000</td>\n",
       "      <td>NaN</td>\n",
       "      <td>S</td>\n",
       "    </tr>\n",
       "    <tr>\n",
       "      <th>2</th>\n",
       "      <td>894</td>\n",
       "      <td>2</td>\n",
       "      <td>Myles, Mr. Thomas Francis</td>\n",
       "      <td>male</td>\n",
       "      <td>62.0</td>\n",
       "      <td>0</td>\n",
       "      <td>0</td>\n",
       "      <td>240276</td>\n",
       "      <td>9.6875</td>\n",
       "      <td>NaN</td>\n",
       "      <td>Q</td>\n",
       "    </tr>\n",
       "    <tr>\n",
       "      <th>3</th>\n",
       "      <td>895</td>\n",
       "      <td>3</td>\n",
       "      <td>Wirz, Mr. Albert</td>\n",
       "      <td>male</td>\n",
       "      <td>27.0</td>\n",
       "      <td>0</td>\n",
       "      <td>0</td>\n",
       "      <td>315154</td>\n",
       "      <td>8.6625</td>\n",
       "      <td>NaN</td>\n",
       "      <td>S</td>\n",
       "    </tr>\n",
       "    <tr>\n",
       "      <th>4</th>\n",
       "      <td>896</td>\n",
       "      <td>3</td>\n",
       "      <td>Hirvonen, Mrs. Alexander (Helga E Lindqvist)</td>\n",
       "      <td>female</td>\n",
       "      <td>22.0</td>\n",
       "      <td>1</td>\n",
       "      <td>1</td>\n",
       "      <td>3101298</td>\n",
       "      <td>12.2875</td>\n",
       "      <td>NaN</td>\n",
       "      <td>S</td>\n",
       "    </tr>\n",
       "  </tbody>\n",
       "</table>\n",
       "</div>"
      ],
      "text/plain": [
       "   PassengerId  Pclass                                          Name     Sex  \\\n",
       "0          892       3                              Kelly, Mr. James    male   \n",
       "1          893       3              Wilkes, Mrs. James (Ellen Needs)  female   \n",
       "2          894       2                     Myles, Mr. Thomas Francis    male   \n",
       "3          895       3                              Wirz, Mr. Albert    male   \n",
       "4          896       3  Hirvonen, Mrs. Alexander (Helga E Lindqvist)  female   \n",
       "\n",
       "    Age  SibSp  Parch   Ticket     Fare Cabin Embarked  \n",
       "0  34.5      0      0   330911   7.8292   NaN        Q  \n",
       "1  47.0      1      0   363272   7.0000   NaN        S  \n",
       "2  62.0      0      0   240276   9.6875   NaN        Q  \n",
       "3  27.0      0      0   315154   8.6625   NaN        S  \n",
       "4  22.0      1      1  3101298  12.2875   NaN        S  "
      ]
     },
     "execution_count": 3,
     "metadata": {},
     "output_type": "execute_result"
    }
   ],
   "source": [
    "test_data = pd.read_csv(\"/kaggle/input/titanic/test.csv\")\n",
    "test_data.head()"
   ]
  },
  {
   "cell_type": "code",
   "execution_count": 4,
   "id": "69e1fb56",
   "metadata": {
    "execution": {
     "iopub.execute_input": "2022-05-23T11:28:27.934550Z",
     "iopub.status.busy": "2022-05-23T11:28:27.933509Z",
     "iopub.status.idle": "2022-05-23T11:28:27.958169Z",
     "shell.execute_reply": "2022-05-23T11:28:27.957370Z"
    },
    "papermill": {
     "duration": 0.078344,
     "end_time": "2022-05-23T11:28:27.960293",
     "exception": false,
     "start_time": "2022-05-23T11:28:27.881949",
     "status": "completed"
    },
    "tags": []
   },
   "outputs": [
    {
     "data": {
      "text/html": [
       "<div>\n",
       "<style scoped>\n",
       "    .dataframe tbody tr th:only-of-type {\n",
       "        vertical-align: middle;\n",
       "    }\n",
       "\n",
       "    .dataframe tbody tr th {\n",
       "        vertical-align: top;\n",
       "    }\n",
       "\n",
       "    .dataframe thead th {\n",
       "        text-align: right;\n",
       "    }\n",
       "</style>\n",
       "<table border=\"1\" class=\"dataframe\">\n",
       "  <thead>\n",
       "    <tr style=\"text-align: right;\">\n",
       "      <th></th>\n",
       "      <th>Survived</th>\n",
       "      <th>Pclass</th>\n",
       "      <th>Sex</th>\n",
       "      <th>Age</th>\n",
       "      <th>SibSp</th>\n",
       "      <th>Parch</th>\n",
       "      <th>Ticket</th>\n",
       "      <th>Fare</th>\n",
       "      <th>Cabin</th>\n",
       "      <th>Embarked</th>\n",
       "    </tr>\n",
       "  </thead>\n",
       "  <tbody>\n",
       "    <tr>\n",
       "      <th>0</th>\n",
       "      <td>0</td>\n",
       "      <td>3</td>\n",
       "      <td>male</td>\n",
       "      <td>22.0</td>\n",
       "      <td>1</td>\n",
       "      <td>0</td>\n",
       "      <td>A/5 21171</td>\n",
       "      <td>7.2500</td>\n",
       "      <td>NaN</td>\n",
       "      <td>S</td>\n",
       "    </tr>\n",
       "    <tr>\n",
       "      <th>1</th>\n",
       "      <td>1</td>\n",
       "      <td>1</td>\n",
       "      <td>female</td>\n",
       "      <td>38.0</td>\n",
       "      <td>1</td>\n",
       "      <td>0</td>\n",
       "      <td>PC 17599</td>\n",
       "      <td>71.2833</td>\n",
       "      <td>C85</td>\n",
       "      <td>C</td>\n",
       "    </tr>\n",
       "    <tr>\n",
       "      <th>2</th>\n",
       "      <td>1</td>\n",
       "      <td>3</td>\n",
       "      <td>female</td>\n",
       "      <td>26.0</td>\n",
       "      <td>0</td>\n",
       "      <td>0</td>\n",
       "      <td>STON/O2. 3101282</td>\n",
       "      <td>7.9250</td>\n",
       "      <td>NaN</td>\n",
       "      <td>S</td>\n",
       "    </tr>\n",
       "    <tr>\n",
       "      <th>3</th>\n",
       "      <td>1</td>\n",
       "      <td>1</td>\n",
       "      <td>female</td>\n",
       "      <td>35.0</td>\n",
       "      <td>1</td>\n",
       "      <td>0</td>\n",
       "      <td>113803</td>\n",
       "      <td>53.1000</td>\n",
       "      <td>C123</td>\n",
       "      <td>S</td>\n",
       "    </tr>\n",
       "    <tr>\n",
       "      <th>4</th>\n",
       "      <td>0</td>\n",
       "      <td>3</td>\n",
       "      <td>male</td>\n",
       "      <td>35.0</td>\n",
       "      <td>0</td>\n",
       "      <td>0</td>\n",
       "      <td>373450</td>\n",
       "      <td>8.0500</td>\n",
       "      <td>NaN</td>\n",
       "      <td>S</td>\n",
       "    </tr>\n",
       "  </tbody>\n",
       "</table>\n",
       "</div>"
      ],
      "text/plain": [
       "   Survived  Pclass     Sex   Age  SibSp  Parch            Ticket     Fare  \\\n",
       "0         0       3    male  22.0      1      0         A/5 21171   7.2500   \n",
       "1         1       1  female  38.0      1      0          PC 17599  71.2833   \n",
       "2         1       3  female  26.0      0      0  STON/O2. 3101282   7.9250   \n",
       "3         1       1  female  35.0      1      0            113803  53.1000   \n",
       "4         0       3    male  35.0      0      0            373450   8.0500   \n",
       "\n",
       "  Cabin Embarked  \n",
       "0   NaN        S  \n",
       "1   C85        C  \n",
       "2   NaN        S  \n",
       "3  C123        S  \n",
       "4   NaN        S  "
      ]
     },
     "execution_count": 4,
     "metadata": {},
     "output_type": "execute_result"
    }
   ],
   "source": [
    "#Name doesn't seem to be an important factor. Passenger id also doesn't matter.\n",
    "train_data.drop(['Name'],axis=1,inplace=True)\n",
    "train_data.drop(['PassengerId'],axis=1,inplace=True)\n",
    "train_data.head(5)"
   ]
  },
  {
   "cell_type": "code",
   "execution_count": 5,
   "id": "c68d3a33",
   "metadata": {
    "execution": {
     "iopub.execute_input": "2022-05-23T11:28:28.070963Z",
     "iopub.status.busy": "2022-05-23T11:28:28.070631Z",
     "iopub.status.idle": "2022-05-23T11:28:28.076792Z",
     "shell.execute_reply": "2022-05-23T11:28:28.076139Z"
    },
    "papermill": {
     "duration": 0.063324,
     "end_time": "2022-05-23T11:28:28.078428",
     "exception": false,
     "start_time": "2022-05-23T11:28:28.015104",
     "status": "completed"
    },
    "tags": []
   },
   "outputs": [],
   "source": [
    "#Do the same for test\n",
    "test_data.drop(['Name'],axis=1,inplace=True)\n",
    "test_data.drop(['PassengerId'],axis=1,inplace=True)"
   ]
  },
  {
   "cell_type": "code",
   "execution_count": 6,
   "id": "3dfc34cd",
   "metadata": {
    "execution": {
     "iopub.execute_input": "2022-05-23T11:28:28.182123Z",
     "iopub.status.busy": "2022-05-23T11:28:28.181725Z",
     "iopub.status.idle": "2022-05-23T11:28:28.190059Z",
     "shell.execute_reply": "2022-05-23T11:28:28.189259Z"
    },
    "papermill": {
     "duration": 0.062483,
     "end_time": "2022-05-23T11:28:28.192081",
     "exception": false,
     "start_time": "2022-05-23T11:28:28.129598",
     "status": "completed"
    },
    "tags": []
   },
   "outputs": [
    {
     "data": {
      "text/plain": [
       "0.7710437710437711"
      ]
     },
     "execution_count": 6,
     "metadata": {},
     "output_type": "execute_result"
    }
   ],
   "source": [
    "#Too many(~77%) NaN in Cabin\n",
    "sum(train_data.Cabin.isnull())/len(train_data.Cabin)"
   ]
  },
  {
   "cell_type": "code",
   "execution_count": 7,
   "id": "413fd95a",
   "metadata": {
    "execution": {
     "iopub.execute_input": "2022-05-23T11:28:28.297837Z",
     "iopub.status.busy": "2022-05-23T11:28:28.297517Z",
     "iopub.status.idle": "2022-05-23T11:28:28.313095Z",
     "shell.execute_reply": "2022-05-23T11:28:28.312464Z"
    },
    "papermill": {
     "duration": 0.071301,
     "end_time": "2022-05-23T11:28:28.315100",
     "exception": false,
     "start_time": "2022-05-23T11:28:28.243799",
     "status": "completed"
    },
    "tags": []
   },
   "outputs": [
    {
     "data": {
      "text/html": [
       "<div>\n",
       "<style scoped>\n",
       "    .dataframe tbody tr th:only-of-type {\n",
       "        vertical-align: middle;\n",
       "    }\n",
       "\n",
       "    .dataframe tbody tr th {\n",
       "        vertical-align: top;\n",
       "    }\n",
       "\n",
       "    .dataframe thead th {\n",
       "        text-align: right;\n",
       "    }\n",
       "</style>\n",
       "<table border=\"1\" class=\"dataframe\">\n",
       "  <thead>\n",
       "    <tr style=\"text-align: right;\">\n",
       "      <th></th>\n",
       "      <th>Survived</th>\n",
       "      <th>Pclass</th>\n",
       "      <th>Sex</th>\n",
       "      <th>Age</th>\n",
       "      <th>SibSp</th>\n",
       "      <th>Parch</th>\n",
       "      <th>Ticket</th>\n",
       "      <th>Fare</th>\n",
       "      <th>Embarked</th>\n",
       "    </tr>\n",
       "  </thead>\n",
       "  <tbody>\n",
       "    <tr>\n",
       "      <th>0</th>\n",
       "      <td>0</td>\n",
       "      <td>3</td>\n",
       "      <td>male</td>\n",
       "      <td>22.0</td>\n",
       "      <td>1</td>\n",
       "      <td>0</td>\n",
       "      <td>A/5 21171</td>\n",
       "      <td>7.2500</td>\n",
       "      <td>S</td>\n",
       "    </tr>\n",
       "    <tr>\n",
       "      <th>1</th>\n",
       "      <td>1</td>\n",
       "      <td>1</td>\n",
       "      <td>female</td>\n",
       "      <td>38.0</td>\n",
       "      <td>1</td>\n",
       "      <td>0</td>\n",
       "      <td>PC 17599</td>\n",
       "      <td>71.2833</td>\n",
       "      <td>C</td>\n",
       "    </tr>\n",
       "    <tr>\n",
       "      <th>2</th>\n",
       "      <td>1</td>\n",
       "      <td>3</td>\n",
       "      <td>female</td>\n",
       "      <td>26.0</td>\n",
       "      <td>0</td>\n",
       "      <td>0</td>\n",
       "      <td>STON/O2. 3101282</td>\n",
       "      <td>7.9250</td>\n",
       "      <td>S</td>\n",
       "    </tr>\n",
       "    <tr>\n",
       "      <th>3</th>\n",
       "      <td>1</td>\n",
       "      <td>1</td>\n",
       "      <td>female</td>\n",
       "      <td>35.0</td>\n",
       "      <td>1</td>\n",
       "      <td>0</td>\n",
       "      <td>113803</td>\n",
       "      <td>53.1000</td>\n",
       "      <td>S</td>\n",
       "    </tr>\n",
       "    <tr>\n",
       "      <th>4</th>\n",
       "      <td>0</td>\n",
       "      <td>3</td>\n",
       "      <td>male</td>\n",
       "      <td>35.0</td>\n",
       "      <td>0</td>\n",
       "      <td>0</td>\n",
       "      <td>373450</td>\n",
       "      <td>8.0500</td>\n",
       "      <td>S</td>\n",
       "    </tr>\n",
       "  </tbody>\n",
       "</table>\n",
       "</div>"
      ],
      "text/plain": [
       "   Survived  Pclass     Sex   Age  SibSp  Parch            Ticket     Fare  \\\n",
       "0         0       3    male  22.0      1      0         A/5 21171   7.2500   \n",
       "1         1       1  female  38.0      1      0          PC 17599  71.2833   \n",
       "2         1       3  female  26.0      0      0  STON/O2. 3101282   7.9250   \n",
       "3         1       1  female  35.0      1      0            113803  53.1000   \n",
       "4         0       3    male  35.0      0      0            373450   8.0500   \n",
       "\n",
       "  Embarked  \n",
       "0        S  \n",
       "1        C  \n",
       "2        S  \n",
       "3        S  \n",
       "4        S  "
      ]
     },
     "execution_count": 7,
     "metadata": {},
     "output_type": "execute_result"
    }
   ],
   "source": [
    "#So drop it\n",
    "train_data.drop(['Cabin'],axis=1,inplace=True)\n",
    "train_data.head(5)"
   ]
  },
  {
   "cell_type": "code",
   "execution_count": 8,
   "id": "5f8b04ca",
   "metadata": {
    "execution": {
     "iopub.execute_input": "2022-05-23T11:28:28.420726Z",
     "iopub.status.busy": "2022-05-23T11:28:28.420220Z",
     "iopub.status.idle": "2022-05-23T11:28:28.424819Z",
     "shell.execute_reply": "2022-05-23T11:28:28.424224Z"
    },
    "papermill": {
     "duration": 0.059536,
     "end_time": "2022-05-23T11:28:28.426876",
     "exception": false,
     "start_time": "2022-05-23T11:28:28.367340",
     "status": "completed"
    },
    "tags": []
   },
   "outputs": [],
   "source": [
    "#Do the same for test\n",
    "test_data.drop(['Cabin'],axis=1,inplace=True)"
   ]
  },
  {
   "cell_type": "code",
   "execution_count": 9,
   "id": "6ca3cd75",
   "metadata": {
    "execution": {
     "iopub.execute_input": "2022-05-23T11:28:28.532602Z",
     "iopub.status.busy": "2022-05-23T11:28:28.532061Z",
     "iopub.status.idle": "2022-05-23T11:28:28.545907Z",
     "shell.execute_reply": "2022-05-23T11:28:28.545330Z"
    },
    "papermill": {
     "duration": 0.068968,
     "end_time": "2022-05-23T11:28:28.547842",
     "exception": false,
     "start_time": "2022-05-23T11:28:28.478874",
     "status": "completed"
    },
    "tags": []
   },
   "outputs": [
    {
     "data": {
      "text/html": [
       "<div>\n",
       "<style scoped>\n",
       "    .dataframe tbody tr th:only-of-type {\n",
       "        vertical-align: middle;\n",
       "    }\n",
       "\n",
       "    .dataframe tbody tr th {\n",
       "        vertical-align: top;\n",
       "    }\n",
       "\n",
       "    .dataframe thead th {\n",
       "        text-align: right;\n",
       "    }\n",
       "</style>\n",
       "<table border=\"1\" class=\"dataframe\">\n",
       "  <thead>\n",
       "    <tr style=\"text-align: right;\">\n",
       "      <th></th>\n",
       "      <th>Survived</th>\n",
       "      <th>Pclass</th>\n",
       "      <th>Sex</th>\n",
       "      <th>Age</th>\n",
       "      <th>SibSp</th>\n",
       "      <th>Parch</th>\n",
       "      <th>Fare</th>\n",
       "      <th>Embarked</th>\n",
       "    </tr>\n",
       "  </thead>\n",
       "  <tbody>\n",
       "    <tr>\n",
       "      <th>0</th>\n",
       "      <td>0</td>\n",
       "      <td>3</td>\n",
       "      <td>male</td>\n",
       "      <td>22.0</td>\n",
       "      <td>1</td>\n",
       "      <td>0</td>\n",
       "      <td>7.2500</td>\n",
       "      <td>S</td>\n",
       "    </tr>\n",
       "    <tr>\n",
       "      <th>1</th>\n",
       "      <td>1</td>\n",
       "      <td>1</td>\n",
       "      <td>female</td>\n",
       "      <td>38.0</td>\n",
       "      <td>1</td>\n",
       "      <td>0</td>\n",
       "      <td>71.2833</td>\n",
       "      <td>C</td>\n",
       "    </tr>\n",
       "    <tr>\n",
       "      <th>2</th>\n",
       "      <td>1</td>\n",
       "      <td>3</td>\n",
       "      <td>female</td>\n",
       "      <td>26.0</td>\n",
       "      <td>0</td>\n",
       "      <td>0</td>\n",
       "      <td>7.9250</td>\n",
       "      <td>S</td>\n",
       "    </tr>\n",
       "    <tr>\n",
       "      <th>3</th>\n",
       "      <td>1</td>\n",
       "      <td>1</td>\n",
       "      <td>female</td>\n",
       "      <td>35.0</td>\n",
       "      <td>1</td>\n",
       "      <td>0</td>\n",
       "      <td>53.1000</td>\n",
       "      <td>S</td>\n",
       "    </tr>\n",
       "  </tbody>\n",
       "</table>\n",
       "</div>"
      ],
      "text/plain": [
       "   Survived  Pclass     Sex   Age  SibSp  Parch     Fare Embarked\n",
       "0         0       3    male  22.0      1      0   7.2500        S\n",
       "1         1       1  female  38.0      1      0  71.2833        C\n",
       "2         1       3  female  26.0      0      0   7.9250        S\n",
       "3         1       1  female  35.0      1      0  53.1000        S"
      ]
     },
     "execution_count": 9,
     "metadata": {},
     "output_type": "execute_result"
    }
   ],
   "source": [
    "#Ticket id seems random, so drop it.\n",
    "train_data.drop(['Ticket'],axis=1,inplace=True)\n",
    "train_data.head(4)"
   ]
  },
  {
   "cell_type": "code",
   "execution_count": 10,
   "id": "5ad5cf34",
   "metadata": {
    "execution": {
     "iopub.execute_input": "2022-05-23T11:28:28.655025Z",
     "iopub.status.busy": "2022-05-23T11:28:28.654554Z",
     "iopub.status.idle": "2022-05-23T11:28:28.659642Z",
     "shell.execute_reply": "2022-05-23T11:28:28.658906Z"
    },
    "papermill": {
     "duration": 0.061095,
     "end_time": "2022-05-23T11:28:28.661737",
     "exception": false,
     "start_time": "2022-05-23T11:28:28.600642",
     "status": "completed"
    },
    "tags": []
   },
   "outputs": [],
   "source": [
    "#Do the same for test\n",
    "test_data.drop(['Ticket'],axis=1,inplace=True)"
   ]
  },
  {
   "cell_type": "code",
   "execution_count": 11,
   "id": "a13500db",
   "metadata": {
    "execution": {
     "iopub.execute_input": "2022-05-23T11:28:28.769960Z",
     "iopub.status.busy": "2022-05-23T11:28:28.769473Z",
     "iopub.status.idle": "2022-05-23T11:28:28.775744Z",
     "shell.execute_reply": "2022-05-23T11:28:28.774688Z"
    },
    "papermill": {
     "duration": 0.063956,
     "end_time": "2022-05-23T11:28:28.778191",
     "exception": false,
     "start_time": "2022-05-23T11:28:28.714235",
     "status": "completed"
    },
    "tags": []
   },
   "outputs": [],
   "source": [
    "from collections import Counter\n",
    "#What types of values are in Embarked?\n",
    "embSet=Counter()\n",
    "for c in train_data.Embarked:\n",
    "    embSet[c]+=1\n",
    "embSet\n",
    "#Not many NaN, so replace it with the mode val\n",
    "train_data['Embarked'].fillna('S',inplace=True)"
   ]
  },
  {
   "cell_type": "code",
   "execution_count": 12,
   "id": "452a85d9",
   "metadata": {
    "execution": {
     "iopub.execute_input": "2022-05-23T11:28:28.885746Z",
     "iopub.status.busy": "2022-05-23T11:28:28.885212Z",
     "iopub.status.idle": "2022-05-23T11:28:28.889744Z",
     "shell.execute_reply": "2022-05-23T11:28:28.889110Z"
    },
    "papermill": {
     "duration": 0.060369,
     "end_time": "2022-05-23T11:28:28.891724",
     "exception": false,
     "start_time": "2022-05-23T11:28:28.831355",
     "status": "completed"
    },
    "tags": []
   },
   "outputs": [],
   "source": [
    "#Do the same for test\n",
    "test_data['Embarked'].fillna('S',inplace=True)"
   ]
  },
  {
   "cell_type": "code",
   "execution_count": 13,
   "id": "b56d3979",
   "metadata": {
    "execution": {
     "iopub.execute_input": "2022-05-23T11:28:29.001117Z",
     "iopub.status.busy": "2022-05-23T11:28:29.000420Z",
     "iopub.status.idle": "2022-05-23T11:28:29.309983Z",
     "shell.execute_reply": "2022-05-23T11:28:29.308998Z"
    },
    "papermill": {
     "duration": 0.368181,
     "end_time": "2022-05-23T11:28:29.312161",
     "exception": false,
     "start_time": "2022-05-23T11:28:28.943980",
     "status": "completed"
    },
    "tags": []
   },
   "outputs": [
    {
     "data": {
      "text/plain": [
       "(array([608., 209.,  28.,  16.,   0.,  18.,   5.,   0.,   0.,   7.]),\n",
       " array([0. , 0.8, 1.6, 2.4, 3.2, 4. , 4.8, 5.6, 6.4, 7.2, 8. ]),\n",
       " <BarContainer object of 10 artists>)"
      ]
     },
     "execution_count": 13,
     "metadata": {},
     "output_type": "execute_result"
    },
    {
     "data": {
      "image/png": "[encoded data removed]",
      "text/plain": [
       "<Figure size 432x288 with 1 Axes>"
      ]
     },
     "metadata": {
      "needs_background": "light"
     },
     "output_type": "display_data"
    }
   ],
   "source": [
    "import matplotlib.pyplot as plt\n",
    "#There is no NaN in SibSp. But what is it?\n",
    "plt.hist(train_data['SibSp'])"
   ]
  },
  {
   "cell_type": "code",
   "execution_count": 14,
   "id": "af70d1a0",
   "metadata": {
    "execution": {
     "iopub.execute_input": "2022-05-23T11:28:29.422579Z",
     "iopub.status.busy": "2022-05-23T11:28:29.422290Z",
     "iopub.status.idle": "2022-05-23T11:28:29.597393Z",
     "shell.execute_reply": "2022-05-23T11:28:29.596189Z"
    },
    "papermill": {
     "duration": 0.232575,
     "end_time": "2022-05-23T11:28:29.599788",
     "exception": false,
     "start_time": "2022-05-23T11:28:29.367213",
     "status": "completed"
    },
    "tags": []
   },
   "outputs": [
    {
     "data": {
      "text/plain": [
       "(array([678., 118.,   0.,  80.,   0.,   5.,   4.,   0.,   5.,   1.]),\n",
       " array([0. , 0.6, 1.2, 1.8, 2.4, 3. , 3.6, 4.2, 4.8, 5.4, 6. ]),\n",
       " <BarContainer object of 10 artists>)"
      ]
     },
     "execution_count": 14,
     "metadata": {},
     "output_type": "execute_result"
    },
    {
     "data": {
      "image/png": "[encoded data removed]",
      "text/plain": [
       "<Figure size 432x288 with 1 Axes>"
      ]
     },
     "metadata": {
      "needs_background": "light"
     },
     "output_type": "display_data"
    }
   ],
   "source": [
    "#There is no NaN in SibSp. But what is it?\n",
    "plt.hist(train_data['Parch'])"
   ]
  },
  {
   "cell_type": "code",
   "execution_count": 15,
   "id": "18a9253e",
   "metadata": {
    "execution": {
     "iopub.execute_input": "2022-05-23T11:28:29.740538Z",
     "iopub.status.busy": "2022-05-23T11:28:29.739832Z",
     "iopub.status.idle": "2022-05-23T11:28:29.751732Z",
     "shell.execute_reply": "2022-05-23T11:28:29.750780Z"
    },
    "papermill": {
     "duration": 0.093946,
     "end_time": "2022-05-23T11:28:29.754109",
     "exception": false,
     "start_time": "2022-05-23T11:28:29.660163",
     "status": "completed"
    },
    "tags": []
   },
   "outputs": [
    {
     "data": {
      "text/plain": [
       "Pclass\n",
       "1    84.154687\n",
       "2    20.662183\n",
       "3    13.675550\n",
       "Name: Fare, dtype: float64"
      ]
     },
     "execution_count": 15,
     "metadata": {},
     "output_type": "execute_result"
    }
   ],
   "source": [
    "train_data.groupby(['Pclass'])['Fare'].mean()"
   ]
  },
  {
   "cell_type": "code",
   "execution_count": 16,
   "id": "021c14fd",
   "metadata": {
    "execution": {
     "iopub.execute_input": "2022-05-23T11:28:29.878671Z",
     "iopub.status.busy": "2022-05-23T11:28:29.878077Z",
     "iopub.status.idle": "2022-05-23T11:28:29.889527Z",
     "shell.execute_reply": "2022-05-23T11:28:29.888714Z"
    },
    "papermill": {
     "duration": 0.078764,
     "end_time": "2022-05-23T11:28:29.891710",
     "exception": false,
     "start_time": "2022-05-23T11:28:29.812946",
     "status": "completed"
    },
    "tags": []
   },
   "outputs": [
    {
     "data": {
      "text/plain": [
       "633      0.0000\n",
       "822      0.0000\n",
       "815      0.0000\n",
       "806      0.0000\n",
       "263      0.0000\n",
       "         ...   \n",
       "88     263.0000\n",
       "341    263.0000\n",
       "679    512.3292\n",
       "258    512.3292\n",
       "737    512.3292\n",
       "Name: Fare, Length: 216, dtype: float64"
      ]
     },
     "execution_count": 16,
     "metadata": {},
     "output_type": "execute_result"
    }
   ],
   "source": [
    "train_data[train_data['Pclass']==1]['Fare'].sort_values()"
   ]
  },
  {
   "cell_type": "code",
   "execution_count": 17,
   "id": "dac74c45",
   "metadata": {
    "execution": {
     "iopub.execute_input": "2022-05-23T11:28:30.031691Z",
     "iopub.status.busy": "2022-05-23T11:28:30.031298Z",
     "iopub.status.idle": "2022-05-23T11:28:30.071845Z",
     "shell.execute_reply": "2022-05-23T11:28:30.070982Z"
    },
    "papermill": {
     "duration": 0.120532,
     "end_time": "2022-05-23T11:28:30.074352",
     "exception": false,
     "start_time": "2022-05-23T11:28:29.953820",
     "status": "completed"
    },
    "tags": []
   },
   "outputs": [],
   "source": [
    "fare0_ind=train_data[train_data['Fare']==0].index\n",
    "for i in range(train_data.shape[0]):\n",
    "    if train_data.loc[i,'Fare']==0:\n",
    "        if train_data.loc[i,'Pclass']==1:\n",
    "            train_data.loc[i,'Fare']=84.154687\n",
    "        elif train_data.loc[i,'Pclass']==2:\n",
    "            train_data.loc[i,'Fare']=20.662183\n",
    "        else:\n",
    "            train_data.loc[i,'Fare']=13.675550"
   ]
  },
  {
   "cell_type": "code",
   "execution_count": 18,
   "id": "e505c720",
   "metadata": {
    "execution": {
     "iopub.execute_input": "2022-05-23T11:28:30.190350Z",
     "iopub.status.busy": "2022-05-23T11:28:30.189643Z",
     "iopub.status.idle": "2022-05-23T11:28:30.199410Z",
     "shell.execute_reply": "2022-05-23T11:28:30.198632Z"
    },
    "papermill": {
     "duration": 0.069608,
     "end_time": "2022-05-23T11:28:30.201441",
     "exception": false,
     "start_time": "2022-05-23T11:28:30.131833",
     "status": "completed"
    },
    "tags": []
   },
   "outputs": [
    {
     "data": {
      "text/plain": [
       "Pclass\n",
       "1    94.280297\n",
       "2    22.202104\n",
       "3    12.459678\n",
       "Name: Fare, dtype: float64"
      ]
     },
     "execution_count": 18,
     "metadata": {},
     "output_type": "execute_result"
    }
   ],
   "source": [
    "test_data.groupby(['Pclass'])['Fare'].mean()"
   ]
  },
  {
   "cell_type": "code",
   "execution_count": 19,
   "id": "92070a55",
   "metadata": {
    "execution": {
     "iopub.execute_input": "2022-05-23T11:28:30.320365Z",
     "iopub.status.busy": "2022-05-23T11:28:30.319665Z",
     "iopub.status.idle": "2022-05-23T11:28:30.337158Z",
     "shell.execute_reply": "2022-05-23T11:28:30.336501Z"
    },
    "papermill": {
     "duration": 0.080492,
     "end_time": "2022-05-23T11:28:30.339574",
     "exception": false,
     "start_time": "2022-05-23T11:28:30.259082",
     "status": "completed"
    },
    "tags": []
   },
   "outputs": [],
   "source": [
    "fare0_ind=test_data[test_data['Fare']==0].index\n",
    "for i in range(test_data.shape[0]):\n",
    "    if test_data.loc[i,'Fare']==0:\n",
    "        if test_data.loc[i,'Pclass']==1:\n",
    "            test_data.loc[i,'Fare']=94.280297\n",
    "        elif train_data.loc[i,'Pclass']==2:\n",
    "            train_data.loc[i,'Fare']=22.202104\n",
    "        else:\n",
    "            train_data.loc[i,'Fare']=12.459678"
   ]
  },
  {
   "cell_type": "code",
   "execution_count": 20,
   "id": "8dd97c01",
   "metadata": {
    "execution": {
     "iopub.execute_input": "2022-05-23T11:28:30.456220Z",
     "iopub.status.busy": "2022-05-23T11:28:30.455556Z",
     "iopub.status.idle": "2022-05-23T11:28:30.467220Z",
     "shell.execute_reply": "2022-05-23T11:28:30.466365Z"
    },
    "papermill": {
     "duration": 0.071842,
     "end_time": "2022-05-23T11:28:30.469235",
     "exception": false,
     "start_time": "2022-05-23T11:28:30.397393",
     "status": "completed"
    },
    "tags": []
   },
   "outputs": [
    {
     "data": {
      "text/html": [
       "<div>\n",
       "<style scoped>\n",
       "    .dataframe tbody tr th:only-of-type {\n",
       "        vertical-align: middle;\n",
       "    }\n",
       "\n",
       "    .dataframe tbody tr th {\n",
       "        vertical-align: top;\n",
       "    }\n",
       "\n",
       "    .dataframe thead th {\n",
       "        text-align: right;\n",
       "    }\n",
       "</style>\n",
       "<table border=\"1\" class=\"dataframe\">\n",
       "  <thead>\n",
       "    <tr style=\"text-align: right;\">\n",
       "      <th></th>\n",
       "      <th>Pclass</th>\n",
       "      <th>Sex</th>\n",
       "      <th>Age</th>\n",
       "      <th>SibSp</th>\n",
       "      <th>Parch</th>\n",
       "      <th>Fare</th>\n",
       "      <th>Embarked</th>\n",
       "    </tr>\n",
       "  </thead>\n",
       "  <tbody>\n",
       "  </tbody>\n",
       "</table>\n",
       "</div>"
      ],
      "text/plain": [
       "Empty DataFrame\n",
       "Columns: [Pclass, Sex, Age, SibSp, Parch, Fare, Embarked]\n",
       "Index: []"
      ]
     },
     "execution_count": 20,
     "metadata": {},
     "output_type": "execute_result"
    }
   ],
   "source": [
    "test_data[test_data['Fare']==0]"
   ]
  },
  {
   "cell_type": "code",
   "execution_count": 21,
   "id": "8b6f1cd2",
   "metadata": {
    "execution": {
     "iopub.execute_input": "2022-05-23T11:28:30.584993Z",
     "iopub.status.busy": "2022-05-23T11:28:30.584032Z",
     "iopub.status.idle": "2022-05-23T11:28:30.596948Z",
     "shell.execute_reply": "2022-05-23T11:28:30.596080Z"
    },
    "papermill": {
     "duration": 0.073361,
     "end_time": "2022-05-23T11:28:30.599058",
     "exception": false,
     "start_time": "2022-05-23T11:28:30.525697",
     "status": "completed"
    },
    "tags": []
   },
   "outputs": [
    {
     "data": {
      "text/html": [
       "<div>\n",
       "<style scoped>\n",
       "    .dataframe tbody tr th:only-of-type {\n",
       "        vertical-align: middle;\n",
       "    }\n",
       "\n",
       "    .dataframe tbody tr th {\n",
       "        vertical-align: top;\n",
       "    }\n",
       "\n",
       "    .dataframe thead th {\n",
       "        text-align: right;\n",
       "    }\n",
       "</style>\n",
       "<table border=\"1\" class=\"dataframe\">\n",
       "  <thead>\n",
       "    <tr style=\"text-align: right;\">\n",
       "      <th></th>\n",
       "      <th>Pclass</th>\n",
       "      <th>Sex</th>\n",
       "      <th>Age</th>\n",
       "      <th>SibSp</th>\n",
       "      <th>Parch</th>\n",
       "      <th>Fare</th>\n",
       "      <th>Embarked</th>\n",
       "    </tr>\n",
       "  </thead>\n",
       "  <tbody>\n",
       "    <tr>\n",
       "      <th>152</th>\n",
       "      <td>3</td>\n",
       "      <td>male</td>\n",
       "      <td>60.5</td>\n",
       "      <td>0</td>\n",
       "      <td>0</td>\n",
       "      <td>NaN</td>\n",
       "      <td>S</td>\n",
       "    </tr>\n",
       "  </tbody>\n",
       "</table>\n",
       "</div>"
      ],
      "text/plain": [
       "     Pclass   Sex   Age  SibSp  Parch  Fare Embarked\n",
       "152       3  male  60.5      0      0   NaN        S"
      ]
     },
     "execution_count": 21,
     "metadata": {},
     "output_type": "execute_result"
    }
   ],
   "source": [
    "test_data[test_data['Fare'].isnull()]"
   ]
  },
  {
   "cell_type": "code",
   "execution_count": 22,
   "id": "9e3fdbfd",
   "metadata": {
    "execution": {
     "iopub.execute_input": "2022-05-23T11:28:30.714701Z",
     "iopub.status.busy": "2022-05-23T11:28:30.713775Z",
     "iopub.status.idle": "2022-05-23T11:28:30.723359Z",
     "shell.execute_reply": "2022-05-23T11:28:30.722416Z"
    },
    "papermill": {
     "duration": 0.069773,
     "end_time": "2022-05-23T11:28:30.725622",
     "exception": false,
     "start_time": "2022-05-23T11:28:30.655849",
     "status": "completed"
    },
    "tags": []
   },
   "outputs": [],
   "source": [
    "test_data.loc[152,['Fare']]=12.459678"
   ]
  },
  {
   "cell_type": "code",
   "execution_count": 23,
   "id": "fd3c8788",
   "metadata": {
    "execution": {
     "iopub.execute_input": "2022-05-23T11:28:30.846174Z",
     "iopub.status.busy": "2022-05-23T11:28:30.845651Z",
     "iopub.status.idle": "2022-05-23T11:28:30.856013Z",
     "shell.execute_reply": "2022-05-23T11:28:30.855127Z"
    },
    "papermill": {
     "duration": 0.074364,
     "end_time": "2022-05-23T11:28:30.858196",
     "exception": false,
     "start_time": "2022-05-23T11:28:30.783832",
     "status": "completed"
    },
    "tags": []
   },
   "outputs": [
    {
     "data": {
      "text/html": [
       "<div>\n",
       "<style scoped>\n",
       "    .dataframe tbody tr th:only-of-type {\n",
       "        vertical-align: middle;\n",
       "    }\n",
       "\n",
       "    .dataframe tbody tr th {\n",
       "        vertical-align: top;\n",
       "    }\n",
       "\n",
       "    .dataframe thead th {\n",
       "        text-align: right;\n",
       "    }\n",
       "</style>\n",
       "<table border=\"1\" class=\"dataframe\">\n",
       "  <thead>\n",
       "    <tr style=\"text-align: right;\">\n",
       "      <th></th>\n",
       "      <th>Pclass</th>\n",
       "      <th>Sex</th>\n",
       "      <th>Age</th>\n",
       "      <th>SibSp</th>\n",
       "      <th>Parch</th>\n",
       "      <th>Fare</th>\n",
       "      <th>Embarked</th>\n",
       "    </tr>\n",
       "  </thead>\n",
       "  <tbody>\n",
       "  </tbody>\n",
       "</table>\n",
       "</div>"
      ],
      "text/plain": [
       "Empty DataFrame\n",
       "Columns: [Pclass, Sex, Age, SibSp, Parch, Fare, Embarked]\n",
       "Index: []"
      ]
     },
     "execution_count": 23,
     "metadata": {},
     "output_type": "execute_result"
    }
   ],
   "source": [
    "test_data[test_data['Fare'].isnull()]"
   ]
  },
  {
   "cell_type": "code",
   "execution_count": 24,
   "id": "e70977ba",
   "metadata": {
    "execution": {
     "iopub.execute_input": "2022-05-23T11:28:30.974943Z",
     "iopub.status.busy": "2022-05-23T11:28:30.974378Z",
     "iopub.status.idle": "2022-05-23T11:28:30.986339Z",
     "shell.execute_reply": "2022-05-23T11:28:30.985595Z"
    },
    "papermill": {
     "duration": 0.072652,
     "end_time": "2022-05-23T11:28:30.988303",
     "exception": false,
     "start_time": "2022-05-23T11:28:30.915651",
     "status": "completed"
    },
    "tags": []
   },
   "outputs": [
    {
     "data": {
      "text/html": [
       "<div>\n",
       "<style scoped>\n",
       "    .dataframe tbody tr th:only-of-type {\n",
       "        vertical-align: middle;\n",
       "    }\n",
       "\n",
       "    .dataframe tbody tr th {\n",
       "        vertical-align: top;\n",
       "    }\n",
       "\n",
       "    .dataframe thead th {\n",
       "        text-align: right;\n",
       "    }\n",
       "</style>\n",
       "<table border=\"1\" class=\"dataframe\">\n",
       "  <thead>\n",
       "    <tr style=\"text-align: right;\">\n",
       "      <th></th>\n",
       "      <th>Survived</th>\n",
       "      <th>Pclass</th>\n",
       "      <th>Sex</th>\n",
       "      <th>Age</th>\n",
       "      <th>SibSp</th>\n",
       "      <th>Parch</th>\n",
       "      <th>Fare</th>\n",
       "      <th>Embarked</th>\n",
       "    </tr>\n",
       "  </thead>\n",
       "  <tbody>\n",
       "    <tr>\n",
       "      <th>0</th>\n",
       "      <td>0</td>\n",
       "      <td>3</td>\n",
       "      <td>male</td>\n",
       "      <td>22.0</td>\n",
       "      <td>1</td>\n",
       "      <td>0</td>\n",
       "      <td>7.2500</td>\n",
       "      <td>S</td>\n",
       "    </tr>\n",
       "    <tr>\n",
       "      <th>1</th>\n",
       "      <td>1</td>\n",
       "      <td>1</td>\n",
       "      <td>female</td>\n",
       "      <td>38.0</td>\n",
       "      <td>1</td>\n",
       "      <td>0</td>\n",
       "      <td>71.2833</td>\n",
       "      <td>C</td>\n",
       "    </tr>\n",
       "    <tr>\n",
       "      <th>2</th>\n",
       "      <td>1</td>\n",
       "      <td>3</td>\n",
       "      <td>female</td>\n",
       "      <td>26.0</td>\n",
       "      <td>0</td>\n",
       "      <td>0</td>\n",
       "      <td>7.9250</td>\n",
       "      <td>S</td>\n",
       "    </tr>\n",
       "  </tbody>\n",
       "</table>\n",
       "</div>"
      ],
      "text/plain": [
       "   Survived  Pclass     Sex   Age  SibSp  Parch     Fare Embarked\n",
       "0         0       3    male  22.0      1      0   7.2500        S\n",
       "1         1       1  female  38.0      1      0  71.2833        C\n",
       "2         1       3  female  26.0      0      0   7.9250        S"
      ]
     },
     "execution_count": 24,
     "metadata": {},
     "output_type": "execute_result"
    }
   ],
   "source": [
    "train_data.head(3)"
   ]
  },
  {
   "cell_type": "code",
   "execution_count": 25,
   "id": "810ec946",
   "metadata": {
    "execution": {
     "iopub.execute_input": "2022-05-23T11:28:31.106149Z",
     "iopub.status.busy": "2022-05-23T11:28:31.105673Z",
     "iopub.status.idle": "2022-05-23T11:28:31.114247Z",
     "shell.execute_reply": "2022-05-23T11:28:31.113393Z"
    },
    "papermill": {
     "duration": 0.069776,
     "end_time": "2022-05-23T11:28:31.116294",
     "exception": false,
     "start_time": "2022-05-23T11:28:31.046518",
     "status": "completed"
    },
    "tags": []
   },
   "outputs": [
    {
     "data": {
      "text/plain": [
       "Survived      0\n",
       "Pclass        0\n",
       "Sex           0\n",
       "Age         177\n",
       "SibSp         0\n",
       "Parch         0\n",
       "Fare          0\n",
       "Embarked      0\n",
       "dtype: int64"
      ]
     },
     "execution_count": 25,
     "metadata": {},
     "output_type": "execute_result"
    }
   ],
   "source": [
    "#There are many missing age info. How can we reasonably fill it?\n",
    "train_data.isnull().sum()"
   ]
  },
  {
   "cell_type": "code",
   "execution_count": 26,
   "id": "d50448c9",
   "metadata": {
    "execution": {
     "iopub.execute_input": "2022-05-23T11:28:31.235592Z",
     "iopub.status.busy": "2022-05-23T11:28:31.234729Z",
     "iopub.status.idle": "2022-05-23T11:28:31.249600Z",
     "shell.execute_reply": "2022-05-23T11:28:31.248906Z"
    },
    "papermill": {
     "duration": 0.076713,
     "end_time": "2022-05-23T11:28:31.251859",
     "exception": false,
     "start_time": "2022-05-23T11:28:31.175146",
     "status": "completed"
    },
    "tags": []
   },
   "outputs": [
    {
     "data": {
      "text/html": [
       "<div>\n",
       "<style scoped>\n",
       "    .dataframe tbody tr th:only-of-type {\n",
       "        vertical-align: middle;\n",
       "    }\n",
       "\n",
       "    .dataframe tbody tr th {\n",
       "        vertical-align: top;\n",
       "    }\n",
       "\n",
       "    .dataframe thead th {\n",
       "        text-align: right;\n",
       "    }\n",
       "</style>\n",
       "<table border=\"1\" class=\"dataframe\">\n",
       "  <thead>\n",
       "    <tr style=\"text-align: right;\">\n",
       "      <th></th>\n",
       "      <th>Survived</th>\n",
       "      <th>Pclass</th>\n",
       "      <th>Sex</th>\n",
       "      <th>Age</th>\n",
       "      <th>SibSp</th>\n",
       "      <th>Parch</th>\n",
       "      <th>Fare</th>\n",
       "      <th>Embarked</th>\n",
       "    </tr>\n",
       "  </thead>\n",
       "  <tbody>\n",
       "    <tr>\n",
       "      <th>0</th>\n",
       "      <td>0</td>\n",
       "      <td>3</td>\n",
       "      <td>1</td>\n",
       "      <td>22.0</td>\n",
       "      <td>1</td>\n",
       "      <td>0</td>\n",
       "      <td>7.2500</td>\n",
       "      <td>S</td>\n",
       "    </tr>\n",
       "    <tr>\n",
       "      <th>1</th>\n",
       "      <td>1</td>\n",
       "      <td>1</td>\n",
       "      <td>2</td>\n",
       "      <td>38.0</td>\n",
       "      <td>1</td>\n",
       "      <td>0</td>\n",
       "      <td>71.2833</td>\n",
       "      <td>C</td>\n",
       "    </tr>\n",
       "    <tr>\n",
       "      <th>2</th>\n",
       "      <td>1</td>\n",
       "      <td>3</td>\n",
       "      <td>2</td>\n",
       "      <td>26.0</td>\n",
       "      <td>0</td>\n",
       "      <td>0</td>\n",
       "      <td>7.9250</td>\n",
       "      <td>S</td>\n",
       "    </tr>\n",
       "    <tr>\n",
       "      <th>3</th>\n",
       "      <td>1</td>\n",
       "      <td>1</td>\n",
       "      <td>2</td>\n",
       "      <td>35.0</td>\n",
       "      <td>1</td>\n",
       "      <td>0</td>\n",
       "      <td>53.1000</td>\n",
       "      <td>S</td>\n",
       "    </tr>\n",
       "    <tr>\n",
       "      <th>4</th>\n",
       "      <td>0</td>\n",
       "      <td>3</td>\n",
       "      <td>1</td>\n",
       "      <td>35.0</td>\n",
       "      <td>0</td>\n",
       "      <td>0</td>\n",
       "      <td>8.0500</td>\n",
       "      <td>S</td>\n",
       "    </tr>\n",
       "  </tbody>\n",
       "</table>\n",
       "</div>"
      ],
      "text/plain": [
       "   Survived  Pclass  Sex   Age  SibSp  Parch     Fare Embarked\n",
       "0         0       3    1  22.0      1      0   7.2500        S\n",
       "1         1       1    2  38.0      1      0  71.2833        C\n",
       "2         1       3    2  26.0      0      0   7.9250        S\n",
       "3         1       1    2  35.0      1      0  53.1000        S\n",
       "4         0       3    1  35.0      0      0   8.0500        S"
      ]
     },
     "execution_count": 26,
     "metadata": {},
     "output_type": "execute_result"
    }
   ],
   "source": [
    "# Convert string data into numeric\n",
    "train_data['Sex']=train_data['Sex'].map({'male':1,'female':2})\n",
    "train_data.head(5)"
   ]
  },
  {
   "cell_type": "code",
   "execution_count": 27,
   "id": "74fb71b5",
   "metadata": {
    "execution": {
     "iopub.execute_input": "2022-05-23T11:28:31.373211Z",
     "iopub.status.busy": "2022-05-23T11:28:31.372485Z",
     "iopub.status.idle": "2022-05-23T11:28:31.378271Z",
     "shell.execute_reply": "2022-05-23T11:28:31.377466Z"
    },
    "papermill": {
     "duration": 0.068257,
     "end_time": "2022-05-23T11:28:31.380227",
     "exception": false,
     "start_time": "2022-05-23T11:28:31.311970",
     "status": "completed"
    },
    "tags": []
   },
   "outputs": [],
   "source": [
    "# Do the same for teset\n",
    "test_data['Sex']=test_data['Sex'].map({'male':1,'female':2})"
   ]
  },
  {
   "cell_type": "code",
   "execution_count": 28,
   "id": "102f43b4",
   "metadata": {
    "execution": {
     "iopub.execute_input": "2022-05-23T11:28:31.501996Z",
     "iopub.status.busy": "2022-05-23T11:28:31.501442Z",
     "iopub.status.idle": "2022-05-23T11:28:32.538798Z",
     "shell.execute_reply": "2022-05-23T11:28:32.537892Z"
    },
    "papermill": {
     "duration": 1.102604,
     "end_time": "2022-05-23T11:28:32.541767",
     "exception": false,
     "start_time": "2022-05-23T11:28:31.439163",
     "status": "completed"
    },
    "tags": []
   },
   "outputs": [],
   "source": [
    "import seaborn as sns"
   ]
  },
  {
   "cell_type": "code",
   "execution_count": 29,
   "id": "9d7147fd",
   "metadata": {
    "execution": {
     "iopub.execute_input": "2022-05-23T11:28:32.664452Z",
     "iopub.status.busy": "2022-05-23T11:28:32.664176Z",
     "iopub.status.idle": "2022-05-23T11:28:32.670349Z",
     "shell.execute_reply": "2022-05-23T11:28:32.669669Z"
    },
    "papermill": {
     "duration": 0.070853,
     "end_time": "2022-05-23T11:28:32.672326",
     "exception": false,
     "start_time": "2022-05-23T11:28:32.601473",
     "status": "completed"
    },
    "tags": []
   },
   "outputs": [],
   "source": [
    "train_y=train_data['Survived']\n",
    "train_x=train_data.drop(['Survived'],axis=1)"
   ]
  },
  {
   "cell_type": "code",
   "execution_count": 30,
   "id": "7dcb1848",
   "metadata": {
    "execution": {
     "iopub.execute_input": "2022-05-23T11:28:32.793672Z",
     "iopub.status.busy": "2022-05-23T11:28:32.793134Z",
     "iopub.status.idle": "2022-05-23T11:28:32.796737Z",
     "shell.execute_reply": "2022-05-23T11:28:32.796043Z"
    },
    "papermill": {
     "duration": 0.067462,
     "end_time": "2022-05-23T11:28:32.798870",
     "exception": false,
     "start_time": "2022-05-23T11:28:32.731408",
     "status": "completed"
    },
    "tags": []
   },
   "outputs": [],
   "source": [
    "test_x=test_data"
   ]
  },
  {
   "cell_type": "code",
   "execution_count": 31,
   "id": "ff95bb51",
   "metadata": {
    "execution": {
     "iopub.execute_input": "2022-05-23T11:28:32.922306Z",
     "iopub.status.busy": "2022-05-23T11:28:32.921793Z",
     "iopub.status.idle": "2022-05-23T11:28:32.930095Z",
     "shell.execute_reply": "2022-05-23T11:28:32.929028Z"
    },
    "papermill": {
     "duration": 0.073491,
     "end_time": "2022-05-23T11:28:32.932435",
     "exception": false,
     "start_time": "2022-05-23T11:28:32.858944",
     "status": "completed"
    },
    "tags": []
   },
   "outputs": [
    {
     "data": {
      "text/plain": [
       "Pclass       0\n",
       "Sex          0\n",
       "Age         86\n",
       "SibSp        0\n",
       "Parch        0\n",
       "Fare         0\n",
       "Embarked     0\n",
       "dtype: int64"
      ]
     },
     "execution_count": 31,
     "metadata": {},
     "output_type": "execute_result"
    }
   ],
   "source": [
    "test_data.isnull().sum()"
   ]
  },
  {
   "cell_type": "code",
   "execution_count": 32,
   "id": "6e1ccb1d",
   "metadata": {
    "execution": {
     "iopub.execute_input": "2022-05-23T11:28:33.056294Z",
     "iopub.status.busy": "2022-05-23T11:28:33.055955Z",
     "iopub.status.idle": "2022-05-23T11:28:33.370102Z",
     "shell.execute_reply": "2022-05-23T11:28:33.369031Z"
    },
    "papermill": {
     "duration": 0.37991,
     "end_time": "2022-05-23T11:28:33.372464",
     "exception": false,
     "start_time": "2022-05-23T11:28:32.992554",
     "status": "completed"
    },
    "tags": []
   },
   "outputs": [
    {
     "data": {
      "text/plain": [
       "LinearRegression()"
      ]
     },
     "execution_count": 32,
     "metadata": {},
     "output_type": "execute_result"
    }
   ],
   "source": [
    "from sklearn.linear_model import LinearRegression\n",
    "model=LinearRegression()\n",
    "ind_to_drop=train_x[train_x.Age.isnull()].index\n",
    "temp=train_x.drop(ind_to_drop,axis=0)\n",
    "y=temp['Age']\n",
    "x=np.array(temp['Fare']).reshape(-1, 1)\n",
    "model.fit(x,y)"
   ]
  },
  {
   "cell_type": "code",
   "execution_count": 33,
   "id": "19e4ec86",
   "metadata": {
    "execution": {
     "iopub.execute_input": "2022-05-23T11:28:33.495058Z",
     "iopub.status.busy": "2022-05-23T11:28:33.494750Z",
     "iopub.status.idle": "2022-05-23T11:28:33.598231Z",
     "shell.execute_reply": "2022-05-23T11:28:33.597139Z"
    },
    "papermill": {
     "duration": 0.167256,
     "end_time": "2022-05-23T11:28:33.600700",
     "exception": false,
     "start_time": "2022-05-23T11:28:33.433444",
     "status": "completed"
    },
    "tags": []
   },
   "outputs": [],
   "source": [
    "for i in range(train_x.shape[0]):\n",
    "    if np.isnan(train_x.loc[i,'Age']):\n",
    "        train_x.loc[i,'Age']=model.predict(np.array([train_x.loc[i,'Fare']]).reshape(-1,1))[0]"
   ]
  },
  {
   "cell_type": "code",
   "execution_count": 34,
   "id": "937a69a7",
   "metadata": {
    "execution": {
     "iopub.execute_input": "2022-05-23T11:28:33.723139Z",
     "iopub.status.busy": "2022-05-23T11:28:33.722836Z",
     "iopub.status.idle": "2022-05-23T11:28:33.733704Z",
     "shell.execute_reply": "2022-05-23T11:28:33.733098Z"
    },
    "papermill": {
     "duration": 0.074217,
     "end_time": "2022-05-23T11:28:33.735675",
     "exception": false,
     "start_time": "2022-05-23T11:28:33.661458",
     "status": "completed"
    },
    "tags": []
   },
   "outputs": [
    {
     "data": {
      "text/plain": [
       "LinearRegression()"
      ]
     },
     "execution_count": 34,
     "metadata": {},
     "output_type": "execute_result"
    }
   ],
   "source": [
    "model=LinearRegression()\n",
    "ind_to_drop=test_x[test_x.Age.isnull()].index\n",
    "temp=test_x.drop(ind_to_drop,axis=0)\n",
    "y=temp['Age']\n",
    "x=np.array(temp['Fare']).reshape(-1, 1)\n",
    "model.fit(x,y)"
   ]
  },
  {
   "cell_type": "code",
   "execution_count": 35,
   "id": "604ed80a",
   "metadata": {
    "execution": {
     "iopub.execute_input": "2022-05-23T11:28:33.858934Z",
     "iopub.status.busy": "2022-05-23T11:28:33.858639Z",
     "iopub.status.idle": "2022-05-23T11:28:33.912730Z",
     "shell.execute_reply": "2022-05-23T11:28:33.911838Z"
    },
    "papermill": {
     "duration": 0.118666,
     "end_time": "2022-05-23T11:28:33.915233",
     "exception": false,
     "start_time": "2022-05-23T11:28:33.796567",
     "status": "completed"
    },
    "tags": []
   },
   "outputs": [],
   "source": [
    "for i in range(test_x.shape[0]):\n",
    "    if np.isnan(test_x.loc[i,'Age']):\n",
    "        test_x.loc[i,'Age']=model.predict(np.array([test_x.loc[i,'Fare']]).reshape(-1,1))[0]"
   ]
  },
  {
   "cell_type": "code",
   "execution_count": 36,
   "id": "bcca4d4a",
   "metadata": {
    "execution": {
     "iopub.execute_input": "2022-05-23T11:28:34.037841Z",
     "iopub.status.busy": "2022-05-23T11:28:34.037372Z",
     "iopub.status.idle": "2022-05-23T11:28:34.046362Z",
     "shell.execute_reply": "2022-05-23T11:28:34.045511Z"
    },
    "papermill": {
     "duration": 0.074078,
     "end_time": "2022-05-23T11:28:34.048826",
     "exception": false,
     "start_time": "2022-05-23T11:28:33.974748",
     "status": "completed"
    },
    "tags": []
   },
   "outputs": [
    {
     "data": {
      "text/plain": [
       "Pclass      0\n",
       "Sex         0\n",
       "Age         0\n",
       "SibSp       0\n",
       "Parch       0\n",
       "Fare        0\n",
       "Embarked    0\n",
       "dtype: int64"
      ]
     },
     "execution_count": 36,
     "metadata": {},
     "output_type": "execute_result"
    }
   ],
   "source": [
    "train_x.isnull().sum()"
   ]
  },
  {
   "cell_type": "code",
   "execution_count": 37,
   "id": "853c3e43",
   "metadata": {
    "execution": {
     "iopub.execute_input": "2022-05-23T11:28:34.172273Z",
     "iopub.status.busy": "2022-05-23T11:28:34.171376Z",
     "iopub.status.idle": "2022-05-23T11:28:34.184867Z",
     "shell.execute_reply": "2022-05-23T11:28:34.184129Z"
    },
    "papermill": {
     "duration": 0.077133,
     "end_time": "2022-05-23T11:28:34.187141",
     "exception": false,
     "start_time": "2022-05-23T11:28:34.110008",
     "status": "completed"
    },
    "tags": []
   },
   "outputs": [],
   "source": [
    "#Let's hot encode the feature 'Embarked'\n",
    "train_x=pd.get_dummies(train_x)\n",
    "#Do the same for test\n",
    "test_x=pd.get_dummies(test_x)"
   ]
  },
  {
   "cell_type": "code",
   "execution_count": 38,
   "id": "e2b263a9",
   "metadata": {
    "execution": {
     "iopub.execute_input": "2022-05-23T11:28:34.309411Z",
     "iopub.status.busy": "2022-05-23T11:28:34.308454Z",
     "iopub.status.idle": "2022-05-23T11:28:34.318261Z",
     "shell.execute_reply": "2022-05-23T11:28:34.317326Z"
    },
    "papermill": {
     "duration": 0.073101,
     "end_time": "2022-05-23T11:28:34.320226",
     "exception": false,
     "start_time": "2022-05-23T11:28:34.247125",
     "status": "completed"
    },
    "tags": []
   },
   "outputs": [
    {
     "data": {
      "text/plain": [
       "Pclass        0\n",
       "Sex           0\n",
       "Age           0\n",
       "SibSp         0\n",
       "Parch         0\n",
       "Fare          0\n",
       "Embarked_C    0\n",
       "Embarked_Q    0\n",
       "Embarked_S    0\n",
       "dtype: int64"
      ]
     },
     "execution_count": 38,
     "metadata": {},
     "output_type": "execute_result"
    }
   ],
   "source": [
    "test_x.isnull().sum()"
   ]
  },
  {
   "cell_type": "code",
   "execution_count": 39,
   "id": "ef453216",
   "metadata": {
    "execution": {
     "iopub.execute_input": "2022-05-23T11:28:34.445162Z",
     "iopub.status.busy": "2022-05-23T11:28:34.444846Z",
     "iopub.status.idle": "2022-05-23T11:28:34.449632Z",
     "shell.execute_reply": "2022-05-23T11:28:34.448636Z"
    },
    "papermill": {
     "duration": 0.070626,
     "end_time": "2022-05-23T11:28:34.451768",
     "exception": false,
     "start_time": "2022-05-23T11:28:34.381142",
     "status": "completed"
    },
    "tags": []
   },
   "outputs": [],
   "source": [
    "train_y=np.array(train_y).ravel()"
   ]
  },
  {
   "cell_type": "code",
   "execution_count": 40,
   "id": "110665fa",
   "metadata": {
    "execution": {
     "iopub.execute_input": "2022-05-23T11:28:34.575487Z",
     "iopub.status.busy": "2022-05-23T11:28:34.574721Z",
     "iopub.status.idle": "2022-05-23T11:28:34.592840Z",
     "shell.execute_reply": "2022-05-23T11:28:34.592119Z"
    },
    "papermill": {
     "duration": 0.082626,
     "end_time": "2022-05-23T11:28:34.595272",
     "exception": false,
     "start_time": "2022-05-23T11:28:34.512646",
     "status": "completed"
    },
    "tags": []
   },
   "outputs": [],
   "source": [
    "#Preprocess data(standardize it)\n",
    "from sklearn.preprocessing import StandardScaler\n",
    "from sklearn.pipeline import Pipeline\n",
    "pipeline=Pipeline([\n",
    "    ('std_scaler',StandardScaler())\n",
    "])\n",
    "train_x=pipeline.fit_transform(train_x)\n",
    "test_x=pipeline.fit_transform(test_x)"
   ]
  },
  {
   "cell_type": "code",
   "execution_count": 41,
   "id": "0c581f79",
   "metadata": {
    "execution": {
     "iopub.execute_input": "2022-05-23T11:28:34.719721Z",
     "iopub.status.busy": "2022-05-23T11:28:34.718578Z",
     "iopub.status.idle": "2022-05-23T11:28:34.723637Z",
     "shell.execute_reply": "2022-05-23T11:28:34.722654Z"
    },
    "papermill": {
     "duration": 0.070248,
     "end_time": "2022-05-23T11:28:34.726020",
     "exception": false,
     "start_time": "2022-05-23T11:28:34.655772",
     "status": "completed"
    },
    "tags": []
   },
   "outputs": [],
   "source": [
    "#Until now, we have done without cross-validation. Now, let's do model selection using cross-validation."
   ]
  },
  {
   "cell_type": "code",
   "execution_count": 42,
   "id": "bfd99575",
   "metadata": {
    "execution": {
     "iopub.execute_input": "2022-05-23T11:28:34.852047Z",
     "iopub.status.busy": "2022-05-23T11:28:34.851728Z",
     "iopub.status.idle": "2022-05-23T11:28:34.857179Z",
     "shell.execute_reply": "2022-05-23T11:28:34.856142Z"
    },
    "papermill": {
     "duration": 0.071518,
     "end_time": "2022-05-23T11:28:34.859221",
     "exception": false,
     "start_time": "2022-05-23T11:28:34.787703",
     "status": "completed"
    },
    "tags": []
   },
   "outputs": [],
   "source": [
    "#Cross validation\n",
    "from sklearn.model_selection import train_test_split\n",
    "x_train,x_val,y_train,y_val=train_test_split(train_x,train_y,test_size=0.2)"
   ]
  },
  {
   "cell_type": "code",
   "execution_count": 43,
   "id": "206bf021",
   "metadata": {
    "execution": {
     "iopub.execute_input": "2022-05-23T11:28:34.982983Z",
     "iopub.status.busy": "2022-05-23T11:28:34.982066Z",
     "iopub.status.idle": "2022-05-23T11:28:35.131745Z",
     "shell.execute_reply": "2022-05-23T11:28:35.130748Z"
    },
    "papermill": {
     "duration": 0.2147,
     "end_time": "2022-05-23T11:28:35.134296",
     "exception": false,
     "start_time": "2022-05-23T11:28:34.919596",
     "status": "completed"
    },
    "tags": []
   },
   "outputs": [],
   "source": [
    "from sklearn.ensemble import RandomForestClassifier\n",
    "from sklearn.ensemble import GradientBoostingClassifier"
   ]
  },
  {
   "cell_type": "code",
   "execution_count": 44,
   "id": "535f5737",
   "metadata": {
    "execution": {
     "iopub.execute_input": "2022-05-23T11:28:35.260827Z",
     "iopub.status.busy": "2022-05-23T11:28:35.260496Z",
     "iopub.status.idle": "2022-05-23T11:28:35.264855Z",
     "shell.execute_reply": "2022-05-23T11:28:35.263955Z"
    },
    "papermill": {
     "duration": 0.070786,
     "end_time": "2022-05-23T11:28:35.266828",
     "exception": false,
     "start_time": "2022-05-23T11:28:35.196042",
     "status": "completed"
    },
    "tags": []
   },
   "outputs": [],
   "source": [
    "from sklearn.model_selection import cross_val_score\n",
    "from sklearn.metrics import accuracy_score"
   ]
  },
  {
   "cell_type": "code",
   "execution_count": 45,
   "id": "92cfda08",
   "metadata": {
    "execution": {
     "iopub.execute_input": "2022-05-23T11:28:35.390574Z",
     "iopub.status.busy": "2022-05-23T11:28:35.389529Z",
     "iopub.status.idle": "2022-05-23T11:28:52.803848Z",
     "shell.execute_reply": "2022-05-23T11:28:52.802651Z"
    },
    "papermill": {
     "duration": 17.479626,
     "end_time": "2022-05-23T11:28:52.807471",
     "exception": false,
     "start_time": "2022-05-23T11:28:35.327845",
     "status": "completed"
    },
    "tags": []
   },
   "outputs": [
    {
     "name": "stdout",
     "output_type": "stream",
     "text": [
      "Accuracy: 0.8603351955307262\n",
      "Cross validation score: 0.8204695248258111\n"
     ]
    }
   ],
   "source": [
    "def fitNpredict(model):\n",
    "    model.fit(x_train,y_train)\n",
    "    y_pred=model.predict(x_val)\n",
    "    return accuracy_score(y_val,y_pred)\n",
    "def crossval(model):\n",
    "    return cross_val_score(model, train_x,train_y, cv=5).mean()\n",
    "#m1 = LogisticRegression()\n",
    "\n",
    "#m4 = SGDClassifier()\n",
    "m3 = RandomForestClassifier(n_estimators=1000,\n",
    "                              max_depth=5,\n",
    "                              min_samples_split=5,\n",
    "                              min_samples_leaf=5,\n",
    "                              max_features=None,\n",
    "                              oob_score=True,\n",
    "                              random_state=42)\n",
    "print('Accuracy:',fitNpredict(m3))\n",
    "print('Cross validation score:',crossval(m3))"
   ]
  },
  {
   "cell_type": "code",
   "execution_count": 46,
   "id": "0f1a3e11",
   "metadata": {
    "execution": {
     "iopub.execute_input": "2022-05-23T11:28:52.935091Z",
     "iopub.status.busy": "2022-05-23T11:28:52.934555Z",
     "iopub.status.idle": "2022-05-23T11:28:55.984332Z",
     "shell.execute_reply": "2022-05-23T11:28:55.983391Z"
    },
    "papermill": {
     "duration": 3.114867,
     "end_time": "2022-05-23T11:28:55.986859",
     "exception": false,
     "start_time": "2022-05-23T11:28:52.871992",
     "status": "completed"
    },
    "tags": []
   },
   "outputs": [],
   "source": [
    "final_model=m3\n",
    "final_model.fit(train_x,train_y)\n",
    "predict_yf=final_model.predict(test_x)"
   ]
  },
  {
   "cell_type": "code",
   "execution_count": 47,
   "id": "d059c895",
   "metadata": {
    "execution": {
     "iopub.execute_input": "2022-05-23T11:28:56.113658Z",
     "iopub.status.busy": "2022-05-23T11:28:56.113340Z",
     "iopub.status.idle": "2022-05-23T11:28:56.118959Z",
     "shell.execute_reply": "2022-05-23T11:28:56.117909Z"
    },
    "papermill": {
     "duration": 0.071002,
     "end_time": "2022-05-23T11:28:56.121222",
     "exception": false,
     "start_time": "2022-05-23T11:28:56.050220",
     "status": "completed"
    },
    "tags": []
   },
   "outputs": [],
   "source": [
    "test_y=pd.DataFrame({'PassengerId':np.array(np.arange(892,1310)),'Survived':predict_yf})"
   ]
  },
  {
   "cell_type": "code",
   "execution_count": 48,
   "id": "09aa82c7",
   "metadata": {
    "execution": {
     "iopub.execute_input": "2022-05-23T11:28:56.247289Z",
     "iopub.status.busy": "2022-05-23T11:28:56.247019Z",
     "iopub.status.idle": "2022-05-23T11:28:56.255129Z",
     "shell.execute_reply": "2022-05-23T11:28:56.254156Z"
    },
    "papermill": {
     "duration": 0.073638,
     "end_time": "2022-05-23T11:28:56.257250",
     "exception": false,
     "start_time": "2022-05-23T11:28:56.183612",
     "status": "completed"
    },
    "tags": []
   },
   "outputs": [
    {
     "name": "stdout",
     "output_type": "stream",
     "text": [
      "Your submission was successfully saved!\n"
     ]
    }
   ],
   "source": [
    "test_y.to_csv('submission.csv', index=False)\n",
    "print(\"Your submission was successfully saved!\")"
   ]
  },
  {
   "cell_type": "code",
   "execution_count": null,
   "id": "8651bd31",
   "metadata": {
    "papermill": {
     "duration": 0.061438,
     "end_time": "2022-05-23T11:28:56.381855",
     "exception": false,
     "start_time": "2022-05-23T11:28:56.320417",
     "status": "completed"
    },
    "tags": []
   },
   "outputs": [],
   "source": []
  }
 ],
 "metadata": {
  "kernelspec": {
   "display_name": "Python 3",
   "language": "python",
   "name": "python3"
  },
  "language_info": {
   "codemirror_mode": {
    "name": "ipython",
    "version": 3
   },
   "file_extension": ".py",
   "mimetype": "text/x-python",
   "name": "python",
   "nbconvert_exporter": "python",
   "pygments_lexer": "ipython3",
   "version": "3.7.12"
  },
  "papermill": {
   "default_parameters": {},
   "duration": 40.331653,
   "end_time": "2022-05-23T11:28:57.266327",
   "environment_variables": {},
   "exception": null,
   "input_path": "__notebook__.ipynb",
   "output_path": "__notebook__.ipynb",
   "parameters": {},
   "start_time": "2022-05-23T11:28:16.934674",
   "version": "2.3.4"
  }
 },
 "nbformat": 4,
 "nbformat_minor": 5
}
