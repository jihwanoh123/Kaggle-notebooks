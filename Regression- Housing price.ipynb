{
 "cells": [
  {
   "cell_type": "code",
   "execution_count": 1,
   "id": "2420f4c2",
   "metadata": {
    "_cell_guid": "b1076dfc-b9ad-4769-8c92-a6c4dae69d19",
    "_uuid": "8f2839f25d086af736a60e9eeb907d3b93b6e0e5",
    "execution": {
     "iopub.execute_input": "2022-05-21T19:20:08.072207Z",
     "iopub.status.busy": "2022-05-21T19:20:08.071285Z",
     "iopub.status.idle": "2022-05-21T19:20:08.084682Z",
     "shell.execute_reply": "2022-05-21T19:20:08.083978Z"
    },
    "papermill": {
     "duration": 0.047443,
     "end_time": "2022-05-21T19:20:08.087687",
     "exception": false,
     "start_time": "2022-05-21T19:20:08.040244",
     "status": "completed"
    },
    "tags": []
   },
   "outputs": [
    {
     "name": "stdout",
     "output_type": "stream",
     "text": [
      "/kaggle/input/house-prices-advanced-regression-techniques/sample_submission.csv\n",
      "/kaggle/input/house-prices-advanced-regression-techniques/data_description.txt\n",
      "/kaggle/input/house-prices-advanced-regression-techniques/train.csv\n",
      "/kaggle/input/house-prices-advanced-regression-techniques/test.csv\n"
     ]
    }
   ],
   "source": [
    "# This Python 3 environment comes with many helpful analytics libraries installed\n",
    "# It is defined by the kaggle/python Docker image: https://github.com/kaggle/docker-python\n",
    "# For example, here's several helpful packages to load\n",
    "\n",
    "import numpy as np # linear algebra\n",
    "import pandas as pd # data processing, CSV file I/O (e.g. pd.read_csv)\n",
    "\n",
    "# Input data files are available in the read-only \"../input/\" directory\n",
    "# For example, running this (by clicking run or pressing Shift+Enter) will list all files under the input directory\n",
    "\n",
    "import os\n",
    "for dirname, _, filenames in os.walk('/kaggle/input'):\n",
    "    for filename in filenames:\n",
    "        print(os.path.join(dirname, filename))\n",
    "\n",
    "# You can write up to 20GB to the current directory (/kaggle/working/) that gets preserved as output when you create a version using \"Save & Run All\" \n",
    "# You can also write temporary files to /kaggle/temp/, but they won't be saved outside of the current session"
   ]
  },
  {
   "cell_type": "code",
   "execution_count": 2,
   "id": "2cc4e53b",
   "metadata": {
    "execution": {
     "iopub.execute_input": "2022-05-21T19:20:08.145162Z",
     "iopub.status.busy": "2022-05-21T19:20:08.144516Z",
     "iopub.status.idle": "2022-05-21T19:20:09.747626Z",
     "shell.execute_reply": "2022-05-21T19:20:09.746720Z"
    },
    "papermill": {
     "duration": 1.63521,
     "end_time": "2022-05-21T19:20:09.750631",
     "exception": false,
     "start_time": "2022-05-21T19:20:08.115421",
     "status": "completed"
    },
    "tags": []
   },
   "outputs": [],
   "source": [
    "# Essentials\n",
    "import numpy as np\n",
    "import pandas as pd\n",
    "import datetime\n",
    "import random\n",
    "\n",
    "# Plots\n",
    "import seaborn as sns\n",
    "import matplotlib.pyplot as plt\n",
    "\n",
    "# Models\n",
    "from sklearn.ensemble import RandomForestRegressor, GradientBoostingRegressor, AdaBoostRegressor, BaggingRegressor\n",
    "from sklearn.kernel_ridge import KernelRidge\n",
    "from sklearn.linear_model import Ridge, RidgeCV\n",
    "from sklearn.linear_model import ElasticNet, ElasticNetCV\n",
    "from sklearn.svm import SVR\n",
    "\n",
    "from xgboost import XGBRegressor\n",
    "\n",
    "# Stats\n",
    "from scipy.stats import skew, norm\n",
    "from scipy.special import boxcox1p\n",
    "from scipy.stats import boxcox_normmax\n",
    "\n",
    "# Misc\n",
    "from sklearn.model_selection import GridSearchCV\n",
    "from sklearn.model_selection import KFold, cross_val_score\n",
    "from sklearn.metrics import mean_squared_error\n",
    "from sklearn.preprocessing import OneHotEncoder\n",
    "from sklearn.preprocessing import LabelEncoder\n",
    "from sklearn.pipeline import make_pipeline\n",
    "from sklearn.preprocessing import scale\n",
    "from sklearn.preprocessing import StandardScaler\n",
    "from sklearn.preprocessing import RobustScaler\n",
    "from sklearn.decomposition import PCA\n",
    "\n",
    "pd.set_option('display.max_columns', None)\n",
    "\n",
    "# Ignore useless warnings\n",
    "import warnings\n",
    "warnings.filterwarnings(action=\"ignore\")\n",
    "pd.options.display.max_seq_items = 8000\n",
    "pd.options.display.max_rows = 8000"
   ]
  },
  {
   "cell_type": "code",
   "execution_count": 3,
   "id": "3be503b2",
   "metadata": {
    "execution": {
     "iopub.execute_input": "2022-05-21T19:20:09.808636Z",
     "iopub.status.busy": "2022-05-21T19:20:09.807788Z",
     "iopub.status.idle": "2022-05-21T19:20:09.902789Z",
     "shell.execute_reply": "2022-05-21T19:20:09.901892Z"
    },
    "papermill": {
     "duration": 0.125401,
     "end_time": "2022-05-21T19:20:09.905313",
     "exception": false,
     "start_time": "2022-05-21T19:20:09.779912",
     "status": "completed"
    },
    "tags": []
   },
   "outputs": [],
   "source": [
    "train = pd.read_csv(\"../input/house-prices-advanced-regression-techniques/train.csv\")\n",
    "test = pd.read_csv(\"../input/house-prices-advanced-regression-techniques/test.csv\")"
   ]
  },
  {
   "cell_type": "code",
   "execution_count": 4,
   "id": "62f66a87",
   "metadata": {
    "execution": {
     "iopub.execute_input": "2022-05-21T19:20:09.961854Z",
     "iopub.status.busy": "2022-05-21T19:20:09.961586Z",
     "iopub.status.idle": "2022-05-21T19:20:10.301117Z",
     "shell.execute_reply": "2022-05-21T19:20:10.300316Z"
    },
    "papermill": {
     "duration": 0.37017,
     "end_time": "2022-05-21T19:20:10.303397",
     "exception": false,
     "start_time": "2022-05-21T19:20:09.933227",
     "status": "completed"
    },
    "tags": []
   },
   "outputs": [
    {
     "data": {
      "text/plain": [
       "<AxesSubplot:xlabel='SalePrice', ylabel='Density'>"
      ]
     },
     "execution_count": 4,
     "metadata": {},
     "output_type": "execute_result"
    },
    {
     "data": {
      "image/png": "[encoded data removed]",
      "text/plain": [
       "<Figure size 432x288 with 1 Axes>"
      ]
     },
     "metadata": {
      "needs_background": "light"
     },
     "output_type": "display_data"
    }
   ],
   "source": [
    "sns.distplot(train['SalePrice'])"
   ]
  },
  {
   "cell_type": "code",
   "execution_count": 5,
   "id": "a37ae5e4",
   "metadata": {
    "execution": {
     "iopub.execute_input": "2022-05-21T19:20:10.363225Z",
     "iopub.status.busy": "2022-05-21T19:20:10.362739Z",
     "iopub.status.idle": "2022-05-21T19:20:10.368285Z",
     "shell.execute_reply": "2022-05-21T19:20:10.367498Z"
    },
    "papermill": {
     "duration": 0.03842,
     "end_time": "2022-05-21T19:20:10.370199",
     "exception": false,
     "start_time": "2022-05-21T19:20:10.331779",
     "status": "completed"
    },
    "tags": []
   },
   "outputs": [
    {
     "data": {
      "text/plain": [
       "1.8828757597682129"
      ]
     },
     "execution_count": 5,
     "metadata": {},
     "output_type": "execute_result"
    }
   ],
   "source": [
    "train.SalePrice.skew()"
   ]
  },
  {
   "cell_type": "code",
   "execution_count": 6,
   "id": "68e616b5",
   "metadata": {
    "execution": {
     "iopub.execute_input": "2022-05-21T19:20:10.429588Z",
     "iopub.status.busy": "2022-05-21T19:20:10.429078Z",
     "iopub.status.idle": "2022-05-21T19:20:10.439292Z",
     "shell.execute_reply": "2022-05-21T19:20:10.438535Z"
    },
    "papermill": {
     "duration": 0.042425,
     "end_time": "2022-05-21T19:20:10.441726",
     "exception": false,
     "start_time": "2022-05-21T19:20:10.399301",
     "status": "completed"
    },
    "tags": []
   },
   "outputs": [
    {
     "name": "stdout",
     "output_type": "stream",
     "text": [
      "38 43\n"
     ]
    }
   ],
   "source": [
    "numeric_dtypes=['int16', 'int32', 'int64', 'float16', 'float32', 'float64']\n",
    "num,cat=[],[]\n",
    "for col in train.columns:\n",
    "    if train[col].dtype in numeric_dtypes: num.append(col)\n",
    "    else: cat.append(col)\n",
    "print(len(num),len(cat))"
   ]
  },
  {
   "cell_type": "code",
   "execution_count": 7,
   "id": "7415e67b",
   "metadata": {
    "execution": {
     "iopub.execute_input": "2022-05-21T19:20:10.502261Z",
     "iopub.status.busy": "2022-05-21T19:20:10.501637Z",
     "iopub.status.idle": "2022-05-21T19:20:10.505968Z",
     "shell.execute_reply": "2022-05-21T19:20:10.505108Z"
    },
    "papermill": {
     "duration": 0.036873,
     "end_time": "2022-05-21T19:20:10.508026",
     "exception": false,
     "start_time": "2022-05-21T19:20:10.471153",
     "status": "completed"
    },
    "tags": []
   },
   "outputs": [],
   "source": [
    "num=num[:-1]"
   ]
  },
  {
   "cell_type": "code",
   "execution_count": 8,
   "id": "be43441d",
   "metadata": {
    "execution": {
     "iopub.execute_input": "2022-05-21T19:20:10.571074Z",
     "iopub.status.busy": "2022-05-21T19:20:10.570347Z",
     "iopub.status.idle": "2022-05-21T19:20:11.039211Z",
     "shell.execute_reply": "2022-05-21T19:20:11.038166Z"
    },
    "papermill": {
     "duration": 0.502097,
     "end_time": "2022-05-21T19:20:11.041392",
     "exception": false,
     "start_time": "2022-05-21T19:20:10.539295",
     "status": "completed"
    },
    "tags": []
   },
   "outputs": [
    {
     "data": {
      "text/plain": [
       "<AxesSubplot:>"
      ]
     },
     "execution_count": 8,
     "metadata": {},
     "output_type": "execute_result"
    },
    {
     "data": {
      "image/png": "[encoded data removed]",
      "text/plain": [
       "<Figure size 432x288 with 2 Axes>"
      ]
     },
     "metadata": {
      "needs_background": "light"
     },
     "output_type": "display_data"
    }
   ],
   "source": [
    "corr=train.corr()\n",
    "sns.heatmap(corr,cmap='Blues')"
   ]
  },
  {
   "cell_type": "code",
   "execution_count": 9,
   "id": "949817f8",
   "metadata": {
    "execution": {
     "iopub.execute_input": "2022-05-21T19:20:11.106365Z",
     "iopub.status.busy": "2022-05-21T19:20:11.106064Z",
     "iopub.status.idle": "2022-05-21T19:20:11.114664Z",
     "shell.execute_reply": "2022-05-21T19:20:11.114077Z"
    },
    "papermill": {
     "duration": 0.043152,
     "end_time": "2022-05-21T19:20:11.116564",
     "exception": false,
     "start_time": "2022-05-21T19:20:11.073412",
     "status": "completed"
    },
    "tags": []
   },
   "outputs": [
    {
     "data": {
      "text/plain": [
       "KitchenAbvGr    -0.135907\n",
       "EnclosedPorch   -0.128578\n",
       "MSSubClass      -0.084284\n",
       "OverallCond     -0.077856\n",
       "YrSold          -0.028923\n",
       "LowQualFinSF    -0.025606\n",
       "Id              -0.021917\n",
       "MiscVal         -0.021190\n",
       "BsmtHalfBath    -0.016844\n",
       "BsmtFinSF2      -0.011378\n",
       "3SsnPorch        0.044584\n",
       "MoSold           0.046432\n",
       "PoolArea         0.092404\n",
       "ScreenPorch      0.111447\n",
       "BedroomAbvGr     0.168213\n",
       "BsmtUnfSF        0.214479\n",
       "BsmtFullBath     0.227122\n",
       "LotArea          0.263843\n",
       "HalfBath         0.284108\n",
       "OpenPorchSF      0.315856\n",
       "2ndFlrSF         0.319334\n",
       "WoodDeckSF       0.324413\n",
       "LotFrontage      0.351799\n",
       "BsmtFinSF1       0.386420\n",
       "Fireplaces       0.466929\n",
       "MasVnrArea       0.477493\n",
       "GarageYrBlt      0.486362\n",
       "YearRemodAdd     0.507101\n",
       "YearBuilt        0.522897\n",
       "TotRmsAbvGrd     0.533723\n",
       "FullBath         0.560664\n",
       "1stFlrSF         0.605852\n",
       "TotalBsmtSF      0.613581\n",
       "GarageArea       0.623431\n",
       "GarageCars       0.640409\n",
       "GrLivArea        0.708624\n",
       "OverallQual      0.790982\n",
       "SalePrice        1.000000\n",
       "Name: SalePrice, dtype: float64"
      ]
     },
     "execution_count": 9,
     "metadata": {},
     "output_type": "execute_result"
    }
   ],
   "source": [
    "corr['SalePrice'].sort_values()"
   ]
  },
  {
   "cell_type": "code",
   "execution_count": 10,
   "id": "3828f261",
   "metadata": {
    "execution": {
     "iopub.execute_input": "2022-05-21T19:20:11.179817Z",
     "iopub.status.busy": "2022-05-21T19:20:11.179382Z",
     "iopub.status.idle": "2022-05-21T19:20:11.184902Z",
     "shell.execute_reply": "2022-05-21T19:20:11.184327Z"
    },
    "papermill": {
     "duration": 0.039452,
     "end_time": "2022-05-21T19:20:11.186802",
     "exception": false,
     "start_time": "2022-05-21T19:20:11.147350",
     "status": "completed"
    },
    "tags": []
   },
   "outputs": [],
   "source": [
    "#High correlation numeric data\n",
    "num_to_use=list(corr[abs(corr['SalePrice'])>0.02]['SalePrice'][:-1].index)"
   ]
  },
  {
   "cell_type": "code",
   "execution_count": 11,
   "id": "b5bab629",
   "metadata": {
    "execution": {
     "iopub.execute_input": "2022-05-21T19:20:11.252193Z",
     "iopub.status.busy": "2022-05-21T19:20:11.251694Z",
     "iopub.status.idle": "2022-05-21T19:20:11.623569Z",
     "shell.execute_reply": "2022-05-21T19:20:11.622768Z"
    },
    "papermill": {
     "duration": 0.408275,
     "end_time": "2022-05-21T19:20:11.625716",
     "exception": false,
     "start_time": "2022-05-21T19:20:11.217441",
     "status": "completed"
    },
    "tags": []
   },
   "outputs": [
    {
     "data": {
      "text/plain": [
       "<AxesSubplot:xlabel='TotRmsAbvGrd', ylabel='SalePrice'>"
      ]
     },
     "execution_count": 11,
     "metadata": {},
     "output_type": "execute_result"
    },
    {
     "data": {
      "image/png": "[encoded data removed]",
      "text/plain": [
       "<Figure size 576x432 with 1 Axes>"
      ]
     },
     "metadata": {
      "needs_background": "light"
     },
     "output_type": "display_data"
    }
   ],
   "source": [
    "data=pd.concat([train['SalePrice'],train['TotRmsAbvGrd']],axis=1)\n",
    "f,ax=plt.subplots(figsize=(8,6))\n",
    "sns.boxplot(x=train['TotRmsAbvGrd'],y=train['SalePrice'],data=data)"
   ]
  },
  {
   "cell_type": "code",
   "execution_count": 12,
   "id": "9957d185",
   "metadata": {
    "execution": {
     "iopub.execute_input": "2022-05-21T19:20:11.693034Z",
     "iopub.status.busy": "2022-05-21T19:20:11.692503Z",
     "iopub.status.idle": "2022-05-21T19:20:12.147962Z",
     "shell.execute_reply": "2022-05-21T19:20:12.147019Z"
    },
    "papermill": {
     "duration": 0.492032,
     "end_time": "2022-05-21T19:20:12.150335",
     "exception": false,
     "start_time": "2022-05-21T19:20:11.658303",
     "status": "completed"
    },
    "tags": []
   },
   "outputs": [
    {
     "data": {
      "text/plain": [
       "<AxesSubplot:xlabel='OverallCond', ylabel='SalePrice'>"
      ]
     },
     "execution_count": 12,
     "metadata": {},
     "output_type": "execute_result"
    },
    {
     "data": {
      "image/png": "[encoded data removed]",
      "text/plain": [
       "<Figure size 576x432 with 1 Axes>"
      ]
     },
     "metadata": {
      "needs_background": "light"
     },
     "output_type": "display_data"
    }
   ],
   "source": [
    "data=pd.concat([train['SalePrice'],train['OverallCond']],axis=1)\n",
    "f,ax=plt.subplots(figsize=(8,6))\n",
    "sns.boxplot(x=train['OverallCond'],y=train['SalePrice'],data=data)"
   ]
  },
  {
   "cell_type": "code",
   "execution_count": 13,
   "id": "568070a0",
   "metadata": {
    "execution": {
     "iopub.execute_input": "2022-05-21T19:20:12.220192Z",
     "iopub.status.busy": "2022-05-21T19:20:12.219883Z",
     "iopub.status.idle": "2022-05-21T19:20:12.462430Z",
     "shell.execute_reply": "2022-05-21T19:20:12.461537Z"
    },
    "papermill": {
     "duration": 0.281367,
     "end_time": "2022-05-21T19:20:12.465631",
     "exception": false,
     "start_time": "2022-05-21T19:20:12.184264",
     "status": "completed"
    },
    "tags": []
   },
   "outputs": [
    {
     "data": {
      "text/plain": [
       "<AxesSubplot:xlabel='YearBuilt', ylabel='SalePrice'>"
      ]
     },
     "execution_count": 13,
     "metadata": {},
     "output_type": "execute_result"
    },
    {
     "data": {
      "image/png": "[encoded data removed]",
      "text/plain": [
       "<Figure size 576x432 with 1 Axes>"
      ]
     },
     "metadata": {
      "needs_background": "light"
     },
     "output_type": "display_data"
    }
   ],
   "source": [
    "data=pd.concat([train['SalePrice'],train['YearBuilt']],axis=1)\n",
    "f,ax=plt.subplots(figsize=(8,6))\n",
    "sns.scatterplot(x=train['YearBuilt'],y=train['SalePrice'],data=data)"
   ]
  },
  {
   "cell_type": "code",
   "execution_count": 14,
   "id": "62192479",
   "metadata": {
    "execution": {
     "iopub.execute_input": "2022-05-21T19:20:12.540920Z",
     "iopub.status.busy": "2022-05-21T19:20:12.540219Z",
     "iopub.status.idle": "2022-05-21T19:20:12.570731Z",
     "shell.execute_reply": "2022-05-21T19:20:12.569865Z"
    },
    "papermill": {
     "duration": 0.070725,
     "end_time": "2022-05-21T19:20:12.572956",
     "exception": false,
     "start_time": "2022-05-21T19:20:12.502231",
     "status": "completed"
    },
    "tags": []
   },
   "outputs": [],
   "source": [
    "#Eliminate outliers\n",
    "train.drop(train[(train['TotRmsAbvGrd']==10) &\n",
    "                 (train['SalePrice']>700000)].index,inplace=True)\n",
    "train.drop(train[(train['FullBath']<=1) &\n",
    "                 (train['SalePrice']>380000)].index,inplace=True)\n",
    "train.drop(train[(train['GarageCars']==3) &\n",
    "                 (train['SalePrice']>700000)].index,inplace=True)\n",
    "train.drop(train[(train['OverallCond']<5) &\n",
    "                 (train['SalePrice']>300000)].index,inplace=True)\n",
    "train.drop(train[(train['OverallCond']==5) &\n",
    "                 (train['SalePrice']>600000)].index,inplace=True)\n",
    "train.drop(train[(train['GrLivArea']>4000) &\n",
    "                 (train['SalePrice']<250000)].index,inplace=True)\n",
    "train.drop(train[(train['GrLivArea']>4000) &\n",
    "                 (train['SalePrice']<250000)].index,inplace=True)\n",
    "train.drop(train[(train['YearBuilt']<1920) &\n",
    "                 (train['SalePrice']>200000)].index,inplace=True)\n",
    "#Reset index\n",
    "train.reset_index(drop=True,inplace=True)"
   ]
  },
  {
   "cell_type": "code",
   "execution_count": 15,
   "id": "5fc505d5",
   "metadata": {
    "execution": {
     "iopub.execute_input": "2022-05-21T19:20:12.646123Z",
     "iopub.status.busy": "2022-05-21T19:20:12.645834Z",
     "iopub.status.idle": "2022-05-21T19:20:12.650873Z",
     "shell.execute_reply": "2022-05-21T19:20:12.649779Z"
    },
    "papermill": {
     "duration": 0.044488,
     "end_time": "2022-05-21T19:20:12.653178",
     "exception": false,
     "start_time": "2022-05-21T19:20:12.608690",
     "status": "completed"
    },
    "tags": []
   },
   "outputs": [],
   "source": [
    "removed=['Alley', 'PoolQC', 'Fence', 'MiscFeature','FireplaceQu','LotFrontage']\n",
    "for col in cat:\n",
    "    if col in removed: \n",
    "        cat.remove(col)"
   ]
  },
  {
   "cell_type": "code",
   "execution_count": 16,
   "id": "292620e9",
   "metadata": {
    "execution": {
     "iopub.execute_input": "2022-05-21T19:20:12.729388Z",
     "iopub.status.busy": "2022-05-21T19:20:12.729122Z",
     "iopub.status.idle": "2022-05-21T19:20:13.025834Z",
     "shell.execute_reply": "2022-05-21T19:20:13.024850Z"
    },
    "papermill": {
     "duration": 0.336584,
     "end_time": "2022-05-21T19:20:13.028235",
     "exception": false,
     "start_time": "2022-05-21T19:20:12.691651",
     "status": "completed"
    },
    "tags": []
   },
   "outputs": [
    {
     "data": {
      "text/plain": [
       "<AxesSubplot:>"
      ]
     },
     "execution_count": 16,
     "metadata": {},
     "output_type": "execute_result"
    },
    {
     "data": {
      "image/png": "[encoded data removed]",
      "text/plain": [
       "<Figure size 432x288 with 1 Axes>"
      ]
     },
     "metadata": {
      "needs_background": "light"
     },
     "output_type": "display_data"
    }
   ],
   "source": [
    "missing=round(train.isnull().mean()*100,2)\n",
    "missing=missing[missing>0]\n",
    "missing.sort_values(inplace=True)\n",
    "missing.plot.bar(color='b')"
   ]
  },
  {
   "cell_type": "code",
   "execution_count": 17,
   "id": "ff3bb237",
   "metadata": {
    "execution": {
     "iopub.execute_input": "2022-05-21T19:20:13.107024Z",
     "iopub.status.busy": "2022-05-21T19:20:13.106680Z",
     "iopub.status.idle": "2022-05-21T19:20:13.126816Z",
     "shell.execute_reply": "2022-05-21T19:20:13.125976Z"
    },
    "papermill": {
     "duration": 0.060944,
     "end_time": "2022-05-21T19:20:13.128886",
     "exception": false,
     "start_time": "2022-05-21T19:20:13.067942",
     "status": "completed"
    },
    "tags": []
   },
   "outputs": [
    {
     "data": {
      "text/plain": [
       "MiscVal          24.309097\n",
       "PoolArea         19.408815\n",
       "LotArea          13.034243\n",
       "3SsnPorch        10.232026\n",
       "LowQualFinSF      9.425659\n",
       "KitchenAbvGr      4.453806\n",
       "ScreenPorch       4.095550\n",
       "EnclosedPorch     2.827852\n",
       "OpenPorchSF       2.235607\n",
       "WoodDeckSF        1.466894\n",
       "MSSubClass        1.404485\n",
       "BsmtUnfSF         0.927943\n",
       "1stFlrSF          0.875335\n",
       "2ndFlrSF          0.752788\n",
       "GrLivArea         0.748119\n",
       "BsmtFinSF1        0.701614\n",
       "HalfBath          0.698112\n",
       "OverallCond       0.691330\n",
       "TotRmsAbvGrd      0.652825\n",
       "Fireplaces        0.643017\n",
       "BsmtFullBath      0.587490\n",
       "TotalBsmtSF       0.479050\n",
       "dtype: float64"
      ]
     },
     "execution_count": 17,
     "metadata": {},
     "output_type": "execute_result"
    }
   ],
   "source": [
    "skew_features=train[num_to_use].apply(lambda x: skew(x)).sort_values(ascending=False)\n",
    "high_skew=skew_features[skew_features>0.4]\n",
    "high_skew\n",
    "#high_skew_index=high_skew.index\n",
    "#for col in high_skew_index:\n",
    "#    train[col]=boxcox1p(train[col],boxcox_normmax(train[col] + 1))\n",
    "#    test[col]=boxcox1p(test[col],boxcox_normmax(train[col] + 1))"
   ]
  },
  {
   "cell_type": "code",
   "execution_count": 18,
   "id": "b3c46ac0",
   "metadata": {
    "execution": {
     "iopub.execute_input": "2022-05-21T19:20:13.205514Z",
     "iopub.status.busy": "2022-05-21T19:20:13.205205Z",
     "iopub.status.idle": "2022-05-21T19:20:13.227674Z",
     "shell.execute_reply": "2022-05-21T19:20:13.226837Z"
    },
    "papermill": {
     "duration": 0.063858,
     "end_time": "2022-05-21T19:20:13.229914",
     "exception": false,
     "start_time": "2022-05-21T19:20:13.166056",
     "status": "completed"
    },
    "tags": []
   },
   "outputs": [],
   "source": [
    "from sklearn.compose import ColumnTransformer\n",
    "from sklearn.pipeline import Pipeline\n",
    "from sklearn.impute import SimpleImputer\n",
    "from sklearn.preprocessing import OneHotEncoder\n",
    "from sklearn.preprocessing import StandardScaler\n",
    "# Preprocessing for numerical data\n",
    "numerical_transformer = Pipeline(steps=[\n",
    "    ('imputer',SimpleImputer(strategy='mean')),\n",
    "    ('std_scalar', StandardScaler())\n",
    "])\n",
    "\n",
    "# Preprocessing for categorical data\n",
    "categorical_transformer = Pipeline(steps=[\n",
    "    ('imputer', SimpleImputer(strategy='most_frequent')),\n",
    "    ('onehot', OneHotEncoder(handle_unknown='ignore'))\n",
    "])\n",
    "\n",
    "# Bundle preprocessing for numerical and categorical data\n",
    "preprocessor = ColumnTransformer(\n",
    "    transformers=[\n",
    "        ('num', numerical_transformer, num_to_use),\n",
    "        ('cat', categorical_transformer, cat)\n",
    "    ])\n",
    "from sklearn.ensemble import RandomForestRegressor\n",
    "\n",
    "model1 = GradientBoostingRegressor(n_estimators=6000,\n",
    "                                learning_rate=0.01,\n",
    "                                max_depth=4,\n",
    "                                max_features='sqrt',\n",
    "                                min_samples_leaf=15,\n",
    "                                min_samples_split=10,\n",
    "                                loss='huber',\n",
    "                                random_state=42,validation_fraction=0.2)  \n",
    "\n",
    "# Bundle preprocessing and modeling code in a pipeline\n",
    "my_pipeline1 = Pipeline(steps=[('preprocessor', preprocessor),\n",
    "                              ('model', model1)\n",
    "                             ])"
   ]
  },
  {
   "cell_type": "code",
   "execution_count": 19,
   "id": "36ad48e3",
   "metadata": {
    "execution": {
     "iopub.execute_input": "2022-05-21T19:20:13.308185Z",
     "iopub.status.busy": "2022-05-21T19:20:13.307636Z",
     "iopub.status.idle": "2022-05-21T19:20:13.313591Z",
     "shell.execute_reply": "2022-05-21T19:20:13.312775Z"
    },
    "papermill": {
     "duration": 0.047714,
     "end_time": "2022-05-21T19:20:13.315778",
     "exception": false,
     "start_time": "2022-05-21T19:20:13.268064",
     "status": "completed"
    },
    "tags": []
   },
   "outputs": [],
   "source": [
    "y_train=train['SalePrice']\n",
    "train.drop(['SalePrice'],inplace=True,axis=1)"
   ]
  },
  {
   "cell_type": "code",
   "execution_count": 20,
   "id": "fe07e933",
   "metadata": {
    "execution": {
     "iopub.execute_input": "2022-05-21T19:20:13.393929Z",
     "iopub.status.busy": "2022-05-21T19:20:13.393404Z",
     "iopub.status.idle": "2022-05-21T19:20:13.397346Z",
     "shell.execute_reply": "2022-05-21T19:20:13.396691Z"
    },
    "papermill": {
     "duration": 0.044615,
     "end_time": "2022-05-21T19:20:13.399388",
     "exception": false,
     "start_time": "2022-05-21T19:20:13.354773",
     "status": "completed"
    },
    "tags": []
   },
   "outputs": [],
   "source": [
    "final_cols=num_to_use+cat"
   ]
  },
  {
   "cell_type": "code",
   "execution_count": 21,
   "id": "53453116",
   "metadata": {
    "execution": {
     "iopub.execute_input": "2022-05-21T19:20:13.476896Z",
     "iopub.status.busy": "2022-05-21T19:20:13.476470Z",
     "iopub.status.idle": "2022-05-21T19:20:13.482671Z",
     "shell.execute_reply": "2022-05-21T19:20:13.481849Z"
    },
    "papermill": {
     "duration": 0.047733,
     "end_time": "2022-05-21T19:20:13.484693",
     "exception": false,
     "start_time": "2022-05-21T19:20:13.436960",
     "status": "completed"
    },
    "tags": []
   },
   "outputs": [],
   "source": [
    "X_train=train[final_cols]"
   ]
  },
  {
   "cell_type": "code",
   "execution_count": 22,
   "id": "74f6bd53",
   "metadata": {
    "execution": {
     "iopub.execute_input": "2022-05-21T19:20:13.564463Z",
     "iopub.status.busy": "2022-05-21T19:20:13.563652Z",
     "iopub.status.idle": "2022-05-21T19:20:13.570018Z",
     "shell.execute_reply": "2022-05-21T19:20:13.569423Z"
    },
    "papermill": {
     "duration": 0.047788,
     "end_time": "2022-05-21T19:20:13.572094",
     "exception": false,
     "start_time": "2022-05-21T19:20:13.524306",
     "status": "completed"
    },
    "tags": []
   },
   "outputs": [],
   "source": [
    "testId=test['Id']\n",
    "X_test=test[final_cols]"
   ]
  },
  {
   "cell_type": "code",
   "execution_count": 23,
   "id": "9d2d28f8",
   "metadata": {
    "execution": {
     "iopub.execute_input": "2022-05-21T19:20:13.649903Z",
     "iopub.status.busy": "2022-05-21T19:20:13.649342Z",
     "iopub.status.idle": "2022-05-21T19:20:55.726694Z",
     "shell.execute_reply": "2022-05-21T19:20:55.725664Z"
    },
    "papermill": {
     "duration": 42.119771,
     "end_time": "2022-05-21T19:20:55.729475",
     "exception": false,
     "start_time": "2022-05-21T19:20:13.609704",
     "status": "completed"
    },
    "tags": []
   },
   "outputs": [],
   "source": [
    "my_pipeline1.fit(X_train,y_train)\n",
    "preds=my_pipeline1.predict(X_test)"
   ]
  },
  {
   "cell_type": "code",
   "execution_count": 24,
   "id": "71a6b211",
   "metadata": {
    "execution": {
     "iopub.execute_input": "2022-05-21T19:20:55.809154Z",
     "iopub.status.busy": "2022-05-21T19:20:55.808581Z",
     "iopub.status.idle": "2022-05-21T19:20:55.814965Z",
     "shell.execute_reply": "2022-05-21T19:20:55.814113Z"
    },
    "papermill": {
     "duration": 0.047989,
     "end_time": "2022-05-21T19:20:55.817037",
     "exception": false,
     "start_time": "2022-05-21T19:20:55.769048",
     "status": "completed"
    },
    "tags": []
   },
   "outputs": [
    {
     "data": {
      "text/plain": [
       "array([127225.50386748, 160895.12384158, 188099.30171657, ...,\n",
       "       164546.28000793, 118982.31562225, 215270.4224113 ])"
      ]
     },
     "execution_count": 24,
     "metadata": {},
     "output_type": "execute_result"
    }
   ],
   "source": [
    "preds"
   ]
  },
  {
   "cell_type": "code",
   "execution_count": 25,
   "id": "df253d3b",
   "metadata": {
    "execution": {
     "iopub.execute_input": "2022-05-21T19:20:55.897583Z",
     "iopub.status.busy": "2022-05-21T19:20:55.896992Z",
     "iopub.status.idle": "2022-05-21T19:20:55.911260Z",
     "shell.execute_reply": "2022-05-21T19:20:55.910202Z"
    },
    "papermill": {
     "duration": 0.057836,
     "end_time": "2022-05-21T19:20:55.913837",
     "exception": false,
     "start_time": "2022-05-21T19:20:55.856001",
     "status": "completed"
    },
    "tags": []
   },
   "outputs": [],
   "source": [
    "submission=pd.DataFrame({'Id':testId, 'SalePrice':preds})\n",
    "submission.to_csv('./submission.csv',index=False)"
   ]
  }
 ],
 "metadata": {
  "kernelspec": {
   "display_name": "Python 3",
   "language": "python",
   "name": "python3"
  },
  "language_info": {
   "codemirror_mode": {
    "name": "ipython",
    "version": 3
   },
   "file_extension": ".py",
   "mimetype": "text/x-python",
   "name": "python",
   "nbconvert_exporter": "python",
   "pygments_lexer": "ipython3",
   "version": "3.7.12"
  },
  "papermill": {
   "default_parameters": {},
   "duration": 58.940102,
   "end_time": "2022-05-21T19:20:56.773425",
   "environment_variables": {},
   "exception": null,
   "input_path": "__notebook__.ipynb",
   "output_path": "__notebook__.ipynb",
   "parameters": {},
   "start_time": "2022-05-21T19:19:57.833323",
   "version": "2.3.4"
  }
 },
 "nbformat": 4,
 "nbformat_minor": 5
}
