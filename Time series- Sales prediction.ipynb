{
 "cells": [
  {
   "cell_type": "code",
   "execution_count": 1,
   "id": "512db13e",
   "metadata": {
    "_cell_guid": "b1076dfc-b9ad-4769-8c92-a6c4dae69d19",
    "_uuid": "8f2839f25d086af736a60e9eeb907d3b93b6e0e5",
    "execution": {
     "iopub.execute_input": "2022-06-26T16:11:54.045037Z",
     "iopub.status.busy": "2022-06-26T16:11:54.044570Z",
     "iopub.status.idle": "2022-06-26T16:11:54.059557Z",
     "shell.execute_reply": "2022-06-26T16:11:54.058546Z"
    },
    "papermill": {
     "duration": 0.090653,
     "end_time": "2022-06-26T16:11:54.061723",
     "exception": false,
     "start_time": "2022-06-26T16:11:53.971070",
     "status": "completed"
    },
    "tags": []
   },
   "outputs": [
    {
     "name": "stdout",
     "output_type": "stream",
     "text": [
      "/kaggle/input/competitive-data-science-predict-future-sales/items.csv\n",
      "/kaggle/input/competitive-data-science-predict-future-sales/sample_submission.csv\n",
      "/kaggle/input/competitive-data-science-predict-future-sales/item_categories.csv\n",
      "/kaggle/input/competitive-data-science-predict-future-sales/sales_train.csv\n",
      "/kaggle/input/competitive-data-science-predict-future-sales/shops.csv\n",
      "/kaggle/input/competitive-data-science-predict-future-sales/test.csv\n"
     ]
    }
   ],
   "source": [
    "# This Python 3 environment comes with many helpful analytics libraries installed\n",
    "# It is defined by the kaggle/python Docker image: https://github.com/kaggle/docker-python\n",
    "# For example, here's several helpful packages to load\n",
    "\n",
    "import numpy as np # linear algebra\n",
    "import pandas as pd # data processing, CSV file I/O (e.g. pd.read_csv)\n",
    "\n",
    "# Input data files are available in the read-only \"../input/\" directory\n",
    "# For example, running this (by clicking run or pressing Shift+Enter) will list all files under the input directory\n",
    "\n",
    "import os\n",
    "for dirname, _, filenames in os.walk('/kaggle/input'):\n",
    "    for filename in filenames:\n",
    "        print(os.path.join(dirname, filename))\n",
    "\n",
    "# You can write up to 20GB to the current directory (/kaggle/working/) that gets preserved as output when you create a version using \"Save & Run All\" \n",
    "# You can also write temporary files to /kaggle/temp/, but they won't be saved outside of the current session"
   ]
  },
  {
   "cell_type": "code",
   "execution_count": 2,
   "id": "22c98f3c",
   "metadata": {
    "execution": {
     "iopub.execute_input": "2022-06-26T16:11:54.181785Z",
     "iopub.status.busy": "2022-06-26T16:11:54.181264Z",
     "iopub.status.idle": "2022-06-26T16:11:56.531052Z",
     "shell.execute_reply": "2022-06-26T16:11:56.529895Z"
    },
    "papermill": {
     "duration": 2.412805,
     "end_time": "2022-06-26T16:11:56.534448",
     "exception": false,
     "start_time": "2022-06-26T16:11:54.121643",
     "status": "completed"
    },
    "tags": []
   },
   "outputs": [],
   "source": [
    "# load data\n",
    "items=pd.read_csv(\"/kaggle/input/competitive-data-science-predict-future-sales/items.csv\")\n",
    "shops=pd.read_csv(\"/kaggle/input/competitive-data-science-predict-future-sales/shops.csv\")\n",
    "cats=pd.read_csv(\"/kaggle/input/competitive-data-science-predict-future-sales/item_categories.csv\")\n",
    "train=pd.read_csv(\"/kaggle/input/competitive-data-science-predict-future-sales/sales_train.csv\")\n",
    "test=pd.read_csv(\"/kaggle/input/competitive-data-science-predict-future-sales/test.csv\")"
   ]
  },
  {
   "cell_type": "code",
   "execution_count": 3,
   "id": "bfd6c829",
   "metadata": {
    "execution": {
     "iopub.execute_input": "2022-06-26T16:11:56.650132Z",
     "iopub.status.busy": "2022-06-26T16:11:56.649854Z",
     "iopub.status.idle": "2022-06-26T16:11:56.672558Z",
     "shell.execute_reply": "2022-06-26T16:11:56.671836Z"
    },
    "papermill": {
     "duration": 0.081936,
     "end_time": "2022-06-26T16:11:56.674666",
     "exception": false,
     "start_time": "2022-06-26T16:11:56.592730",
     "status": "completed"
    },
    "tags": []
   },
   "outputs": [
    {
     "data": {
      "text/html": [
       "<div>\n",
       "<style scoped>\n",
       "    .dataframe tbody tr th:only-of-type {\n",
       "        vertical-align: middle;\n",
       "    }\n",
       "\n",
       "    .dataframe tbody tr th {\n",
       "        vertical-align: top;\n",
       "    }\n",
       "\n",
       "    .dataframe thead th {\n",
       "        text-align: right;\n",
       "    }\n",
       "</style>\n",
       "<table border=\"1\" class=\"dataframe\">\n",
       "  <thead>\n",
       "    <tr style=\"text-align: right;\">\n",
       "      <th></th>\n",
       "      <th>date</th>\n",
       "      <th>date_block_num</th>\n",
       "      <th>shop_id</th>\n",
       "      <th>item_id</th>\n",
       "      <th>item_price</th>\n",
       "      <th>item_cnt_day</th>\n",
       "    </tr>\n",
       "  </thead>\n",
       "  <tbody>\n",
       "    <tr>\n",
       "      <th>0</th>\n",
       "      <td>02.01.2013</td>\n",
       "      <td>0</td>\n",
       "      <td>59</td>\n",
       "      <td>22154</td>\n",
       "      <td>999.0</td>\n",
       "      <td>1.0</td>\n",
       "    </tr>\n",
       "    <tr>\n",
       "      <th>1</th>\n",
       "      <td>03.01.2013</td>\n",
       "      <td>0</td>\n",
       "      <td>25</td>\n",
       "      <td>2552</td>\n",
       "      <td>899.0</td>\n",
       "      <td>1.0</td>\n",
       "    </tr>\n",
       "    <tr>\n",
       "      <th>2</th>\n",
       "      <td>05.01.2013</td>\n",
       "      <td>0</td>\n",
       "      <td>25</td>\n",
       "      <td>2552</td>\n",
       "      <td>899.0</td>\n",
       "      <td>-1.0</td>\n",
       "    </tr>\n",
       "  </tbody>\n",
       "</table>\n",
       "</div>"
      ],
      "text/plain": [
       "         date  date_block_num  shop_id  item_id  item_price  item_cnt_day\n",
       "0  02.01.2013               0       59    22154       999.0           1.0\n",
       "1  03.01.2013               0       25     2552       899.0           1.0\n",
       "2  05.01.2013               0       25     2552       899.0          -1.0"
      ]
     },
     "execution_count": 3,
     "metadata": {},
     "output_type": "execute_result"
    }
   ],
   "source": [
    "train.head(3)"
   ]
  },
  {
   "cell_type": "code",
   "execution_count": 4,
   "id": "414be2a3",
   "metadata": {
    "execution": {
     "iopub.execute_input": "2022-06-26T16:11:56.791230Z",
     "iopub.status.busy": "2022-06-26T16:11:56.790657Z",
     "iopub.status.idle": "2022-06-26T16:11:57.260460Z",
     "shell.execute_reply": "2022-06-26T16:11:57.259451Z"
    },
    "papermill": {
     "duration": 0.530738,
     "end_time": "2022-06-26T16:11:57.262488",
     "exception": false,
     "start_time": "2022-06-26T16:11:56.731750",
     "status": "completed"
    },
    "tags": []
   },
   "outputs": [
    {
     "data": {
      "text/plain": [
       "<AxesSubplot:xlabel='date'>"
      ]
     },
     "execution_count": 4,
     "metadata": {},
     "output_type": "execute_result"
    },
    {
     "data": {
      "image/png": "[encoded data removed]",
      "text/plain": [
       "<Figure size 432x288 with 1 Axes>"
      ]
     },
     "metadata": {
      "needs_background": "light"
     },
     "output_type": "display_data"
    }
   ],
   "source": [
    "temp2=train.groupby('date')['item_id'].count()\n",
    "df=pd.DataFrame(temp2)\n",
    "df.columns.map({'item_id':'item_id_cnt'})\n",
    "df.rename(columns={'item_id':'item_id_cnt'},inplace=True)\n",
    "df.plot()"
   ]
  },
  {
   "cell_type": "code",
   "execution_count": 5,
   "id": "c1877f20",
   "metadata": {
    "execution": {
     "iopub.execute_input": "2022-06-26T16:11:57.381413Z",
     "iopub.status.busy": "2022-06-26T16:11:57.381096Z",
     "iopub.status.idle": "2022-06-26T16:11:57.580062Z",
     "shell.execute_reply": "2022-06-26T16:11:57.579186Z"
    },
    "papermill": {
     "duration": 0.260645,
     "end_time": "2022-06-26T16:11:57.582493",
     "exception": false,
     "start_time": "2022-06-26T16:11:57.321848",
     "status": "completed"
    },
    "tags": []
   },
   "outputs": [],
   "source": [
    "temp=train[train['date']=='02.01.2013']"
   ]
  },
  {
   "cell_type": "code",
   "execution_count": 6,
   "id": "564d5923",
   "metadata": {
    "execution": {
     "iopub.execute_input": "2022-06-26T16:11:57.702703Z",
     "iopub.status.busy": "2022-06-26T16:11:57.702386Z",
     "iopub.status.idle": "2022-06-26T16:11:57.713701Z",
     "shell.execute_reply": "2022-06-26T16:11:57.712883Z"
    },
    "papermill": {
     "duration": 0.074494,
     "end_time": "2022-06-26T16:11:57.715952",
     "exception": false,
     "start_time": "2022-06-26T16:11:57.641458",
     "status": "completed"
    },
    "tags": []
   },
   "outputs": [
    {
     "data": {
      "text/html": [
       "<div>\n",
       "<style scoped>\n",
       "    .dataframe tbody tr th:only-of-type {\n",
       "        vertical-align: middle;\n",
       "    }\n",
       "\n",
       "    .dataframe tbody tr th {\n",
       "        vertical-align: top;\n",
       "    }\n",
       "\n",
       "    .dataframe thead th {\n",
       "        text-align: right;\n",
       "    }\n",
       "</style>\n",
       "<table border=\"1\" class=\"dataframe\">\n",
       "  <thead>\n",
       "    <tr style=\"text-align: right;\">\n",
       "      <th></th>\n",
       "      <th>date</th>\n",
       "      <th>date_block_num</th>\n",
       "      <th>shop_id</th>\n",
       "      <th>item_id</th>\n",
       "      <th>item_price</th>\n",
       "      <th>item_cnt_day</th>\n",
       "    </tr>\n",
       "  </thead>\n",
       "  <tbody>\n",
       "    <tr>\n",
       "      <th>0</th>\n",
       "      <td>02.01.2013</td>\n",
       "      <td>0</td>\n",
       "      <td>59</td>\n",
       "      <td>22154</td>\n",
       "      <td>999.0</td>\n",
       "      <td>1.0</td>\n",
       "    </tr>\n",
       "    <tr>\n",
       "      <th>6</th>\n",
       "      <td>02.01.2013</td>\n",
       "      <td>0</td>\n",
       "      <td>25</td>\n",
       "      <td>2565</td>\n",
       "      <td>549.0</td>\n",
       "      <td>1.0</td>\n",
       "    </tr>\n",
       "    <tr>\n",
       "      <th>28</th>\n",
       "      <td>02.01.2013</td>\n",
       "      <td>0</td>\n",
       "      <td>25</td>\n",
       "      <td>2546</td>\n",
       "      <td>299.0</td>\n",
       "      <td>1.0</td>\n",
       "    </tr>\n",
       "  </tbody>\n",
       "</table>\n",
       "</div>"
      ],
      "text/plain": [
       "          date  date_block_num  shop_id  item_id  item_price  item_cnt_day\n",
       "0   02.01.2013               0       59    22154       999.0           1.0\n",
       "6   02.01.2013               0       25     2565       549.0           1.0\n",
       "28  02.01.2013               0       25     2546       299.0           1.0"
      ]
     },
     "execution_count": 6,
     "metadata": {},
     "output_type": "execute_result"
    }
   ],
   "source": [
    "temp.head(3)"
   ]
  },
  {
   "cell_type": "code",
   "execution_count": 7,
   "id": "963f0756",
   "metadata": {
    "execution": {
     "iopub.execute_input": "2022-06-26T16:11:57.841330Z",
     "iopub.status.busy": "2022-06-26T16:11:57.840428Z",
     "iopub.status.idle": "2022-06-26T16:11:57.968339Z",
     "shell.execute_reply": "2022-06-26T16:11:57.967195Z"
    },
    "papermill": {
     "duration": 0.195067,
     "end_time": "2022-06-26T16:11:57.971343",
     "exception": false,
     "start_time": "2022-06-26T16:11:57.776276",
     "status": "completed"
    },
    "tags": []
   },
   "outputs": [
    {
     "name": "stderr",
     "output_type": "stream",
     "text": [
      "/opt/conda/lib/python3.7/site-packages/ipykernel_launcher.py:1: UserWarning: Boolean Series key will be reindexed to match DataFrame index.\n",
      "  \"\"\"Entry point for launching an IPython kernel.\n"
     ]
    },
    {
     "data": {
      "text/html": [
       "<div>\n",
       "<style scoped>\n",
       "    .dataframe tbody tr th:only-of-type {\n",
       "        vertical-align: middle;\n",
       "    }\n",
       "\n",
       "    .dataframe tbody tr th {\n",
       "        vertical-align: top;\n",
       "    }\n",
       "\n",
       "    .dataframe thead th {\n",
       "        text-align: right;\n",
       "    }\n",
       "</style>\n",
       "<table border=\"1\" class=\"dataframe\">\n",
       "  <thead>\n",
       "    <tr style=\"text-align: right;\">\n",
       "      <th></th>\n",
       "      <th>date</th>\n",
       "      <th>item_cnt_day</th>\n",
       "    </tr>\n",
       "  </thead>\n",
       "  <tbody>\n",
       "    <tr>\n",
       "      <th>1953995</th>\n",
       "      <td>2014-09-21</td>\n",
       "      <td>1.0</td>\n",
       "    </tr>\n",
       "    <tr>\n",
       "      <th>2150561</th>\n",
       "      <td>2014-11-29</td>\n",
       "      <td>1.0</td>\n",
       "    </tr>\n",
       "    <tr>\n",
       "      <th>2288630</th>\n",
       "      <td>2014-12-28</td>\n",
       "      <td>1.0</td>\n",
       "    </tr>\n",
       "    <tr>\n",
       "      <th>2288631</th>\n",
       "      <td>2014-12-20</td>\n",
       "      <td>1.0</td>\n",
       "    </tr>\n",
       "    <tr>\n",
       "      <th>2335446</th>\n",
       "      <td>2015-01-02</td>\n",
       "      <td>1.0</td>\n",
       "    </tr>\n",
       "    <tr>\n",
       "      <th>2335447</th>\n",
       "      <td>2015-01-07</td>\n",
       "      <td>1.0</td>\n",
       "    </tr>\n",
       "    <tr>\n",
       "      <th>2618926</th>\n",
       "      <td>2015-05-29</td>\n",
       "      <td>1.0</td>\n",
       "    </tr>\n",
       "    <tr>\n",
       "      <th>2704068</th>\n",
       "      <td>2015-06-28</td>\n",
       "      <td>1.0</td>\n",
       "    </tr>\n",
       "    <tr>\n",
       "      <th>2719247</th>\n",
       "      <td>2015-07-05</td>\n",
       "      <td>1.0</td>\n",
       "    </tr>\n",
       "    <tr>\n",
       "      <th>2810661</th>\n",
       "      <td>2015-08-14</td>\n",
       "      <td>1.0</td>\n",
       "    </tr>\n",
       "    <tr>\n",
       "      <th>2810662</th>\n",
       "      <td>2015-08-20</td>\n",
       "      <td>1.0</td>\n",
       "    </tr>\n",
       "    <tr>\n",
       "      <th>2810663</th>\n",
       "      <td>2015-08-31</td>\n",
       "      <td>1.0</td>\n",
       "    </tr>\n",
       "    <tr>\n",
       "      <th>2860998</th>\n",
       "      <td>2015-09-05</td>\n",
       "      <td>1.0</td>\n",
       "    </tr>\n",
       "  </tbody>\n",
       "</table>\n",
       "</div>"
      ],
      "text/plain": [
       "              date  item_cnt_day\n",
       "1953995 2014-09-21           1.0\n",
       "2150561 2014-11-29           1.0\n",
       "2288630 2014-12-28           1.0\n",
       "2288631 2014-12-20           1.0\n",
       "2335446 2015-01-02           1.0\n",
       "2335447 2015-01-07           1.0\n",
       "2618926 2015-05-29           1.0\n",
       "2704068 2015-06-28           1.0\n",
       "2719247 2015-07-05           1.0\n",
       "2810661 2015-08-14           1.0\n",
       "2810662 2015-08-20           1.0\n",
       "2810663 2015-08-31           1.0\n",
       "2860998 2015-09-05           1.0"
      ]
     },
     "execution_count": 7,
     "metadata": {},
     "output_type": "execute_result"
    }
   ],
   "source": [
    "temp2=train[train['item_id']==5037][train['shop_id']==5][['date','item_cnt_day']]\n",
    "#Convert datetime type\n",
    "import datetime\n",
    "def str_to_datetime(s):\n",
    "    split=s.split('.')\n",
    "    d,m,y=int(split[0]),int(split[1]),int(split[2])\n",
    "    return datetime.datetime(year=y,month=m,day=d)\n",
    "temp2['date']=temp2['date'].apply(str_to_datetime).sort_values()\n",
    "temp2#Now proper format"
   ]
  },
  {
   "cell_type": "markdown",
   "id": "f622e1b5",
   "metadata": {
    "papermill": {
     "duration": 0.062299,
     "end_time": "2022-06-26T16:11:58.094051",
     "exception": false,
     "start_time": "2022-06-26T16:11:58.031752",
     "status": "completed"
    },
    "tags": []
   },
   "source": [
    "The aim is to predict the monthly sales of items in specific shops, given historical data. The sale counts are clipped between 0 and 20."
   ]
  },
  {
   "cell_type": "code",
   "execution_count": 8,
   "id": "41855b93",
   "metadata": {
    "execution": {
     "iopub.execute_input": "2022-06-26T16:11:58.216599Z",
     "iopub.status.busy": "2022-06-26T16:11:58.215722Z",
     "iopub.status.idle": "2022-06-26T16:11:58.227010Z",
     "shell.execute_reply": "2022-06-26T16:11:58.226396Z"
    },
    "papermill": {
     "duration": 0.073833,
     "end_time": "2022-06-26T16:11:58.229181",
     "exception": false,
     "start_time": "2022-06-26T16:11:58.155348",
     "status": "completed"
    },
    "tags": []
   },
   "outputs": [
    {
     "data": {
      "text/html": [
       "<div>\n",
       "<style scoped>\n",
       "    .dataframe tbody tr th:only-of-type {\n",
       "        vertical-align: middle;\n",
       "    }\n",
       "\n",
       "    .dataframe tbody tr th {\n",
       "        vertical-align: top;\n",
       "    }\n",
       "\n",
       "    .dataframe thead th {\n",
       "        text-align: right;\n",
       "    }\n",
       "</style>\n",
       "<table border=\"1\" class=\"dataframe\">\n",
       "  <thead>\n",
       "    <tr style=\"text-align: right;\">\n",
       "      <th></th>\n",
       "      <th>date</th>\n",
       "      <th>date_block_num</th>\n",
       "      <th>shop_id</th>\n",
       "      <th>item_id</th>\n",
       "      <th>item_price</th>\n",
       "      <th>item_cnt_day</th>\n",
       "    </tr>\n",
       "  </thead>\n",
       "  <tbody>\n",
       "    <tr>\n",
       "      <th>0</th>\n",
       "      <td>02.01.2013</td>\n",
       "      <td>0</td>\n",
       "      <td>59</td>\n",
       "      <td>22154</td>\n",
       "      <td>999.0</td>\n",
       "      <td>1.0</td>\n",
       "    </tr>\n",
       "    <tr>\n",
       "      <th>1</th>\n",
       "      <td>03.01.2013</td>\n",
       "      <td>0</td>\n",
       "      <td>25</td>\n",
       "      <td>2552</td>\n",
       "      <td>899.0</td>\n",
       "      <td>1.0</td>\n",
       "    </tr>\n",
       "    <tr>\n",
       "      <th>2</th>\n",
       "      <td>05.01.2013</td>\n",
       "      <td>0</td>\n",
       "      <td>25</td>\n",
       "      <td>2552</td>\n",
       "      <td>899.0</td>\n",
       "      <td>-1.0</td>\n",
       "    </tr>\n",
       "  </tbody>\n",
       "</table>\n",
       "</div>"
      ],
      "text/plain": [
       "         date  date_block_num  shop_id  item_id  item_price  item_cnt_day\n",
       "0  02.01.2013               0       59    22154       999.0           1.0\n",
       "1  03.01.2013               0       25     2552       899.0           1.0\n",
       "2  05.01.2013               0       25     2552       899.0          -1.0"
      ]
     },
     "execution_count": 8,
     "metadata": {},
     "output_type": "execute_result"
    }
   ],
   "source": [
    "train.head(3)"
   ]
  },
  {
   "cell_type": "code",
   "execution_count": 9,
   "id": "f3b5f4b4",
   "metadata": {
    "execution": {
     "iopub.execute_input": "2022-06-26T16:11:58.353437Z",
     "iopub.status.busy": "2022-06-26T16:11:58.352886Z",
     "iopub.status.idle": "2022-06-26T16:12:00.219198Z",
     "shell.execute_reply": "2022-06-26T16:12:00.218337Z"
    },
    "papermill": {
     "duration": 1.930319,
     "end_time": "2022-06-26T16:12:00.221368",
     "exception": false,
     "start_time": "2022-06-26T16:11:58.291049",
     "status": "completed"
    },
    "tags": []
   },
   "outputs": [
    {
     "data": {
      "text/plain": [
       "<AxesSubplot:xlabel='item_price'>"
      ]
     },
     "execution_count": 9,
     "metadata": {},
     "output_type": "execute_result"
    },
    {
     "data": {
      "image/png": "[encoded data removed]",
      "text/plain": [
       "<Figure size 576x432 with 1 Axes>"
      ]
     },
     "metadata": {
      "needs_background": "light"
     },
     "output_type": "display_data"
    }
   ],
   "source": [
    "import matplotlib.pyplot as plt\n",
    "import seaborn as sns\n",
    "f,ax=plt.subplots(figsize=(8,6))\n",
    "sns.boxplot(x=train['item_price'])"
   ]
  },
  {
   "cell_type": "code",
   "execution_count": 10,
   "id": "69e944b5",
   "metadata": {
    "execution": {
     "iopub.execute_input": "2022-06-26T16:12:00.348174Z",
     "iopub.status.busy": "2022-06-26T16:12:00.347918Z",
     "iopub.status.idle": "2022-06-26T16:12:01.170647Z",
     "shell.execute_reply": "2022-06-26T16:12:01.169632Z"
    },
    "papermill": {
     "duration": 0.88843,
     "end_time": "2022-06-26T16:12:01.172964",
     "exception": false,
     "start_time": "2022-06-26T16:12:00.284534",
     "status": "completed"
    },
    "tags": []
   },
   "outputs": [
    {
     "data": {
      "text/plain": [
       "<AxesSubplot:xlabel='item_cnt_day'>"
      ]
     },
     "execution_count": 10,
     "metadata": {},
     "output_type": "execute_result"
    },
    {
     "data": {
      "image/png": "[encoded data removed]",
      "text/plain": [
       "<Figure size 576x432 with 1 Axes>"
      ]
     },
     "metadata": {
      "needs_background": "light"
     },
     "output_type": "display_data"
    }
   ],
   "source": [
    "f,ax=plt.subplots(figsize=(8,6))\n",
    "sns.boxplot(x=train['item_cnt_day'])"
   ]
  },
  {
   "cell_type": "code",
   "execution_count": 11,
   "id": "37c9903d",
   "metadata": {
    "execution": {
     "iopub.execute_input": "2022-06-26T16:12:01.303463Z",
     "iopub.status.busy": "2022-06-26T16:12:01.302919Z",
     "iopub.status.idle": "2022-06-26T16:12:01.457872Z",
     "shell.execute_reply": "2022-06-26T16:12:01.457122Z"
    },
    "papermill": {
     "duration": 0.225348,
     "end_time": "2022-06-26T16:12:01.459909",
     "exception": false,
     "start_time": "2022-06-26T16:12:01.234561",
     "status": "completed"
    },
    "tags": []
   },
   "outputs": [],
   "source": [
    "train = train[(train.item_price < 250000 )& (train.item_cnt_day < 1000)]"
   ]
  },
  {
   "cell_type": "code",
   "execution_count": 12,
   "id": "e5e81e3c",
   "metadata": {
    "execution": {
     "iopub.execute_input": "2022-06-26T16:12:01.586405Z",
     "iopub.status.busy": "2022-06-26T16:12:01.585820Z",
     "iopub.status.idle": "2022-06-26T16:12:01.831957Z",
     "shell.execute_reply": "2022-06-26T16:12:01.831188Z"
    },
    "papermill": {
     "duration": 0.312531,
     "end_time": "2022-06-26T16:12:01.834183",
     "exception": false,
     "start_time": "2022-06-26T16:12:01.521652",
     "status": "completed"
    },
    "tags": []
   },
   "outputs": [],
   "source": [
    "train = train[train.item_price > 0].reset_index(drop = True)\n",
    "train.loc[train.item_cnt_day < 1, \"item_cnt_day\"] = 0"
   ]
  },
  {
   "cell_type": "code",
   "execution_count": 13,
   "id": "53efecca",
   "metadata": {
    "execution": {
     "iopub.execute_input": "2022-06-26T16:12:01.962672Z",
     "iopub.status.busy": "2022-06-26T16:12:01.962400Z",
     "iopub.status.idle": "2022-06-26T16:12:01.976017Z",
     "shell.execute_reply": "2022-06-26T16:12:01.975128Z"
    },
    "papermill": {
     "duration": 0.078343,
     "end_time": "2022-06-26T16:12:01.977859",
     "exception": false,
     "start_time": "2022-06-26T16:12:01.899516",
     "status": "completed"
    },
    "tags": []
   },
   "outputs": [
    {
     "data": {
      "text/html": [
       "<div>\n",
       "<style scoped>\n",
       "    .dataframe tbody tr th:only-of-type {\n",
       "        vertical-align: middle;\n",
       "    }\n",
       "\n",
       "    .dataframe tbody tr th {\n",
       "        vertical-align: top;\n",
       "    }\n",
       "\n",
       "    .dataframe thead th {\n",
       "        text-align: right;\n",
       "    }\n",
       "</style>\n",
       "<table border=\"1\" class=\"dataframe\">\n",
       "  <thead>\n",
       "    <tr style=\"text-align: right;\">\n",
       "      <th></th>\n",
       "      <th>shop_name</th>\n",
       "      <th>shop_id</th>\n",
       "      <th>city</th>\n",
       "      <th>category</th>\n",
       "    </tr>\n",
       "  </thead>\n",
       "  <tbody>\n",
       "    <tr>\n",
       "      <th>0</th>\n",
       "      <td>!Якутск Орджоникидзе, 56 фран</td>\n",
       "      <td>0</td>\n",
       "      <td>!Якутск</td>\n",
       "      <td>Орджоникидзе,</td>\n",
       "    </tr>\n",
       "    <tr>\n",
       "      <th>1</th>\n",
       "      <td>!Якутск ТЦ \"Центральный\" фран</td>\n",
       "      <td>1</td>\n",
       "      <td>!Якутск</td>\n",
       "      <td>ТЦ</td>\n",
       "    </tr>\n",
       "    <tr>\n",
       "      <th>2</th>\n",
       "      <td>Адыгея ТЦ \"Мега\"</td>\n",
       "      <td>2</td>\n",
       "      <td>Адыгея</td>\n",
       "      <td>ТЦ</td>\n",
       "    </tr>\n",
       "  </tbody>\n",
       "</table>\n",
       "</div>"
      ],
      "text/plain": [
       "                       shop_name  shop_id     city       category\n",
       "0  !Якутск Орджоникидзе, 56 фран        0  !Якутск  Орджоникидзе,\n",
       "1  !Якутск ТЦ \"Центральный\" фран        1  !Якутск             ТЦ\n",
       "2               Адыгея ТЦ \"Мега\"        2   Адыгея             ТЦ"
      ]
     },
     "execution_count": 13,
     "metadata": {},
     "output_type": "execute_result"
    }
   ],
   "source": [
    "shops['city']=shops.shop_name.str.split(\" \").map(lambda x:x[0])\n",
    "shops['category']=shops.shop_name.str.split(\" \").map(lambda x:x[1])\n",
    "shops.head(3)"
   ]
  },
  {
   "cell_type": "code",
   "execution_count": 14,
   "id": "e6f63e1a",
   "metadata": {
    "execution": {
     "iopub.execute_input": "2022-06-26T16:12:02.105859Z",
     "iopub.status.busy": "2022-06-26T16:12:02.105305Z",
     "iopub.status.idle": "2022-06-26T16:12:02.123603Z",
     "shell.execute_reply": "2022-06-26T16:12:02.122416Z"
    },
    "papermill": {
     "duration": 0.085914,
     "end_time": "2022-06-26T16:12:02.125832",
     "exception": false,
     "start_time": "2022-06-26T16:12:02.039918",
     "status": "completed"
    },
    "tags": []
   },
   "outputs": [
    {
     "data": {
      "text/html": [
       "<div>\n",
       "<style scoped>\n",
       "    .dataframe tbody tr th:only-of-type {\n",
       "        vertical-align: middle;\n",
       "    }\n",
       "\n",
       "    .dataframe tbody tr th {\n",
       "        vertical-align: top;\n",
       "    }\n",
       "\n",
       "    .dataframe thead th {\n",
       "        text-align: right;\n",
       "    }\n",
       "</style>\n",
       "<table border=\"1\" class=\"dataframe\">\n",
       "  <thead>\n",
       "    <tr style=\"text-align: right;\">\n",
       "      <th></th>\n",
       "      <th>shop_name</th>\n",
       "      <th>shop_id</th>\n",
       "      <th>city</th>\n",
       "      <th>category</th>\n",
       "    </tr>\n",
       "  </thead>\n",
       "  <tbody>\n",
       "    <tr>\n",
       "      <th>0</th>\n",
       "      <td>!Якутск Орджоникидзе, 56 фран</td>\n",
       "      <td>0</td>\n",
       "      <td>!Якутск</td>\n",
       "      <td>others</td>\n",
       "    </tr>\n",
       "    <tr>\n",
       "      <th>1</th>\n",
       "      <td>!Якутск ТЦ \"Центральный\" фран</td>\n",
       "      <td>1</td>\n",
       "      <td>!Якутск</td>\n",
       "      <td>ТЦ</td>\n",
       "    </tr>\n",
       "    <tr>\n",
       "      <th>2</th>\n",
       "      <td>Адыгея ТЦ \"Мега\"</td>\n",
       "      <td>2</td>\n",
       "      <td>Адыгея</td>\n",
       "      <td>ТЦ</td>\n",
       "    </tr>\n",
       "  </tbody>\n",
       "</table>\n",
       "</div>"
      ],
      "text/plain": [
       "                       shop_name  shop_id     city category\n",
       "0  !Якутск Орджоникидзе, 56 фран        0  !Якутск   others\n",
       "1  !Якутск ТЦ \"Центральный\" фран        1  !Якутск       ТЦ\n",
       "2               Адыгея ТЦ \"Мега\"        2   Адыгея       ТЦ"
      ]
     },
     "execution_count": 14,
     "metadata": {},
     "output_type": "execute_result"
    }
   ],
   "source": [
    "category=[]\n",
    "for cat in shops['category'].unique():\n",
    "    if len(shops[shops['category']==cat])>=5:\n",
    "        category.append(cat)\n",
    "shops.category=shops.category.apply(lambda x: x if (x in category) else 'others')\n",
    "shops.head(3)"
   ]
  },
  {
   "cell_type": "code",
   "execution_count": 15,
   "id": "e1bd3a5c",
   "metadata": {
    "execution": {
     "iopub.execute_input": "2022-06-26T16:12:02.254275Z",
     "iopub.status.busy": "2022-06-26T16:12:02.254004Z",
     "iopub.status.idle": "2022-06-26T16:12:02.413699Z",
     "shell.execute_reply": "2022-06-26T16:12:02.412891Z"
    },
    "papermill": {
     "duration": 0.227139,
     "end_time": "2022-06-26T16:12:02.416092",
     "exception": false,
     "start_time": "2022-06-26T16:12:02.188953",
     "status": "completed"
    },
    "tags": []
   },
   "outputs": [],
   "source": [
    "from sklearn.preprocessing import LabelEncoder\n",
    "shops['category']=LabelEncoder().fit_transform(shops.category)\n",
    "shops['city']=LabelEncoder().fit_transform(shops.city)"
   ]
  },
  {
   "cell_type": "code",
   "execution_count": 16,
   "id": "eaf31444",
   "metadata": {
    "execution": {
     "iopub.execute_input": "2022-06-26T16:12:02.542621Z",
     "iopub.status.busy": "2022-06-26T16:12:02.542083Z",
     "iopub.status.idle": "2022-06-26T16:12:02.546743Z",
     "shell.execute_reply": "2022-06-26T16:12:02.546090Z"
    },
    "papermill": {
     "duration": 0.069688,
     "end_time": "2022-06-26T16:12:02.548736",
     "exception": false,
     "start_time": "2022-06-26T16:12:02.479048",
     "status": "completed"
    },
    "tags": []
   },
   "outputs": [],
   "source": [
    "shops=shops[['shop_id','city','category']]"
   ]
  },
  {
   "cell_type": "code",
   "execution_count": 17,
   "id": "86a07404",
   "metadata": {
    "execution": {
     "iopub.execute_input": "2022-06-26T16:12:02.675883Z",
     "iopub.status.busy": "2022-06-26T16:12:02.675364Z",
     "iopub.status.idle": "2022-06-26T16:12:02.680532Z",
     "shell.execute_reply": "2022-06-26T16:12:02.679873Z"
    },
    "papermill": {
     "duration": 0.071443,
     "end_time": "2022-06-26T16:12:02.682438",
     "exception": false,
     "start_time": "2022-06-26T16:12:02.610995",
     "status": "completed"
    },
    "tags": []
   },
   "outputs": [],
   "source": [
    "cats['type']=cats.item_category_name.apply(lambda x: x.split(' ')[0]).astype(str)"
   ]
  },
  {
   "cell_type": "code",
   "execution_count": 18,
   "id": "23c8e9fa",
   "metadata": {
    "execution": {
     "iopub.execute_input": "2022-06-26T16:12:02.808241Z",
     "iopub.status.busy": "2022-06-26T16:12:02.807716Z",
     "iopub.status.idle": "2022-06-26T16:12:02.823900Z",
     "shell.execute_reply": "2022-06-26T16:12:02.823145Z"
    },
    "papermill": {
     "duration": 0.081294,
     "end_time": "2022-06-26T16:12:02.825975",
     "exception": false,
     "start_time": "2022-06-26T16:12:02.744681",
     "status": "completed"
    },
    "tags": []
   },
   "outputs": [
    {
     "data": {
      "text/html": [
       "<div>\n",
       "<style scoped>\n",
       "    .dataframe tbody tr th:only-of-type {\n",
       "        vertical-align: middle;\n",
       "    }\n",
       "\n",
       "    .dataframe tbody tr th {\n",
       "        vertical-align: top;\n",
       "    }\n",
       "\n",
       "    .dataframe thead th {\n",
       "        text-align: right;\n",
       "    }\n",
       "</style>\n",
       "<table border=\"1\" class=\"dataframe\">\n",
       "  <thead>\n",
       "    <tr style=\"text-align: right;\">\n",
       "      <th></th>\n",
       "      <th>item_category_name</th>\n",
       "      <th>item_category_id</th>\n",
       "      <th>type</th>\n",
       "    </tr>\n",
       "  </thead>\n",
       "  <tbody>\n",
       "    <tr>\n",
       "      <th>0</th>\n",
       "      <td>PC - Гарнитуры/Наушники</td>\n",
       "      <td>0</td>\n",
       "      <td>others</td>\n",
       "    </tr>\n",
       "    <tr>\n",
       "      <th>1</th>\n",
       "      <td>Аксессуары - PS2</td>\n",
       "      <td>1</td>\n",
       "      <td>Аксессуары</td>\n",
       "    </tr>\n",
       "    <tr>\n",
       "      <th>2</th>\n",
       "      <td>Аксессуары - PS3</td>\n",
       "      <td>2</td>\n",
       "      <td>Аксессуары</td>\n",
       "    </tr>\n",
       "  </tbody>\n",
       "</table>\n",
       "</div>"
      ],
      "text/plain": [
       "        item_category_name  item_category_id        type\n",
       "0  PC - Гарнитуры/Наушники                 0      others\n",
       "1         Аксессуары - PS2                 1  Аксессуары\n",
       "2         Аксессуары - PS3                 2  Аксессуары"
      ]
     },
     "execution_count": 18,
     "metadata": {},
     "output_type": "execute_result"
    }
   ],
   "source": [
    "categ=[]\n",
    "for cat in cats.type.unique():\n",
    "    if len(cats[cats.type==cat])>=5:\n",
    "        categ.append(cat)\n",
    "cats.type=cats.type.apply(lambda x: x if (x in categ) else 'others')\n",
    "cats.head(3)"
   ]
  },
  {
   "cell_type": "code",
   "execution_count": 19,
   "id": "6953824f",
   "metadata": {
    "execution": {
     "iopub.execute_input": "2022-06-26T16:12:02.958698Z",
     "iopub.status.busy": "2022-06-26T16:12:02.958196Z",
     "iopub.status.idle": "2022-06-26T16:12:02.962609Z",
     "shell.execute_reply": "2022-06-26T16:12:02.961964Z"
    },
    "papermill": {
     "duration": 0.072839,
     "end_time": "2022-06-26T16:12:02.964455",
     "exception": false,
     "start_time": "2022-06-26T16:12:02.891616",
     "status": "completed"
    },
    "tags": []
   },
   "outputs": [],
   "source": [
    "cats['type_code']=LabelEncoder().fit_transform(cats.type)"
   ]
  },
  {
   "cell_type": "code",
   "execution_count": 20,
   "id": "15053abb",
   "metadata": {
    "execution": {
     "iopub.execute_input": "2022-06-26T16:12:03.092990Z",
     "iopub.status.busy": "2022-06-26T16:12:03.092477Z",
     "iopub.status.idle": "2022-06-26T16:12:03.098730Z",
     "shell.execute_reply": "2022-06-26T16:12:03.098091Z"
    },
    "papermill": {
     "duration": 0.072607,
     "end_time": "2022-06-26T16:12:03.100528",
     "exception": false,
     "start_time": "2022-06-26T16:12:03.027921",
     "status": "completed"
    },
    "tags": []
   },
   "outputs": [],
   "source": [
    "cats['split']=cats.item_category_name.apply(lambda x: x.split('-'))\n",
    "cats['sub_type']=cats.split.apply(lambda x: x[1].strip() if len(x)>1 else x[0].strip())"
   ]
  },
  {
   "cell_type": "code",
   "execution_count": 21,
   "id": "168c0582",
   "metadata": {
    "execution": {
     "iopub.execute_input": "2022-06-26T16:12:03.231339Z",
     "iopub.status.busy": "2022-06-26T16:12:03.230820Z",
     "iopub.status.idle": "2022-06-26T16:12:03.237185Z",
     "shell.execute_reply": "2022-06-26T16:12:03.236389Z"
    },
    "papermill": {
     "duration": 0.074887,
     "end_time": "2022-06-26T16:12:03.239250",
     "exception": false,
     "start_time": "2022-06-26T16:12:03.164363",
     "status": "completed"
    },
    "tags": []
   },
   "outputs": [],
   "source": [
    "cats['sub_type_code']=LabelEncoder().fit_transform(cats.sub_type)\n",
    "cats=cats[['item_category_id','type_code','sub_type_code']]"
   ]
  },
  {
   "cell_type": "code",
   "execution_count": 22,
   "id": "2df6c0bf",
   "metadata": {
    "execution": {
     "iopub.execute_input": "2022-06-26T16:12:03.367583Z",
     "iopub.status.busy": "2022-06-26T16:12:03.367087Z",
     "iopub.status.idle": "2022-06-26T16:12:03.375687Z",
     "shell.execute_reply": "2022-06-26T16:12:03.375121Z"
    },
    "papermill": {
     "duration": 0.075007,
     "end_time": "2022-06-26T16:12:03.377480",
     "exception": false,
     "start_time": "2022-06-26T16:12:03.302473",
     "status": "completed"
    },
    "tags": []
   },
   "outputs": [
    {
     "data": {
      "text/html": [
       "<div>\n",
       "<style scoped>\n",
       "    .dataframe tbody tr th:only-of-type {\n",
       "        vertical-align: middle;\n",
       "    }\n",
       "\n",
       "    .dataframe tbody tr th {\n",
       "        vertical-align: top;\n",
       "    }\n",
       "\n",
       "    .dataframe thead th {\n",
       "        text-align: right;\n",
       "    }\n",
       "</style>\n",
       "<table border=\"1\" class=\"dataframe\">\n",
       "  <thead>\n",
       "    <tr style=\"text-align: right;\">\n",
       "      <th></th>\n",
       "      <th>item_name</th>\n",
       "      <th>item_id</th>\n",
       "      <th>item_category_id</th>\n",
       "    </tr>\n",
       "  </thead>\n",
       "  <tbody>\n",
       "    <tr>\n",
       "      <th>0</th>\n",
       "      <td>! ВО ВЛАСТИ НАВАЖДЕНИЯ (ПЛАСТ.)         D</td>\n",
       "      <td>0</td>\n",
       "      <td>40</td>\n",
       "    </tr>\n",
       "    <tr>\n",
       "      <th>1</th>\n",
       "      <td>!ABBYY FineReader 12 Professional Edition Full...</td>\n",
       "      <td>1</td>\n",
       "      <td>76</td>\n",
       "    </tr>\n",
       "    <tr>\n",
       "      <th>2</th>\n",
       "      <td>***В ЛУЧАХ СЛАВЫ   (UNV)                    D</td>\n",
       "      <td>2</td>\n",
       "      <td>40</td>\n",
       "    </tr>\n",
       "    <tr>\n",
       "      <th>3</th>\n",
       "      <td>***ГОЛУБАЯ ВОЛНА  (Univ)                      D</td>\n",
       "      <td>3</td>\n",
       "      <td>40</td>\n",
       "    </tr>\n",
       "    <tr>\n",
       "      <th>4</th>\n",
       "      <td>***КОРОБКА (СТЕКЛО)                       D</td>\n",
       "      <td>4</td>\n",
       "      <td>40</td>\n",
       "    </tr>\n",
       "    <tr>\n",
       "      <th>5</th>\n",
       "      <td>***НОВЫЕ АМЕРИКАНСКИЕ ГРАФФИТИ  (UNI)         ...</td>\n",
       "      <td>5</td>\n",
       "      <td>40</td>\n",
       "    </tr>\n",
       "    <tr>\n",
       "      <th>6</th>\n",
       "      <td>***УДАР ПО ВОРОТАМ (UNI)               D</td>\n",
       "      <td>6</td>\n",
       "      <td>40</td>\n",
       "    </tr>\n",
       "    <tr>\n",
       "      <th>7</th>\n",
       "      <td>***УДАР ПО ВОРОТАМ-2 (UNI)               D</td>\n",
       "      <td>7</td>\n",
       "      <td>40</td>\n",
       "    </tr>\n",
       "    <tr>\n",
       "      <th>8</th>\n",
       "      <td>***ЧАЙ С МУССОЛИНИ                     D</td>\n",
       "      <td>8</td>\n",
       "      <td>40</td>\n",
       "    </tr>\n",
       "    <tr>\n",
       "      <th>9</th>\n",
       "      <td>***ШУГАРЛЭНДСКИЙ ЭКСПРЕСС (UNI)             D</td>\n",
       "      <td>9</td>\n",
       "      <td>40</td>\n",
       "    </tr>\n",
       "  </tbody>\n",
       "</table>\n",
       "</div>"
      ],
      "text/plain": [
       "                                           item_name  item_id  \\\n",
       "0          ! ВО ВЛАСТИ НАВАЖДЕНИЯ (ПЛАСТ.)         D        0   \n",
       "1  !ABBYY FineReader 12 Professional Edition Full...        1   \n",
       "2      ***В ЛУЧАХ СЛАВЫ   (UNV)                    D        2   \n",
       "3    ***ГОЛУБАЯ ВОЛНА  (Univ)                      D        3   \n",
       "4        ***КОРОБКА (СТЕКЛО)                       D        4   \n",
       "5  ***НОВЫЕ АМЕРИКАНСКИЕ ГРАФФИТИ  (UNI)         ...        5   \n",
       "6           ***УДАР ПО ВОРОТАМ (UNI)               D        6   \n",
       "7         ***УДАР ПО ВОРОТАМ-2 (UNI)               D        7   \n",
       "8           ***ЧАЙ С МУССОЛИНИ                     D        8   \n",
       "9      ***ШУГАРЛЭНДСКИЙ ЭКСПРЕСС (UNI)             D        9   \n",
       "\n",
       "   item_category_id  \n",
       "0                40  \n",
       "1                76  \n",
       "2                40  \n",
       "3                40  \n",
       "4                40  \n",
       "5                40  \n",
       "6                40  \n",
       "7                40  \n",
       "8                40  \n",
       "9                40  "
      ]
     },
     "execution_count": 22,
     "metadata": {},
     "output_type": "execute_result"
    }
   ],
   "source": [
    "items.head(10)"
   ]
  },
  {
   "cell_type": "code",
   "execution_count": 23,
   "id": "0aa69fe9",
   "metadata": {
    "execution": {
     "iopub.execute_input": "2022-06-26T16:12:03.505971Z",
     "iopub.status.busy": "2022-06-26T16:12:03.505425Z",
     "iopub.status.idle": "2022-06-26T16:12:03.510298Z",
     "shell.execute_reply": "2022-06-26T16:12:03.509632Z"
    },
    "papermill": {
     "duration": 0.07069,
     "end_time": "2022-06-26T16:12:03.512297",
     "exception": false,
     "start_time": "2022-06-26T16:12:03.441607",
     "status": "completed"
    },
    "tags": []
   },
   "outputs": [],
   "source": [
    "items.drop(['item_name'],inplace=True,axis=1)"
   ]
  },
  {
   "cell_type": "code",
   "execution_count": 24,
   "id": "e7ffa1bb",
   "metadata": {
    "execution": {
     "iopub.execute_input": "2022-06-26T16:12:03.639950Z",
     "iopub.status.busy": "2022-06-26T16:12:03.639417Z",
     "iopub.status.idle": "2022-06-26T16:12:03.642705Z",
     "shell.execute_reply": "2022-06-26T16:12:03.642126Z"
    },
    "papermill": {
     "duration": 0.069266,
     "end_time": "2022-06-26T16:12:03.644594",
     "exception": false,
     "start_time": "2022-06-26T16:12:03.575328",
     "status": "completed"
    },
    "tags": []
   },
   "outputs": [],
   "source": [
    "#import re\n",
    "#def name_correction(x):\n",
    "#    x = x.lower() # all letters lower case\n",
    "#    x = x.partition('[')[0] # partition by square brackets\n",
    "#    x = x.partition('(')[0] # partition by curly brackets\n",
    "#    x = re.sub('[^A-Za-z0-9А-Яа-я]+', ' ', x) # remove special characters\n",
    "#    x = x.replace('  ', ' ') # replace double spaces with single spaces\n",
    "#    x = x.strip() # remove leading and trailing white space\n",
    "#    return x"
   ]
  },
  {
   "cell_type": "code",
   "execution_count": 25,
   "id": "5eb76e85",
   "metadata": {
    "execution": {
     "iopub.execute_input": "2022-06-26T16:12:03.772583Z",
     "iopub.status.busy": "2022-06-26T16:12:03.772025Z",
     "iopub.status.idle": "2022-06-26T16:12:03.775166Z",
     "shell.execute_reply": "2022-06-26T16:12:03.774653Z"
    },
    "papermill": {
     "duration": 0.068851,
     "end_time": "2022-06-26T16:12:03.777022",
     "exception": false,
     "start_time": "2022-06-26T16:12:03.708171",
     "status": "completed"
    },
    "tags": []
   },
   "outputs": [],
   "source": [
    "# split item names by first bracket\n",
    "#items[\"name1\"], items[\"name2\"] = items.item_name.str.split(\"[\", 1).str\n",
    "#items[\"name1\"], items[\"name3\"] = items.item_name.str.split(\"(\", 1).str\n",
    "\n",
    "# replace special characters and turn to lower case\n",
    "#items[\"name2\"] = items.name2.str.replace('[^A-Za-z0-9А-Яа-я]+', \" \").str.lower()\n",
    "#items[\"name3\"] = items.name3.str.replace('[^A-Za-z0-9А-Яа-я]+', \" \").str.lower()\n",
    "#items = items.fillna('0')"
   ]
  },
  {
   "cell_type": "code",
   "execution_count": 26,
   "id": "44b68a78",
   "metadata": {
    "execution": {
     "iopub.execute_input": "2022-06-26T16:12:03.911822Z",
     "iopub.status.busy": "2022-06-26T16:12:03.911517Z",
     "iopub.status.idle": "2022-06-26T16:12:03.919059Z",
     "shell.execute_reply": "2022-06-26T16:12:03.918498Z"
    },
    "papermill": {
     "duration": 0.080183,
     "end_time": "2022-06-26T16:12:03.920954",
     "exception": false,
     "start_time": "2022-06-26T16:12:03.840771",
     "status": "completed"
    },
    "tags": []
   },
   "outputs": [
    {
     "data": {
      "text/html": [
       "<div>\n",
       "<style scoped>\n",
       "    .dataframe tbody tr th:only-of-type {\n",
       "        vertical-align: middle;\n",
       "    }\n",
       "\n",
       "    .dataframe tbody tr th {\n",
       "        vertical-align: top;\n",
       "    }\n",
       "\n",
       "    .dataframe thead th {\n",
       "        text-align: right;\n",
       "    }\n",
       "</style>\n",
       "<table border=\"1\" class=\"dataframe\">\n",
       "  <thead>\n",
       "    <tr style=\"text-align: right;\">\n",
       "      <th></th>\n",
       "      <th>item_id</th>\n",
       "      <th>item_category_id</th>\n",
       "    </tr>\n",
       "  </thead>\n",
       "  <tbody>\n",
       "    <tr>\n",
       "      <th>0</th>\n",
       "      <td>0</td>\n",
       "      <td>40</td>\n",
       "    </tr>\n",
       "    <tr>\n",
       "      <th>1</th>\n",
       "      <td>1</td>\n",
       "      <td>76</td>\n",
       "    </tr>\n",
       "    <tr>\n",
       "      <th>2</th>\n",
       "      <td>2</td>\n",
       "      <td>40</td>\n",
       "    </tr>\n",
       "  </tbody>\n",
       "</table>\n",
       "</div>"
      ],
      "text/plain": [
       "   item_id  item_category_id\n",
       "0        0                40\n",
       "1        1                76\n",
       "2        2                40"
      ]
     },
     "execution_count": 26,
     "metadata": {},
     "output_type": "execute_result"
    }
   ],
   "source": [
    "#items[\"item_name\"] = items[\"item_name\"].apply(lambda x: name_correction(x))\n",
    "items.head(3)"
   ]
  },
  {
   "cell_type": "code",
   "execution_count": 27,
   "id": "1fb6fff0",
   "metadata": {
    "execution": {
     "iopub.execute_input": "2022-06-26T16:12:04.051608Z",
     "iopub.status.busy": "2022-06-26T16:12:04.051101Z",
     "iopub.status.idle": "2022-06-26T16:12:04.054156Z",
     "shell.execute_reply": "2022-06-26T16:12:04.053668Z"
    },
    "papermill": {
     "duration": 0.070235,
     "end_time": "2022-06-26T16:12:04.055730",
     "exception": false,
     "start_time": "2022-06-26T16:12:03.985495",
     "status": "completed"
    },
    "tags": []
   },
   "outputs": [],
   "source": [
    "#items[\"type\"] = items.name2.apply(lambda x: x[0:8] if x.split(\" \")[0] == \"xbox\" else x.split(\" \")[0] )\n",
    "#items.loc[(items.type == \"x360\") | (items.type == \"xbox360\") | (items.type == \"xbox 360\") ,\"type\"] = \"xbox 360\"\n",
    "#items.loc[ items.type == \"\", \"type\"] = \"mac\"\n",
    "#items.type = items.type.apply( lambda x: x.replace(\" \", \"\") )\n",
    "#items.loc[ (items.type == 'pc' )| (items.type == 'pс') | (items.type == \"pc\"), \"type\" ] = \"pc\"\n",
    "#items.loc[ items.type == 'рs3' , \"type\"] = \"ps3\"\n"
   ]
  },
  {
   "cell_type": "code",
   "execution_count": 28,
   "id": "88954d8a",
   "metadata": {
    "execution": {
     "iopub.execute_input": "2022-06-26T16:12:04.184699Z",
     "iopub.status.busy": "2022-06-26T16:12:04.184426Z",
     "iopub.status.idle": "2022-06-26T16:12:04.187674Z",
     "shell.execute_reply": "2022-06-26T16:12:04.187122Z"
    },
    "papermill": {
     "duration": 0.070454,
     "end_time": "2022-06-26T16:12:04.189353",
     "exception": false,
     "start_time": "2022-06-26T16:12:04.118899",
     "status": "completed"
    },
    "tags": []
   },
   "outputs": [],
   "source": [
    "#group_sum = items.groupby([\"type\"]).agg({\"item_id\": \"count\"})\n",
    "#group_sum = group_sum.reset_index()\n",
    "#drop_cols = []\n",
    "#for cat in group_sum.type.unique():\n",
    "#    if group_sum.loc[(group_sum.type == cat), \"item_id\"].values[0] <40:\n",
    "#        drop_cols.append(cat)\n",
    "#items.name2 = items.name2.apply( lambda x: \"other\" if (x in drop_cols) else x )\n",
    "#items = items.drop([\"type\"], axis = 1)\n"
   ]
  },
  {
   "cell_type": "code",
   "execution_count": 29,
   "id": "636b45ce",
   "metadata": {
    "execution": {
     "iopub.execute_input": "2022-06-26T16:12:04.319724Z",
     "iopub.status.busy": "2022-06-26T16:12:04.319093Z",
     "iopub.status.idle": "2022-06-26T16:12:04.322371Z",
     "shell.execute_reply": "2022-06-26T16:12:04.321785Z"
    },
    "papermill": {
     "duration": 0.071519,
     "end_time": "2022-06-26T16:12:04.324131",
     "exception": false,
     "start_time": "2022-06-26T16:12:04.252612",
     "status": "completed"
    },
    "tags": []
   },
   "outputs": [],
   "source": [
    "#items.name2 = LabelEncoder().fit_transform(items.name2)\n",
    "#items.name3 = LabelEncoder().fit_transform(items.name3)\n",
    "\n",
    "#items.drop([\"item_name\", \"name1\"],axis = 1, inplace= True)\n",
    "#items.head()"
   ]
  },
  {
   "cell_type": "code",
   "execution_count": 30,
   "id": "fa332875",
   "metadata": {
    "execution": {
     "iopub.execute_input": "2022-06-26T16:12:04.456372Z",
     "iopub.status.busy": "2022-06-26T16:12:04.455833Z",
     "iopub.status.idle": "2022-06-26T16:12:04.466423Z",
     "shell.execute_reply": "2022-06-26T16:12:04.465714Z"
    },
    "papermill": {
     "duration": 0.079033,
     "end_time": "2022-06-26T16:12:04.468344",
     "exception": false,
     "start_time": "2022-06-26T16:12:04.389311",
     "status": "completed"
    },
    "tags": []
   },
   "outputs": [
    {
     "data": {
      "text/html": [
       "<div>\n",
       "<style scoped>\n",
       "    .dataframe tbody tr th:only-of-type {\n",
       "        vertical-align: middle;\n",
       "    }\n",
       "\n",
       "    .dataframe tbody tr th {\n",
       "        vertical-align: top;\n",
       "    }\n",
       "\n",
       "    .dataframe thead th {\n",
       "        text-align: right;\n",
       "    }\n",
       "</style>\n",
       "<table border=\"1\" class=\"dataframe\">\n",
       "  <thead>\n",
       "    <tr style=\"text-align: right;\">\n",
       "      <th></th>\n",
       "      <th>date</th>\n",
       "      <th>date_block_num</th>\n",
       "      <th>shop_id</th>\n",
       "      <th>item_id</th>\n",
       "      <th>item_price</th>\n",
       "      <th>item_cnt_day</th>\n",
       "    </tr>\n",
       "  </thead>\n",
       "  <tbody>\n",
       "    <tr>\n",
       "      <th>0</th>\n",
       "      <td>02.01.2013</td>\n",
       "      <td>0</td>\n",
       "      <td>59</td>\n",
       "      <td>22154</td>\n",
       "      <td>999.0</td>\n",
       "      <td>1.0</td>\n",
       "    </tr>\n",
       "    <tr>\n",
       "      <th>1</th>\n",
       "      <td>03.01.2013</td>\n",
       "      <td>0</td>\n",
       "      <td>25</td>\n",
       "      <td>2552</td>\n",
       "      <td>899.0</td>\n",
       "      <td>1.0</td>\n",
       "    </tr>\n",
       "    <tr>\n",
       "      <th>2</th>\n",
       "      <td>05.01.2013</td>\n",
       "      <td>0</td>\n",
       "      <td>25</td>\n",
       "      <td>2552</td>\n",
       "      <td>899.0</td>\n",
       "      <td>0.0</td>\n",
       "    </tr>\n",
       "  </tbody>\n",
       "</table>\n",
       "</div>"
      ],
      "text/plain": [
       "         date  date_block_num  shop_id  item_id  item_price  item_cnt_day\n",
       "0  02.01.2013               0       59    22154       999.0           1.0\n",
       "1  03.01.2013               0       25     2552       899.0           1.0\n",
       "2  05.01.2013               0       25     2552       899.0           0.0"
      ]
     },
     "execution_count": 30,
     "metadata": {},
     "output_type": "execute_result"
    }
   ],
   "source": [
    "train.head(3)"
   ]
  },
  {
   "cell_type": "code",
   "execution_count": 31,
   "id": "9ef30696",
   "metadata": {
    "execution": {
     "iopub.execute_input": "2022-06-26T16:12:04.597688Z",
     "iopub.status.busy": "2022-06-26T16:12:04.597125Z",
     "iopub.status.idle": "2022-06-26T16:12:04.619757Z",
     "shell.execute_reply": "2022-06-26T16:12:04.618987Z"
    },
    "papermill": {
     "duration": 0.089233,
     "end_time": "2022-06-26T16:12:04.621725",
     "exception": false,
     "start_time": "2022-06-26T16:12:04.532492",
     "status": "completed"
    },
    "tags": []
   },
   "outputs": [
    {
     "data": {
      "text/plain": [
       "34"
      ]
     },
     "execution_count": 31,
     "metadata": {},
     "output_type": "execute_result"
    }
   ],
   "source": [
    "train.date_block_num.nunique()"
   ]
  },
  {
   "cell_type": "code",
   "execution_count": 32,
   "id": "8926bac9",
   "metadata": {
    "execution": {
     "iopub.execute_input": "2022-06-26T16:12:04.752363Z",
     "iopub.status.busy": "2022-06-26T16:12:04.751811Z",
     "iopub.status.idle": "2022-06-26T16:12:12.637716Z",
     "shell.execute_reply": "2022-06-26T16:12:12.636819Z"
    },
    "papermill": {
     "duration": 7.953579,
     "end_time": "2022-06-26T16:12:12.639932",
     "exception": false,
     "start_time": "2022-06-26T16:12:04.686353",
     "status": "completed"
    },
    "tags": []
   },
   "outputs": [
    {
     "data": {
      "text/html": [
       "<div>\n",
       "<style scoped>\n",
       "    .dataframe tbody tr th:only-of-type {\n",
       "        vertical-align: middle;\n",
       "    }\n",
       "\n",
       "    .dataframe tbody tr th {\n",
       "        vertical-align: top;\n",
       "    }\n",
       "\n",
       "    .dataframe thead th {\n",
       "        text-align: right;\n",
       "    }\n",
       "</style>\n",
       "<table border=\"1\" class=\"dataframe\">\n",
       "  <thead>\n",
       "    <tr style=\"text-align: right;\">\n",
       "      <th></th>\n",
       "      <th>date_block_num</th>\n",
       "      <th>shop_id</th>\n",
       "      <th>item_id</th>\n",
       "    </tr>\n",
       "  </thead>\n",
       "  <tbody>\n",
       "    <tr>\n",
       "      <th>0</th>\n",
       "      <td>0</td>\n",
       "      <td>59</td>\n",
       "      <td>22154</td>\n",
       "    </tr>\n",
       "    <tr>\n",
       "      <th>1</th>\n",
       "      <td>0</td>\n",
       "      <td>59</td>\n",
       "      <td>2552</td>\n",
       "    </tr>\n",
       "    <tr>\n",
       "      <th>2</th>\n",
       "      <td>0</td>\n",
       "      <td>59</td>\n",
       "      <td>2554</td>\n",
       "    </tr>\n",
       "  </tbody>\n",
       "</table>\n",
       "</div>"
      ],
      "text/plain": [
       "   date_block_num  shop_id  item_id\n",
       "0               0       59    22154\n",
       "1               0       59     2552\n",
       "2               0       59     2554"
      ]
     },
     "execution_count": 32,
     "metadata": {},
     "output_type": "execute_result"
    }
   ],
   "source": [
    "from itertools import product\n",
    "matrix=[]\n",
    "cols  = [\"date_block_num\", \"shop_id\", \"item_id\"]\n",
    "for i in range(34):\n",
    "    sales=train[train.date_block_num==i]\n",
    "    matrix.append(np.array(list(product( [i], sales.shop_id.unique(), sales.item_id.unique()))))\n",
    "matrix=pd.DataFrame(np.vstack(matrix),columns=cols)\n",
    "matrix.head(3)"
   ]
  },
  {
   "cell_type": "code",
   "execution_count": 33,
   "id": "c494ed04",
   "metadata": {
    "execution": {
     "iopub.execute_input": "2022-06-26T16:12:12.773129Z",
     "iopub.status.busy": "2022-06-26T16:12:12.772484Z",
     "iopub.status.idle": "2022-06-26T16:12:17.804838Z",
     "shell.execute_reply": "2022-06-26T16:12:17.803806Z"
    },
    "papermill": {
     "duration": 5.101578,
     "end_time": "2022-06-26T16:12:17.807216",
     "exception": false,
     "start_time": "2022-06-26T16:12:12.705638",
     "status": "completed"
    },
    "tags": []
   },
   "outputs": [],
   "source": [
    "matrix['date_block_num']=matrix['date_block_num'].astype(int)\n",
    "matrix['shop_id']=matrix['shop_id'].astype(np.int8)\n",
    "matrix['item_id']=matrix['item_id'].astype(np.int16)\n",
    "matrix.sort_values(cols,inplace=True)\n"
   ]
  },
  {
   "cell_type": "code",
   "execution_count": 34,
   "id": "55c2de37",
   "metadata": {
    "execution": {
     "iopub.execute_input": "2022-06-26T16:12:17.939571Z",
     "iopub.status.busy": "2022-06-26T16:12:17.939066Z",
     "iopub.status.idle": "2022-06-26T16:12:17.954968Z",
     "shell.execute_reply": "2022-06-26T16:12:17.954158Z"
    },
    "papermill": {
     "duration": 0.083924,
     "end_time": "2022-06-26T16:12:17.957150",
     "exception": false,
     "start_time": "2022-06-26T16:12:17.873226",
     "status": "completed"
    },
    "tags": []
   },
   "outputs": [],
   "source": [
    "train['revenue']=train['item_cnt_day']*train['item_price']"
   ]
  },
  {
   "cell_type": "code",
   "execution_count": 35,
   "id": "b2fa9fc5",
   "metadata": {
    "execution": {
     "iopub.execute_input": "2022-06-26T16:12:18.092645Z",
     "iopub.status.busy": "2022-06-26T16:12:18.092079Z",
     "iopub.status.idle": "2022-06-26T16:12:18.795168Z",
     "shell.execute_reply": "2022-06-26T16:12:18.794297Z"
    },
    "papermill": {
     "duration": 0.772013,
     "end_time": "2022-06-26T16:12:18.797504",
     "exception": false,
     "start_time": "2022-06-26T16:12:18.025491",
     "status": "completed"
    },
    "tags": []
   },
   "outputs": [
    {
     "data": {
      "text/html": [
       "<div>\n",
       "<style scoped>\n",
       "    .dataframe tbody tr th:only-of-type {\n",
       "        vertical-align: middle;\n",
       "    }\n",
       "\n",
       "    .dataframe tbody tr th {\n",
       "        vertical-align: top;\n",
       "    }\n",
       "\n",
       "    .dataframe thead th {\n",
       "        text-align: right;\n",
       "    }\n",
       "</style>\n",
       "<table border=\"1\" class=\"dataframe\">\n",
       "  <thead>\n",
       "    <tr style=\"text-align: right;\">\n",
       "      <th></th>\n",
       "      <th>date_block_num</th>\n",
       "      <th>shop_id</th>\n",
       "      <th>item_id</th>\n",
       "      <th>item_cnt_month</th>\n",
       "    </tr>\n",
       "  </thead>\n",
       "  <tbody>\n",
       "    <tr>\n",
       "      <th>0</th>\n",
       "      <td>0</td>\n",
       "      <td>0</td>\n",
       "      <td>32</td>\n",
       "      <td>6.0</td>\n",
       "    </tr>\n",
       "    <tr>\n",
       "      <th>1</th>\n",
       "      <td>0</td>\n",
       "      <td>0</td>\n",
       "      <td>33</td>\n",
       "      <td>3.0</td>\n",
       "    </tr>\n",
       "    <tr>\n",
       "      <th>2</th>\n",
       "      <td>0</td>\n",
       "      <td>0</td>\n",
       "      <td>35</td>\n",
       "      <td>1.0</td>\n",
       "    </tr>\n",
       "    <tr>\n",
       "      <th>3</th>\n",
       "      <td>0</td>\n",
       "      <td>0</td>\n",
       "      <td>43</td>\n",
       "      <td>1.0</td>\n",
       "    </tr>\n",
       "    <tr>\n",
       "      <th>4</th>\n",
       "      <td>0</td>\n",
       "      <td>0</td>\n",
       "      <td>51</td>\n",
       "      <td>2.0</td>\n",
       "    </tr>\n",
       "    <tr>\n",
       "      <th>...</th>\n",
       "      <td>...</td>\n",
       "      <td>...</td>\n",
       "      <td>...</td>\n",
       "      <td>...</td>\n",
       "    </tr>\n",
       "    <tr>\n",
       "      <th>1609117</th>\n",
       "      <td>33</td>\n",
       "      <td>59</td>\n",
       "      <td>22087</td>\n",
       "      <td>6.0</td>\n",
       "    </tr>\n",
       "    <tr>\n",
       "      <th>1609118</th>\n",
       "      <td>33</td>\n",
       "      <td>59</td>\n",
       "      <td>22088</td>\n",
       "      <td>2.0</td>\n",
       "    </tr>\n",
       "    <tr>\n",
       "      <th>1609119</th>\n",
       "      <td>33</td>\n",
       "      <td>59</td>\n",
       "      <td>22091</td>\n",
       "      <td>1.0</td>\n",
       "    </tr>\n",
       "    <tr>\n",
       "      <th>1609120</th>\n",
       "      <td>33</td>\n",
       "      <td>59</td>\n",
       "      <td>22100</td>\n",
       "      <td>1.0</td>\n",
       "    </tr>\n",
       "    <tr>\n",
       "      <th>1609121</th>\n",
       "      <td>33</td>\n",
       "      <td>59</td>\n",
       "      <td>22102</td>\n",
       "      <td>1.0</td>\n",
       "    </tr>\n",
       "  </tbody>\n",
       "</table>\n",
       "<p>1609122 rows × 4 columns</p>\n",
       "</div>"
      ],
      "text/plain": [
       "         date_block_num  shop_id  item_id  item_cnt_month\n",
       "0                     0        0       32             6.0\n",
       "1                     0        0       33             3.0\n",
       "2                     0        0       35             1.0\n",
       "3                     0        0       43             1.0\n",
       "4                     0        0       51             2.0\n",
       "...                 ...      ...      ...             ...\n",
       "1609117              33       59    22087             6.0\n",
       "1609118              33       59    22088             2.0\n",
       "1609119              33       59    22091             1.0\n",
       "1609120              33       59    22100             1.0\n",
       "1609121              33       59    22102             1.0\n",
       "\n",
       "[1609122 rows x 4 columns]"
      ]
     },
     "execution_count": 35,
     "metadata": {},
     "output_type": "execute_result"
    }
   ],
   "source": [
    "group=train.groupby(cols).agg({'item_cnt_day':['sum']})\n",
    "group.columns=['item_cnt_month']\n",
    "group.reset_index(inplace=True)\n",
    "group"
   ]
  },
  {
   "cell_type": "code",
   "execution_count": 36,
   "id": "4eb37369",
   "metadata": {
    "execution": {
     "iopub.execute_input": "2022-06-26T16:12:18.930455Z",
     "iopub.status.busy": "2022-06-26T16:12:18.929604Z",
     "iopub.status.idle": "2022-06-26T16:12:23.401353Z",
     "shell.execute_reply": "2022-06-26T16:12:23.400432Z"
    },
    "papermill": {
     "duration": 4.540592,
     "end_time": "2022-06-26T16:12:23.404152",
     "exception": false,
     "start_time": "2022-06-26T16:12:18.863560",
     "status": "completed"
    },
    "tags": []
   },
   "outputs": [],
   "source": [
    "matrix=pd.merge(matrix,group,on=cols,how='left')\n",
    "matrix['item_cnt_month']=matrix['item_cnt_month'].fillna(0).astype(np.float16)"
   ]
  },
  {
   "cell_type": "code",
   "execution_count": 37,
   "id": "1fbcb66b",
   "metadata": {
    "execution": {
     "iopub.execute_input": "2022-06-26T16:12:23.539435Z",
     "iopub.status.busy": "2022-06-26T16:12:23.538544Z",
     "iopub.status.idle": "2022-06-26T16:12:23.548009Z",
     "shell.execute_reply": "2022-06-26T16:12:23.547351Z"
    },
    "papermill": {
     "duration": 0.079943,
     "end_time": "2022-06-26T16:12:23.550207",
     "exception": false,
     "start_time": "2022-06-26T16:12:23.470264",
     "status": "completed"
    },
    "tags": []
   },
   "outputs": [],
   "source": [
    "test['date_block_num']=34\n",
    "test[\"date_block_num\"] = test[\"date_block_num\"].astype(np.int8)\n",
    "test['shop_id']=test['shop_id'].astype(np.int8)\n",
    "test['item_id']=test['item_id'].astype(np.int16)"
   ]
  },
  {
   "cell_type": "code",
   "execution_count": 38,
   "id": "fa15c888",
   "metadata": {
    "execution": {
     "iopub.execute_input": "2022-06-26T16:12:23.684928Z",
     "iopub.status.busy": "2022-06-26T16:12:23.684374Z",
     "iopub.status.idle": "2022-06-26T16:12:23.690952Z",
     "shell.execute_reply": "2022-06-26T16:12:23.690014Z"
    },
    "papermill": {
     "duration": 0.076692,
     "end_time": "2022-06-26T16:12:23.693126",
     "exception": false,
     "start_time": "2022-06-26T16:12:23.616434",
     "status": "completed"
    },
    "tags": []
   },
   "outputs": [],
   "source": [
    "test.drop('ID',inplace=True,axis=1)"
   ]
  },
  {
   "cell_type": "code",
   "execution_count": 39,
   "id": "c711f799",
   "metadata": {
    "execution": {
     "iopub.execute_input": "2022-06-26T16:12:23.827902Z",
     "iopub.status.busy": "2022-06-26T16:12:23.827598Z",
     "iopub.status.idle": "2022-06-26T16:12:23.833001Z",
     "shell.execute_reply": "2022-06-26T16:12:23.832312Z"
    },
    "papermill": {
     "duration": 0.074023,
     "end_time": "2022-06-26T16:12:23.834945",
     "exception": false,
     "start_time": "2022-06-26T16:12:23.760922",
     "status": "completed"
    },
    "tags": []
   },
   "outputs": [
    {
     "data": {
      "text/plain": [
       "(214200, 3)"
      ]
     },
     "execution_count": 39,
     "metadata": {},
     "output_type": "execute_result"
    }
   ],
   "source": [
    "test.shape"
   ]
  },
  {
   "cell_type": "code",
   "execution_count": 40,
   "id": "3474037d",
   "metadata": {
    "execution": {
     "iopub.execute_input": "2022-06-26T16:12:23.970597Z",
     "iopub.status.busy": "2022-06-26T16:12:23.970326Z",
     "iopub.status.idle": "2022-06-26T16:12:24.091629Z",
     "shell.execute_reply": "2022-06-26T16:12:24.090670Z"
    },
    "papermill": {
     "duration": 0.190731,
     "end_time": "2022-06-26T16:12:24.093844",
     "exception": false,
     "start_time": "2022-06-26T16:12:23.903113",
     "status": "completed"
    },
    "tags": []
   },
   "outputs": [
    {
     "data": {
      "text/html": [
       "<div>\n",
       "<style scoped>\n",
       "    .dataframe tbody tr th:only-of-type {\n",
       "        vertical-align: middle;\n",
       "    }\n",
       "\n",
       "    .dataframe tbody tr th {\n",
       "        vertical-align: top;\n",
       "    }\n",
       "\n",
       "    .dataframe thead th {\n",
       "        text-align: right;\n",
       "    }\n",
       "</style>\n",
       "<table border=\"1\" class=\"dataframe\">\n",
       "  <thead>\n",
       "    <tr style=\"text-align: right;\">\n",
       "      <th></th>\n",
       "      <th>date_block_num</th>\n",
       "      <th>shop_id</th>\n",
       "      <th>item_id</th>\n",
       "      <th>item_cnt_month</th>\n",
       "    </tr>\n",
       "  </thead>\n",
       "  <tbody>\n",
       "    <tr>\n",
       "      <th>11127999</th>\n",
       "      <td>34</td>\n",
       "      <td>45</td>\n",
       "      <td>18454</td>\n",
       "      <td>0.0</td>\n",
       "    </tr>\n",
       "    <tr>\n",
       "      <th>11128000</th>\n",
       "      <td>34</td>\n",
       "      <td>45</td>\n",
       "      <td>16188</td>\n",
       "      <td>0.0</td>\n",
       "    </tr>\n",
       "    <tr>\n",
       "      <th>11128001</th>\n",
       "      <td>34</td>\n",
       "      <td>45</td>\n",
       "      <td>15757</td>\n",
       "      <td>0.0</td>\n",
       "    </tr>\n",
       "    <tr>\n",
       "      <th>11128002</th>\n",
       "      <td>34</td>\n",
       "      <td>45</td>\n",
       "      <td>19648</td>\n",
       "      <td>0.0</td>\n",
       "    </tr>\n",
       "    <tr>\n",
       "      <th>11128003</th>\n",
       "      <td>34</td>\n",
       "      <td>45</td>\n",
       "      <td>969</td>\n",
       "      <td>0.0</td>\n",
       "    </tr>\n",
       "  </tbody>\n",
       "</table>\n",
       "</div>"
      ],
      "text/plain": [
       "          date_block_num  shop_id  item_id  item_cnt_month\n",
       "11127999              34       45    18454             0.0\n",
       "11128000              34       45    16188             0.0\n",
       "11128001              34       45    15757             0.0\n",
       "11128002              34       45    19648             0.0\n",
       "11128003              34       45      969             0.0"
      ]
     },
     "execution_count": 40,
     "metadata": {},
     "output_type": "execute_result"
    }
   ],
   "source": [
    "matrix=pd.concat([matrix,test],ignore_index=True,sort=False,keys=cols)\n",
    "matrix.fillna(0,inplace=True)\n",
    "matrix.tail(5)"
   ]
  },
  {
   "cell_type": "code",
   "execution_count": 41,
   "id": "cb587b51",
   "metadata": {
    "execution": {
     "iopub.execute_input": "2022-06-26T16:12:24.229250Z",
     "iopub.status.busy": "2022-06-26T16:12:24.228944Z",
     "iopub.status.idle": "2022-06-26T16:12:24.261570Z",
     "shell.execute_reply": "2022-06-26T16:12:24.260879Z"
    },
    "papermill": {
     "duration": 0.102829,
     "end_time": "2022-06-26T16:12:24.263538",
     "exception": false,
     "start_time": "2022-06-26T16:12:24.160709",
     "status": "completed"
    },
    "tags": []
   },
   "outputs": [
    {
     "data": {
      "text/plain": [
       "(214200, 4)"
      ]
     },
     "execution_count": 41,
     "metadata": {},
     "output_type": "execute_result"
    }
   ],
   "source": [
    "matrix[matrix['date_block_num']==34].shape"
   ]
  },
  {
   "cell_type": "code",
   "execution_count": 42,
   "id": "be7fc79e",
   "metadata": {
    "execution": {
     "iopub.execute_input": "2022-06-26T16:12:24.399104Z",
     "iopub.status.busy": "2022-06-26T16:12:24.398282Z",
     "iopub.status.idle": "2022-06-26T16:12:24.407253Z",
     "shell.execute_reply": "2022-06-26T16:12:24.406441Z"
    },
    "papermill": {
     "duration": 0.078564,
     "end_time": "2022-06-26T16:12:24.409234",
     "exception": false,
     "start_time": "2022-06-26T16:12:24.330670",
     "status": "completed"
    },
    "tags": []
   },
   "outputs": [
    {
     "data": {
      "text/html": [
       "<div>\n",
       "<style scoped>\n",
       "    .dataframe tbody tr th:only-of-type {\n",
       "        vertical-align: middle;\n",
       "    }\n",
       "\n",
       "    .dataframe tbody tr th {\n",
       "        vertical-align: top;\n",
       "    }\n",
       "\n",
       "    .dataframe thead th {\n",
       "        text-align: right;\n",
       "    }\n",
       "</style>\n",
       "<table border=\"1\" class=\"dataframe\">\n",
       "  <thead>\n",
       "    <tr style=\"text-align: right;\">\n",
       "      <th></th>\n",
       "      <th>shop_id</th>\n",
       "      <th>city</th>\n",
       "      <th>category</th>\n",
       "    </tr>\n",
       "  </thead>\n",
       "  <tbody>\n",
       "    <tr>\n",
       "      <th>0</th>\n",
       "      <td>0</td>\n",
       "      <td>0</td>\n",
       "      <td>0</td>\n",
       "    </tr>\n",
       "    <tr>\n",
       "      <th>1</th>\n",
       "      <td>1</td>\n",
       "      <td>0</td>\n",
       "      <td>4</td>\n",
       "    </tr>\n",
       "  </tbody>\n",
       "</table>\n",
       "</div>"
      ],
      "text/plain": [
       "   shop_id  city  category\n",
       "0        0     0         0\n",
       "1        1     0         4"
      ]
     },
     "execution_count": 42,
     "metadata": {},
     "output_type": "execute_result"
    }
   ],
   "source": [
    "shops.head(2)"
   ]
  },
  {
   "cell_type": "code",
   "execution_count": 43,
   "id": "a2e313a0",
   "metadata": {
    "execution": {
     "iopub.execute_input": "2022-06-26T16:12:24.544119Z",
     "iopub.status.busy": "2022-06-26T16:12:24.543588Z",
     "iopub.status.idle": "2022-06-26T16:12:25.839987Z",
     "shell.execute_reply": "2022-06-26T16:12:25.839155Z"
    },
    "papermill": {
     "duration": 1.365924,
     "end_time": "2022-06-26T16:12:25.842121",
     "exception": false,
     "start_time": "2022-06-26T16:12:24.476197",
     "status": "completed"
    },
    "tags": []
   },
   "outputs": [
    {
     "data": {
      "text/html": [
       "<div>\n",
       "<style scoped>\n",
       "    .dataframe tbody tr th:only-of-type {\n",
       "        vertical-align: middle;\n",
       "    }\n",
       "\n",
       "    .dataframe tbody tr th {\n",
       "        vertical-align: top;\n",
       "    }\n",
       "\n",
       "    .dataframe thead th {\n",
       "        text-align: right;\n",
       "    }\n",
       "</style>\n",
       "<table border=\"1\" class=\"dataframe\">\n",
       "  <thead>\n",
       "    <tr style=\"text-align: right;\">\n",
       "      <th></th>\n",
       "      <th>date_block_num</th>\n",
       "      <th>shop_id</th>\n",
       "      <th>item_id</th>\n",
       "      <th>item_cnt_month</th>\n",
       "      <th>city</th>\n",
       "      <th>category</th>\n",
       "    </tr>\n",
       "  </thead>\n",
       "  <tbody>\n",
       "    <tr>\n",
       "      <th>0</th>\n",
       "      <td>0</td>\n",
       "      <td>0</td>\n",
       "      <td>19</td>\n",
       "      <td>0.0</td>\n",
       "      <td>0</td>\n",
       "      <td>0</td>\n",
       "    </tr>\n",
       "    <tr>\n",
       "      <th>1</th>\n",
       "      <td>0</td>\n",
       "      <td>0</td>\n",
       "      <td>27</td>\n",
       "      <td>0.0</td>\n",
       "      <td>0</td>\n",
       "      <td>0</td>\n",
       "    </tr>\n",
       "    <tr>\n",
       "      <th>2</th>\n",
       "      <td>0</td>\n",
       "      <td>0</td>\n",
       "      <td>28</td>\n",
       "      <td>0.0</td>\n",
       "      <td>0</td>\n",
       "      <td>0</td>\n",
       "    </tr>\n",
       "    <tr>\n",
       "      <th>3</th>\n",
       "      <td>0</td>\n",
       "      <td>0</td>\n",
       "      <td>29</td>\n",
       "      <td>0.0</td>\n",
       "      <td>0</td>\n",
       "      <td>0</td>\n",
       "    </tr>\n",
       "  </tbody>\n",
       "</table>\n",
       "</div>"
      ],
      "text/plain": [
       "   date_block_num  shop_id  item_id  item_cnt_month  city  category\n",
       "0               0        0       19             0.0     0         0\n",
       "1               0        0       27             0.0     0         0\n",
       "2               0        0       28             0.0     0         0\n",
       "3               0        0       29             0.0     0         0"
      ]
     },
     "execution_count": 43,
     "metadata": {},
     "output_type": "execute_result"
    }
   ],
   "source": [
    "matrix=pd.merge(matrix,shops,on=['shop_id'],how='left')\n",
    "matrix.head(4)"
   ]
  },
  {
   "cell_type": "code",
   "execution_count": 44,
   "id": "8dc14c56",
   "metadata": {
    "execution": {
     "iopub.execute_input": "2022-06-26T16:12:26.013269Z",
     "iopub.status.busy": "2022-06-26T16:12:26.012919Z",
     "iopub.status.idle": "2022-06-26T16:12:26.021308Z",
     "shell.execute_reply": "2022-06-26T16:12:26.020621Z"
    },
    "papermill": {
     "duration": 0.09859,
     "end_time": "2022-06-26T16:12:26.025000",
     "exception": false,
     "start_time": "2022-06-26T16:12:25.926410",
     "status": "completed"
    },
    "tags": []
   },
   "outputs": [
    {
     "data": {
      "text/html": [
       "<div>\n",
       "<style scoped>\n",
       "    .dataframe tbody tr th:only-of-type {\n",
       "        vertical-align: middle;\n",
       "    }\n",
       "\n",
       "    .dataframe tbody tr th {\n",
       "        vertical-align: top;\n",
       "    }\n",
       "\n",
       "    .dataframe thead th {\n",
       "        text-align: right;\n",
       "    }\n",
       "</style>\n",
       "<table border=\"1\" class=\"dataframe\">\n",
       "  <thead>\n",
       "    <tr style=\"text-align: right;\">\n",
       "      <th></th>\n",
       "      <th>item_id</th>\n",
       "      <th>item_category_id</th>\n",
       "    </tr>\n",
       "  </thead>\n",
       "  <tbody>\n",
       "    <tr>\n",
       "      <th>0</th>\n",
       "      <td>0</td>\n",
       "      <td>40</td>\n",
       "    </tr>\n",
       "    <tr>\n",
       "      <th>1</th>\n",
       "      <td>1</td>\n",
       "      <td>76</td>\n",
       "    </tr>\n",
       "  </tbody>\n",
       "</table>\n",
       "</div>"
      ],
      "text/plain": [
       "   item_id  item_category_id\n",
       "0        0                40\n",
       "1        1                76"
      ]
     },
     "execution_count": 44,
     "metadata": {},
     "output_type": "execute_result"
    }
   ],
   "source": [
    "items.head(2)"
   ]
  },
  {
   "cell_type": "code",
   "execution_count": 45,
   "id": "2407115c",
   "metadata": {
    "execution": {
     "iopub.execute_input": "2022-06-26T16:12:26.217134Z",
     "iopub.status.busy": "2022-06-26T16:12:26.216585Z",
     "iopub.status.idle": "2022-06-26T16:12:27.898170Z",
     "shell.execute_reply": "2022-06-26T16:12:27.897187Z"
    },
    "papermill": {
     "duration": 1.793661,
     "end_time": "2022-06-26T16:12:27.900099",
     "exception": false,
     "start_time": "2022-06-26T16:12:26.106438",
     "status": "completed"
    },
    "tags": []
   },
   "outputs": [
    {
     "data": {
      "text/html": [
       "<div>\n",
       "<style scoped>\n",
       "    .dataframe tbody tr th:only-of-type {\n",
       "        vertical-align: middle;\n",
       "    }\n",
       "\n",
       "    .dataframe tbody tr th {\n",
       "        vertical-align: top;\n",
       "    }\n",
       "\n",
       "    .dataframe thead th {\n",
       "        text-align: right;\n",
       "    }\n",
       "</style>\n",
       "<table border=\"1\" class=\"dataframe\">\n",
       "  <thead>\n",
       "    <tr style=\"text-align: right;\">\n",
       "      <th></th>\n",
       "      <th>date_block_num</th>\n",
       "      <th>shop_id</th>\n",
       "      <th>item_id</th>\n",
       "      <th>item_cnt_month</th>\n",
       "      <th>city</th>\n",
       "      <th>category</th>\n",
       "      <th>item_category_id</th>\n",
       "    </tr>\n",
       "  </thead>\n",
       "  <tbody>\n",
       "    <tr>\n",
       "      <th>0</th>\n",
       "      <td>0</td>\n",
       "      <td>0</td>\n",
       "      <td>19</td>\n",
       "      <td>0.0</td>\n",
       "      <td>0</td>\n",
       "      <td>0</td>\n",
       "      <td>40</td>\n",
       "    </tr>\n",
       "    <tr>\n",
       "      <th>1</th>\n",
       "      <td>0</td>\n",
       "      <td>0</td>\n",
       "      <td>27</td>\n",
       "      <td>0.0</td>\n",
       "      <td>0</td>\n",
       "      <td>0</td>\n",
       "      <td>19</td>\n",
       "    </tr>\n",
       "    <tr>\n",
       "      <th>2</th>\n",
       "      <td>0</td>\n",
       "      <td>0</td>\n",
       "      <td>28</td>\n",
       "      <td>0.0</td>\n",
       "      <td>0</td>\n",
       "      <td>0</td>\n",
       "      <td>30</td>\n",
       "    </tr>\n",
       "  </tbody>\n",
       "</table>\n",
       "</div>"
      ],
      "text/plain": [
       "   date_block_num  shop_id  item_id  item_cnt_month  city  category  \\\n",
       "0               0        0       19             0.0     0         0   \n",
       "1               0        0       27             0.0     0         0   \n",
       "2               0        0       28             0.0     0         0   \n",
       "\n",
       "   item_category_id  \n",
       "0                40  \n",
       "1                19  \n",
       "2                30  "
      ]
     },
     "execution_count": 45,
     "metadata": {},
     "output_type": "execute_result"
    }
   ],
   "source": [
    "matrix=pd.merge(matrix,items,on='item_id',how='left')\n",
    "matrix.head(3)"
   ]
  },
  {
   "cell_type": "code",
   "execution_count": 46,
   "id": "e58aa4ca",
   "metadata": {
    "execution": {
     "iopub.execute_input": "2022-06-26T16:12:28.036693Z",
     "iopub.status.busy": "2022-06-26T16:12:28.036434Z",
     "iopub.status.idle": "2022-06-26T16:12:28.044302Z",
     "shell.execute_reply": "2022-06-26T16:12:28.043746Z"
    },
    "papermill": {
     "duration": 0.078567,
     "end_time": "2022-06-26T16:12:28.045948",
     "exception": false,
     "start_time": "2022-06-26T16:12:27.967381",
     "status": "completed"
    },
    "tags": []
   },
   "outputs": [
    {
     "data": {
      "text/html": [
       "<div>\n",
       "<style scoped>\n",
       "    .dataframe tbody tr th:only-of-type {\n",
       "        vertical-align: middle;\n",
       "    }\n",
       "\n",
       "    .dataframe tbody tr th {\n",
       "        vertical-align: top;\n",
       "    }\n",
       "\n",
       "    .dataframe thead th {\n",
       "        text-align: right;\n",
       "    }\n",
       "</style>\n",
       "<table border=\"1\" class=\"dataframe\">\n",
       "  <thead>\n",
       "    <tr style=\"text-align: right;\">\n",
       "      <th></th>\n",
       "      <th>item_category_id</th>\n",
       "      <th>type_code</th>\n",
       "      <th>sub_type_code</th>\n",
       "    </tr>\n",
       "  </thead>\n",
       "  <tbody>\n",
       "    <tr>\n",
       "      <th>0</th>\n",
       "      <td>0</td>\n",
       "      <td>0</td>\n",
       "      <td>29</td>\n",
       "    </tr>\n",
       "    <tr>\n",
       "      <th>1</th>\n",
       "      <td>1</td>\n",
       "      <td>1</td>\n",
       "      <td>9</td>\n",
       "    </tr>\n",
       "  </tbody>\n",
       "</table>\n",
       "</div>"
      ],
      "text/plain": [
       "   item_category_id  type_code  sub_type_code\n",
       "0                 0          0             29\n",
       "1                 1          1              9"
      ]
     },
     "execution_count": 46,
     "metadata": {},
     "output_type": "execute_result"
    }
   ],
   "source": [
    "cats.head(2)"
   ]
  },
  {
   "cell_type": "code",
   "execution_count": 47,
   "id": "6d5da746",
   "metadata": {
    "execution": {
     "iopub.execute_input": "2022-06-26T16:12:28.182754Z",
     "iopub.status.busy": "2022-06-26T16:12:28.182435Z",
     "iopub.status.idle": "2022-06-26T16:12:29.738564Z",
     "shell.execute_reply": "2022-06-26T16:12:29.737702Z"
    },
    "papermill": {
     "duration": 1.627526,
     "end_time": "2022-06-26T16:12:29.740767",
     "exception": false,
     "start_time": "2022-06-26T16:12:28.113241",
     "status": "completed"
    },
    "tags": []
   },
   "outputs": [
    {
     "data": {
      "text/html": [
       "<div>\n",
       "<style scoped>\n",
       "    .dataframe tbody tr th:only-of-type {\n",
       "        vertical-align: middle;\n",
       "    }\n",
       "\n",
       "    .dataframe tbody tr th {\n",
       "        vertical-align: top;\n",
       "    }\n",
       "\n",
       "    .dataframe thead th {\n",
       "        text-align: right;\n",
       "    }\n",
       "</style>\n",
       "<table border=\"1\" class=\"dataframe\">\n",
       "  <thead>\n",
       "    <tr style=\"text-align: right;\">\n",
       "      <th></th>\n",
       "      <th>date_block_num</th>\n",
       "      <th>shop_id</th>\n",
       "      <th>item_id</th>\n",
       "      <th>item_cnt_month</th>\n",
       "      <th>city</th>\n",
       "      <th>category</th>\n",
       "      <th>item_category_id</th>\n",
       "      <th>type_code</th>\n",
       "      <th>sub_type_code</th>\n",
       "    </tr>\n",
       "  </thead>\n",
       "  <tbody>\n",
       "    <tr>\n",
       "      <th>0</th>\n",
       "      <td>0</td>\n",
       "      <td>0</td>\n",
       "      <td>19</td>\n",
       "      <td>0.0</td>\n",
       "      <td>0</td>\n",
       "      <td>0</td>\n",
       "      <td>40</td>\n",
       "      <td>5</td>\n",
       "      <td>4</td>\n",
       "    </tr>\n",
       "    <tr>\n",
       "      <th>1</th>\n",
       "      <td>0</td>\n",
       "      <td>0</td>\n",
       "      <td>27</td>\n",
       "      <td>0.0</td>\n",
       "      <td>0</td>\n",
       "      <td>0</td>\n",
       "      <td>19</td>\n",
       "      <td>3</td>\n",
       "      <td>10</td>\n",
       "    </tr>\n",
       "    <tr>\n",
       "      <th>2</th>\n",
       "      <td>0</td>\n",
       "      <td>0</td>\n",
       "      <td>28</td>\n",
       "      <td>0.0</td>\n",
       "      <td>0</td>\n",
       "      <td>0</td>\n",
       "      <td>30</td>\n",
       "      <td>3</td>\n",
       "      <td>55</td>\n",
       "    </tr>\n",
       "  </tbody>\n",
       "</table>\n",
       "</div>"
      ],
      "text/plain": [
       "   date_block_num  shop_id  item_id  item_cnt_month  city  category  \\\n",
       "0               0        0       19             0.0     0         0   \n",
       "1               0        0       27             0.0     0         0   \n",
       "2               0        0       28             0.0     0         0   \n",
       "\n",
       "   item_category_id  type_code  sub_type_code  \n",
       "0                40          5              4  \n",
       "1                19          3             10  \n",
       "2                30          3             55  "
      ]
     },
     "execution_count": 47,
     "metadata": {},
     "output_type": "execute_result"
    }
   ],
   "source": [
    "matrix=pd.merge(matrix,cats,on='item_category_id',how='left')\n",
    "matrix.head(3)"
   ]
  },
  {
   "cell_type": "code",
   "execution_count": 48,
   "id": "791ad94a",
   "metadata": {
    "execution": {
     "iopub.execute_input": "2022-06-26T16:12:29.879056Z",
     "iopub.status.busy": "2022-06-26T16:12:29.878748Z",
     "iopub.status.idle": "2022-06-26T16:12:29.888747Z",
     "shell.execute_reply": "2022-06-26T16:12:29.888164Z"
    },
    "papermill": {
     "duration": 0.080998,
     "end_time": "2022-06-26T16:12:29.890761",
     "exception": false,
     "start_time": "2022-06-26T16:12:29.809763",
     "status": "completed"
    },
    "tags": []
   },
   "outputs": [
    {
     "data": {
      "text/html": [
       "<div>\n",
       "<style scoped>\n",
       "    .dataframe tbody tr th:only-of-type {\n",
       "        vertical-align: middle;\n",
       "    }\n",
       "\n",
       "    .dataframe tbody tr th {\n",
       "        vertical-align: top;\n",
       "    }\n",
       "\n",
       "    .dataframe thead th {\n",
       "        text-align: right;\n",
       "    }\n",
       "</style>\n",
       "<table border=\"1\" class=\"dataframe\">\n",
       "  <thead>\n",
       "    <tr style=\"text-align: right;\">\n",
       "      <th></th>\n",
       "      <th>date_block_num</th>\n",
       "      <th>shop_id</th>\n",
       "      <th>item_id</th>\n",
       "      <th>item_cnt_month</th>\n",
       "      <th>city</th>\n",
       "      <th>category</th>\n",
       "      <th>item_category_id</th>\n",
       "      <th>type_code</th>\n",
       "      <th>sub_type_code</th>\n",
       "    </tr>\n",
       "  </thead>\n",
       "  <tbody>\n",
       "    <tr>\n",
       "      <th>11128001</th>\n",
       "      <td>34</td>\n",
       "      <td>45</td>\n",
       "      <td>15757</td>\n",
       "      <td>0.0</td>\n",
       "      <td>21</td>\n",
       "      <td>4</td>\n",
       "      <td>55</td>\n",
       "      <td>7</td>\n",
       "      <td>2</td>\n",
       "    </tr>\n",
       "    <tr>\n",
       "      <th>11128002</th>\n",
       "      <td>34</td>\n",
       "      <td>45</td>\n",
       "      <td>19648</td>\n",
       "      <td>0.0</td>\n",
       "      <td>21</td>\n",
       "      <td>4</td>\n",
       "      <td>40</td>\n",
       "      <td>5</td>\n",
       "      <td>4</td>\n",
       "    </tr>\n",
       "    <tr>\n",
       "      <th>11128003</th>\n",
       "      <td>34</td>\n",
       "      <td>45</td>\n",
       "      <td>969</td>\n",
       "      <td>0.0</td>\n",
       "      <td>21</td>\n",
       "      <td>4</td>\n",
       "      <td>37</td>\n",
       "      <td>5</td>\n",
       "      <td>1</td>\n",
       "    </tr>\n",
       "  </tbody>\n",
       "</table>\n",
       "</div>"
      ],
      "text/plain": [
       "          date_block_num  shop_id  item_id  item_cnt_month  city  category  \\\n",
       "11128001              34       45    15757             0.0    21         4   \n",
       "11128002              34       45    19648             0.0    21         4   \n",
       "11128003              34       45      969             0.0    21         4   \n",
       "\n",
       "          item_category_id  type_code  sub_type_code  \n",
       "11128001                55          7              2  \n",
       "11128002                40          5              4  \n",
       "11128003                37          5              1  "
      ]
     },
     "execution_count": 48,
     "metadata": {},
     "output_type": "execute_result"
    }
   ],
   "source": [
    "matrix.tail(3)"
   ]
  },
  {
   "cell_type": "code",
   "execution_count": 49,
   "id": "3fd4f5a4",
   "metadata": {
    "execution": {
     "iopub.execute_input": "2022-06-26T16:12:30.031105Z",
     "iopub.status.busy": "2022-06-26T16:12:30.030259Z",
     "iopub.status.idle": "2022-06-26T16:12:30.180352Z",
     "shell.execute_reply": "2022-06-26T16:12:30.179363Z"
    },
    "papermill": {
     "duration": 0.223148,
     "end_time": "2022-06-26T16:12:30.182656",
     "exception": false,
     "start_time": "2022-06-26T16:12:29.959508",
     "status": "completed"
    },
    "tags": []
   },
   "outputs": [],
   "source": [
    "matrix[\"city\"] = matrix[\"city\"].astype(np.int8)\n",
    "matrix[\"category\"] = matrix[\"category\"].astype(np.int8)\n",
    "matrix[\"item_category_id\"] = matrix[\"item_category_id\"].astype(np.int8)\n",
    "matrix[\"sub_type_code\"] = matrix[\"sub_type_code\"].astype(np.int8)\n",
    "#matrix[\"name2\"] = matrix[\"name2\"].astype(np.int8)\n",
    "#matrix[\"name3\"] = matrix[\"name3\"].astype(np.int16)\n",
    "matrix[\"type_code\"] = matrix[\"type_code\"].astype(np.int8)"
   ]
  },
  {
   "cell_type": "code",
   "execution_count": 50,
   "id": "d30003ec",
   "metadata": {
    "execution": {
     "iopub.execute_input": "2022-06-26T16:12:30.328629Z",
     "iopub.status.busy": "2022-06-26T16:12:30.328217Z",
     "iopub.status.idle": "2022-06-26T16:12:30.340606Z",
     "shell.execute_reply": "2022-06-26T16:12:30.339746Z"
    },
    "papermill": {
     "duration": 0.087623,
     "end_time": "2022-06-26T16:12:30.342725",
     "exception": false,
     "start_time": "2022-06-26T16:12:30.255102",
     "status": "completed"
    },
    "tags": []
   },
   "outputs": [
    {
     "data": {
      "text/html": [
       "<div>\n",
       "<style scoped>\n",
       "    .dataframe tbody tr th:only-of-type {\n",
       "        vertical-align: middle;\n",
       "    }\n",
       "\n",
       "    .dataframe tbody tr th {\n",
       "        vertical-align: top;\n",
       "    }\n",
       "\n",
       "    .dataframe thead th {\n",
       "        text-align: right;\n",
       "    }\n",
       "</style>\n",
       "<table border=\"1\" class=\"dataframe\">\n",
       "  <thead>\n",
       "    <tr style=\"text-align: right;\">\n",
       "      <th></th>\n",
       "      <th>date_block_num</th>\n",
       "      <th>shop_id</th>\n",
       "      <th>item_id</th>\n",
       "      <th>item_cnt_month</th>\n",
       "      <th>city</th>\n",
       "      <th>category</th>\n",
       "      <th>item_category_id</th>\n",
       "      <th>type_code</th>\n",
       "      <th>sub_type_code</th>\n",
       "    </tr>\n",
       "  </thead>\n",
       "  <tbody>\n",
       "    <tr>\n",
       "      <th>0</th>\n",
       "      <td>0</td>\n",
       "      <td>0</td>\n",
       "      <td>19</td>\n",
       "      <td>0.0</td>\n",
       "      <td>0</td>\n",
       "      <td>0</td>\n",
       "      <td>40</td>\n",
       "      <td>5</td>\n",
       "      <td>4</td>\n",
       "    </tr>\n",
       "    <tr>\n",
       "      <th>1</th>\n",
       "      <td>0</td>\n",
       "      <td>0</td>\n",
       "      <td>27</td>\n",
       "      <td>0.0</td>\n",
       "      <td>0</td>\n",
       "      <td>0</td>\n",
       "      <td>19</td>\n",
       "      <td>3</td>\n",
       "      <td>10</td>\n",
       "    </tr>\n",
       "    <tr>\n",
       "      <th>2</th>\n",
       "      <td>0</td>\n",
       "      <td>0</td>\n",
       "      <td>28</td>\n",
       "      <td>0.0</td>\n",
       "      <td>0</td>\n",
       "      <td>0</td>\n",
       "      <td>30</td>\n",
       "      <td>3</td>\n",
       "      <td>55</td>\n",
       "    </tr>\n",
       "  </tbody>\n",
       "</table>\n",
       "</div>"
      ],
      "text/plain": [
       "   date_block_num  shop_id  item_id  item_cnt_month  city  category  \\\n",
       "0               0        0       19             0.0     0         0   \n",
       "1               0        0       27             0.0     0         0   \n",
       "2               0        0       28             0.0     0         0   \n",
       "\n",
       "   item_category_id  type_code  sub_type_code  \n",
       "0                40          5              4  \n",
       "1                19          3             10  \n",
       "2                30          3             55  "
      ]
     },
     "execution_count": 50,
     "metadata": {},
     "output_type": "execute_result"
    }
   ],
   "source": [
    "matrix.head(3)"
   ]
  },
  {
   "cell_type": "code",
   "execution_count": 51,
   "id": "b00d0324",
   "metadata": {
    "execution": {
     "iopub.execute_input": "2022-06-26T16:12:30.487005Z",
     "iopub.status.busy": "2022-06-26T16:12:30.486707Z",
     "iopub.status.idle": "2022-06-26T16:12:30.556656Z",
     "shell.execute_reply": "2022-06-26T16:12:30.555746Z"
    },
    "papermill": {
     "duration": 0.143922,
     "end_time": "2022-06-26T16:12:30.558947",
     "exception": false,
     "start_time": "2022-06-26T16:12:30.415025",
     "status": "completed"
    },
    "tags": []
   },
   "outputs": [
    {
     "data": {
      "text/plain": [
       "(214200, 9)"
      ]
     },
     "execution_count": 51,
     "metadata": {},
     "output_type": "execute_result"
    }
   ],
   "source": [
    "matrix[matrix['date_block_num']==34].shape"
   ]
  },
  {
   "cell_type": "code",
   "execution_count": 52,
   "id": "bd794e06",
   "metadata": {
    "execution": {
     "iopub.execute_input": "2022-06-26T16:12:30.699928Z",
     "iopub.status.busy": "2022-06-26T16:12:30.699309Z",
     "iopub.status.idle": "2022-06-26T16:12:30.710165Z",
     "shell.execute_reply": "2022-06-26T16:12:30.709634Z"
    },
    "papermill": {
     "duration": 0.083474,
     "end_time": "2022-06-26T16:12:30.711955",
     "exception": false,
     "start_time": "2022-06-26T16:12:30.628481",
     "status": "completed"
    },
    "tags": []
   },
   "outputs": [
    {
     "data": {
      "text/html": [
       "<div>\n",
       "<style scoped>\n",
       "    .dataframe tbody tr th:only-of-type {\n",
       "        vertical-align: middle;\n",
       "    }\n",
       "\n",
       "    .dataframe tbody tr th {\n",
       "        vertical-align: top;\n",
       "    }\n",
       "\n",
       "    .dataframe thead th {\n",
       "        text-align: right;\n",
       "    }\n",
       "</style>\n",
       "<table border=\"1\" class=\"dataframe\">\n",
       "  <thead>\n",
       "    <tr style=\"text-align: right;\">\n",
       "      <th></th>\n",
       "      <th>date_block_num</th>\n",
       "      <th>shop_id</th>\n",
       "      <th>item_id</th>\n",
       "      <th>item_cnt_month</th>\n",
       "      <th>city</th>\n",
       "      <th>category</th>\n",
       "      <th>item_category_id</th>\n",
       "      <th>type_code</th>\n",
       "      <th>sub_type_code</th>\n",
       "    </tr>\n",
       "  </thead>\n",
       "  <tbody>\n",
       "    <tr>\n",
       "      <th>0</th>\n",
       "      <td>0</td>\n",
       "      <td>0</td>\n",
       "      <td>19</td>\n",
       "      <td>0.0</td>\n",
       "      <td>0</td>\n",
       "      <td>0</td>\n",
       "      <td>40</td>\n",
       "      <td>5</td>\n",
       "      <td>4</td>\n",
       "    </tr>\n",
       "    <tr>\n",
       "      <th>1</th>\n",
       "      <td>0</td>\n",
       "      <td>0</td>\n",
       "      <td>27</td>\n",
       "      <td>0.0</td>\n",
       "      <td>0</td>\n",
       "      <td>0</td>\n",
       "      <td>19</td>\n",
       "      <td>3</td>\n",
       "      <td>10</td>\n",
       "    </tr>\n",
       "    <tr>\n",
       "      <th>2</th>\n",
       "      <td>0</td>\n",
       "      <td>0</td>\n",
       "      <td>28</td>\n",
       "      <td>0.0</td>\n",
       "      <td>0</td>\n",
       "      <td>0</td>\n",
       "      <td>30</td>\n",
       "      <td>3</td>\n",
       "      <td>55</td>\n",
       "    </tr>\n",
       "  </tbody>\n",
       "</table>\n",
       "</div>"
      ],
      "text/plain": [
       "   date_block_num  shop_id  item_id  item_cnt_month  city  category  \\\n",
       "0               0        0       19             0.0     0         0   \n",
       "1               0        0       27             0.0     0         0   \n",
       "2               0        0       28             0.0     0         0   \n",
       "\n",
       "   item_category_id  type_code  sub_type_code  \n",
       "0                40          5              4  \n",
       "1                19          3             10  \n",
       "2                30          3             55  "
      ]
     },
     "execution_count": 52,
     "metadata": {},
     "output_type": "execute_result"
    }
   ],
   "source": [
    "matrix.head(3)"
   ]
  },
  {
   "cell_type": "code",
   "execution_count": 53,
   "id": "09562372",
   "metadata": {
    "execution": {
     "iopub.execute_input": "2022-06-26T16:12:30.856223Z",
     "iopub.status.busy": "2022-06-26T16:12:30.855714Z",
     "iopub.status.idle": "2022-06-26T16:12:30.861504Z",
     "shell.execute_reply": "2022-06-26T16:12:30.860749Z"
    },
    "papermill": {
     "duration": 0.080004,
     "end_time": "2022-06-26T16:12:30.863609",
     "exception": false,
     "start_time": "2022-06-26T16:12:30.783605",
     "status": "completed"
    },
    "tags": []
   },
   "outputs": [],
   "source": [
    "def lag_feature(df,lags,cols ):\n",
    "    for col in cols:\n",
    "        print('Adding lag feature in ',col)\n",
    "        tmp=df[['date_block_num','shop_id','item_id',col]]\n",
    "        for i in lags:\n",
    "            shifted=tmp.copy()\n",
    "            shifted.columns=['date_block_num','shop_id','item_id',col+'_shifted_'+str(i)]\n",
    "            shifted.date_block_num=shifted.date_block_num+i\n",
    "            df=pd.merge(df,shifted,on=['date_block_num','shop_id','item_id'],how='left')\n",
    "    return df"
   ]
  },
  {
   "cell_type": "code",
   "execution_count": 54,
   "id": "b65905cc",
   "metadata": {
    "execution": {
     "iopub.execute_input": "2022-06-26T16:12:31.011764Z",
     "iopub.status.busy": "2022-06-26T16:12:31.011490Z",
     "iopub.status.idle": "2022-06-26T16:12:52.300523Z",
     "shell.execute_reply": "2022-06-26T16:12:52.299192Z"
    },
    "papermill": {
     "duration": 21.367989,
     "end_time": "2022-06-26T16:12:52.305374",
     "exception": false,
     "start_time": "2022-06-26T16:12:30.937385",
     "status": "completed"
    },
    "tags": []
   },
   "outputs": [
    {
     "name": "stdout",
     "output_type": "stream",
     "text": [
      "Adding lag feature in  item_cnt_month\n"
     ]
    }
   ],
   "source": [
    "matrix=lag_feature(matrix,[1,2],[\"item_cnt_month\"])"
   ]
  },
  {
   "cell_type": "code",
   "execution_count": 55,
   "id": "25d08384",
   "metadata": {
    "execution": {
     "iopub.execute_input": "2022-06-26T16:12:52.452339Z",
     "iopub.status.busy": "2022-06-26T16:12:52.451810Z",
     "iopub.status.idle": "2022-06-26T16:12:55.236296Z",
     "shell.execute_reply": "2022-06-26T16:12:55.235582Z"
    },
    "papermill": {
     "duration": 2.858755,
     "end_time": "2022-06-26T16:12:55.238537",
     "exception": false,
     "start_time": "2022-06-26T16:12:52.379782",
     "status": "completed"
    },
    "tags": []
   },
   "outputs": [],
   "source": [
    "group=matrix.groupby(['date_block_num','item_category_id']).agg({'item_cnt_month':['mean']})\n",
    "group.columns=['date_item_cat_avg']\n",
    "group.reset_index(inplace=True)\n",
    "matrix=pd.merge(matrix,group,on=['date_block_num','item_category_id'],how='left')\n",
    "matrix['date_item_cat_avg']=matrix['date_item_cat_avg'].astype(np.float16)"
   ]
  },
  {
   "cell_type": "code",
   "execution_count": 56,
   "id": "662558e6",
   "metadata": {
    "execution": {
     "iopub.execute_input": "2022-06-26T16:12:55.384381Z",
     "iopub.status.busy": "2022-06-26T16:12:55.383906Z",
     "iopub.status.idle": "2022-06-26T16:13:16.377533Z",
     "shell.execute_reply": "2022-06-26T16:13:16.376312Z"
    },
    "papermill": {
     "duration": 21.067289,
     "end_time": "2022-06-26T16:13:16.380022",
     "exception": false,
     "start_time": "2022-06-26T16:12:55.312733",
     "status": "completed"
    },
    "tags": []
   },
   "outputs": [
    {
     "name": "stdout",
     "output_type": "stream",
     "text": [
      "Adding lag feature in  date_item_cat_avg\n"
     ]
    }
   ],
   "source": [
    "matrix=lag_feature(matrix,[1,2],['date_item_cat_avg'])\n",
    "matrix.drop(['date_item_cat_avg'],axis=1,inplace=True)"
   ]
  },
  {
   "cell_type": "code",
   "execution_count": 57,
   "id": "bc2e82b3",
   "metadata": {
    "execution": {
     "iopub.execute_input": "2022-06-26T16:13:16.529315Z",
     "iopub.status.busy": "2022-06-26T16:13:16.529030Z",
     "iopub.status.idle": "2022-06-26T16:13:20.125256Z",
     "shell.execute_reply": "2022-06-26T16:13:20.124344Z"
    },
    "papermill": {
     "duration": 3.674247,
     "end_time": "2022-06-26T16:13:20.127642",
     "exception": false,
     "start_time": "2022-06-26T16:13:16.453395",
     "status": "completed"
    },
    "tags": []
   },
   "outputs": [],
   "source": [
    "group=matrix.groupby(['date_block_num','category']).agg({'item_cnt_month':['mean']})\n",
    "group.columns=['date_cat_avg']\n",
    "group.reset_index(inplace=True)\n",
    "matrix=pd.merge(matrix,group,on=['date_block_num','category'],how='left')\n",
    "matrix['date_cat_avg']=matrix['date_cat_avg'].astype(np.float16)"
   ]
  },
  {
   "cell_type": "code",
   "execution_count": 58,
   "id": "2b01076c",
   "metadata": {
    "execution": {
     "iopub.execute_input": "2022-06-26T16:13:20.271736Z",
     "iopub.status.busy": "2022-06-26T16:13:20.271217Z",
     "iopub.status.idle": "2022-06-26T16:13:40.270718Z",
     "shell.execute_reply": "2022-06-26T16:13:40.269573Z"
    },
    "papermill": {
     "duration": 20.074552,
     "end_time": "2022-06-26T16:13:40.273311",
     "exception": false,
     "start_time": "2022-06-26T16:13:20.198759",
     "status": "completed"
    },
    "tags": []
   },
   "outputs": [
    {
     "name": "stdout",
     "output_type": "stream",
     "text": [
      "Adding lag feature in  date_cat_avg\n"
     ]
    }
   ],
   "source": [
    "matrix=lag_feature(matrix,[1,2],['date_cat_avg'])\n",
    "matrix.drop(['date_cat_avg'],axis=1,inplace=True)"
   ]
  },
  {
   "cell_type": "code",
   "execution_count": 59,
   "id": "dfe38bee",
   "metadata": {
    "execution": {
     "iopub.execute_input": "2022-06-26T16:13:40.420569Z",
     "iopub.status.busy": "2022-06-26T16:13:40.420063Z",
     "iopub.status.idle": "2022-06-26T16:13:43.952606Z",
     "shell.execute_reply": "2022-06-26T16:13:43.951373Z"
    },
    "papermill": {
     "duration": 3.609955,
     "end_time": "2022-06-26T16:13:43.955496",
     "exception": false,
     "start_time": "2022-06-26T16:13:40.345541",
     "status": "completed"
    },
    "tags": []
   },
   "outputs": [],
   "source": [
    "group=matrix.groupby(['date_block_num']).agg({'item_cnt_month':['mean']})\n",
    "group.columns=['date_avg_item_cnt']\n",
    "group.reset_index(inplace=True)\n",
    "matrix=pd.merge(matrix,group,on='date_block_num',how='left')\n",
    "matrix.date_avg_item_cnt = matrix[\"date_avg_item_cnt\"].astype(np.float16)"
   ]
  },
  {
   "cell_type": "code",
   "execution_count": 60,
   "id": "0d028fbf",
   "metadata": {
    "execution": {
     "iopub.execute_input": "2022-06-26T16:13:44.109698Z",
     "iopub.status.busy": "2022-06-26T16:13:44.109396Z",
     "iopub.status.idle": "2022-06-26T16:14:04.801097Z",
     "shell.execute_reply": "2022-06-26T16:14:04.800286Z"
    },
    "papermill": {
     "duration": 20.765272,
     "end_time": "2022-06-26T16:14:04.803221",
     "exception": false,
     "start_time": "2022-06-26T16:13:44.037949",
     "status": "completed"
    },
    "tags": []
   },
   "outputs": [
    {
     "name": "stdout",
     "output_type": "stream",
     "text": [
      "Adding lag feature in  date_avg_item_cnt\n"
     ]
    }
   ],
   "source": [
    "matrix=lag_feature(matrix,[1,2],[\"date_avg_item_cnt\"])\n",
    "matrix.drop(['date_avg_item_cnt'],inplace=True,axis=1)"
   ]
  },
  {
   "cell_type": "code",
   "execution_count": 61,
   "id": "ac665308",
   "metadata": {
    "execution": {
     "iopub.execute_input": "2022-06-26T16:14:04.949953Z",
     "iopub.status.busy": "2022-06-26T16:14:04.949212Z",
     "iopub.status.idle": "2022-06-26T16:14:10.192444Z",
     "shell.execute_reply": "2022-06-26T16:14:10.191817Z"
    },
    "papermill": {
     "duration": 5.320145,
     "end_time": "2022-06-26T16:14:10.194504",
     "exception": false,
     "start_time": "2022-06-26T16:14:04.874359",
     "status": "completed"
    },
    "tags": []
   },
   "outputs": [
    {
     "data": {
      "text/html": [
       "<div>\n",
       "<style scoped>\n",
       "    .dataframe tbody tr th:only-of-type {\n",
       "        vertical-align: middle;\n",
       "    }\n",
       "\n",
       "    .dataframe tbody tr th {\n",
       "        vertical-align: top;\n",
       "    }\n",
       "\n",
       "    .dataframe thead th {\n",
       "        text-align: right;\n",
       "    }\n",
       "</style>\n",
       "<table border=\"1\" class=\"dataframe\">\n",
       "  <thead>\n",
       "    <tr style=\"text-align: right;\">\n",
       "      <th></th>\n",
       "      <th>date_block_num</th>\n",
       "      <th>shop_id</th>\n",
       "      <th>item_id</th>\n",
       "      <th>item_cnt_month</th>\n",
       "      <th>city</th>\n",
       "      <th>category</th>\n",
       "      <th>item_category_id</th>\n",
       "      <th>type_code</th>\n",
       "      <th>sub_type_code</th>\n",
       "      <th>item_cnt_month_shifted_1</th>\n",
       "      <th>item_cnt_month_shifted_2</th>\n",
       "      <th>date_item_cat_avg_shifted_1</th>\n",
       "      <th>date_item_cat_avg_shifted_2</th>\n",
       "      <th>date_cat_avg_shifted_1</th>\n",
       "      <th>date_cat_avg_shifted_2</th>\n",
       "      <th>date_avg_item_cnt_shifted_1</th>\n",
       "      <th>date_avg_item_cnt_shifted_2</th>\n",
       "      <th>date_item_avg_item_cnt</th>\n",
       "    </tr>\n",
       "  </thead>\n",
       "  <tbody>\n",
       "    <tr>\n",
       "      <th>0</th>\n",
       "      <td>0</td>\n",
       "      <td>0</td>\n",
       "      <td>19</td>\n",
       "      <td>0.0</td>\n",
       "      <td>0</td>\n",
       "      <td>0</td>\n",
       "      <td>40</td>\n",
       "      <td>5</td>\n",
       "      <td>4</td>\n",
       "      <td>NaN</td>\n",
       "      <td>NaN</td>\n",
       "      <td>NaN</td>\n",
       "      <td>NaN</td>\n",
       "      <td>NaN</td>\n",
       "      <td>NaN</td>\n",
       "      <td>NaN</td>\n",
       "      <td>NaN</td>\n",
       "      <td>0.022217</td>\n",
       "    </tr>\n",
       "    <tr>\n",
       "      <th>1</th>\n",
       "      <td>0</td>\n",
       "      <td>0</td>\n",
       "      <td>27</td>\n",
       "      <td>0.0</td>\n",
       "      <td>0</td>\n",
       "      <td>0</td>\n",
       "      <td>19</td>\n",
       "      <td>3</td>\n",
       "      <td>10</td>\n",
       "      <td>NaN</td>\n",
       "      <td>NaN</td>\n",
       "      <td>NaN</td>\n",
       "      <td>NaN</td>\n",
       "      <td>NaN</td>\n",
       "      <td>NaN</td>\n",
       "      <td>NaN</td>\n",
       "      <td>NaN</td>\n",
       "      <td>0.155518</td>\n",
       "    </tr>\n",
       "    <tr>\n",
       "      <th>2</th>\n",
       "      <td>0</td>\n",
       "      <td>0</td>\n",
       "      <td>28</td>\n",
       "      <td>0.0</td>\n",
       "      <td>0</td>\n",
       "      <td>0</td>\n",
       "      <td>30</td>\n",
       "      <td>3</td>\n",
       "      <td>55</td>\n",
       "      <td>NaN</td>\n",
       "      <td>NaN</td>\n",
       "      <td>NaN</td>\n",
       "      <td>NaN</td>\n",
       "      <td>NaN</td>\n",
       "      <td>NaN</td>\n",
       "      <td>NaN</td>\n",
       "      <td>NaN</td>\n",
       "      <td>0.177734</td>\n",
       "    </tr>\n",
       "  </tbody>\n",
       "</table>\n",
       "</div>"
      ],
      "text/plain": [
       "   date_block_num  shop_id  item_id  item_cnt_month  city  category  \\\n",
       "0               0        0       19             0.0     0         0   \n",
       "1               0        0       27             0.0     0         0   \n",
       "2               0        0       28             0.0     0         0   \n",
       "\n",
       "   item_category_id  type_code  sub_type_code  item_cnt_month_shifted_1  \\\n",
       "0                40          5              4                       NaN   \n",
       "1                19          3             10                       NaN   \n",
       "2                30          3             55                       NaN   \n",
       "\n",
       "   item_cnt_month_shifted_2  date_item_cat_avg_shifted_1  \\\n",
       "0                       NaN                          NaN   \n",
       "1                       NaN                          NaN   \n",
       "2                       NaN                          NaN   \n",
       "\n",
       "   date_item_cat_avg_shifted_2  date_cat_avg_shifted_1  \\\n",
       "0                          NaN                     NaN   \n",
       "1                          NaN                     NaN   \n",
       "2                          NaN                     NaN   \n",
       "\n",
       "   date_cat_avg_shifted_2  date_avg_item_cnt_shifted_1  \\\n",
       "0                     NaN                          NaN   \n",
       "1                     NaN                          NaN   \n",
       "2                     NaN                          NaN   \n",
       "\n",
       "   date_avg_item_cnt_shifted_2  date_item_avg_item_cnt  \n",
       "0                          NaN                0.022217  \n",
       "1                          NaN                0.155518  \n",
       "2                          NaN                0.177734  "
      ]
     },
     "execution_count": 61,
     "metadata": {},
     "output_type": "execute_result"
    }
   ],
   "source": [
    "group=matrix.groupby(['date_block_num','item_id']).agg({'item_cnt_month':['mean']})\n",
    "group.columns=['date_item_avg_item_cnt']\n",
    "group.reset_index(inplace=True)\n",
    "matrix=pd.merge(matrix,group,on=['date_block_num','item_id'],how='left')\n",
    "matrix.date_item_avg_item_cnt=matrix['date_item_avg_item_cnt'].astype(np.float16)\n",
    "matrix.head(3)"
   ]
  },
  {
   "cell_type": "code",
   "execution_count": 62,
   "id": "da85f9af",
   "metadata": {
    "execution": {
     "iopub.execute_input": "2022-06-26T16:14:10.347358Z",
     "iopub.status.busy": "2022-06-26T16:14:10.346922Z",
     "iopub.status.idle": "2022-06-26T16:14:31.863696Z",
     "shell.execute_reply": "2022-06-26T16:14:31.862776Z"
    },
    "papermill": {
     "duration": 21.598052,
     "end_time": "2022-06-26T16:14:31.866023",
     "exception": false,
     "start_time": "2022-06-26T16:14:10.267971",
     "status": "completed"
    },
    "tags": []
   },
   "outputs": [
    {
     "name": "stdout",
     "output_type": "stream",
     "text": [
      "Adding lag feature in  date_item_avg_item_cnt\n"
     ]
    }
   ],
   "source": [
    "matrix=lag_feature(matrix,[1,2],['date_item_avg_item_cnt'])\n",
    "matrix.drop(['date_item_avg_item_cnt'],inplace=True,axis=1)"
   ]
  },
  {
   "cell_type": "code",
   "execution_count": 63,
   "id": "eb4f2f8b",
   "metadata": {
    "execution": {
     "iopub.execute_input": "2022-06-26T16:14:32.017472Z",
     "iopub.status.busy": "2022-06-26T16:14:32.017157Z",
     "iopub.status.idle": "2022-06-26T16:14:32.021219Z",
     "shell.execute_reply": "2022-06-26T16:14:32.020158Z"
    },
    "papermill": {
     "duration": 0.078722,
     "end_time": "2022-06-26T16:14:32.023316",
     "exception": false,
     "start_time": "2022-06-26T16:14:31.944594",
     "status": "completed"
    },
    "tags": []
   },
   "outputs": [],
   "source": [
    "#group=matrix.groupby(['date_block_num','shop_id','item_id']).agg({'item_cnt_month':['mean']})\n",
    "#group.columns=['date_shop_item_avg_item_cnt']\n",
    "#group.reset_index(inplace=True)\n",
    "#matrix=pd.merge(matrix,group,on=['date_block_num','shop_id','shop_id'],how='left')\n",
    "#matrix.date_shop_item_avg_item_cnt=matrix['date_shop_item_avg_item_cnt'].astype(np.float16)\n",
    "#matrix.head(3)"
   ]
  },
  {
   "cell_type": "code",
   "execution_count": 64,
   "id": "539b5335",
   "metadata": {
    "execution": {
     "iopub.execute_input": "2022-06-26T16:14:32.171141Z",
     "iopub.status.busy": "2022-06-26T16:14:32.170456Z",
     "iopub.status.idle": "2022-06-26T16:14:32.174201Z",
     "shell.execute_reply": "2022-06-26T16:14:32.173351Z"
    },
    "papermill": {
     "duration": 0.080487,
     "end_time": "2022-06-26T16:14:32.175998",
     "exception": false,
     "start_time": "2022-06-26T16:14:32.095511",
     "status": "completed"
    },
    "tags": []
   },
   "outputs": [],
   "source": [
    "#matrix=lag_feature(matrix,[1,2],['date_shop_item_avg_item_cnt'])\n",
    "#matrix.drop(['date_shop_item_avg_item_cnt'],inplace=True,axis=1)"
   ]
  },
  {
   "cell_type": "code",
   "execution_count": 65,
   "id": "0ef1c4b3",
   "metadata": {
    "execution": {
     "iopub.execute_input": "2022-06-26T16:14:32.321757Z",
     "iopub.status.busy": "2022-06-26T16:14:32.321260Z",
     "iopub.status.idle": "2022-06-26T16:14:32.324546Z",
     "shell.execute_reply": "2022-06-26T16:14:32.323721Z"
    },
    "papermill": {
     "duration": 0.078246,
     "end_time": "2022-06-26T16:14:32.326432",
     "exception": false,
     "start_time": "2022-06-26T16:14:32.248186",
     "status": "completed"
    },
    "tags": []
   },
   "outputs": [],
   "source": [
    "#group=matrix.groupby(['date_block_num','city','item_id']).agg({'item_cnt_month':['mean']})\n",
    "#group.columns=['date_city_item_avg_item_cnt']\n",
    "#group.reset_index(inplace=True)\n",
    "#matrix=pd.merge(matrix,group,on=['date_block_num','city','shop_id'],how='left')\n",
    "#matrix.date_city_item_avg_item_cnt=matrix['date_city_item_avg_item_cnt'].astype(np.float16)\n",
    "#matrix.head(3)"
   ]
  },
  {
   "cell_type": "code",
   "execution_count": 66,
   "id": "d60a1496",
   "metadata": {
    "execution": {
     "iopub.execute_input": "2022-06-26T16:14:32.471618Z",
     "iopub.status.busy": "2022-06-26T16:14:32.471326Z",
     "iopub.status.idle": "2022-06-26T16:14:32.474770Z",
     "shell.execute_reply": "2022-06-26T16:14:32.474178Z"
    },
    "papermill": {
     "duration": 0.077655,
     "end_time": "2022-06-26T16:14:32.476682",
     "exception": false,
     "start_time": "2022-06-26T16:14:32.399027",
     "status": "completed"
    },
    "tags": []
   },
   "outputs": [],
   "source": [
    "#matrix=lag_feature(matrix,[1,2],['date_city_item_avg_item_cnt'])\n",
    "#matrix.drop(['date_city_item_avg_item_cnt'],inplace=True,axis=1)"
   ]
  },
  {
   "cell_type": "code",
   "execution_count": 67,
   "id": "4ae152ec",
   "metadata": {
    "execution": {
     "iopub.execute_input": "2022-06-26T16:14:32.624771Z",
     "iopub.status.busy": "2022-06-26T16:14:32.624282Z",
     "iopub.status.idle": "2022-06-26T16:14:37.404934Z",
     "shell.execute_reply": "2022-06-26T16:14:37.404065Z"
    },
    "papermill": {
     "duration": 4.856483,
     "end_time": "2022-06-26T16:14:37.407196",
     "exception": false,
     "start_time": "2022-06-26T16:14:32.550713",
     "status": "completed"
    },
    "tags": []
   },
   "outputs": [],
   "source": [
    "group=train.groupby(['item_id']).agg({'item_price':['mean']})\n",
    "group.columns=['item_id_price_avg']\n",
    "group.reset_index(inplace=True)\n",
    "matrix=pd.merge(matrix,group,on=['item_id'],how='left')\n",
    "matrix['item_id_price_avg']=matrix['item_id_price_avg'].astype(np.float16)"
   ]
  },
  {
   "cell_type": "code",
   "execution_count": 68,
   "id": "10f35506",
   "metadata": {
    "execution": {
     "iopub.execute_input": "2022-06-26T16:14:37.553971Z",
     "iopub.status.busy": "2022-06-26T16:14:37.553474Z",
     "iopub.status.idle": "2022-06-26T16:14:40.942948Z",
     "shell.execute_reply": "2022-06-26T16:14:40.942045Z"
    },
    "papermill": {
     "duration": 3.464537,
     "end_time": "2022-06-26T16:14:40.945310",
     "exception": false,
     "start_time": "2022-06-26T16:14:37.480773",
     "status": "completed"
    },
    "tags": []
   },
   "outputs": [],
   "source": [
    "group=train.groupby(['date_block_num','item_id']).agg({'item_price':['mean']})\n",
    "group.columns=['date_item_id_price_avg']\n",
    "group.reset_index(inplace=True)\n",
    "matrix=pd.merge(matrix,group,on=['date_block_num','item_id'],how='left')\n",
    "matrix['date_item_id_price_avg']=matrix['date_item_id_price_avg'].astype(np.float16)"
   ]
  },
  {
   "cell_type": "code",
   "execution_count": 69,
   "id": "efd516f3",
   "metadata": {
    "execution": {
     "iopub.execute_input": "2022-06-26T16:14:41.091351Z",
     "iopub.status.busy": "2022-06-26T16:14:41.091074Z",
     "iopub.status.idle": "2022-06-26T16:15:02.614516Z",
     "shell.execute_reply": "2022-06-26T16:15:02.613625Z"
    },
    "papermill": {
     "duration": 21.598621,
     "end_time": "2022-06-26T16:15:02.616843",
     "exception": false,
     "start_time": "2022-06-26T16:14:41.018222",
     "status": "completed"
    },
    "tags": []
   },
   "outputs": [
    {
     "name": "stdout",
     "output_type": "stream",
     "text": [
      "Adding lag feature in  date_item_id_price_avg\n"
     ]
    }
   ],
   "source": [
    "matrix=lag_feature(matrix,[1,2],['date_item_id_price_avg'])"
   ]
  },
  {
   "cell_type": "code",
   "execution_count": 70,
   "id": "da82fa1a",
   "metadata": {
    "execution": {
     "iopub.execute_input": "2022-06-26T16:15:02.760566Z",
     "iopub.status.busy": "2022-06-26T16:15:02.760190Z",
     "iopub.status.idle": "2022-06-26T16:15:02.778887Z",
     "shell.execute_reply": "2022-06-26T16:15:02.778063Z"
    },
    "papermill": {
     "duration": 0.092878,
     "end_time": "2022-06-26T16:15:02.780902",
     "exception": false,
     "start_time": "2022-06-26T16:15:02.688024",
     "status": "completed"
    },
    "tags": []
   },
   "outputs": [
    {
     "data": {
      "text/html": [
       "<div>\n",
       "<style scoped>\n",
       "    .dataframe tbody tr th:only-of-type {\n",
       "        vertical-align: middle;\n",
       "    }\n",
       "\n",
       "    .dataframe tbody tr th {\n",
       "        vertical-align: top;\n",
       "    }\n",
       "\n",
       "    .dataframe thead th {\n",
       "        text-align: right;\n",
       "    }\n",
       "</style>\n",
       "<table border=\"1\" class=\"dataframe\">\n",
       "  <thead>\n",
       "    <tr style=\"text-align: right;\">\n",
       "      <th></th>\n",
       "      <th>date_block_num</th>\n",
       "      <th>shop_id</th>\n",
       "      <th>item_id</th>\n",
       "      <th>item_cnt_month</th>\n",
       "      <th>city</th>\n",
       "      <th>category</th>\n",
       "      <th>item_category_id</th>\n",
       "      <th>type_code</th>\n",
       "      <th>sub_type_code</th>\n",
       "      <th>item_cnt_month_shifted_1</th>\n",
       "      <th>...</th>\n",
       "      <th>date_cat_avg_shifted_1</th>\n",
       "      <th>date_cat_avg_shifted_2</th>\n",
       "      <th>date_avg_item_cnt_shifted_1</th>\n",
       "      <th>date_avg_item_cnt_shifted_2</th>\n",
       "      <th>date_item_avg_item_cnt_shifted_1</th>\n",
       "      <th>date_item_avg_item_cnt_shifted_2</th>\n",
       "      <th>item_id_price_avg</th>\n",
       "      <th>date_item_id_price_avg</th>\n",
       "      <th>date_item_id_price_avg_shifted_1</th>\n",
       "      <th>date_item_id_price_avg_shifted_2</th>\n",
       "    </tr>\n",
       "  </thead>\n",
       "  <tbody>\n",
       "    <tr>\n",
       "      <th>0</th>\n",
       "      <td>0</td>\n",
       "      <td>0</td>\n",
       "      <td>19</td>\n",
       "      <td>0.0</td>\n",
       "      <td>0</td>\n",
       "      <td>0</td>\n",
       "      <td>40</td>\n",
       "      <td>5</td>\n",
       "      <td>4</td>\n",
       "      <td>NaN</td>\n",
       "      <td>...</td>\n",
       "      <td>NaN</td>\n",
       "      <td>NaN</td>\n",
       "      <td>NaN</td>\n",
       "      <td>NaN</td>\n",
       "      <td>NaN</td>\n",
       "      <td>NaN</td>\n",
       "      <td>28.0</td>\n",
       "      <td>28.0</td>\n",
       "      <td>NaN</td>\n",
       "      <td>NaN</td>\n",
       "    </tr>\n",
       "    <tr>\n",
       "      <th>1</th>\n",
       "      <td>0</td>\n",
       "      <td>0</td>\n",
       "      <td>27</td>\n",
       "      <td>0.0</td>\n",
       "      <td>0</td>\n",
       "      <td>0</td>\n",
       "      <td>19</td>\n",
       "      <td>3</td>\n",
       "      <td>10</td>\n",
       "      <td>NaN</td>\n",
       "      <td>...</td>\n",
       "      <td>NaN</td>\n",
       "      <td>NaN</td>\n",
       "      <td>NaN</td>\n",
       "      <td>NaN</td>\n",
       "      <td>NaN</td>\n",
       "      <td>NaN</td>\n",
       "      <td>1461.0</td>\n",
       "      <td>2324.0</td>\n",
       "      <td>NaN</td>\n",
       "      <td>NaN</td>\n",
       "    </tr>\n",
       "  </tbody>\n",
       "</table>\n",
       "<p>2 rows × 23 columns</p>\n",
       "</div>"
      ],
      "text/plain": [
       "   date_block_num  shop_id  item_id  item_cnt_month  city  category  \\\n",
       "0               0        0       19             0.0     0         0   \n",
       "1               0        0       27             0.0     0         0   \n",
       "\n",
       "   item_category_id  type_code  sub_type_code  item_cnt_month_shifted_1  ...  \\\n",
       "0                40          5              4                       NaN  ...   \n",
       "1                19          3             10                       NaN  ...   \n",
       "\n",
       "   date_cat_avg_shifted_1  date_cat_avg_shifted_2  \\\n",
       "0                     NaN                     NaN   \n",
       "1                     NaN                     NaN   \n",
       "\n",
       "   date_avg_item_cnt_shifted_1  date_avg_item_cnt_shifted_2  \\\n",
       "0                          NaN                          NaN   \n",
       "1                          NaN                          NaN   \n",
       "\n",
       "   date_item_avg_item_cnt_shifted_1  date_item_avg_item_cnt_shifted_2  \\\n",
       "0                               NaN                               NaN   \n",
       "1                               NaN                               NaN   \n",
       "\n",
       "   item_id_price_avg  date_item_id_price_avg  \\\n",
       "0               28.0                    28.0   \n",
       "1             1461.0                  2324.0   \n",
       "\n",
       "   date_item_id_price_avg_shifted_1  date_item_id_price_avg_shifted_2  \n",
       "0                               NaN                               NaN  \n",
       "1                               NaN                               NaN  \n",
       "\n",
       "[2 rows x 23 columns]"
      ]
     },
     "execution_count": 70,
     "metadata": {},
     "output_type": "execute_result"
    }
   ],
   "source": [
    "matrix.head(2)"
   ]
  },
  {
   "cell_type": "code",
   "execution_count": 71,
   "id": "5fe85721",
   "metadata": {
    "execution": {
     "iopub.execute_input": "2022-06-26T16:15:02.926680Z",
     "iopub.status.busy": "2022-06-26T16:15:02.926414Z",
     "iopub.status.idle": "2022-06-26T16:15:04.744932Z",
     "shell.execute_reply": "2022-06-26T16:15:04.744312Z"
    },
    "papermill": {
     "duration": 1.894987,
     "end_time": "2022-06-26T16:15:04.747041",
     "exception": false,
     "start_time": "2022-06-26T16:15:02.852054",
     "status": "completed"
    },
    "tags": []
   },
   "outputs": [],
   "source": [
    "for i in [1,2]:\n",
    "    matrix['delta_price_shifted_'+str(i)]=(matrix['date_item_id_price_avg_shifted_'+str(i)]-matrix['item_id_price_avg'])/matrix['item_id_price_avg']\n",
    "features_to_drop = [\"item_id_price_avg\", \"date_item_id_price_avg\"]\n",
    "matrix.drop(features_to_drop, axis = 1, inplace = True)"
   ]
  },
  {
   "cell_type": "code",
   "execution_count": 72,
   "id": "3df4ca2f",
   "metadata": {
    "execution": {
     "iopub.execute_input": "2022-06-26T16:15:04.893669Z",
     "iopub.status.busy": "2022-06-26T16:15:04.893185Z",
     "iopub.status.idle": "2022-06-26T16:15:06.542574Z",
     "shell.execute_reply": "2022-06-26T16:15:06.541650Z"
    },
    "papermill": {
     "duration": 1.726039,
     "end_time": "2022-06-26T16:15:06.545234",
     "exception": false,
     "start_time": "2022-06-26T16:15:04.819195",
     "status": "completed"
    },
    "tags": []
   },
   "outputs": [],
   "source": [
    "matrix = matrix[matrix[\"date_block_num\"] > 2]"
   ]
  },
  {
   "cell_type": "code",
   "execution_count": 73,
   "id": "115b644c",
   "metadata": {
    "execution": {
     "iopub.execute_input": "2022-06-26T16:15:06.692550Z",
     "iopub.status.busy": "2022-06-26T16:15:06.691880Z",
     "iopub.status.idle": "2022-06-26T16:15:06.890820Z",
     "shell.execute_reply": "2022-06-26T16:15:06.889932Z"
    },
    "papermill": {
     "duration": 0.275258,
     "end_time": "2022-06-26T16:15:06.893180",
     "exception": false,
     "start_time": "2022-06-26T16:15:06.617922",
     "status": "completed"
    },
    "tags": []
   },
   "outputs": [],
   "source": [
    "from xgboost import XGBRegressor\n",
    "from matplotlib.pylab import rcParams\n",
    "rcParams['figure.figsize'] = 12, 4"
   ]
  },
  {
   "cell_type": "code",
   "execution_count": 74,
   "id": "09800f1a",
   "metadata": {
    "execution": {
     "iopub.execute_input": "2022-06-26T16:15:07.039997Z",
     "iopub.status.busy": "2022-06-26T16:15:07.039684Z",
     "iopub.status.idle": "2022-06-26T16:15:10.959653Z",
     "shell.execute_reply": "2022-06-26T16:15:10.958714Z"
    },
    "papermill": {
     "duration": 3.996427,
     "end_time": "2022-06-26T16:15:10.962504",
     "exception": false,
     "start_time": "2022-06-26T16:15:06.966077",
     "status": "completed"
    },
    "tags": []
   },
   "outputs": [],
   "source": [
    "X_train = matrix[matrix.date_block_num < 33].drop(['item_cnt_month'], axis=1)\n",
    "Y_train = matrix[matrix.date_block_num < 33]['item_cnt_month']\n",
    "X_valid = matrix[matrix.date_block_num == 33].drop(['item_cnt_month'], axis=1)\n",
    "Y_valid = matrix[matrix.date_block_num == 33]['item_cnt_month']\n",
    "X_test = matrix[matrix.date_block_num == 34].drop(['item_cnt_month'], axis=1)"
   ]
  },
  {
   "cell_type": "code",
   "execution_count": 75,
   "id": "098e3d33",
   "metadata": {
    "execution": {
     "iopub.execute_input": "2022-06-26T16:15:11.171648Z",
     "iopub.status.busy": "2022-06-26T16:15:11.170947Z",
     "iopub.status.idle": "2022-06-26T16:15:11.543594Z",
     "shell.execute_reply": "2022-06-26T16:15:11.542603Z"
    },
    "papermill": {
     "duration": 0.456233,
     "end_time": "2022-06-26T16:15:11.546019",
     "exception": false,
     "start_time": "2022-06-26T16:15:11.089786",
     "status": "completed"
    },
    "tags": []
   },
   "outputs": [],
   "source": [
    "Y_train = Y_train.clip(0, 20)\n",
    "Y_valid = Y_valid.clip(0, 20)"
   ]
  },
  {
   "cell_type": "code",
   "execution_count": 76,
   "id": "61b4f4bf",
   "metadata": {
    "execution": {
     "iopub.execute_input": "2022-06-26T16:15:11.694950Z",
     "iopub.status.busy": "2022-06-26T16:15:11.694287Z",
     "iopub.status.idle": "2022-06-26T16:20:42.978639Z",
     "shell.execute_reply": "2022-06-26T16:20:42.977936Z"
    },
    "papermill": {
     "duration": 331.360421,
     "end_time": "2022-06-26T16:20:42.980957",
     "exception": false,
     "start_time": "2022-06-26T16:15:11.620536",
     "status": "completed"
    },
    "tags": []
   },
   "outputs": [
    {
     "name": "stderr",
     "output_type": "stream",
     "text": [
      "/opt/conda/lib/python3.7/site-packages/xgboost/sklearn.py:797: UserWarning: `eval_metric` in `fit` method is deprecated for better compatibility with scikit-learn, use `eval_metric` in constructor or`set_params` instead.\n",
      "  UserWarning,\n",
      "/opt/conda/lib/python3.7/site-packages/xgboost/sklearn.py:797: UserWarning: `early_stopping_rounds` in `fit` method is deprecated for better compatibility with scikit-learn, use `early_stopping_rounds` in constructor or`set_params` instead.\n",
      "  UserWarning,\n"
     ]
    },
    {
     "name": "stdout",
     "output_type": "stream",
     "text": [
      "[0]\tvalidation_0-rmse:1.17804\tvalidation_1-rmse:1.12187\n",
      "[1]\tvalidation_0-rmse:1.13428\tvalidation_1-rmse:1.08729\n",
      "[2]\tvalidation_0-rmse:1.09558\tvalidation_1-rmse:1.05914\n",
      "[3]\tvalidation_0-rmse:1.06352\tvalidation_1-rmse:1.03719\n",
      "[4]\tvalidation_0-rmse:1.03574\tvalidation_1-rmse:1.01769\n",
      "[5]\tvalidation_0-rmse:1.01315\tvalidation_1-rmse:1.00310\n",
      "[6]\tvalidation_0-rmse:0.99458\tvalidation_1-rmse:0.99241\n",
      "[7]\tvalidation_0-rmse:0.97717\tvalidation_1-rmse:0.98208\n",
      "[8]\tvalidation_0-rmse:0.96233\tvalidation_1-rmse:0.97374\n",
      "[9]\tvalidation_0-rmse:0.95031\tvalidation_1-rmse:0.96571\n",
      "[10]\tvalidation_0-rmse:0.93975\tvalidation_1-rmse:0.95968\n",
      "[11]\tvalidation_0-rmse:0.93067\tvalidation_1-rmse:0.95514\n",
      "[12]\tvalidation_0-rmse:0.92235\tvalidation_1-rmse:0.95137\n",
      "[13]\tvalidation_0-rmse:0.91544\tvalidation_1-rmse:0.94812\n",
      "[14]\tvalidation_0-rmse:0.90915\tvalidation_1-rmse:0.94369\n",
      "[15]\tvalidation_0-rmse:0.90378\tvalidation_1-rmse:0.94219\n",
      "[16]\tvalidation_0-rmse:0.89906\tvalidation_1-rmse:0.94080\n",
      "[17]\tvalidation_0-rmse:0.89441\tvalidation_1-rmse:0.93785\n",
      "[18]\tvalidation_0-rmse:0.89039\tvalidation_1-rmse:0.93648\n",
      "[19]\tvalidation_0-rmse:0.88661\tvalidation_1-rmse:0.93536\n",
      "[20]\tvalidation_0-rmse:0.88343\tvalidation_1-rmse:0.93508\n",
      "[21]\tvalidation_0-rmse:0.88081\tvalidation_1-rmse:0.93454\n",
      "[22]\tvalidation_0-rmse:0.87805\tvalidation_1-rmse:0.93367\n",
      "[23]\tvalidation_0-rmse:0.87560\tvalidation_1-rmse:0.93307\n",
      "[24]\tvalidation_0-rmse:0.87279\tvalidation_1-rmse:0.93305\n",
      "[25]\tvalidation_0-rmse:0.87034\tvalidation_1-rmse:0.93279\n",
      "[26]\tvalidation_0-rmse:0.86777\tvalidation_1-rmse:0.93162\n",
      "[27]\tvalidation_0-rmse:0.86536\tvalidation_1-rmse:0.93068\n",
      "[28]\tvalidation_0-rmse:0.86339\tvalidation_1-rmse:0.93074\n",
      "[29]\tvalidation_0-rmse:0.86143\tvalidation_1-rmse:0.93014\n",
      "[30]\tvalidation_0-rmse:0.85815\tvalidation_1-rmse:0.92937\n",
      "[31]\tvalidation_0-rmse:0.85627\tvalidation_1-rmse:0.92900\n",
      "[32]\tvalidation_0-rmse:0.85475\tvalidation_1-rmse:0.92859\n",
      "[33]\tvalidation_0-rmse:0.85262\tvalidation_1-rmse:0.92786\n",
      "[34]\tvalidation_0-rmse:0.85130\tvalidation_1-rmse:0.92755\n",
      "[35]\tvalidation_0-rmse:0.84957\tvalidation_1-rmse:0.92756\n",
      "[36]\tvalidation_0-rmse:0.84812\tvalidation_1-rmse:0.92771\n",
      "[37]\tvalidation_0-rmse:0.84683\tvalidation_1-rmse:0.92786\n",
      "[38]\tvalidation_0-rmse:0.84559\tvalidation_1-rmse:0.92715\n",
      "[39]\tvalidation_0-rmse:0.84421\tvalidation_1-rmse:0.92699\n",
      "[40]\tvalidation_0-rmse:0.84313\tvalidation_1-rmse:0.92602\n",
      "[41]\tvalidation_0-rmse:0.84232\tvalidation_1-rmse:0.92609\n",
      "[42]\tvalidation_0-rmse:0.84120\tvalidation_1-rmse:0.92598\n",
      "[43]\tvalidation_0-rmse:0.84030\tvalidation_1-rmse:0.92620\n",
      "[44]\tvalidation_0-rmse:0.83939\tvalidation_1-rmse:0.92596\n",
      "[45]\tvalidation_0-rmse:0.83789\tvalidation_1-rmse:0.92605\n",
      "[46]\tvalidation_0-rmse:0.83714\tvalidation_1-rmse:0.92600\n",
      "[47]\tvalidation_0-rmse:0.83623\tvalidation_1-rmse:0.92586\n",
      "[48]\tvalidation_0-rmse:0.83534\tvalidation_1-rmse:0.92558\n",
      "[49]\tvalidation_0-rmse:0.83481\tvalidation_1-rmse:0.92533\n",
      "[50]\tvalidation_0-rmse:0.83390\tvalidation_1-rmse:0.92538\n",
      "[51]\tvalidation_0-rmse:0.83317\tvalidation_1-rmse:0.92543\n",
      "[52]\tvalidation_0-rmse:0.83236\tvalidation_1-rmse:0.92506\n",
      "[53]\tvalidation_0-rmse:0.83127\tvalidation_1-rmse:0.92485\n",
      "[54]\tvalidation_0-rmse:0.83018\tvalidation_1-rmse:0.92466\n",
      "[55]\tvalidation_0-rmse:0.82912\tvalidation_1-rmse:0.92440\n",
      "[56]\tvalidation_0-rmse:0.82842\tvalidation_1-rmse:0.92445\n",
      "[57]\tvalidation_0-rmse:0.82754\tvalidation_1-rmse:0.92320\n",
      "[58]\tvalidation_0-rmse:0.82661\tvalidation_1-rmse:0.92327\n",
      "[59]\tvalidation_0-rmse:0.82589\tvalidation_1-rmse:0.92310\n",
      "[60]\tvalidation_0-rmse:0.82531\tvalidation_1-rmse:0.92292\n",
      "[61]\tvalidation_0-rmse:0.82463\tvalidation_1-rmse:0.92311\n",
      "[62]\tvalidation_0-rmse:0.82323\tvalidation_1-rmse:0.92429\n",
      "[63]\tvalidation_0-rmse:0.82243\tvalidation_1-rmse:0.92385\n",
      "[64]\tvalidation_0-rmse:0.82169\tvalidation_1-rmse:0.92330\n",
      "[65]\tvalidation_0-rmse:0.81983\tvalidation_1-rmse:0.92456\n",
      "[66]\tvalidation_0-rmse:0.81942\tvalidation_1-rmse:0.92468\n",
      "[67]\tvalidation_0-rmse:0.81866\tvalidation_1-rmse:0.92471\n",
      "[68]\tvalidation_0-rmse:0.81792\tvalidation_1-rmse:0.92466\n",
      "[69]\tvalidation_0-rmse:0.81713\tvalidation_1-rmse:0.92312\n",
      "[70]\tvalidation_0-rmse:0.81640\tvalidation_1-rmse:0.92273\n",
      "[71]\tvalidation_0-rmse:0.81581\tvalidation_1-rmse:0.92257\n",
      "[72]\tvalidation_0-rmse:0.81520\tvalidation_1-rmse:0.92263\n",
      "[73]\tvalidation_0-rmse:0.81390\tvalidation_1-rmse:0.92349\n",
      "[74]\tvalidation_0-rmse:0.81301\tvalidation_1-rmse:0.92371\n",
      "[75]\tvalidation_0-rmse:0.81248\tvalidation_1-rmse:0.92341\n",
      "[76]\tvalidation_0-rmse:0.81183\tvalidation_1-rmse:0.92340\n",
      "[77]\tvalidation_0-rmse:0.81135\tvalidation_1-rmse:0.92318\n",
      "[78]\tvalidation_0-rmse:0.81073\tvalidation_1-rmse:0.92385\n",
      "[79]\tvalidation_0-rmse:0.81019\tvalidation_1-rmse:0.92374\n",
      "[80]\tvalidation_0-rmse:0.80959\tvalidation_1-rmse:0.92389\n",
      "[81]\tvalidation_0-rmse:0.80913\tvalidation_1-rmse:0.92379\n",
      "[82]\tvalidation_0-rmse:0.80858\tvalidation_1-rmse:0.92368\n",
      "[83]\tvalidation_0-rmse:0.80758\tvalidation_1-rmse:0.92424\n",
      "[84]\tvalidation_0-rmse:0.80720\tvalidation_1-rmse:0.92438\n",
      "[85]\tvalidation_0-rmse:0.80666\tvalidation_1-rmse:0.92617\n",
      "[86]\tvalidation_0-rmse:0.80618\tvalidation_1-rmse:0.92597\n",
      "[87]\tvalidation_0-rmse:0.80573\tvalidation_1-rmse:0.92581\n",
      "[88]\tvalidation_0-rmse:0.80524\tvalidation_1-rmse:0.92577\n",
      "[89]\tvalidation_0-rmse:0.80473\tvalidation_1-rmse:0.92581\n",
      "[90]\tvalidation_0-rmse:0.80425\tvalidation_1-rmse:0.92573\n"
     ]
    },
    {
     "data": {
      "text/plain": [
       "XGBRegressor(base_score=0.5, booster='gbtree', callbacks=None,\n",
       "             colsample_bylevel=1, colsample_bynode=1, colsample_bytree=0.8,\n",
       "             early_stopping_rounds=None, enable_categorical=False, eta=0.1,\n",
       "             eval_metric=None, gamma=0, gpu_id=-1, grow_policy='depthwise',\n",
       "             importance_type=None, interaction_constraints='',\n",
       "             learning_rate=0.100000001, max_bin=256, max_cat_to_onehot=4,\n",
       "             max_delta_step=0, max_depth=10, max_leaves=0, min_child_weight=0.5,\n",
       "             missing=nan, monotone_constraints='()', n_estimators=1000,\n",
       "             n_jobs=0, num_parallel_tree=1, predictor='auto', random_state=42,\n",
       "             reg_alpha=0, ...)"
      ]
     },
     "execution_count": 76,
     "metadata": {},
     "output_type": "execute_result"
    }
   ],
   "source": [
    "model = XGBRegressor(\n",
    "    max_depth=10,\n",
    "    n_estimators=1000,\n",
    "    min_child_weight=0.5, \n",
    "    colsample_bytree=0.8, \n",
    "    subsample=0.8, \n",
    "    eta=0.1,\n",
    "    seed=42)\n",
    "model.fit(\n",
    "    X_train, \n",
    "    Y_train, \n",
    "    eval_metric=\"rmse\", \n",
    "    eval_set=[(X_train, Y_train), (X_valid, Y_valid)], \n",
    "    verbose=True, \n",
    "    early_stopping_rounds = 20)"
   ]
  },
  {
   "cell_type": "code",
   "execution_count": 77,
   "id": "6670916a",
   "metadata": {
    "execution": {
     "iopub.execute_input": "2022-06-26T16:20:43.179979Z",
     "iopub.status.busy": "2022-06-26T16:20:43.179153Z",
     "iopub.status.idle": "2022-06-26T16:20:44.349448Z",
     "shell.execute_reply": "2022-06-26T16:20:44.348871Z"
    },
    "papermill": {
     "duration": 1.272535,
     "end_time": "2022-06-26T16:20:44.351553",
     "exception": false,
     "start_time": "2022-06-26T16:20:43.079018",
     "status": "completed"
    },
    "tags": []
   },
   "outputs": [],
   "source": [
    "Y_pred = model.predict(X_valid).clip(0, 20)\n",
    "Y_test = model.predict(X_test).clip(0, 20)\n",
    "\n",
    "submission = pd.DataFrame({\n",
    "    \"ID\": test.index, \n",
    "    \"item_cnt_month\": Y_test\n",
    "})\n",
    "submission.to_csv('submission.csv', index=False)\n"
   ]
  },
  {
   "cell_type": "code",
   "execution_count": 78,
   "id": "2d2c9a08",
   "metadata": {
    "execution": {
     "iopub.execute_input": "2022-06-26T16:20:44.550032Z",
     "iopub.status.busy": "2022-06-26T16:20:44.549593Z",
     "iopub.status.idle": "2022-06-26T16:20:44.997701Z",
     "shell.execute_reply": "2022-06-26T16:20:44.996772Z"
    },
    "papermill": {
     "duration": 0.550573,
     "end_time": "2022-06-26T16:20:44.999682",
     "exception": false,
     "start_time": "2022-06-26T16:20:44.449109",
     "status": "completed"
    },
    "tags": []
   },
   "outputs": [
    {
     "data": {
      "text/plain": [
       "<AxesSubplot:title={'center':'Feature importance'}, xlabel='F score', ylabel='Features'>"
      ]
     },
     "execution_count": 78,
     "metadata": {},
     "output_type": "execute_result"
    },
    {
     "data": {
      "image/png": "[encoded data removed]",
      "text/plain": [
       "<Figure size 720x1008 with 1 Axes>"
      ]
     },
     "metadata": {
      "needs_background": "light"
     },
     "output_type": "display_data"
    }
   ],
   "source": [
    "from xgboost import plot_importance\n",
    "\n",
    "def plot_features(booster, figsize):    \n",
    "    fig, ax = plt.subplots(1,1,figsize=figsize)\n",
    "    return plot_importance(booster=booster, ax=ax)\n",
    "\n",
    "plot_features(model, (10,14))"
   ]
  }
 ],
 "metadata": {
  "kernelspec": {
   "display_name": "Python 3",
   "language": "python",
   "name": "python3"
  },
  "language_info": {
   "codemirror_mode": {
    "name": "ipython",
    "version": 3
   },
   "file_extension": ".py",
   "mimetype": "text/x-python",
   "name": "python",
   "nbconvert_exporter": "python",
   "pygments_lexer": "ipython3",
   "version": "3.7.12"
  },
  "papermill": {
   "default_parameters": {},
   "duration": 541.765685,
   "end_time": "2022-06-26T16:20:46.224265",
   "environment_variables": {},
   "exception": null,
   "input_path": "__notebook__.ipynb",
   "output_path": "__notebook__.ipynb",
   "parameters": {},
   "start_time": "2022-06-26T16:11:44.458580",
   "version": "2.3.4"
  }
 },
 "nbformat": 4,
 "nbformat_minor": 5
}
