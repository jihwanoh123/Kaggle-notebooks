{
 "cells": [
  {
   "cell_type": "markdown",
   "id": "627ffad7",
   "metadata": {
    "papermill": {
     "duration": 0.009825,
     "end_time": "2023-02-13T17:00:39.400917",
     "exception": false,
     "start_time": "2023-02-13T17:00:39.391092",
     "status": "completed"
    },
    "tags": []
   },
   "source": [
    "Since the previous notebooks already did a great job in data exploration, I would focus on implementing models."
   ]
  },
  {
   "cell_type": "code",
   "execution_count": 1,
   "id": "a8e2fc91",
   "metadata": {
    "execution": {
     "iopub.execute_input": "2023-02-13T17:00:39.420806Z",
     "iopub.status.busy": "2023-02-13T17:00:39.420195Z",
     "iopub.status.idle": "2023-02-13T17:00:40.541448Z",
     "shell.execute_reply": "2023-02-13T17:00:40.540190Z"
    },
    "papermill": {
     "duration": 1.13512,
     "end_time": "2023-02-13T17:00:40.544779",
     "exception": false,
     "start_time": "2023-02-13T17:00:39.409659",
     "status": "completed"
    },
    "tags": []
   },
   "outputs": [],
   "source": [
    "#Load essential packages\n",
    "import pandas as pd\n",
    "import numpy as np\n",
    "import matplotlib.pyplot as plt\n",
    "import seaborn as sns"
   ]
  },
  {
   "cell_type": "code",
   "execution_count": 2,
   "id": "9e270209",
   "metadata": {
    "execution": {
     "iopub.execute_input": "2023-02-13T17:00:40.564071Z",
     "iopub.status.busy": "2023-02-13T17:00:40.563270Z",
     "iopub.status.idle": "2023-02-13T17:00:40.634122Z",
     "shell.execute_reply": "2023-02-13T17:00:40.632743Z"
    },
    "papermill": {
     "duration": 0.083588,
     "end_time": "2023-02-13T17:00:40.636881",
     "exception": false,
     "start_time": "2023-02-13T17:00:40.553293",
     "status": "completed"
    },
    "tags": []
   },
   "outputs": [
    {
     "data": {
      "text/html": [
       "<div>\n",
       "<style scoped>\n",
       "    .dataframe tbody tr th:only-of-type {\n",
       "        vertical-align: middle;\n",
       "    }\n",
       "\n",
       "    .dataframe tbody tr th {\n",
       "        vertical-align: top;\n",
       "    }\n",
       "\n",
       "    .dataframe thead th {\n",
       "        text-align: right;\n",
       "    }\n",
       "</style>\n",
       "<table border=\"1\" class=\"dataframe\">\n",
       "  <thead>\n",
       "    <tr style=\"text-align: right;\">\n",
       "      <th></th>\n",
       "      <th>GameID</th>\n",
       "      <th>LeagueIndex</th>\n",
       "      <th>Age</th>\n",
       "      <th>HoursPerWeek</th>\n",
       "      <th>TotalHours</th>\n",
       "      <th>APM</th>\n",
       "      <th>SelectByHotkeys</th>\n",
       "      <th>AssignToHotkeys</th>\n",
       "      <th>UniqueHotkeys</th>\n",
       "      <th>MinimapAttacks</th>\n",
       "      <th>MinimapRightClicks</th>\n",
       "      <th>NumberOfPACs</th>\n",
       "      <th>GapBetweenPACs</th>\n",
       "      <th>ActionLatency</th>\n",
       "      <th>ActionsInPAC</th>\n",
       "      <th>TotalMapExplored</th>\n",
       "      <th>WorkersMade</th>\n",
       "      <th>UniqueUnitsMade</th>\n",
       "      <th>ComplexUnitsMade</th>\n",
       "      <th>ComplexAbilitiesUsed</th>\n",
       "    </tr>\n",
       "  </thead>\n",
       "  <tbody>\n",
       "    <tr>\n",
       "      <th>0</th>\n",
       "      <td>52</td>\n",
       "      <td>5</td>\n",
       "      <td>27</td>\n",
       "      <td>10</td>\n",
       "      <td>3000</td>\n",
       "      <td>143.7180</td>\n",
       "      <td>0.003515</td>\n",
       "      <td>0.000220</td>\n",
       "      <td>7</td>\n",
       "      <td>0.000110</td>\n",
       "      <td>0.000392</td>\n",
       "      <td>0.004849</td>\n",
       "      <td>32.6677</td>\n",
       "      <td>40.8673</td>\n",
       "      <td>4.7508</td>\n",
       "      <td>28</td>\n",
       "      <td>0.001397</td>\n",
       "      <td>6</td>\n",
       "      <td>0.0</td>\n",
       "      <td>0.000000</td>\n",
       "    </tr>\n",
       "    <tr>\n",
       "      <th>1</th>\n",
       "      <td>55</td>\n",
       "      <td>5</td>\n",
       "      <td>23</td>\n",
       "      <td>10</td>\n",
       "      <td>5000</td>\n",
       "      <td>129.2322</td>\n",
       "      <td>0.003304</td>\n",
       "      <td>0.000259</td>\n",
       "      <td>4</td>\n",
       "      <td>0.000294</td>\n",
       "      <td>0.000432</td>\n",
       "      <td>0.004307</td>\n",
       "      <td>32.9194</td>\n",
       "      <td>42.3454</td>\n",
       "      <td>4.8434</td>\n",
       "      <td>22</td>\n",
       "      <td>0.001193</td>\n",
       "      <td>5</td>\n",
       "      <td>0.0</td>\n",
       "      <td>0.000208</td>\n",
       "    </tr>\n",
       "    <tr>\n",
       "      <th>2</th>\n",
       "      <td>56</td>\n",
       "      <td>4</td>\n",
       "      <td>30</td>\n",
       "      <td>10</td>\n",
       "      <td>200</td>\n",
       "      <td>69.9612</td>\n",
       "      <td>0.001101</td>\n",
       "      <td>0.000336</td>\n",
       "      <td>4</td>\n",
       "      <td>0.000294</td>\n",
       "      <td>0.000461</td>\n",
       "      <td>0.002926</td>\n",
       "      <td>44.6475</td>\n",
       "      <td>75.3548</td>\n",
       "      <td>4.0430</td>\n",
       "      <td>22</td>\n",
       "      <td>0.000745</td>\n",
       "      <td>6</td>\n",
       "      <td>0.0</td>\n",
       "      <td>0.000189</td>\n",
       "    </tr>\n",
       "  </tbody>\n",
       "</table>\n",
       "</div>"
      ],
      "text/plain": [
       "   GameID  LeagueIndex Age HoursPerWeek TotalHours       APM  SelectByHotkeys  \\\n",
       "0      52            5  27           10       3000  143.7180         0.003515   \n",
       "1      55            5  23           10       5000  129.2322         0.003304   \n",
       "2      56            4  30           10        200   69.9612         0.001101   \n",
       "\n",
       "   AssignToHotkeys  UniqueHotkeys  MinimapAttacks  MinimapRightClicks  \\\n",
       "0         0.000220              7        0.000110            0.000392   \n",
       "1         0.000259              4        0.000294            0.000432   \n",
       "2         0.000336              4        0.000294            0.000461   \n",
       "\n",
       "   NumberOfPACs  GapBetweenPACs  ActionLatency  ActionsInPAC  \\\n",
       "0      0.004849         32.6677        40.8673        4.7508   \n",
       "1      0.004307         32.9194        42.3454        4.8434   \n",
       "2      0.002926         44.6475        75.3548        4.0430   \n",
       "\n",
       "   TotalMapExplored  WorkersMade  UniqueUnitsMade  ComplexUnitsMade  \\\n",
       "0                28     0.001397                6               0.0   \n",
       "1                22     0.001193                5               0.0   \n",
       "2                22     0.000745                6               0.0   \n",
       "\n",
       "   ComplexAbilitiesUsed  \n",
       "0              0.000000  \n",
       "1              0.000208  \n",
       "2              0.000189  "
      ]
     },
     "execution_count": 2,
     "metadata": {},
     "output_type": "execute_result"
    }
   ],
   "source": [
    "#Preview\n",
    "df=pd.read_csv('/kaggle/input/starcraft-players-dataset/starcraft_player_data.csv')\n",
    "df.head(3)"
   ]
  },
  {
   "cell_type": "code",
   "execution_count": 3,
   "id": "047d024e",
   "metadata": {
    "execution": {
     "iopub.execute_input": "2023-02-13T17:00:40.657042Z",
     "iopub.status.busy": "2023-02-13T17:00:40.656011Z",
     "iopub.status.idle": "2023-02-13T17:00:40.664138Z",
     "shell.execute_reply": "2023-02-13T17:00:40.662759Z"
    },
    "papermill": {
     "duration": 0.020773,
     "end_time": "2023-02-13T17:00:40.666871",
     "exception": false,
     "start_time": "2023-02-13T17:00:40.646098",
     "status": "completed"
    },
    "tags": []
   },
   "outputs": [
    {
     "data": {
      "text/plain": [
       "(3395, 20)"
      ]
     },
     "execution_count": 3,
     "metadata": {},
     "output_type": "execute_result"
    }
   ],
   "source": [
    "#See the shape of the dataset\n",
    "df.shape"
   ]
  },
  {
   "cell_type": "code",
   "execution_count": 4,
   "id": "c2e3554d",
   "metadata": {
    "execution": {
     "iopub.execute_input": "2023-02-13T17:00:40.686619Z",
     "iopub.status.busy": "2023-02-13T17:00:40.686206Z",
     "iopub.status.idle": "2023-02-13T17:00:40.706321Z",
     "shell.execute_reply": "2023-02-13T17:00:40.705196Z"
    },
    "papermill": {
     "duration": 0.033285,
     "end_time": "2023-02-13T17:00:40.708924",
     "exception": false,
     "start_time": "2023-02-13T17:00:40.675639",
     "status": "completed"
    },
    "tags": []
   },
   "outputs": [],
   "source": [
    "#Performing a first check, I noticed some ?'s \n",
    "df.drop(df[df['Age']=='?'].index,inplace=True)\n",
    "df.drop(df[df['TotalHours']=='?'].index,inplace=True)"
   ]
  },
  {
   "cell_type": "code",
   "execution_count": 5,
   "id": "69ee541f",
   "metadata": {
    "execution": {
     "iopub.execute_input": "2023-02-13T17:00:40.729699Z",
     "iopub.status.busy": "2023-02-13T17:00:40.728584Z",
     "iopub.status.idle": "2023-02-13T17:00:40.740940Z",
     "shell.execute_reply": "2023-02-13T17:00:40.739575Z"
    },
    "papermill": {
     "duration": 0.025244,
     "end_time": "2023-02-13T17:00:40.743609",
     "exception": false,
     "start_time": "2023-02-13T17:00:40.718365",
     "status": "completed"
    },
    "tags": []
   },
   "outputs": [
    {
     "data": {
      "text/plain": [
       "GameID                  0\n",
       "LeagueIndex             0\n",
       "Age                     0\n",
       "HoursPerWeek            0\n",
       "TotalHours              0\n",
       "APM                     0\n",
       "SelectByHotkeys         0\n",
       "AssignToHotkeys         0\n",
       "UniqueHotkeys           0\n",
       "MinimapAttacks          0\n",
       "MinimapRightClicks      0\n",
       "NumberOfPACs            0\n",
       "GapBetweenPACs          0\n",
       "ActionLatency           0\n",
       "ActionsInPAC            0\n",
       "TotalMapExplored        0\n",
       "WorkersMade             0\n",
       "UniqueUnitsMade         0\n",
       "ComplexUnitsMade        0\n",
       "ComplexAbilitiesUsed    0\n",
       "dtype: int64"
      ]
     },
     "execution_count": 5,
     "metadata": {},
     "output_type": "execute_result"
    }
   ],
   "source": [
    "#Is there any Null values? no\n",
    "df.isna().sum()"
   ]
  },
  {
   "cell_type": "code",
   "execution_count": 6,
   "id": "2fc91eec",
   "metadata": {
    "execution": {
     "iopub.execute_input": "2023-02-13T17:00:40.763880Z",
     "iopub.status.busy": "2023-02-13T17:00:40.762949Z",
     "iopub.status.idle": "2023-02-13T17:00:40.771541Z",
     "shell.execute_reply": "2023-02-13T17:00:40.770158Z"
    },
    "papermill": {
     "duration": 0.021413,
     "end_time": "2023-02-13T17:00:40.773989",
     "exception": false,
     "start_time": "2023-02-13T17:00:40.752576",
     "status": "completed"
    },
    "tags": []
   },
   "outputs": [
    {
     "name": "stdout",
     "output_type": "stream",
     "text": [
      "GameID int64\n",
      "LeagueIndex int64\n",
      "Age object\n",
      "HoursPerWeek object\n",
      "TotalHours object\n",
      "APM float64\n",
      "SelectByHotkeys float64\n",
      "AssignToHotkeys float64\n",
      "UniqueHotkeys int64\n",
      "MinimapAttacks float64\n",
      "MinimapRightClicks float64\n",
      "NumberOfPACs float64\n",
      "GapBetweenPACs float64\n",
      "ActionLatency float64\n",
      "ActionsInPAC float64\n",
      "TotalMapExplored int64\n",
      "WorkersMade float64\n",
      "UniqueUnitsMade int64\n",
      "ComplexUnitsMade float64\n",
      "ComplexAbilitiesUsed float64\n"
     ]
    }
   ],
   "source": [
    "#While checking Age column, I noticed the data type is Object,\n",
    "for col in df.columns:\n",
    "    print(col,df[col].dtype)"
   ]
  },
  {
   "cell_type": "code",
   "execution_count": 7,
   "id": "ff7bff4e",
   "metadata": {
    "execution": {
     "iopub.execute_input": "2023-02-13T17:00:40.795215Z",
     "iopub.status.busy": "2023-02-13T17:00:40.794757Z",
     "iopub.status.idle": "2023-02-13T17:00:40.805787Z",
     "shell.execute_reply": "2023-02-13T17:00:40.804239Z"
    },
    "papermill": {
     "duration": 0.02547,
     "end_time": "2023-02-13T17:00:40.808555",
     "exception": false,
     "start_time": "2023-02-13T17:00:40.783085",
     "status": "completed"
    },
    "tags": []
   },
   "outputs": [],
   "source": [
    "#so, convert those into integers.\n",
    "df = df.astype({\"Age\": int,\"HoursPerWeek\": int,\"TotalHours\":int})"
   ]
  },
  {
   "cell_type": "code",
   "execution_count": 8,
   "id": "a26bd4ac",
   "metadata": {
    "execution": {
     "iopub.execute_input": "2023-02-13T17:00:40.828724Z",
     "iopub.status.busy": "2023-02-13T17:00:40.828292Z",
     "iopub.status.idle": "2023-02-13T17:00:41.139747Z",
     "shell.execute_reply": "2023-02-13T17:00:41.138520Z"
    },
    "papermill": {
     "duration": 0.324586,
     "end_time": "2023-02-13T17:00:41.142248",
     "exception": false,
     "start_time": "2023-02-13T17:00:40.817662",
     "status": "completed"
    },
    "tags": []
   },
   "outputs": [
    {
     "name": "stderr",
     "output_type": "stream",
     "text": [
      "/opt/conda/lib/python3.7/site-packages/seaborn/distributions.py:2619: FutureWarning: `distplot` is a deprecated function and will be removed in a future version. Please adapt your code to use either `displot` (a figure-level function with similar flexibility) or `histplot` (an axes-level function for histograms).\n",
      "  warnings.warn(msg, FutureWarning)\n"
     ]
    },
    {
     "data": {
      "text/plain": [
       "<AxesSubplot:xlabel='HoursPerWeek', ylabel='Density'>"
      ]
     },
     "execution_count": 8,
     "metadata": {},
     "output_type": "execute_result"
    },
    {
     "data": {
      "image/png": "[encoded data removed]",
      "text/plain": [
       "<Figure size 432x288 with 1 Axes>"
      ]
     },
     "metadata": {
      "needs_background": "light"
     },
     "output_type": "display_data"
    }
   ],
   "source": [
    "#Perform some initial exploration\n",
    "sns.distplot(df['HoursPerWeek'])"
   ]
  },
  {
   "cell_type": "code",
   "execution_count": 9,
   "id": "54daa1dc",
   "metadata": {
    "execution": {
     "iopub.execute_input": "2023-02-13T17:00:41.164132Z",
     "iopub.status.busy": "2023-02-13T17:00:41.163695Z",
     "iopub.status.idle": "2023-02-13T17:00:41.316412Z",
     "shell.execute_reply": "2023-02-13T17:00:41.315245Z"
    },
    "papermill": {
     "duration": 0.166541,
     "end_time": "2023-02-13T17:00:41.319227",
     "exception": false,
     "start_time": "2023-02-13T17:00:41.152686",
     "status": "completed"
    },
    "tags": []
   },
   "outputs": [
    {
     "data": {
      "text/plain": [
       "(array([ 827., 1014.,  798.,  415.,  125.,   82.,   47.,   18.,   10.,\n",
       "           2.]),\n",
       " array([16. , 18.8, 21.6, 24.4, 27.2, 30. , 32.8, 35.6, 38.4, 41.2, 44. ]),\n",
       " <BarContainer object of 10 artists>)"
      ]
     },
     "execution_count": 9,
     "metadata": {},
     "output_type": "execute_result"
    },
    {
     "data": {
      "image/png": "[encoded data removed]",
      "text/plain": [
       "<Figure size 432x288 with 1 Axes>"
      ]
     },
     "metadata": {
      "needs_background": "light"
     },
     "output_type": "display_data"
    }
   ],
   "source": [
    "plt.hist(df['Age'],bins=10)"
   ]
  },
  {
   "cell_type": "code",
   "execution_count": 10,
   "id": "b49e3d2d",
   "metadata": {
    "execution": {
     "iopub.execute_input": "2023-02-13T17:00:41.341400Z",
     "iopub.status.busy": "2023-02-13T17:00:41.340007Z",
     "iopub.status.idle": "2023-02-13T17:00:41.364457Z",
     "shell.execute_reply": "2023-02-13T17:00:41.363130Z"
    },
    "papermill": {
     "duration": 0.037998,
     "end_time": "2023-02-13T17:00:41.366966",
     "exception": false,
     "start_time": "2023-02-13T17:00:41.328968",
     "status": "completed"
    },
    "tags": []
   },
   "outputs": [
    {
     "data": {
      "text/html": [
       "<div>\n",
       "<style scoped>\n",
       "    .dataframe tbody tr th:only-of-type {\n",
       "        vertical-align: middle;\n",
       "    }\n",
       "\n",
       "    .dataframe tbody tr th {\n",
       "        vertical-align: top;\n",
       "    }\n",
       "\n",
       "    .dataframe thead th {\n",
       "        text-align: right;\n",
       "    }\n",
       "</style>\n",
       "<table border=\"1\" class=\"dataframe\">\n",
       "  <thead>\n",
       "    <tr style=\"text-align: right;\">\n",
       "      <th></th>\n",
       "      <th>GameID</th>\n",
       "      <th>Age</th>\n",
       "      <th>HoursPerWeek</th>\n",
       "      <th>TotalHours</th>\n",
       "      <th>APM</th>\n",
       "      <th>SelectByHotkeys</th>\n",
       "      <th>AssignToHotkeys</th>\n",
       "      <th>UniqueHotkeys</th>\n",
       "      <th>MinimapAttacks</th>\n",
       "      <th>MinimapRightClicks</th>\n",
       "      <th>NumberOfPACs</th>\n",
       "      <th>GapBetweenPACs</th>\n",
       "      <th>ActionLatency</th>\n",
       "      <th>ActionsInPAC</th>\n",
       "      <th>TotalMapExplored</th>\n",
       "      <th>WorkersMade</th>\n",
       "      <th>UniqueUnitsMade</th>\n",
       "      <th>ComplexUnitsMade</th>\n",
       "      <th>ComplexAbilitiesUsed</th>\n",
       "    </tr>\n",
       "  </thead>\n",
       "  <tbody>\n",
       "    <tr>\n",
       "      <th>0</th>\n",
       "      <td>52</td>\n",
       "      <td>27</td>\n",
       "      <td>10</td>\n",
       "      <td>3000</td>\n",
       "      <td>143.7180</td>\n",
       "      <td>0.003515</td>\n",
       "      <td>0.000220</td>\n",
       "      <td>7</td>\n",
       "      <td>0.000110</td>\n",
       "      <td>0.000392</td>\n",
       "      <td>0.004849</td>\n",
       "      <td>32.6677</td>\n",
       "      <td>40.8673</td>\n",
       "      <td>4.7508</td>\n",
       "      <td>28</td>\n",
       "      <td>0.001397</td>\n",
       "      <td>6</td>\n",
       "      <td>0.0</td>\n",
       "      <td>0.000000</td>\n",
       "    </tr>\n",
       "    <tr>\n",
       "      <th>1</th>\n",
       "      <td>55</td>\n",
       "      <td>23</td>\n",
       "      <td>10</td>\n",
       "      <td>5000</td>\n",
       "      <td>129.2322</td>\n",
       "      <td>0.003304</td>\n",
       "      <td>0.000259</td>\n",
       "      <td>4</td>\n",
       "      <td>0.000294</td>\n",
       "      <td>0.000432</td>\n",
       "      <td>0.004307</td>\n",
       "      <td>32.9194</td>\n",
       "      <td>42.3454</td>\n",
       "      <td>4.8434</td>\n",
       "      <td>22</td>\n",
       "      <td>0.001193</td>\n",
       "      <td>5</td>\n",
       "      <td>0.0</td>\n",
       "      <td>0.000208</td>\n",
       "    </tr>\n",
       "    <tr>\n",
       "      <th>2</th>\n",
       "      <td>56</td>\n",
       "      <td>30</td>\n",
       "      <td>10</td>\n",
       "      <td>200</td>\n",
       "      <td>69.9612</td>\n",
       "      <td>0.001101</td>\n",
       "      <td>0.000336</td>\n",
       "      <td>4</td>\n",
       "      <td>0.000294</td>\n",
       "      <td>0.000461</td>\n",
       "      <td>0.002926</td>\n",
       "      <td>44.6475</td>\n",
       "      <td>75.3548</td>\n",
       "      <td>4.0430</td>\n",
       "      <td>22</td>\n",
       "      <td>0.000745</td>\n",
       "      <td>6</td>\n",
       "      <td>0.0</td>\n",
       "      <td>0.000189</td>\n",
       "    </tr>\n",
       "  </tbody>\n",
       "</table>\n",
       "</div>"
      ],
      "text/plain": [
       "   GameID  Age  HoursPerWeek  TotalHours       APM  SelectByHotkeys  \\\n",
       "0      52   27            10        3000  143.7180         0.003515   \n",
       "1      55   23            10        5000  129.2322         0.003304   \n",
       "2      56   30            10         200   69.9612         0.001101   \n",
       "\n",
       "   AssignToHotkeys  UniqueHotkeys  MinimapAttacks  MinimapRightClicks  \\\n",
       "0         0.000220              7        0.000110            0.000392   \n",
       "1         0.000259              4        0.000294            0.000432   \n",
       "2         0.000336              4        0.000294            0.000461   \n",
       "\n",
       "   NumberOfPACs  GapBetweenPACs  ActionLatency  ActionsInPAC  \\\n",
       "0      0.004849         32.6677        40.8673        4.7508   \n",
       "1      0.004307         32.9194        42.3454        4.8434   \n",
       "2      0.002926         44.6475        75.3548        4.0430   \n",
       "\n",
       "   TotalMapExplored  WorkersMade  UniqueUnitsMade  ComplexUnitsMade  \\\n",
       "0                28     0.001397                6               0.0   \n",
       "1                22     0.001193                5               0.0   \n",
       "2                22     0.000745                6               0.0   \n",
       "\n",
       "   ComplexAbilitiesUsed  \n",
       "0              0.000000  \n",
       "1              0.000208  \n",
       "2              0.000189  "
      ]
     },
     "execution_count": 10,
     "metadata": {},
     "output_type": "execute_result"
    }
   ],
   "source": [
    "#Split x,y\n",
    "y=df['LeagueIndex']\n",
    "df.drop('LeagueIndex',axis=1,inplace=True)\n",
    "x=df\n",
    "x.head(3)"
   ]
  },
  {
   "cell_type": "code",
   "execution_count": 11,
   "id": "40a9cceb",
   "metadata": {
    "execution": {
     "iopub.execute_input": "2023-02-13T17:00:41.389350Z",
     "iopub.status.busy": "2023-02-13T17:00:41.388879Z",
     "iopub.status.idle": "2023-02-13T17:00:41.396702Z",
     "shell.execute_reply": "2023-02-13T17:00:41.395360Z"
    },
    "papermill": {
     "duration": 0.023685,
     "end_time": "2023-02-13T17:00:41.400932",
     "exception": false,
     "start_time": "2023-02-13T17:00:41.377247",
     "status": "completed"
    },
    "tags": []
   },
   "outputs": [
    {
     "name": "stdout",
     "output_type": "stream",
     "text": [
      "GameID int64\n",
      "Age int64\n",
      "HoursPerWeek int64\n",
      "TotalHours int64\n",
      "APM float64\n",
      "SelectByHotkeys float64\n",
      "AssignToHotkeys float64\n",
      "UniqueHotkeys int64\n",
      "MinimapAttacks float64\n",
      "MinimapRightClicks float64\n",
      "NumberOfPACs float64\n",
      "GapBetweenPACs float64\n",
      "ActionLatency float64\n",
      "ActionsInPAC float64\n",
      "TotalMapExplored int64\n",
      "WorkersMade float64\n",
      "UniqueUnitsMade int64\n",
      "ComplexUnitsMade float64\n",
      "ComplexAbilitiesUsed float64\n"
     ]
    }
   ],
   "source": [
    "#While checking Age column, I noticed the data type is Object,\n",
    "for col in df.columns:\n",
    "    print(col,df[col].dtype)"
   ]
  },
  {
   "cell_type": "code",
   "execution_count": 12,
   "id": "fc57eefe",
   "metadata": {
    "execution": {
     "iopub.execute_input": "2023-02-13T17:00:41.422823Z",
     "iopub.status.busy": "2023-02-13T17:00:41.422362Z",
     "iopub.status.idle": "2023-02-13T17:00:41.429347Z",
     "shell.execute_reply": "2023-02-13T17:00:41.428160Z"
    },
    "papermill": {
     "duration": 0.020575,
     "end_time": "2023-02-13T17:00:41.431642",
     "exception": false,
     "start_time": "2023-02-13T17:00:41.411067",
     "status": "completed"
    },
    "tags": []
   },
   "outputs": [],
   "source": [
    "x.drop(['GameID'],axis=1,inplace=True)"
   ]
  },
  {
   "cell_type": "code",
   "execution_count": 13,
   "id": "83aa850a",
   "metadata": {
    "execution": {
     "iopub.execute_input": "2023-02-13T17:00:41.453752Z",
     "iopub.status.busy": "2023-02-13T17:00:41.453259Z",
     "iopub.status.idle": "2023-02-13T17:00:41.464908Z",
     "shell.execute_reply": "2023-02-13T17:00:41.463983Z"
    },
    "papermill": {
     "duration": 0.025614,
     "end_time": "2023-02-13T17:00:41.467413",
     "exception": false,
     "start_time": "2023-02-13T17:00:41.441799",
     "status": "completed"
    },
    "tags": []
   },
   "outputs": [
    {
     "data": {
      "text/plain": [
       "Age                      21.650389\n",
       "HoursPerWeek             15.909527\n",
       "TotalHours              960.421809\n",
       "APM                     114.575763\n",
       "SelectByHotkeys           0.004023\n",
       "AssignToHotkeys           0.000364\n",
       "UniqueHotkeys             4.316357\n",
       "MinimapAttacks            0.000094\n",
       "MinimapRightClicks        0.000380\n",
       "NumberOfPACs              0.003433\n",
       "GapBetweenPACs           40.713819\n",
       "ActionLatency            64.209584\n",
       "ActionsInPAC              5.266955\n",
       "TotalMapExplored         22.116836\n",
       "WorkersMade               0.001031\n",
       "UniqueUnitsMade           6.541043\n",
       "ComplexUnitsMade          0.000060\n",
       "ComplexAbilitiesUsed      0.000142\n",
       "dtype: float64"
      ]
     },
     "execution_count": 13,
     "metadata": {},
     "output_type": "execute_result"
    }
   ],
   "source": [
    "x.mean()"
   ]
  },
  {
   "cell_type": "code",
   "execution_count": 14,
   "id": "d14ebb1a",
   "metadata": {
    "execution": {
     "iopub.execute_input": "2023-02-13T17:00:41.489975Z",
     "iopub.status.busy": "2023-02-13T17:00:41.489133Z",
     "iopub.status.idle": "2023-02-13T17:00:41.500232Z",
     "shell.execute_reply": "2023-02-13T17:00:41.498972Z"
    },
    "papermill": {
     "duration": 0.025321,
     "end_time": "2023-02-13T17:00:41.503008",
     "exception": false,
     "start_time": "2023-02-13T17:00:41.477687",
     "status": "completed"
    },
    "tags": []
   },
   "outputs": [],
   "source": [
    "#Since numeric data has different scale, it would be nice to\n",
    "#Seperate them into two different groups to do outlier analysis\n",
    "integers=[]\n",
    "floats=[]\n",
    "for col in x.columns:\n",
    "    if x[col].mean()>1:\n",
    "        integers.append(col)\n",
    "    else:\n",
    "        floats.append(col)"
   ]
  },
  {
   "cell_type": "code",
   "execution_count": 15,
   "id": "19e59486",
   "metadata": {
    "execution": {
     "iopub.execute_input": "2023-02-13T17:00:41.526183Z",
     "iopub.status.busy": "2023-02-13T17:00:41.525770Z",
     "iopub.status.idle": "2023-02-13T17:00:42.403523Z",
     "shell.execute_reply": "2023-02-13T17:00:42.402135Z"
    },
    "papermill": {
     "duration": 0.892799,
     "end_time": "2023-02-13T17:00:42.406243",
     "exception": false,
     "start_time": "2023-02-13T17:00:41.513444",
     "status": "completed"
    },
    "tags": []
   },
   "outputs": [
    {
     "data": {
      "image/png": "[encoded data removed]",
      "text/plain": [
       "<Figure size 576x504 with 1 Axes>"
      ]
     },
     "metadata": {
      "needs_background": "light"
     },
     "output_type": "display_data"
    }
   ],
   "source": [
    "#Integer group\n",
    "f, ax = plt.subplots(figsize=(8, 7))\n",
    "ax.set_xscale(\"log\")\n",
    "ax = sns.boxplot(data=x[integers], \n",
    "                 orient=\"h\", palette=\"Set1\")"
   ]
  },
  {
   "cell_type": "code",
   "execution_count": 16,
   "id": "c9462d20",
   "metadata": {
    "execution": {
     "iopub.execute_input": "2023-02-13T17:00:42.429796Z",
     "iopub.status.busy": "2023-02-13T17:00:42.429326Z",
     "iopub.status.idle": "2023-02-13T17:00:42.705933Z",
     "shell.execute_reply": "2023-02-13T17:00:42.704711Z"
    },
    "papermill": {
     "duration": 0.291549,
     "end_time": "2023-02-13T17:00:42.708754",
     "exception": false,
     "start_time": "2023-02-13T17:00:42.417205",
     "status": "completed"
    },
    "tags": []
   },
   "outputs": [
    {
     "name": "stderr",
     "output_type": "stream",
     "text": [
      "/opt/conda/lib/python3.7/site-packages/seaborn/distributions.py:2619: FutureWarning: `distplot` is a deprecated function and will be removed in a future version. Please adapt your code to use either `displot` (a figure-level function with similar flexibility) or `histplot` (an axes-level function for histograms).\n",
      "  warnings.warn(msg, FutureWarning)\n"
     ]
    },
    {
     "data": {
      "text/plain": [
       "<AxesSubplot:xlabel='UniqueUnitsMade', ylabel='Density'>"
      ]
     },
     "execution_count": 16,
     "metadata": {},
     "output_type": "execute_result"
    },
    {
     "data": {
      "image/png": "[encoded data removed]",
      "text/plain": [
       "<Figure size 432x288 with 1 Axes>"
      ]
     },
     "metadata": {
      "needs_background": "light"
     },
     "output_type": "display_data"
    }
   ],
   "source": [
    "sns.distplot(x['UniqueUnitsMade'])"
   ]
  },
  {
   "cell_type": "code",
   "execution_count": 17,
   "id": "4d2939c5",
   "metadata": {
    "execution": {
     "iopub.execute_input": "2023-02-13T17:00:42.733467Z",
     "iopub.status.busy": "2023-02-13T17:00:42.733037Z",
     "iopub.status.idle": "2023-02-13T17:00:43.278427Z",
     "shell.execute_reply": "2023-02-13T17:00:43.277195Z"
    },
    "papermill": {
     "duration": 0.560461,
     "end_time": "2023-02-13T17:00:43.281017",
     "exception": false,
     "start_time": "2023-02-13T17:00:42.720556",
     "status": "completed"
    },
    "tags": []
   },
   "outputs": [
    {
     "data": {
      "image/png": "[encoded data removed]",
      "text/plain": [
       "<Figure size 576x504 with 1 Axes>"
      ]
     },
     "metadata": {
      "needs_background": "light"
     },
     "output_type": "display_data"
    }
   ],
   "source": [
    "#Float group\n",
    "f, ax = plt.subplots(figsize=(8, 7))\n",
    "ax.set_xscale(\"log\")\n",
    "ax = sns.boxplot(data=x[floats], \n",
    "                 orient=\"h\", palette=\"Set1\")"
   ]
  },
  {
   "cell_type": "code",
   "execution_count": 18,
   "id": "cd0a6a83",
   "metadata": {
    "execution": {
     "iopub.execute_input": "2023-02-13T17:00:43.307583Z",
     "iopub.status.busy": "2023-02-13T17:00:43.306867Z",
     "iopub.status.idle": "2023-02-13T17:00:43.313118Z",
     "shell.execute_reply": "2023-02-13T17:00:43.311809Z"
    },
    "papermill": {
     "duration": 0.022685,
     "end_time": "2023-02-13T17:00:43.315543",
     "exception": false,
     "start_time": "2023-02-13T17:00:43.292858",
     "status": "completed"
    },
    "tags": []
   },
   "outputs": [],
   "source": [
    "y=pd.DataFrame(y)"
   ]
  },
  {
   "cell_type": "code",
   "execution_count": 19,
   "id": "a9374826",
   "metadata": {
    "execution": {
     "iopub.execute_input": "2023-02-13T17:00:43.341574Z",
     "iopub.status.busy": "2023-02-13T17:00:43.340741Z",
     "iopub.status.idle": "2023-02-13T17:00:43.366043Z",
     "shell.execute_reply": "2023-02-13T17:00:43.364923Z"
    },
    "papermill": {
     "duration": 0.041514,
     "end_time": "2023-02-13T17:00:43.368981",
     "exception": false,
     "start_time": "2023-02-13T17:00:43.327467",
     "status": "completed"
    },
    "tags": []
   },
   "outputs": [
    {
     "data": {
      "text/html": [
       "<div>\n",
       "<style scoped>\n",
       "    .dataframe tbody tr th:only-of-type {\n",
       "        vertical-align: middle;\n",
       "    }\n",
       "\n",
       "    .dataframe tbody tr th {\n",
       "        vertical-align: top;\n",
       "    }\n",
       "\n",
       "    .dataframe thead th {\n",
       "        text-align: right;\n",
       "    }\n",
       "</style>\n",
       "<table border=\"1\" class=\"dataframe\">\n",
       "  <thead>\n",
       "    <tr style=\"text-align: right;\">\n",
       "      <th></th>\n",
       "      <th>Age</th>\n",
       "      <th>HoursPerWeek</th>\n",
       "      <th>TotalHours</th>\n",
       "      <th>APM</th>\n",
       "      <th>SelectByHotkeys</th>\n",
       "      <th>AssignToHotkeys</th>\n",
       "      <th>UniqueHotkeys</th>\n",
       "      <th>MinimapAttacks</th>\n",
       "      <th>MinimapRightClicks</th>\n",
       "      <th>NumberOfPACs</th>\n",
       "      <th>GapBetweenPACs</th>\n",
       "      <th>ActionLatency</th>\n",
       "      <th>ActionsInPAC</th>\n",
       "      <th>TotalMapExplored</th>\n",
       "      <th>WorkersMade</th>\n",
       "      <th>UniqueUnitsMade</th>\n",
       "      <th>ComplexUnitsMade</th>\n",
       "      <th>ComplexAbilitiesUsed</th>\n",
       "      <th>LeagueIndex</th>\n",
       "    </tr>\n",
       "  </thead>\n",
       "  <tbody>\n",
       "    <tr>\n",
       "      <th>0</th>\n",
       "      <td>27</td>\n",
       "      <td>10</td>\n",
       "      <td>3000</td>\n",
       "      <td>143.7180</td>\n",
       "      <td>0.003515</td>\n",
       "      <td>0.000220</td>\n",
       "      <td>7</td>\n",
       "      <td>0.000110</td>\n",
       "      <td>0.000392</td>\n",
       "      <td>0.004849</td>\n",
       "      <td>32.6677</td>\n",
       "      <td>40.8673</td>\n",
       "      <td>4.7508</td>\n",
       "      <td>28</td>\n",
       "      <td>0.001397</td>\n",
       "      <td>6</td>\n",
       "      <td>0.0</td>\n",
       "      <td>0.000000</td>\n",
       "      <td>5</td>\n",
       "    </tr>\n",
       "    <tr>\n",
       "      <th>1</th>\n",
       "      <td>23</td>\n",
       "      <td>10</td>\n",
       "      <td>5000</td>\n",
       "      <td>129.2322</td>\n",
       "      <td>0.003304</td>\n",
       "      <td>0.000259</td>\n",
       "      <td>4</td>\n",
       "      <td>0.000294</td>\n",
       "      <td>0.000432</td>\n",
       "      <td>0.004307</td>\n",
       "      <td>32.9194</td>\n",
       "      <td>42.3454</td>\n",
       "      <td>4.8434</td>\n",
       "      <td>22</td>\n",
       "      <td>0.001193</td>\n",
       "      <td>5</td>\n",
       "      <td>0.0</td>\n",
       "      <td>0.000208</td>\n",
       "      <td>5</td>\n",
       "    </tr>\n",
       "    <tr>\n",
       "      <th>2</th>\n",
       "      <td>30</td>\n",
       "      <td>10</td>\n",
       "      <td>200</td>\n",
       "      <td>69.9612</td>\n",
       "      <td>0.001101</td>\n",
       "      <td>0.000336</td>\n",
       "      <td>4</td>\n",
       "      <td>0.000294</td>\n",
       "      <td>0.000461</td>\n",
       "      <td>0.002926</td>\n",
       "      <td>44.6475</td>\n",
       "      <td>75.3548</td>\n",
       "      <td>4.0430</td>\n",
       "      <td>22</td>\n",
       "      <td>0.000745</td>\n",
       "      <td>6</td>\n",
       "      <td>0.0</td>\n",
       "      <td>0.000189</td>\n",
       "      <td>4</td>\n",
       "    </tr>\n",
       "    <tr>\n",
       "      <th>3</th>\n",
       "      <td>19</td>\n",
       "      <td>20</td>\n",
       "      <td>400</td>\n",
       "      <td>107.6016</td>\n",
       "      <td>0.001034</td>\n",
       "      <td>0.000213</td>\n",
       "      <td>1</td>\n",
       "      <td>0.000053</td>\n",
       "      <td>0.000543</td>\n",
       "      <td>0.003783</td>\n",
       "      <td>29.2203</td>\n",
       "      <td>53.7352</td>\n",
       "      <td>4.9155</td>\n",
       "      <td>19</td>\n",
       "      <td>0.000426</td>\n",
       "      <td>7</td>\n",
       "      <td>0.0</td>\n",
       "      <td>0.000384</td>\n",
       "      <td>3</td>\n",
       "    </tr>\n",
       "    <tr>\n",
       "      <th>4</th>\n",
       "      <td>32</td>\n",
       "      <td>10</td>\n",
       "      <td>500</td>\n",
       "      <td>122.8908</td>\n",
       "      <td>0.001136</td>\n",
       "      <td>0.000327</td>\n",
       "      <td>2</td>\n",
       "      <td>0.000000</td>\n",
       "      <td>0.001329</td>\n",
       "      <td>0.002368</td>\n",
       "      <td>22.6885</td>\n",
       "      <td>62.0813</td>\n",
       "      <td>9.3740</td>\n",
       "      <td>15</td>\n",
       "      <td>0.001174</td>\n",
       "      <td>4</td>\n",
       "      <td>0.0</td>\n",
       "      <td>0.000019</td>\n",
       "      <td>3</td>\n",
       "    </tr>\n",
       "  </tbody>\n",
       "</table>\n",
       "</div>"
      ],
      "text/plain": [
       "   Age  HoursPerWeek  TotalHours       APM  SelectByHotkeys  AssignToHotkeys  \\\n",
       "0   27            10        3000  143.7180         0.003515         0.000220   \n",
       "1   23            10        5000  129.2322         0.003304         0.000259   \n",
       "2   30            10         200   69.9612         0.001101         0.000336   \n",
       "3   19            20         400  107.6016         0.001034         0.000213   \n",
       "4   32            10         500  122.8908         0.001136         0.000327   \n",
       "\n",
       "   UniqueHotkeys  MinimapAttacks  MinimapRightClicks  NumberOfPACs  \\\n",
       "0              7        0.000110            0.000392      0.004849   \n",
       "1              4        0.000294            0.000432      0.004307   \n",
       "2              4        0.000294            0.000461      0.002926   \n",
       "3              1        0.000053            0.000543      0.003783   \n",
       "4              2        0.000000            0.001329      0.002368   \n",
       "\n",
       "   GapBetweenPACs  ActionLatency  ActionsInPAC  TotalMapExplored  WorkersMade  \\\n",
       "0         32.6677        40.8673        4.7508                28     0.001397   \n",
       "1         32.9194        42.3454        4.8434                22     0.001193   \n",
       "2         44.6475        75.3548        4.0430                22     0.000745   \n",
       "3         29.2203        53.7352        4.9155                19     0.000426   \n",
       "4         22.6885        62.0813        9.3740                15     0.001174   \n",
       "\n",
       "   UniqueUnitsMade  ComplexUnitsMade  ComplexAbilitiesUsed  LeagueIndex  \n",
       "0                6               0.0              0.000000            5  \n",
       "1                5               0.0              0.000208            5  \n",
       "2                6               0.0              0.000189            4  \n",
       "3                7               0.0              0.000384            3  \n",
       "4                4               0.0              0.000019            3  "
      ]
     },
     "execution_count": 19,
     "metadata": {},
     "output_type": "execute_result"
    }
   ],
   "source": [
    "#Recombine to get rid of outliers\n",
    "df_red=pd.concat([x,y],axis=1)\n",
    "df_red.head()"
   ]
  },
  {
   "cell_type": "code",
   "execution_count": 20,
   "id": "02924deb",
   "metadata": {
    "execution": {
     "iopub.execute_input": "2023-02-13T17:00:43.395233Z",
     "iopub.status.busy": "2023-02-13T17:00:43.394474Z",
     "iopub.status.idle": "2023-02-13T17:00:43.402139Z",
     "shell.execute_reply": "2023-02-13T17:00:43.401176Z"
    },
    "papermill": {
     "duration": 0.023558,
     "end_time": "2023-02-13T17:00:43.404633",
     "exception": false,
     "start_time": "2023-02-13T17:00:43.381075",
     "status": "completed"
    },
    "tags": []
   },
   "outputs": [],
   "source": [
    "#Drop an outlier\n",
    "df_red.drop(df_red[df_red['TotalHours']>10**5].index,inplace=True,axis=0)"
   ]
  },
  {
   "cell_type": "code",
   "execution_count": 21,
   "id": "ec9075d2",
   "metadata": {
    "execution": {
     "iopub.execute_input": "2023-02-13T17:00:43.430856Z",
     "iopub.status.busy": "2023-02-13T17:00:43.430041Z",
     "iopub.status.idle": "2023-02-13T17:00:43.451972Z",
     "shell.execute_reply": "2023-02-13T17:00:43.450637Z"
    },
    "papermill": {
     "duration": 0.038027,
     "end_time": "2023-02-13T17:00:43.454702",
     "exception": false,
     "start_time": "2023-02-13T17:00:43.416675",
     "status": "completed"
    },
    "tags": []
   },
   "outputs": [
    {
     "data": {
      "text/html": [
       "<div>\n",
       "<style scoped>\n",
       "    .dataframe tbody tr th:only-of-type {\n",
       "        vertical-align: middle;\n",
       "    }\n",
       "\n",
       "    .dataframe tbody tr th {\n",
       "        vertical-align: top;\n",
       "    }\n",
       "\n",
       "    .dataframe thead th {\n",
       "        text-align: right;\n",
       "    }\n",
       "</style>\n",
       "<table border=\"1\" class=\"dataframe\">\n",
       "  <thead>\n",
       "    <tr style=\"text-align: right;\">\n",
       "      <th></th>\n",
       "      <th>Age</th>\n",
       "      <th>HoursPerWeek</th>\n",
       "      <th>TotalHours</th>\n",
       "      <th>APM</th>\n",
       "      <th>SelectByHotkeys</th>\n",
       "      <th>AssignToHotkeys</th>\n",
       "      <th>UniqueHotkeys</th>\n",
       "      <th>MinimapAttacks</th>\n",
       "      <th>MinimapRightClicks</th>\n",
       "      <th>NumberOfPACs</th>\n",
       "      <th>GapBetweenPACs</th>\n",
       "      <th>ActionLatency</th>\n",
       "      <th>ActionsInPAC</th>\n",
       "      <th>TotalMapExplored</th>\n",
       "      <th>WorkersMade</th>\n",
       "      <th>UniqueUnitsMade</th>\n",
       "      <th>ComplexUnitsMade</th>\n",
       "      <th>ComplexAbilitiesUsed</th>\n",
       "      <th>LeagueIndex</th>\n",
       "    </tr>\n",
       "  </thead>\n",
       "  <tbody>\n",
       "    <tr>\n",
       "      <th>770</th>\n",
       "      <td>22</td>\n",
       "      <td>16</td>\n",
       "      <td>20000</td>\n",
       "      <td>248.0490</td>\n",
       "      <td>0.023703</td>\n",
       "      <td>0.000391</td>\n",
       "      <td>7</td>\n",
       "      <td>0.000000</td>\n",
       "      <td>0.000205</td>\n",
       "      <td>0.004651</td>\n",
       "      <td>37.8795</td>\n",
       "      <td>45.3760</td>\n",
       "      <td>4.7560</td>\n",
       "      <td>21</td>\n",
       "      <td>0.001526</td>\n",
       "      <td>6</td>\n",
       "      <td>0.000000</td>\n",
       "      <td>0.000000</td>\n",
       "      <td>5</td>\n",
       "    </tr>\n",
       "    <tr>\n",
       "      <th>1978</th>\n",
       "      <td>22</td>\n",
       "      <td>10</td>\n",
       "      <td>18000</td>\n",
       "      <td>152.2374</td>\n",
       "      <td>0.011983</td>\n",
       "      <td>0.000206</td>\n",
       "      <td>1</td>\n",
       "      <td>0.000016</td>\n",
       "      <td>0.000364</td>\n",
       "      <td>0.003351</td>\n",
       "      <td>52.1896</td>\n",
       "      <td>63.9811</td>\n",
       "      <td>4.9575</td>\n",
       "      <td>19</td>\n",
       "      <td>0.000680</td>\n",
       "      <td>5</td>\n",
       "      <td>0.000000</td>\n",
       "      <td>0.000000</td>\n",
       "      <td>4</td>\n",
       "    </tr>\n",
       "    <tr>\n",
       "      <th>2216</th>\n",
       "      <td>24</td>\n",
       "      <td>20</td>\n",
       "      <td>10260</td>\n",
       "      <td>76.5852</td>\n",
       "      <td>0.000780</td>\n",
       "      <td>0.000197</td>\n",
       "      <td>0</td>\n",
       "      <td>0.000063</td>\n",
       "      <td>0.000316</td>\n",
       "      <td>0.002438</td>\n",
       "      <td>42.9480</td>\n",
       "      <td>84.6340</td>\n",
       "      <td>5.9107</td>\n",
       "      <td>27</td>\n",
       "      <td>0.000450</td>\n",
       "      <td>10</td>\n",
       "      <td>0.000246</td>\n",
       "      <td>0.000358</td>\n",
       "      <td>3</td>\n",
       "    </tr>\n",
       "    <tr>\n",
       "      <th>2324</th>\n",
       "      <td>20</td>\n",
       "      <td>8</td>\n",
       "      <td>25000</td>\n",
       "      <td>247.0164</td>\n",
       "      <td>0.015794</td>\n",
       "      <td>0.000438</td>\n",
       "      <td>8</td>\n",
       "      <td>0.000308</td>\n",
       "      <td>0.001339</td>\n",
       "      <td>0.004645</td>\n",
       "      <td>17.6471</td>\n",
       "      <td>37.1837</td>\n",
       "      <td>6.5944</td>\n",
       "      <td>29</td>\n",
       "      <td>0.001860</td>\n",
       "      <td>6</td>\n",
       "      <td>0.000000</td>\n",
       "      <td>0.000012</td>\n",
       "      <td>6</td>\n",
       "    </tr>\n",
       "  </tbody>\n",
       "</table>\n",
       "</div>"
      ],
      "text/plain": [
       "      Age  HoursPerWeek  TotalHours       APM  SelectByHotkeys  \\\n",
       "770    22            16       20000  248.0490         0.023703   \n",
       "1978   22            10       18000  152.2374         0.011983   \n",
       "2216   24            20       10260   76.5852         0.000780   \n",
       "2324   20             8       25000  247.0164         0.015794   \n",
       "\n",
       "      AssignToHotkeys  UniqueHotkeys  MinimapAttacks  MinimapRightClicks  \\\n",
       "770          0.000391              7        0.000000            0.000205   \n",
       "1978         0.000206              1        0.000016            0.000364   \n",
       "2216         0.000197              0        0.000063            0.000316   \n",
       "2324         0.000438              8        0.000308            0.001339   \n",
       "\n",
       "      NumberOfPACs  GapBetweenPACs  ActionLatency  ActionsInPAC  \\\n",
       "770       0.004651         37.8795        45.3760        4.7560   \n",
       "1978      0.003351         52.1896        63.9811        4.9575   \n",
       "2216      0.002438         42.9480        84.6340        5.9107   \n",
       "2324      0.004645         17.6471        37.1837        6.5944   \n",
       "\n",
       "      TotalMapExplored  WorkersMade  UniqueUnitsMade  ComplexUnitsMade  \\\n",
       "770                 21     0.001526                6          0.000000   \n",
       "1978                19     0.000680                5          0.000000   \n",
       "2216                27     0.000450               10          0.000246   \n",
       "2324                29     0.001860                6          0.000000   \n",
       "\n",
       "      ComplexAbilitiesUsed  LeagueIndex  \n",
       "770               0.000000            5  \n",
       "1978              0.000000            4  \n",
       "2216              0.000358            3  \n",
       "2324              0.000012            6  "
      ]
     },
     "execution_count": 21,
     "metadata": {},
     "output_type": "execute_result"
    }
   ],
   "source": [
    "#Check if it worked\n",
    "df_red[df_red['TotalHours']>10**4]"
   ]
  },
  {
   "cell_type": "code",
   "execution_count": 22,
   "id": "a77d7683",
   "metadata": {
    "execution": {
     "iopub.execute_input": "2023-02-13T17:00:43.482973Z",
     "iopub.status.busy": "2023-02-13T17:00:43.482152Z",
     "iopub.status.idle": "2023-02-13T17:00:43.489070Z",
     "shell.execute_reply": "2023-02-13T17:00:43.488176Z"
    },
    "papermill": {
     "duration": 0.023887,
     "end_time": "2023-02-13T17:00:43.491674",
     "exception": false,
     "start_time": "2023-02-13T17:00:43.467787",
     "status": "completed"
    },
    "tags": []
   },
   "outputs": [],
   "source": [
    "#Re-split x and y\n",
    "y=df_red['LeagueIndex']\n",
    "df_red.drop(['LeagueIndex'],inplace=True,axis=1)\n",
    "X=df_red"
   ]
  },
  {
   "cell_type": "code",
   "execution_count": 23,
   "id": "49fe8d2d",
   "metadata": {
    "execution": {
     "iopub.execute_input": "2023-02-13T17:00:43.518381Z",
     "iopub.status.busy": "2023-02-13T17:00:43.517925Z",
     "iopub.status.idle": "2023-02-13T17:00:44.212675Z",
     "shell.execute_reply": "2023-02-13T17:00:44.211210Z"
    },
    "papermill": {
     "duration": 0.711488,
     "end_time": "2023-02-13T17:00:44.215682",
     "exception": false,
     "start_time": "2023-02-13T17:00:43.504194",
     "status": "completed"
    },
    "tags": []
   },
   "outputs": [],
   "source": [
    "# Models\n",
    "from sklearn.ensemble import RandomForestClassifier, GradientBoostingClassifier\n",
    "from sklearn.linear_model import RidgeClassifierCV\n",
    "from sklearn.svm import SVC\n",
    "from xgboost import XGBClassifier\n",
    "\n",
    "# Misc\n",
    "from sklearn.model_selection import KFold, cross_val_score\n",
    "from sklearn.metrics import mean_squared_error\n",
    "from sklearn.pipeline import make_pipeline\n",
    "from sklearn.preprocessing import StandardScaler\n",
    "from sklearn.preprocessing import RobustScaler\n",
    "pd.set_option('display.max_columns', None)\n",
    "\n",
    "# Ignore useless warnings\n",
    "import warnings\n",
    "warnings.filterwarnings(action=\"ignore\")\n",
    "pd.options.display.max_seq_items = 8000\n",
    "pd.options.display.max_rows = 8000"
   ]
  },
  {
   "cell_type": "code",
   "execution_count": 24,
   "id": "cc99e401",
   "metadata": {
    "execution": {
     "iopub.execute_input": "2023-02-13T17:00:44.241891Z",
     "iopub.status.busy": "2023-02-13T17:00:44.241470Z",
     "iopub.status.idle": "2023-02-13T17:00:44.248557Z",
     "shell.execute_reply": "2023-02-13T17:00:44.247184Z"
    },
    "papermill": {
     "duration": 0.022843,
     "end_time": "2023-02-13T17:00:44.250821",
     "exception": false,
     "start_time": "2023-02-13T17:00:44.227978",
     "status": "completed"
    },
    "tags": []
   },
   "outputs": [],
   "source": [
    "# Setup cross validation folds\n",
    "kf = KFold(n_splits=10, random_state=42, shuffle=True)\n",
    "# Define error metrics\n",
    "def rmsle(y, y_pred):\n",
    "    return np.sqrt(mean_squared_error(y, y_pred))\n",
    "def cv_rmse(model, X=X):\n",
    "    rmse = np.sqrt(-cross_val_score(model, X, y, scoring=\"neg_mean_squared_error\", cv=kf))\n",
    "    return (rmse)"
   ]
  },
  {
   "cell_type": "code",
   "execution_count": 25,
   "id": "f97b58f3",
   "metadata": {
    "execution": {
     "iopub.execute_input": "2023-02-13T17:00:44.277186Z",
     "iopub.status.busy": "2023-02-13T17:00:44.276388Z",
     "iopub.status.idle": "2023-02-13T17:01:10.781552Z",
     "shell.execute_reply": "2023-02-13T17:01:10.779696Z"
    },
    "papermill": {
     "duration": 26.52173,
     "end_time": "2023-02-13T17:01:10.784800",
     "exception": false,
     "start_time": "2023-02-13T17:00:44.263070",
     "status": "completed"
    },
    "tags": []
   },
   "outputs": [
    {
     "data": {
      "text/plain": [
       "array([1.15037094, 1.16972795, 1.15037094, 1.14776534, 1.18750985,\n",
       "       1.1811899 , 1.16459754, 1.23876331, 1.19433095, 1.15989023])"
      ]
     },
     "execution_count": 25,
     "metadata": {},
     "output_type": "execute_result"
    }
   ],
   "source": [
    "#Get scores for one model: ridge classifier\n",
    "ridge_alphas = [1e-15, 1e-10, 1e-8, 9e-4, 7e-4, 5e-4, 3e-4, 1e-4, 1e-3, 5e-2, 1e-2, 0.1, 0.3, 1, 3, 5, 10, 15, 18, 20, 30, 50, 75, 100]\n",
    "ridge = make_pipeline(RobustScaler(), RidgeClassifierCV(alphas=ridge_alphas, cv=kf))\n",
    "cv_rmse(ridge)"
   ]
  },
  {
   "cell_type": "code",
   "execution_count": 26,
   "id": "28518667",
   "metadata": {
    "execution": {
     "iopub.execute_input": "2023-02-13T17:01:10.834340Z",
     "iopub.status.busy": "2023-02-13T17:01:10.833615Z",
     "iopub.status.idle": "2023-02-13T17:01:10.856422Z",
     "shell.execute_reply": "2023-02-13T17:01:10.854820Z"
    },
    "papermill": {
     "duration": 0.048917,
     "end_time": "2023-02-13T17:01:10.862182",
     "exception": false,
     "start_time": "2023-02-13T17:01:10.813265",
     "status": "completed"
    },
    "tags": []
   },
   "outputs": [],
   "source": [
    "# XGBoost Classifier\n",
    "xgboost = XGBClassifier(learning_rate=0.01,\n",
    "                       n_estimators=1000,\n",
    "                       gamma=0.6,\n",
    "                       objective='reg:logistic',\n",
    "                       seed=27,\n",
    "                       random_state=42)\n",
    "# Ridge Classifier\n",
    "ridge_alphas = [1e-15, 1e-10, 1e-8, 9e-4, 7e-4, 5e-4, 3e-4, 1e-4, 1e-3, 5e-2, 1e-2, 0.1, 0.3, 1, 3, 5, 10, 15, 18, 20, 30, 50, 75, 100]\n",
    "ridge = make_pipeline(RobustScaler(), RidgeClassifierCV(alphas=ridge_alphas, cv=kf))\n",
    "\n",
    "# Support Vector Classifier\n",
    "svc = make_pipeline(RobustScaler(), SVC(decision_function_shape='ovo'))\n",
    "\n",
    "# Gradient Boosting Classifier\n",
    "gbc = GradientBoostingClassifier(n_estimators=1000,\n",
    "                                max_depth=3,\n",
    "                                max_features='sqrt',\n",
    "                                min_samples_leaf=15,\n",
    "                                min_samples_split=10,\n",
    "                                random_state=42)  \n",
    "\n",
    "# Random Forest Classifier\n",
    "rf = RandomForestClassifier(n_estimators=1200,\n",
    "                          max_depth=10,\n",
    "                          min_samples_split=5,\n",
    "                          min_samples_leaf=5,\n",
    "                          max_features=None,\n",
    "                          oob_score=True,\n",
    "                          random_state=42)"
   ]
  },
  {
   "cell_type": "code",
   "execution_count": 27,
   "id": "2a2d96e9",
   "metadata": {
    "execution": {
     "iopub.execute_input": "2023-02-13T17:01:10.895336Z",
     "iopub.status.busy": "2023-02-13T17:01:10.894937Z",
     "iopub.status.idle": "2023-02-13T17:01:17.146650Z",
     "shell.execute_reply": "2023-02-13T17:01:17.145240Z"
    },
    "papermill": {
     "duration": 6.267942,
     "end_time": "2023-02-13T17:01:17.149713",
     "exception": false,
     "start_time": "2023-02-13T17:01:10.881771",
     "status": "completed"
    },
    "tags": []
   },
   "outputs": [
    {
     "name": "stdout",
     "output_type": "stream",
     "text": [
      "SVC: 1.0242 (0.0284)\n"
     ]
    }
   ],
   "source": [
    "#Support Vector Classifier score\n",
    "scores = {}\n",
    "score = cv_rmse(svc)\n",
    "print(\"SVC: {:.4f} ({:.4f})\".format(score.mean(), score.std()))\n",
    "scores['svc'] = (score.mean(), score.std())"
   ]
  },
  {
   "cell_type": "code",
   "execution_count": 28,
   "id": "c7c8930d",
   "metadata": {
    "execution": {
     "iopub.execute_input": "2023-02-13T17:01:17.177211Z",
     "iopub.status.busy": "2023-02-13T17:01:17.176459Z",
     "iopub.status.idle": "2023-02-13T17:01:42.708515Z",
     "shell.execute_reply": "2023-02-13T17:01:42.706458Z"
    },
    "papermill": {
     "duration": 25.55099,
     "end_time": "2023-02-13T17:01:42.713857",
     "exception": false,
     "start_time": "2023-02-13T17:01:17.162867",
     "status": "completed"
    },
    "tags": []
   },
   "outputs": [
    {
     "name": "stdout",
     "output_type": "stream",
     "text": [
      "ridge: 1.1745 (0.0264)\n"
     ]
    }
   ],
   "source": [
    "#Ridge classification score\n",
    "score = cv_rmse(ridge)\n",
    "print(\"ridge: {:.4f} ({:.4f})\".format(score.mean(), score.std()))\n",
    "scores['ridge'] = (score.mean(), score.std())"
   ]
  },
  {
   "cell_type": "code",
   "execution_count": 29,
   "id": "58d8e442",
   "metadata": {
    "execution": {
     "iopub.execute_input": "2023-02-13T17:01:42.785026Z",
     "iopub.status.busy": "2023-02-13T17:01:42.784307Z",
     "iopub.status.idle": "2023-02-13T17:07:01.416160Z",
     "shell.execute_reply": "2023-02-13T17:07:01.414902Z"
    },
    "papermill": {
     "duration": 318.68331,
     "end_time": "2023-02-13T17:07:01.430945",
     "exception": false,
     "start_time": "2023-02-13T17:01:42.747635",
     "status": "completed"
    },
    "tags": []
   },
   "outputs": [
    {
     "name": "stdout",
     "output_type": "stream",
     "text": [
      "rf: 1.0182 (0.0437)\n"
     ]
    }
   ],
   "source": [
    "#Random forest score\n",
    "score = cv_rmse(rf)\n",
    "print(\"rf: {:.4f} ({:.4f})\".format(score.mean(), score.std()))\n",
    "scores['rf'] = (score.mean(), score.std())"
   ]
  },
  {
   "cell_type": "code",
   "execution_count": 30,
   "id": "68391f07",
   "metadata": {
    "execution": {
     "iopub.execute_input": "2023-02-13T17:07:01.457899Z",
     "iopub.status.busy": "2023-02-13T17:07:01.457497Z",
     "iopub.status.idle": "2023-02-13T17:12:25.379082Z",
     "shell.execute_reply": "2023-02-13T17:12:25.377899Z"
    },
    "papermill": {
     "duration": 323.950548,
     "end_time": "2023-02-13T17:12:25.394179",
     "exception": false,
     "start_time": "2023-02-13T17:07:01.443631",
     "status": "completed"
    },
    "tags": []
   },
   "outputs": [
    {
     "name": "stdout",
     "output_type": "stream",
     "text": [
      "gbc: 1.0677 (0.0385)\n"
     ]
    }
   ],
   "source": [
    "#Gradient boosting classification score\n",
    "score = cv_rmse(gbc)\n",
    "print(\"gbc: {:.4f} ({:.4f})\".format(score.mean(), score.std()))\n",
    "scores['gbc'] = (score.mean(), score.std())"
   ]
  },
  {
   "cell_type": "code",
   "execution_count": 31,
   "id": "d907a04f",
   "metadata": {
    "execution": {
     "iopub.execute_input": "2023-02-13T17:12:25.420655Z",
     "iopub.status.busy": "2023-02-13T17:12:25.420234Z",
     "iopub.status.idle": "2023-02-13T17:12:25.461608Z",
     "shell.execute_reply": "2023-02-13T17:12:25.460504Z"
    },
    "papermill": {
     "duration": 0.057342,
     "end_time": "2023-02-13T17:12:25.463933",
     "exception": false,
     "start_time": "2023-02-13T17:12:25.406591",
     "status": "completed"
    },
    "tags": []
   },
   "outputs": [
    {
     "name": "stdout",
     "output_type": "stream",
     "text": [
      "xgboost: nan (nan)\n"
     ]
    }
   ],
   "source": [
    "#XGBoost score\n",
    "score = cv_rmse(xgboost)\n",
    "print(\"xgboost: {:.4f} ({:.4f})\".format(score.mean(), score.std()))\n",
    "scores['xgb'] = (score.mean(), score.std())"
   ]
  },
  {
   "cell_type": "code",
   "execution_count": 32,
   "id": "fb1dc619",
   "metadata": {
    "execution": {
     "iopub.execute_input": "2023-02-13T17:12:25.491026Z",
     "iopub.status.busy": "2023-02-13T17:12:25.490321Z",
     "iopub.status.idle": "2023-02-13T17:12:25.798511Z",
     "shell.execute_reply": "2023-02-13T17:12:25.797585Z"
    },
    "papermill": {
     "duration": 0.324223,
     "end_time": "2023-02-13T17:12:25.800778",
     "exception": false,
     "start_time": "2023-02-13T17:12:25.476555",
     "status": "completed"
    },
    "tags": []
   },
   "outputs": [
    {
     "data": {
      "image/png": "[encoded data removed]",
      "text/plain": [
       "<Figure size 1728x864 with 1 Axes>"
      ]
     },
     "metadata": {
      "needs_background": "light"
     },
     "output_type": "display_data"
    }
   ],
   "source": [
    "#Scores plot\n",
    "fig = plt.figure(figsize=(24, 12))\n",
    "ax = sns.pointplot(x=list(scores.keys()), \n",
    "                   y=[score for score, _ in scores.values()], markers=['o'], linestyles=['-'])\n",
    "for i, score in enumerate(scores.values()):\n",
    "    ax.text(i, score[0] + 0.002, '{:.6f}'.format(score[0]), size='large')"
   ]
  },
  {
   "cell_type": "code",
   "execution_count": 33,
   "id": "166380a1",
   "metadata": {
    "execution": {
     "iopub.execute_input": "2023-02-13T17:12:25.831018Z",
     "iopub.status.busy": "2023-02-13T17:12:25.830255Z",
     "iopub.status.idle": "2023-02-13T17:12:25.835778Z",
     "shell.execute_reply": "2023-02-13T17:12:25.834639Z"
    },
    "papermill": {
     "duration": 0.023213,
     "end_time": "2023-02-13T17:12:25.838191",
     "exception": false,
     "start_time": "2023-02-13T17:12:25.814978",
     "status": "completed"
    },
    "tags": []
   },
   "outputs": [],
   "source": [
    "Y=np.array(y)-1"
   ]
  },
  {
   "cell_type": "code",
   "execution_count": 34,
   "id": "bb3a18ff",
   "metadata": {
    "execution": {
     "iopub.execute_input": "2023-02-13T17:12:25.867484Z",
     "iopub.status.busy": "2023-02-13T17:12:25.866781Z",
     "iopub.status.idle": "2023-02-13T17:12:48.460186Z",
     "shell.execute_reply": "2023-02-13T17:12:48.459175Z"
    },
    "papermill": {
     "duration": 22.610483,
     "end_time": "2023-02-13T17:12:48.462400",
     "exception": false,
     "start_time": "2023-02-13T17:12:25.851917",
     "status": "completed"
    },
    "tags": []
   },
   "outputs": [
    {
     "name": "stdout",
     "output_type": "stream",
     "text": [
      "[0]\tvalidation_0-mlogloss:1.93578\tvalidation_1-mlogloss:1.93917\n",
      "[1]\tvalidation_0-mlogloss:1.92601\tvalidation_1-mlogloss:1.93241\n",
      "[2]\tvalidation_0-mlogloss:1.91634\tvalidation_1-mlogloss:1.92586\n",
      "[3]\tvalidation_0-mlogloss:1.90664\tvalidation_1-mlogloss:1.91949\n",
      "[4]\tvalidation_0-mlogloss:1.89729\tvalidation_1-mlogloss:1.91312\n",
      "[5]\tvalidation_0-mlogloss:1.88788\tvalidation_1-mlogloss:1.90696\n",
      "[6]\tvalidation_0-mlogloss:1.87882\tvalidation_1-mlogloss:1.90091\n",
      "[7]\tvalidation_0-mlogloss:1.86970\tvalidation_1-mlogloss:1.89489\n",
      "[8]\tvalidation_0-mlogloss:1.86088\tvalidation_1-mlogloss:1.88890\n",
      "[9]\tvalidation_0-mlogloss:1.85198\tvalidation_1-mlogloss:1.88326\n",
      "[10]\tvalidation_0-mlogloss:1.84344\tvalidation_1-mlogloss:1.87755\n",
      "[11]\tvalidation_0-mlogloss:1.83479\tvalidation_1-mlogloss:1.87189\n",
      "[12]\tvalidation_0-mlogloss:1.82642\tvalidation_1-mlogloss:1.86635\n",
      "[13]\tvalidation_0-mlogloss:1.81804\tvalidation_1-mlogloss:1.86086\n",
      "[14]\tvalidation_0-mlogloss:1.80982\tvalidation_1-mlogloss:1.85558\n",
      "[15]\tvalidation_0-mlogloss:1.80174\tvalidation_1-mlogloss:1.85038\n",
      "[16]\tvalidation_0-mlogloss:1.79353\tvalidation_1-mlogloss:1.84517\n",
      "[17]\tvalidation_0-mlogloss:1.78543\tvalidation_1-mlogloss:1.84015\n",
      "[18]\tvalidation_0-mlogloss:1.77757\tvalidation_1-mlogloss:1.83518\n",
      "[19]\tvalidation_0-mlogloss:1.76968\tvalidation_1-mlogloss:1.83012\n",
      "[20]\tvalidation_0-mlogloss:1.76207\tvalidation_1-mlogloss:1.82531\n",
      "[21]\tvalidation_0-mlogloss:1.75440\tvalidation_1-mlogloss:1.82051\n",
      "[22]\tvalidation_0-mlogloss:1.74696\tvalidation_1-mlogloss:1.81574\n",
      "[23]\tvalidation_0-mlogloss:1.73947\tvalidation_1-mlogloss:1.81107\n",
      "[24]\tvalidation_0-mlogloss:1.73212\tvalidation_1-mlogloss:1.80647\n",
      "[25]\tvalidation_0-mlogloss:1.72490\tvalidation_1-mlogloss:1.80198\n",
      "[26]\tvalidation_0-mlogloss:1.71765\tvalidation_1-mlogloss:1.79748\n",
      "[27]\tvalidation_0-mlogloss:1.71065\tvalidation_1-mlogloss:1.79304\n",
      "[28]\tvalidation_0-mlogloss:1.70360\tvalidation_1-mlogloss:1.78867\n",
      "[29]\tvalidation_0-mlogloss:1.69655\tvalidation_1-mlogloss:1.78450\n",
      "[30]\tvalidation_0-mlogloss:1.68953\tvalidation_1-mlogloss:1.78012\n",
      "[31]\tvalidation_0-mlogloss:1.68285\tvalidation_1-mlogloss:1.77594\n",
      "[32]\tvalidation_0-mlogloss:1.67613\tvalidation_1-mlogloss:1.77176\n",
      "[33]\tvalidation_0-mlogloss:1.66942\tvalidation_1-mlogloss:1.76751\n",
      "[34]\tvalidation_0-mlogloss:1.66298\tvalidation_1-mlogloss:1.76349\n",
      "[35]\tvalidation_0-mlogloss:1.65661\tvalidation_1-mlogloss:1.75948\n",
      "[36]\tvalidation_0-mlogloss:1.65019\tvalidation_1-mlogloss:1.75549\n",
      "[37]\tvalidation_0-mlogloss:1.64380\tvalidation_1-mlogloss:1.75161\n",
      "[38]\tvalidation_0-mlogloss:1.63756\tvalidation_1-mlogloss:1.74776\n",
      "[39]\tvalidation_0-mlogloss:1.63143\tvalidation_1-mlogloss:1.74389\n",
      "[40]\tvalidation_0-mlogloss:1.62508\tvalidation_1-mlogloss:1.74016\n",
      "[41]\tvalidation_0-mlogloss:1.61897\tvalidation_1-mlogloss:1.73646\n",
      "[42]\tvalidation_0-mlogloss:1.61288\tvalidation_1-mlogloss:1.73302\n",
      "[43]\tvalidation_0-mlogloss:1.60687\tvalidation_1-mlogloss:1.72930\n",
      "[44]\tvalidation_0-mlogloss:1.60067\tvalidation_1-mlogloss:1.72558\n",
      "[45]\tvalidation_0-mlogloss:1.59470\tvalidation_1-mlogloss:1.72206\n",
      "[46]\tvalidation_0-mlogloss:1.58868\tvalidation_1-mlogloss:1.71842\n",
      "[47]\tvalidation_0-mlogloss:1.58285\tvalidation_1-mlogloss:1.71498\n",
      "[48]\tvalidation_0-mlogloss:1.57693\tvalidation_1-mlogloss:1.71143\n",
      "[49]\tvalidation_0-mlogloss:1.57120\tvalidation_1-mlogloss:1.70803\n",
      "[50]\tvalidation_0-mlogloss:1.56545\tvalidation_1-mlogloss:1.70456\n",
      "[51]\tvalidation_0-mlogloss:1.55974\tvalidation_1-mlogloss:1.70130\n",
      "[52]\tvalidation_0-mlogloss:1.55402\tvalidation_1-mlogloss:1.69794\n",
      "[53]\tvalidation_0-mlogloss:1.54836\tvalidation_1-mlogloss:1.69455\n",
      "[54]\tvalidation_0-mlogloss:1.54274\tvalidation_1-mlogloss:1.69125\n",
      "[55]\tvalidation_0-mlogloss:1.53729\tvalidation_1-mlogloss:1.68785\n",
      "[56]\tvalidation_0-mlogloss:1.53175\tvalidation_1-mlogloss:1.68442\n",
      "[57]\tvalidation_0-mlogloss:1.52631\tvalidation_1-mlogloss:1.68144\n",
      "[58]\tvalidation_0-mlogloss:1.52092\tvalidation_1-mlogloss:1.67829\n",
      "[59]\tvalidation_0-mlogloss:1.51561\tvalidation_1-mlogloss:1.67517\n",
      "[60]\tvalidation_0-mlogloss:1.51032\tvalidation_1-mlogloss:1.67217\n",
      "[61]\tvalidation_0-mlogloss:1.50510\tvalidation_1-mlogloss:1.66924\n",
      "[62]\tvalidation_0-mlogloss:1.49984\tvalidation_1-mlogloss:1.66620\n",
      "[63]\tvalidation_0-mlogloss:1.49471\tvalidation_1-mlogloss:1.66314\n",
      "[64]\tvalidation_0-mlogloss:1.48954\tvalidation_1-mlogloss:1.65997\n",
      "[65]\tvalidation_0-mlogloss:1.48441\tvalidation_1-mlogloss:1.65694\n",
      "[66]\tvalidation_0-mlogloss:1.47934\tvalidation_1-mlogloss:1.65392\n",
      "[67]\tvalidation_0-mlogloss:1.47437\tvalidation_1-mlogloss:1.65113\n",
      "[68]\tvalidation_0-mlogloss:1.46954\tvalidation_1-mlogloss:1.64835\n",
      "[69]\tvalidation_0-mlogloss:1.46461\tvalidation_1-mlogloss:1.64548\n",
      "[70]\tvalidation_0-mlogloss:1.45972\tvalidation_1-mlogloss:1.64265\n",
      "[71]\tvalidation_0-mlogloss:1.45484\tvalidation_1-mlogloss:1.63999\n",
      "[72]\tvalidation_0-mlogloss:1.45005\tvalidation_1-mlogloss:1.63732\n",
      "[73]\tvalidation_0-mlogloss:1.44536\tvalidation_1-mlogloss:1.63468\n",
      "[74]\tvalidation_0-mlogloss:1.44066\tvalidation_1-mlogloss:1.63199\n",
      "[75]\tvalidation_0-mlogloss:1.43603\tvalidation_1-mlogloss:1.62931\n",
      "[76]\tvalidation_0-mlogloss:1.43137\tvalidation_1-mlogloss:1.62674\n",
      "[77]\tvalidation_0-mlogloss:1.42684\tvalidation_1-mlogloss:1.62433\n",
      "[78]\tvalidation_0-mlogloss:1.42235\tvalidation_1-mlogloss:1.62186\n",
      "[79]\tvalidation_0-mlogloss:1.41779\tvalidation_1-mlogloss:1.61942\n",
      "[80]\tvalidation_0-mlogloss:1.41332\tvalidation_1-mlogloss:1.61698\n",
      "[81]\tvalidation_0-mlogloss:1.40888\tvalidation_1-mlogloss:1.61460\n",
      "[82]\tvalidation_0-mlogloss:1.40452\tvalidation_1-mlogloss:1.61220\n",
      "[83]\tvalidation_0-mlogloss:1.40015\tvalidation_1-mlogloss:1.60985\n",
      "[84]\tvalidation_0-mlogloss:1.39589\tvalidation_1-mlogloss:1.60748\n",
      "[85]\tvalidation_0-mlogloss:1.39166\tvalidation_1-mlogloss:1.60516\n",
      "[86]\tvalidation_0-mlogloss:1.38718\tvalidation_1-mlogloss:1.60278\n",
      "[87]\tvalidation_0-mlogloss:1.38303\tvalidation_1-mlogloss:1.60060\n",
      "[88]\tvalidation_0-mlogloss:1.37873\tvalidation_1-mlogloss:1.59848\n",
      "[89]\tvalidation_0-mlogloss:1.37463\tvalidation_1-mlogloss:1.59627\n",
      "[90]\tvalidation_0-mlogloss:1.37041\tvalidation_1-mlogloss:1.59413\n",
      "[91]\tvalidation_0-mlogloss:1.36629\tvalidation_1-mlogloss:1.59184\n",
      "[92]\tvalidation_0-mlogloss:1.36213\tvalidation_1-mlogloss:1.58973\n",
      "[93]\tvalidation_0-mlogloss:1.35811\tvalidation_1-mlogloss:1.58762\n",
      "[94]\tvalidation_0-mlogloss:1.35405\tvalidation_1-mlogloss:1.58576\n",
      "[95]\tvalidation_0-mlogloss:1.35000\tvalidation_1-mlogloss:1.58374\n",
      "[96]\tvalidation_0-mlogloss:1.34585\tvalidation_1-mlogloss:1.58166\n",
      "[97]\tvalidation_0-mlogloss:1.34193\tvalidation_1-mlogloss:1.57981\n",
      "[98]\tvalidation_0-mlogloss:1.33794\tvalidation_1-mlogloss:1.57768\n",
      "[99]\tvalidation_0-mlogloss:1.33393\tvalidation_1-mlogloss:1.57586\n",
      "[100]\tvalidation_0-mlogloss:1.33016\tvalidation_1-mlogloss:1.57412\n",
      "[101]\tvalidation_0-mlogloss:1.32638\tvalidation_1-mlogloss:1.57230\n",
      "[102]\tvalidation_0-mlogloss:1.32263\tvalidation_1-mlogloss:1.57050\n",
      "[103]\tvalidation_0-mlogloss:1.31865\tvalidation_1-mlogloss:1.56881\n",
      "[104]\tvalidation_0-mlogloss:1.31489\tvalidation_1-mlogloss:1.56699\n",
      "[105]\tvalidation_0-mlogloss:1.31108\tvalidation_1-mlogloss:1.56531\n",
      "[106]\tvalidation_0-mlogloss:1.30725\tvalidation_1-mlogloss:1.56364\n",
      "[107]\tvalidation_0-mlogloss:1.30345\tvalidation_1-mlogloss:1.56198\n",
      "[108]\tvalidation_0-mlogloss:1.29972\tvalidation_1-mlogloss:1.56041\n",
      "[109]\tvalidation_0-mlogloss:1.29603\tvalidation_1-mlogloss:1.55872\n",
      "[110]\tvalidation_0-mlogloss:1.29224\tvalidation_1-mlogloss:1.55718\n",
      "[111]\tvalidation_0-mlogloss:1.28877\tvalidation_1-mlogloss:1.55562\n",
      "[112]\tvalidation_0-mlogloss:1.28518\tvalidation_1-mlogloss:1.55411\n",
      "[113]\tvalidation_0-mlogloss:1.28153\tvalidation_1-mlogloss:1.55257\n",
      "[114]\tvalidation_0-mlogloss:1.27806\tvalidation_1-mlogloss:1.55111\n",
      "[115]\tvalidation_0-mlogloss:1.27463\tvalidation_1-mlogloss:1.54957\n",
      "[116]\tvalidation_0-mlogloss:1.27105\tvalidation_1-mlogloss:1.54819\n",
      "[117]\tvalidation_0-mlogloss:1.26775\tvalidation_1-mlogloss:1.54679\n",
      "[118]\tvalidation_0-mlogloss:1.26420\tvalidation_1-mlogloss:1.54520\n",
      "[119]\tvalidation_0-mlogloss:1.26079\tvalidation_1-mlogloss:1.54369\n",
      "[120]\tvalidation_0-mlogloss:1.25735\tvalidation_1-mlogloss:1.54230\n",
      "[121]\tvalidation_0-mlogloss:1.25408\tvalidation_1-mlogloss:1.54088\n",
      "[122]\tvalidation_0-mlogloss:1.25071\tvalidation_1-mlogloss:1.53942\n",
      "[123]\tvalidation_0-mlogloss:1.24731\tvalidation_1-mlogloss:1.53800\n",
      "[124]\tvalidation_0-mlogloss:1.24405\tvalidation_1-mlogloss:1.53652\n",
      "[125]\tvalidation_0-mlogloss:1.24095\tvalidation_1-mlogloss:1.53525\n",
      "[126]\tvalidation_0-mlogloss:1.23749\tvalidation_1-mlogloss:1.53383\n",
      "[127]\tvalidation_0-mlogloss:1.23409\tvalidation_1-mlogloss:1.53252\n",
      "[128]\tvalidation_0-mlogloss:1.23090\tvalidation_1-mlogloss:1.53108\n",
      "[129]\tvalidation_0-mlogloss:1.22772\tvalidation_1-mlogloss:1.52981\n",
      "[130]\tvalidation_0-mlogloss:1.22453\tvalidation_1-mlogloss:1.52854\n",
      "[131]\tvalidation_0-mlogloss:1.22141\tvalidation_1-mlogloss:1.52734\n",
      "[132]\tvalidation_0-mlogloss:1.21812\tvalidation_1-mlogloss:1.52605\n",
      "[133]\tvalidation_0-mlogloss:1.21516\tvalidation_1-mlogloss:1.52473\n",
      "[134]\tvalidation_0-mlogloss:1.21186\tvalidation_1-mlogloss:1.52348\n",
      "[135]\tvalidation_0-mlogloss:1.20880\tvalidation_1-mlogloss:1.52228\n",
      "[136]\tvalidation_0-mlogloss:1.20571\tvalidation_1-mlogloss:1.52089\n",
      "[137]\tvalidation_0-mlogloss:1.20259\tvalidation_1-mlogloss:1.51965\n",
      "[138]\tvalidation_0-mlogloss:1.19966\tvalidation_1-mlogloss:1.51838\n",
      "[139]\tvalidation_0-mlogloss:1.19641\tvalidation_1-mlogloss:1.51726\n",
      "[140]\tvalidation_0-mlogloss:1.19338\tvalidation_1-mlogloss:1.51601\n",
      "[141]\tvalidation_0-mlogloss:1.19019\tvalidation_1-mlogloss:1.51478\n",
      "[142]\tvalidation_0-mlogloss:1.18716\tvalidation_1-mlogloss:1.51357\n",
      "[143]\tvalidation_0-mlogloss:1.18432\tvalidation_1-mlogloss:1.51243\n",
      "[144]\tvalidation_0-mlogloss:1.18128\tvalidation_1-mlogloss:1.51096\n",
      "[145]\tvalidation_0-mlogloss:1.17841\tvalidation_1-mlogloss:1.50977\n",
      "[146]\tvalidation_0-mlogloss:1.17559\tvalidation_1-mlogloss:1.50849\n",
      "[147]\tvalidation_0-mlogloss:1.17269\tvalidation_1-mlogloss:1.50740\n",
      "[148]\tvalidation_0-mlogloss:1.16989\tvalidation_1-mlogloss:1.50624\n",
      "[149]\tvalidation_0-mlogloss:1.16716\tvalidation_1-mlogloss:1.50512\n",
      "[150]\tvalidation_0-mlogloss:1.16439\tvalidation_1-mlogloss:1.50387\n",
      "[151]\tvalidation_0-mlogloss:1.16176\tvalidation_1-mlogloss:1.50270\n",
      "[152]\tvalidation_0-mlogloss:1.15893\tvalidation_1-mlogloss:1.50163\n",
      "[153]\tvalidation_0-mlogloss:1.15631\tvalidation_1-mlogloss:1.50046\n",
      "[154]\tvalidation_0-mlogloss:1.15367\tvalidation_1-mlogloss:1.49932\n",
      "[155]\tvalidation_0-mlogloss:1.15117\tvalidation_1-mlogloss:1.49828\n",
      "[156]\tvalidation_0-mlogloss:1.14844\tvalidation_1-mlogloss:1.49722\n",
      "[157]\tvalidation_0-mlogloss:1.14600\tvalidation_1-mlogloss:1.49593\n",
      "[158]\tvalidation_0-mlogloss:1.14351\tvalidation_1-mlogloss:1.49494\n",
      "[159]\tvalidation_0-mlogloss:1.14091\tvalidation_1-mlogloss:1.49379\n",
      "[160]\tvalidation_0-mlogloss:1.13851\tvalidation_1-mlogloss:1.49290\n",
      "[161]\tvalidation_0-mlogloss:1.13592\tvalidation_1-mlogloss:1.49169\n",
      "[162]\tvalidation_0-mlogloss:1.13342\tvalidation_1-mlogloss:1.49054\n",
      "[163]\tvalidation_0-mlogloss:1.13109\tvalidation_1-mlogloss:1.48947\n",
      "[164]\tvalidation_0-mlogloss:1.12852\tvalidation_1-mlogloss:1.48842\n",
      "[165]\tvalidation_0-mlogloss:1.12597\tvalidation_1-mlogloss:1.48742\n",
      "[166]\tvalidation_0-mlogloss:1.12361\tvalidation_1-mlogloss:1.48644\n",
      "[167]\tvalidation_0-mlogloss:1.12134\tvalidation_1-mlogloss:1.48542\n",
      "[168]\tvalidation_0-mlogloss:1.11896\tvalidation_1-mlogloss:1.48444\n",
      "[169]\tvalidation_0-mlogloss:1.11663\tvalidation_1-mlogloss:1.48354\n",
      "[170]\tvalidation_0-mlogloss:1.11422\tvalidation_1-mlogloss:1.48259\n",
      "[171]\tvalidation_0-mlogloss:1.11172\tvalidation_1-mlogloss:1.48158\n",
      "[172]\tvalidation_0-mlogloss:1.10953\tvalidation_1-mlogloss:1.48055\n",
      "[173]\tvalidation_0-mlogloss:1.10719\tvalidation_1-mlogloss:1.47971\n",
      "[174]\tvalidation_0-mlogloss:1.10483\tvalidation_1-mlogloss:1.47882\n",
      "[175]\tvalidation_0-mlogloss:1.10247\tvalidation_1-mlogloss:1.47783\n",
      "[176]\tvalidation_0-mlogloss:1.10016\tvalidation_1-mlogloss:1.47696\n",
      "[177]\tvalidation_0-mlogloss:1.09773\tvalidation_1-mlogloss:1.47598\n",
      "[178]\tvalidation_0-mlogloss:1.09554\tvalidation_1-mlogloss:1.47503\n",
      "[179]\tvalidation_0-mlogloss:1.09312\tvalidation_1-mlogloss:1.47407\n",
      "[180]\tvalidation_0-mlogloss:1.09088\tvalidation_1-mlogloss:1.47315\n",
      "[181]\tvalidation_0-mlogloss:1.08861\tvalidation_1-mlogloss:1.47246\n",
      "[182]\tvalidation_0-mlogloss:1.08646\tvalidation_1-mlogloss:1.47162\n",
      "[183]\tvalidation_0-mlogloss:1.08413\tvalidation_1-mlogloss:1.47078\n",
      "[184]\tvalidation_0-mlogloss:1.08180\tvalidation_1-mlogloss:1.46992\n",
      "[185]\tvalidation_0-mlogloss:1.07963\tvalidation_1-mlogloss:1.46911\n",
      "[186]\tvalidation_0-mlogloss:1.07744\tvalidation_1-mlogloss:1.46836\n",
      "[187]\tvalidation_0-mlogloss:1.07520\tvalidation_1-mlogloss:1.46755\n",
      "[188]\tvalidation_0-mlogloss:1.07298\tvalidation_1-mlogloss:1.46670\n",
      "[189]\tvalidation_0-mlogloss:1.07065\tvalidation_1-mlogloss:1.46583\n",
      "[190]\tvalidation_0-mlogloss:1.06845\tvalidation_1-mlogloss:1.46505\n",
      "[191]\tvalidation_0-mlogloss:1.06625\tvalidation_1-mlogloss:1.46407\n",
      "[192]\tvalidation_0-mlogloss:1.06402\tvalidation_1-mlogloss:1.46327\n",
      "[193]\tvalidation_0-mlogloss:1.06181\tvalidation_1-mlogloss:1.46255\n",
      "[194]\tvalidation_0-mlogloss:1.05970\tvalidation_1-mlogloss:1.46165\n",
      "[195]\tvalidation_0-mlogloss:1.05743\tvalidation_1-mlogloss:1.46082\n",
      "[196]\tvalidation_0-mlogloss:1.05542\tvalidation_1-mlogloss:1.46008\n",
      "[197]\tvalidation_0-mlogloss:1.05347\tvalidation_1-mlogloss:1.45928\n",
      "[198]\tvalidation_0-mlogloss:1.05132\tvalidation_1-mlogloss:1.45853\n",
      "[199]\tvalidation_0-mlogloss:1.04948\tvalidation_1-mlogloss:1.45775\n",
      "[200]\tvalidation_0-mlogloss:1.04761\tvalidation_1-mlogloss:1.45706\n",
      "[201]\tvalidation_0-mlogloss:1.04579\tvalidation_1-mlogloss:1.45627\n",
      "[202]\tvalidation_0-mlogloss:1.04377\tvalidation_1-mlogloss:1.45553\n",
      "[203]\tvalidation_0-mlogloss:1.04182\tvalidation_1-mlogloss:1.45481\n",
      "[204]\tvalidation_0-mlogloss:1.03992\tvalidation_1-mlogloss:1.45395\n",
      "[205]\tvalidation_0-mlogloss:1.03817\tvalidation_1-mlogloss:1.45315\n",
      "[206]\tvalidation_0-mlogloss:1.03614\tvalidation_1-mlogloss:1.45254\n",
      "[207]\tvalidation_0-mlogloss:1.03422\tvalidation_1-mlogloss:1.45170\n",
      "[208]\tvalidation_0-mlogloss:1.03234\tvalidation_1-mlogloss:1.45105\n",
      "[209]\tvalidation_0-mlogloss:1.03038\tvalidation_1-mlogloss:1.45032\n",
      "[210]\tvalidation_0-mlogloss:1.02860\tvalidation_1-mlogloss:1.44967\n",
      "[211]\tvalidation_0-mlogloss:1.02667\tvalidation_1-mlogloss:1.44897\n",
      "[212]\tvalidation_0-mlogloss:1.02457\tvalidation_1-mlogloss:1.44820\n",
      "[213]\tvalidation_0-mlogloss:1.02253\tvalidation_1-mlogloss:1.44746\n",
      "[214]\tvalidation_0-mlogloss:1.02071\tvalidation_1-mlogloss:1.44682\n",
      "[215]\tvalidation_0-mlogloss:1.01875\tvalidation_1-mlogloss:1.44610\n",
      "[216]\tvalidation_0-mlogloss:1.01680\tvalidation_1-mlogloss:1.44547\n",
      "[217]\tvalidation_0-mlogloss:1.01489\tvalidation_1-mlogloss:1.44480\n",
      "[218]\tvalidation_0-mlogloss:1.01303\tvalidation_1-mlogloss:1.44421\n",
      "[219]\tvalidation_0-mlogloss:1.01114\tvalidation_1-mlogloss:1.44351\n",
      "[220]\tvalidation_0-mlogloss:1.00927\tvalidation_1-mlogloss:1.44285\n",
      "[221]\tvalidation_0-mlogloss:1.00740\tvalidation_1-mlogloss:1.44215\n",
      "[222]\tvalidation_0-mlogloss:1.00558\tvalidation_1-mlogloss:1.44148\n",
      "[223]\tvalidation_0-mlogloss:1.00371\tvalidation_1-mlogloss:1.44092\n",
      "[224]\tvalidation_0-mlogloss:1.00201\tvalidation_1-mlogloss:1.44035\n",
      "[225]\tvalidation_0-mlogloss:1.00011\tvalidation_1-mlogloss:1.43966\n",
      "[226]\tvalidation_0-mlogloss:0.99816\tvalidation_1-mlogloss:1.43889\n",
      "[227]\tvalidation_0-mlogloss:0.99637\tvalidation_1-mlogloss:1.43820\n",
      "[228]\tvalidation_0-mlogloss:0.99448\tvalidation_1-mlogloss:1.43761\n",
      "[229]\tvalidation_0-mlogloss:0.99262\tvalidation_1-mlogloss:1.43691\n",
      "[230]\tvalidation_0-mlogloss:0.99067\tvalidation_1-mlogloss:1.43630\n",
      "[231]\tvalidation_0-mlogloss:0.98895\tvalidation_1-mlogloss:1.43564\n",
      "[232]\tvalidation_0-mlogloss:0.98717\tvalidation_1-mlogloss:1.43497\n",
      "[233]\tvalidation_0-mlogloss:0.98530\tvalidation_1-mlogloss:1.43433\n",
      "[234]\tvalidation_0-mlogloss:0.98350\tvalidation_1-mlogloss:1.43370\n",
      "[235]\tvalidation_0-mlogloss:0.98182\tvalidation_1-mlogloss:1.43306\n",
      "[236]\tvalidation_0-mlogloss:0.98000\tvalidation_1-mlogloss:1.43238\n",
      "[237]\tvalidation_0-mlogloss:0.97819\tvalidation_1-mlogloss:1.43178\n",
      "[238]\tvalidation_0-mlogloss:0.97631\tvalidation_1-mlogloss:1.43112\n",
      "[239]\tvalidation_0-mlogloss:0.97459\tvalidation_1-mlogloss:1.43044\n",
      "[240]\tvalidation_0-mlogloss:0.97286\tvalidation_1-mlogloss:1.42982\n",
      "[241]\tvalidation_0-mlogloss:0.97112\tvalidation_1-mlogloss:1.42923\n",
      "[242]\tvalidation_0-mlogloss:0.96939\tvalidation_1-mlogloss:1.42862\n",
      "[243]\tvalidation_0-mlogloss:0.96761\tvalidation_1-mlogloss:1.42803\n",
      "[244]\tvalidation_0-mlogloss:0.96593\tvalidation_1-mlogloss:1.42749\n",
      "[245]\tvalidation_0-mlogloss:0.96420\tvalidation_1-mlogloss:1.42684\n",
      "[246]\tvalidation_0-mlogloss:0.96263\tvalidation_1-mlogloss:1.42626\n",
      "[247]\tvalidation_0-mlogloss:0.96092\tvalidation_1-mlogloss:1.42563\n",
      "[248]\tvalidation_0-mlogloss:0.95929\tvalidation_1-mlogloss:1.42499\n",
      "[249]\tvalidation_0-mlogloss:0.95771\tvalidation_1-mlogloss:1.42444\n",
      "[250]\tvalidation_0-mlogloss:0.95604\tvalidation_1-mlogloss:1.42398\n",
      "[251]\tvalidation_0-mlogloss:0.95430\tvalidation_1-mlogloss:1.42349\n",
      "[252]\tvalidation_0-mlogloss:0.95258\tvalidation_1-mlogloss:1.42290\n",
      "[253]\tvalidation_0-mlogloss:0.95112\tvalidation_1-mlogloss:1.42236\n",
      "[254]\tvalidation_0-mlogloss:0.94932\tvalidation_1-mlogloss:1.42175\n",
      "[255]\tvalidation_0-mlogloss:0.94765\tvalidation_1-mlogloss:1.42122\n",
      "[256]\tvalidation_0-mlogloss:0.94600\tvalidation_1-mlogloss:1.42070\n",
      "[257]\tvalidation_0-mlogloss:0.94447\tvalidation_1-mlogloss:1.42006\n",
      "[258]\tvalidation_0-mlogloss:0.94280\tvalidation_1-mlogloss:1.41952\n",
      "[259]\tvalidation_0-mlogloss:0.94118\tvalidation_1-mlogloss:1.41908\n",
      "[260]\tvalidation_0-mlogloss:0.93964\tvalidation_1-mlogloss:1.41857\n",
      "[261]\tvalidation_0-mlogloss:0.93816\tvalidation_1-mlogloss:1.41804\n",
      "[262]\tvalidation_0-mlogloss:0.93678\tvalidation_1-mlogloss:1.41757\n",
      "[263]\tvalidation_0-mlogloss:0.93509\tvalidation_1-mlogloss:1.41690\n",
      "[264]\tvalidation_0-mlogloss:0.93358\tvalidation_1-mlogloss:1.41650\n",
      "[265]\tvalidation_0-mlogloss:0.93198\tvalidation_1-mlogloss:1.41597\n",
      "[266]\tvalidation_0-mlogloss:0.93046\tvalidation_1-mlogloss:1.41545\n",
      "[267]\tvalidation_0-mlogloss:0.92900\tvalidation_1-mlogloss:1.41500\n",
      "[268]\tvalidation_0-mlogloss:0.92751\tvalidation_1-mlogloss:1.41441\n",
      "[269]\tvalidation_0-mlogloss:0.92597\tvalidation_1-mlogloss:1.41404\n",
      "[270]\tvalidation_0-mlogloss:0.92462\tvalidation_1-mlogloss:1.41364\n",
      "[271]\tvalidation_0-mlogloss:0.92321\tvalidation_1-mlogloss:1.41313\n",
      "[272]\tvalidation_0-mlogloss:0.92171\tvalidation_1-mlogloss:1.41266\n",
      "[273]\tvalidation_0-mlogloss:0.92026\tvalidation_1-mlogloss:1.41241\n",
      "[274]\tvalidation_0-mlogloss:0.91888\tvalidation_1-mlogloss:1.41192\n",
      "[275]\tvalidation_0-mlogloss:0.91739\tvalidation_1-mlogloss:1.41150\n",
      "[276]\tvalidation_0-mlogloss:0.91595\tvalidation_1-mlogloss:1.41109\n",
      "[277]\tvalidation_0-mlogloss:0.91449\tvalidation_1-mlogloss:1.41066\n",
      "[278]\tvalidation_0-mlogloss:0.91305\tvalidation_1-mlogloss:1.41019\n",
      "[279]\tvalidation_0-mlogloss:0.91178\tvalidation_1-mlogloss:1.40976\n",
      "[280]\tvalidation_0-mlogloss:0.91024\tvalidation_1-mlogloss:1.40933\n",
      "[281]\tvalidation_0-mlogloss:0.90889\tvalidation_1-mlogloss:1.40895\n",
      "[282]\tvalidation_0-mlogloss:0.90741\tvalidation_1-mlogloss:1.40852\n",
      "[283]\tvalidation_0-mlogloss:0.90604\tvalidation_1-mlogloss:1.40814\n",
      "[284]\tvalidation_0-mlogloss:0.90464\tvalidation_1-mlogloss:1.40779\n",
      "[285]\tvalidation_0-mlogloss:0.90325\tvalidation_1-mlogloss:1.40746\n",
      "[286]\tvalidation_0-mlogloss:0.90182\tvalidation_1-mlogloss:1.40709\n",
      "[287]\tvalidation_0-mlogloss:0.90054\tvalidation_1-mlogloss:1.40676\n",
      "[288]\tvalidation_0-mlogloss:0.89924\tvalidation_1-mlogloss:1.40636\n",
      "[289]\tvalidation_0-mlogloss:0.89800\tvalidation_1-mlogloss:1.40603\n",
      "[290]\tvalidation_0-mlogloss:0.89651\tvalidation_1-mlogloss:1.40566\n",
      "[291]\tvalidation_0-mlogloss:0.89522\tvalidation_1-mlogloss:1.40521\n",
      "[292]\tvalidation_0-mlogloss:0.89385\tvalidation_1-mlogloss:1.40482\n",
      "[293]\tvalidation_0-mlogloss:0.89254\tvalidation_1-mlogloss:1.40449\n",
      "[294]\tvalidation_0-mlogloss:0.89117\tvalidation_1-mlogloss:1.40403\n",
      "[295]\tvalidation_0-mlogloss:0.88975\tvalidation_1-mlogloss:1.40366\n",
      "[296]\tvalidation_0-mlogloss:0.88840\tvalidation_1-mlogloss:1.40338\n",
      "[297]\tvalidation_0-mlogloss:0.88719\tvalidation_1-mlogloss:1.40299\n",
      "[298]\tvalidation_0-mlogloss:0.88583\tvalidation_1-mlogloss:1.40251\n",
      "[299]\tvalidation_0-mlogloss:0.88448\tvalidation_1-mlogloss:1.40200\n",
      "[300]\tvalidation_0-mlogloss:0.88322\tvalidation_1-mlogloss:1.40176\n",
      "[301]\tvalidation_0-mlogloss:0.88183\tvalidation_1-mlogloss:1.40142\n",
      "[302]\tvalidation_0-mlogloss:0.88043\tvalidation_1-mlogloss:1.40096\n",
      "[303]\tvalidation_0-mlogloss:0.87911\tvalidation_1-mlogloss:1.40069\n",
      "[304]\tvalidation_0-mlogloss:0.87788\tvalidation_1-mlogloss:1.40024\n",
      "[305]\tvalidation_0-mlogloss:0.87659\tvalidation_1-mlogloss:1.39982\n",
      "[306]\tvalidation_0-mlogloss:0.87512\tvalidation_1-mlogloss:1.39957\n",
      "[307]\tvalidation_0-mlogloss:0.87398\tvalidation_1-mlogloss:1.39910\n",
      "[308]\tvalidation_0-mlogloss:0.87275\tvalidation_1-mlogloss:1.39875\n",
      "[309]\tvalidation_0-mlogloss:0.87133\tvalidation_1-mlogloss:1.39832\n",
      "[310]\tvalidation_0-mlogloss:0.87015\tvalidation_1-mlogloss:1.39813\n",
      "[311]\tvalidation_0-mlogloss:0.86883\tvalidation_1-mlogloss:1.39777\n",
      "[312]\tvalidation_0-mlogloss:0.86769\tvalidation_1-mlogloss:1.39748\n",
      "[313]\tvalidation_0-mlogloss:0.86647\tvalidation_1-mlogloss:1.39708\n",
      "[314]\tvalidation_0-mlogloss:0.86515\tvalidation_1-mlogloss:1.39668\n",
      "[315]\tvalidation_0-mlogloss:0.86395\tvalidation_1-mlogloss:1.39637\n",
      "[316]\tvalidation_0-mlogloss:0.86267\tvalidation_1-mlogloss:1.39604\n",
      "[317]\tvalidation_0-mlogloss:0.86141\tvalidation_1-mlogloss:1.39574\n",
      "[318]\tvalidation_0-mlogloss:0.86028\tvalidation_1-mlogloss:1.39541\n",
      "[319]\tvalidation_0-mlogloss:0.85902\tvalidation_1-mlogloss:1.39507\n",
      "[320]\tvalidation_0-mlogloss:0.85775\tvalidation_1-mlogloss:1.39483\n",
      "[321]\tvalidation_0-mlogloss:0.85651\tvalidation_1-mlogloss:1.39458\n",
      "[322]\tvalidation_0-mlogloss:0.85517\tvalidation_1-mlogloss:1.39430\n",
      "[323]\tvalidation_0-mlogloss:0.85407\tvalidation_1-mlogloss:1.39406\n",
      "[324]\tvalidation_0-mlogloss:0.85277\tvalidation_1-mlogloss:1.39386\n",
      "[325]\tvalidation_0-mlogloss:0.85166\tvalidation_1-mlogloss:1.39346\n",
      "[326]\tvalidation_0-mlogloss:0.85045\tvalidation_1-mlogloss:1.39308\n",
      "[327]\tvalidation_0-mlogloss:0.84930\tvalidation_1-mlogloss:1.39271\n",
      "[328]\tvalidation_0-mlogloss:0.84804\tvalidation_1-mlogloss:1.39236\n",
      "[329]\tvalidation_0-mlogloss:0.84671\tvalidation_1-mlogloss:1.39201\n",
      "[330]\tvalidation_0-mlogloss:0.84547\tvalidation_1-mlogloss:1.39149\n",
      "[331]\tvalidation_0-mlogloss:0.84428\tvalidation_1-mlogloss:1.39116\n",
      "[332]\tvalidation_0-mlogloss:0.84303\tvalidation_1-mlogloss:1.39077\n",
      "[333]\tvalidation_0-mlogloss:0.84180\tvalidation_1-mlogloss:1.39040\n",
      "[334]\tvalidation_0-mlogloss:0.84059\tvalidation_1-mlogloss:1.39003\n",
      "[335]\tvalidation_0-mlogloss:0.83946\tvalidation_1-mlogloss:1.38962\n",
      "[336]\tvalidation_0-mlogloss:0.83832\tvalidation_1-mlogloss:1.38931\n",
      "[337]\tvalidation_0-mlogloss:0.83712\tvalidation_1-mlogloss:1.38915\n",
      "[338]\tvalidation_0-mlogloss:0.83608\tvalidation_1-mlogloss:1.38879\n",
      "[339]\tvalidation_0-mlogloss:0.83495\tvalidation_1-mlogloss:1.38850\n",
      "[340]\tvalidation_0-mlogloss:0.83384\tvalidation_1-mlogloss:1.38800\n",
      "[341]\tvalidation_0-mlogloss:0.83252\tvalidation_1-mlogloss:1.38761\n",
      "[342]\tvalidation_0-mlogloss:0.83147\tvalidation_1-mlogloss:1.38746\n",
      "[343]\tvalidation_0-mlogloss:0.83026\tvalidation_1-mlogloss:1.38714\n",
      "[344]\tvalidation_0-mlogloss:0.82910\tvalidation_1-mlogloss:1.38675\n",
      "[345]\tvalidation_0-mlogloss:0.82802\tvalidation_1-mlogloss:1.38652\n",
      "[346]\tvalidation_0-mlogloss:0.82696\tvalidation_1-mlogloss:1.38614\n",
      "[347]\tvalidation_0-mlogloss:0.82589\tvalidation_1-mlogloss:1.38581\n",
      "[348]\tvalidation_0-mlogloss:0.82471\tvalidation_1-mlogloss:1.38559\n",
      "[349]\tvalidation_0-mlogloss:0.82368\tvalidation_1-mlogloss:1.38517\n",
      "[350]\tvalidation_0-mlogloss:0.82257\tvalidation_1-mlogloss:1.38506\n",
      "[351]\tvalidation_0-mlogloss:0.82144\tvalidation_1-mlogloss:1.38476\n",
      "[352]\tvalidation_0-mlogloss:0.82038\tvalidation_1-mlogloss:1.38460\n",
      "[353]\tvalidation_0-mlogloss:0.81932\tvalidation_1-mlogloss:1.38424\n",
      "[354]\tvalidation_0-mlogloss:0.81837\tvalidation_1-mlogloss:1.38392\n",
      "[355]\tvalidation_0-mlogloss:0.81738\tvalidation_1-mlogloss:1.38369\n",
      "[356]\tvalidation_0-mlogloss:0.81602\tvalidation_1-mlogloss:1.38344\n",
      "[357]\tvalidation_0-mlogloss:0.81504\tvalidation_1-mlogloss:1.38322\n",
      "[358]\tvalidation_0-mlogloss:0.81392\tvalidation_1-mlogloss:1.38295\n",
      "[359]\tvalidation_0-mlogloss:0.81285\tvalidation_1-mlogloss:1.38265\n",
      "[360]\tvalidation_0-mlogloss:0.81186\tvalidation_1-mlogloss:1.38244\n",
      "[361]\tvalidation_0-mlogloss:0.81080\tvalidation_1-mlogloss:1.38229\n",
      "[362]\tvalidation_0-mlogloss:0.80995\tvalidation_1-mlogloss:1.38192\n",
      "[363]\tvalidation_0-mlogloss:0.80881\tvalidation_1-mlogloss:1.38170\n",
      "[364]\tvalidation_0-mlogloss:0.80770\tvalidation_1-mlogloss:1.38137\n",
      "[365]\tvalidation_0-mlogloss:0.80676\tvalidation_1-mlogloss:1.38125\n",
      "[366]\tvalidation_0-mlogloss:0.80578\tvalidation_1-mlogloss:1.38106\n",
      "[367]\tvalidation_0-mlogloss:0.80471\tvalidation_1-mlogloss:1.38077\n",
      "[368]\tvalidation_0-mlogloss:0.80387\tvalidation_1-mlogloss:1.38051\n",
      "[369]\tvalidation_0-mlogloss:0.80284\tvalidation_1-mlogloss:1.38030\n",
      "[370]\tvalidation_0-mlogloss:0.80179\tvalidation_1-mlogloss:1.38000\n",
      "[371]\tvalidation_0-mlogloss:0.80073\tvalidation_1-mlogloss:1.37992\n",
      "[372]\tvalidation_0-mlogloss:0.79983\tvalidation_1-mlogloss:1.37961\n",
      "[373]\tvalidation_0-mlogloss:0.79855\tvalidation_1-mlogloss:1.37941\n",
      "[374]\tvalidation_0-mlogloss:0.79760\tvalidation_1-mlogloss:1.37918\n",
      "[375]\tvalidation_0-mlogloss:0.79644\tvalidation_1-mlogloss:1.37908\n",
      "[376]\tvalidation_0-mlogloss:0.79529\tvalidation_1-mlogloss:1.37889\n",
      "[377]\tvalidation_0-mlogloss:0.79446\tvalidation_1-mlogloss:1.37860\n",
      "[378]\tvalidation_0-mlogloss:0.79336\tvalidation_1-mlogloss:1.37842\n",
      "[379]\tvalidation_0-mlogloss:0.79233\tvalidation_1-mlogloss:1.37832\n",
      "[380]\tvalidation_0-mlogloss:0.79130\tvalidation_1-mlogloss:1.37805\n",
      "[381]\tvalidation_0-mlogloss:0.79020\tvalidation_1-mlogloss:1.37801\n",
      "[382]\tvalidation_0-mlogloss:0.78944\tvalidation_1-mlogloss:1.37784\n",
      "[383]\tvalidation_0-mlogloss:0.78835\tvalidation_1-mlogloss:1.37762\n",
      "[384]\tvalidation_0-mlogloss:0.78729\tvalidation_1-mlogloss:1.37756\n",
      "[385]\tvalidation_0-mlogloss:0.78623\tvalidation_1-mlogloss:1.37740\n",
      "[386]\tvalidation_0-mlogloss:0.78516\tvalidation_1-mlogloss:1.37714\n",
      "[387]\tvalidation_0-mlogloss:0.78424\tvalidation_1-mlogloss:1.37699\n",
      "[388]\tvalidation_0-mlogloss:0.78331\tvalidation_1-mlogloss:1.37699\n",
      "[389]\tvalidation_0-mlogloss:0.78216\tvalidation_1-mlogloss:1.37686\n",
      "[390]\tvalidation_0-mlogloss:0.78130\tvalidation_1-mlogloss:1.37672\n",
      "[391]\tvalidation_0-mlogloss:0.78044\tvalidation_1-mlogloss:1.37659\n",
      "[392]\tvalidation_0-mlogloss:0.77917\tvalidation_1-mlogloss:1.37658\n",
      "[393]\tvalidation_0-mlogloss:0.77816\tvalidation_1-mlogloss:1.37636\n",
      "[394]\tvalidation_0-mlogloss:0.77731\tvalidation_1-mlogloss:1.37622\n",
      "[395]\tvalidation_0-mlogloss:0.77620\tvalidation_1-mlogloss:1.37601\n",
      "[396]\tvalidation_0-mlogloss:0.77526\tvalidation_1-mlogloss:1.37589\n",
      "[397]\tvalidation_0-mlogloss:0.77445\tvalidation_1-mlogloss:1.37580\n",
      "[398]\tvalidation_0-mlogloss:0.77338\tvalidation_1-mlogloss:1.37575\n",
      "[399]\tvalidation_0-mlogloss:0.77251\tvalidation_1-mlogloss:1.37566\n",
      "[400]\tvalidation_0-mlogloss:0.77170\tvalidation_1-mlogloss:1.37554\n",
      "[401]\tvalidation_0-mlogloss:0.77059\tvalidation_1-mlogloss:1.37540\n",
      "[402]\tvalidation_0-mlogloss:0.76974\tvalidation_1-mlogloss:1.37521\n",
      "[403]\tvalidation_0-mlogloss:0.76883\tvalidation_1-mlogloss:1.37498\n",
      "[404]\tvalidation_0-mlogloss:0.76777\tvalidation_1-mlogloss:1.37482\n",
      "[405]\tvalidation_0-mlogloss:0.76689\tvalidation_1-mlogloss:1.37464\n",
      "[406]\tvalidation_0-mlogloss:0.76570\tvalidation_1-mlogloss:1.37457\n",
      "[407]\tvalidation_0-mlogloss:0.76478\tvalidation_1-mlogloss:1.37454\n",
      "[408]\tvalidation_0-mlogloss:0.76394\tvalidation_1-mlogloss:1.37440\n",
      "[409]\tvalidation_0-mlogloss:0.76298\tvalidation_1-mlogloss:1.37429\n",
      "[410]\tvalidation_0-mlogloss:0.76197\tvalidation_1-mlogloss:1.37422\n",
      "[411]\tvalidation_0-mlogloss:0.76100\tvalidation_1-mlogloss:1.37399\n",
      "[412]\tvalidation_0-mlogloss:0.76011\tvalidation_1-mlogloss:1.37387\n",
      "[413]\tvalidation_0-mlogloss:0.75907\tvalidation_1-mlogloss:1.37369\n",
      "[414]\tvalidation_0-mlogloss:0.75809\tvalidation_1-mlogloss:1.37350\n",
      "[415]\tvalidation_0-mlogloss:0.75718\tvalidation_1-mlogloss:1.37335\n",
      "[416]\tvalidation_0-mlogloss:0.75613\tvalidation_1-mlogloss:1.37321\n",
      "[417]\tvalidation_0-mlogloss:0.75509\tvalidation_1-mlogloss:1.37318\n",
      "[418]\tvalidation_0-mlogloss:0.75419\tvalidation_1-mlogloss:1.37310\n",
      "[419]\tvalidation_0-mlogloss:0.75337\tvalidation_1-mlogloss:1.37295\n",
      "[420]\tvalidation_0-mlogloss:0.75250\tvalidation_1-mlogloss:1.37277\n",
      "[421]\tvalidation_0-mlogloss:0.75142\tvalidation_1-mlogloss:1.37261\n",
      "[422]\tvalidation_0-mlogloss:0.75047\tvalidation_1-mlogloss:1.37247\n",
      "[423]\tvalidation_0-mlogloss:0.74975\tvalidation_1-mlogloss:1.37227\n",
      "[424]\tvalidation_0-mlogloss:0.74884\tvalidation_1-mlogloss:1.37218\n",
      "[425]\tvalidation_0-mlogloss:0.74785\tvalidation_1-mlogloss:1.37203\n",
      "[426]\tvalidation_0-mlogloss:0.74712\tvalidation_1-mlogloss:1.37198\n",
      "[427]\tvalidation_0-mlogloss:0.74606\tvalidation_1-mlogloss:1.37174\n",
      "[428]\tvalidation_0-mlogloss:0.74518\tvalidation_1-mlogloss:1.37165\n",
      "[429]\tvalidation_0-mlogloss:0.74439\tvalidation_1-mlogloss:1.37153\n",
      "[430]\tvalidation_0-mlogloss:0.74340\tvalidation_1-mlogloss:1.37134\n",
      "[431]\tvalidation_0-mlogloss:0.74268\tvalidation_1-mlogloss:1.37123\n",
      "[432]\tvalidation_0-mlogloss:0.74177\tvalidation_1-mlogloss:1.37111\n",
      "[433]\tvalidation_0-mlogloss:0.74086\tvalidation_1-mlogloss:1.37101\n",
      "[434]\tvalidation_0-mlogloss:0.73999\tvalidation_1-mlogloss:1.37086\n",
      "[435]\tvalidation_0-mlogloss:0.73911\tvalidation_1-mlogloss:1.37084\n",
      "[436]\tvalidation_0-mlogloss:0.73823\tvalidation_1-mlogloss:1.37082\n",
      "[437]\tvalidation_0-mlogloss:0.73749\tvalidation_1-mlogloss:1.37070\n",
      "[438]\tvalidation_0-mlogloss:0.73675\tvalidation_1-mlogloss:1.37046\n",
      "[439]\tvalidation_0-mlogloss:0.73588\tvalidation_1-mlogloss:1.37036\n",
      "[440]\tvalidation_0-mlogloss:0.73508\tvalidation_1-mlogloss:1.37023\n",
      "[441]\tvalidation_0-mlogloss:0.73436\tvalidation_1-mlogloss:1.37005\n",
      "[442]\tvalidation_0-mlogloss:0.73359\tvalidation_1-mlogloss:1.36992\n",
      "[443]\tvalidation_0-mlogloss:0.73269\tvalidation_1-mlogloss:1.36981\n",
      "[444]\tvalidation_0-mlogloss:0.73173\tvalidation_1-mlogloss:1.36975\n",
      "[445]\tvalidation_0-mlogloss:0.73083\tvalidation_1-mlogloss:1.36965\n",
      "[446]\tvalidation_0-mlogloss:0.73009\tvalidation_1-mlogloss:1.36946\n",
      "[447]\tvalidation_0-mlogloss:0.72944\tvalidation_1-mlogloss:1.36928\n",
      "[448]\tvalidation_0-mlogloss:0.72849\tvalidation_1-mlogloss:1.36916\n",
      "[449]\tvalidation_0-mlogloss:0.72764\tvalidation_1-mlogloss:1.36898\n",
      "[450]\tvalidation_0-mlogloss:0.72685\tvalidation_1-mlogloss:1.36896\n",
      "[451]\tvalidation_0-mlogloss:0.72599\tvalidation_1-mlogloss:1.36889\n",
      "[452]\tvalidation_0-mlogloss:0.72513\tvalidation_1-mlogloss:1.36872\n",
      "[453]\tvalidation_0-mlogloss:0.72425\tvalidation_1-mlogloss:1.36854\n",
      "[454]\tvalidation_0-mlogloss:0.72336\tvalidation_1-mlogloss:1.36837\n",
      "[455]\tvalidation_0-mlogloss:0.72265\tvalidation_1-mlogloss:1.36835\n",
      "[456]\tvalidation_0-mlogloss:0.72191\tvalidation_1-mlogloss:1.36822\n",
      "[457]\tvalidation_0-mlogloss:0.72114\tvalidation_1-mlogloss:1.36814\n",
      "[458]\tvalidation_0-mlogloss:0.72027\tvalidation_1-mlogloss:1.36811\n",
      "[459]\tvalidation_0-mlogloss:0.71930\tvalidation_1-mlogloss:1.36813\n",
      "[460]\tvalidation_0-mlogloss:0.71852\tvalidation_1-mlogloss:1.36812\n",
      "[461]\tvalidation_0-mlogloss:0.71766\tvalidation_1-mlogloss:1.36809\n",
      "[462]\tvalidation_0-mlogloss:0.71674\tvalidation_1-mlogloss:1.36797\n",
      "[463]\tvalidation_0-mlogloss:0.71605\tvalidation_1-mlogloss:1.36793\n",
      "[464]\tvalidation_0-mlogloss:0.71515\tvalidation_1-mlogloss:1.36786\n",
      "[465]\tvalidation_0-mlogloss:0.71430\tvalidation_1-mlogloss:1.36786\n",
      "[466]\tvalidation_0-mlogloss:0.71353\tvalidation_1-mlogloss:1.36775\n",
      "[467]\tvalidation_0-mlogloss:0.71279\tvalidation_1-mlogloss:1.36773\n",
      "[468]\tvalidation_0-mlogloss:0.71208\tvalidation_1-mlogloss:1.36765\n",
      "[469]\tvalidation_0-mlogloss:0.71110\tvalidation_1-mlogloss:1.36766\n",
      "[470]\tvalidation_0-mlogloss:0.71047\tvalidation_1-mlogloss:1.36761\n",
      "[471]\tvalidation_0-mlogloss:0.70967\tvalidation_1-mlogloss:1.36744\n",
      "[472]\tvalidation_0-mlogloss:0.70887\tvalidation_1-mlogloss:1.36744\n",
      "[473]\tvalidation_0-mlogloss:0.70818\tvalidation_1-mlogloss:1.36738\n",
      "[474]\tvalidation_0-mlogloss:0.70727\tvalidation_1-mlogloss:1.36740\n",
      "[475]\tvalidation_0-mlogloss:0.70658\tvalidation_1-mlogloss:1.36731\n",
      "[476]\tvalidation_0-mlogloss:0.70588\tvalidation_1-mlogloss:1.36731\n",
      "[477]\tvalidation_0-mlogloss:0.70509\tvalidation_1-mlogloss:1.36728\n",
      "[478]\tvalidation_0-mlogloss:0.70430\tvalidation_1-mlogloss:1.36730\n",
      "[479]\tvalidation_0-mlogloss:0.70357\tvalidation_1-mlogloss:1.36720\n",
      "[480]\tvalidation_0-mlogloss:0.70265\tvalidation_1-mlogloss:1.36726\n",
      "[481]\tvalidation_0-mlogloss:0.70209\tvalidation_1-mlogloss:1.36716\n",
      "[482]\tvalidation_0-mlogloss:0.70125\tvalidation_1-mlogloss:1.36706\n",
      "[483]\tvalidation_0-mlogloss:0.70041\tvalidation_1-mlogloss:1.36711\n",
      "[484]\tvalidation_0-mlogloss:0.69961\tvalidation_1-mlogloss:1.36713\n",
      "[485]\tvalidation_0-mlogloss:0.69880\tvalidation_1-mlogloss:1.36724\n",
      "[486]\tvalidation_0-mlogloss:0.69800\tvalidation_1-mlogloss:1.36712\n",
      "[487]\tvalidation_0-mlogloss:0.69723\tvalidation_1-mlogloss:1.36717\n",
      "[488]\tvalidation_0-mlogloss:0.69644\tvalidation_1-mlogloss:1.36714\n",
      "[489]\tvalidation_0-mlogloss:0.69585\tvalidation_1-mlogloss:1.36714\n",
      "[490]\tvalidation_0-mlogloss:0.69506\tvalidation_1-mlogloss:1.36723\n",
      "[491]\tvalidation_0-mlogloss:0.69428\tvalidation_1-mlogloss:1.36725\n",
      "[492]\tvalidation_0-mlogloss:0.69344\tvalidation_1-mlogloss:1.36724\n",
      "[493]\tvalidation_0-mlogloss:0.69273\tvalidation_1-mlogloss:1.36727\n",
      "[494]\tvalidation_0-mlogloss:0.69185\tvalidation_1-mlogloss:1.36719\n",
      "[495]\tvalidation_0-mlogloss:0.69119\tvalidation_1-mlogloss:1.36716\n",
      "[496]\tvalidation_0-mlogloss:0.69047\tvalidation_1-mlogloss:1.36710\n",
      "[497]\tvalidation_0-mlogloss:0.68963\tvalidation_1-mlogloss:1.36710\n",
      "[498]\tvalidation_0-mlogloss:0.68890\tvalidation_1-mlogloss:1.36713\n",
      "[499]\tvalidation_0-mlogloss:0.68806\tvalidation_1-mlogloss:1.36704\n",
      "[500]\tvalidation_0-mlogloss:0.68745\tvalidation_1-mlogloss:1.36705\n",
      "[501]\tvalidation_0-mlogloss:0.68680\tvalidation_1-mlogloss:1.36694\n",
      "[502]\tvalidation_0-mlogloss:0.68623\tvalidation_1-mlogloss:1.36700\n",
      "[503]\tvalidation_0-mlogloss:0.68558\tvalidation_1-mlogloss:1.36698\n",
      "[504]\tvalidation_0-mlogloss:0.68464\tvalidation_1-mlogloss:1.36708\n",
      "[505]\tvalidation_0-mlogloss:0.68413\tvalidation_1-mlogloss:1.36708\n",
      "[506]\tvalidation_0-mlogloss:0.68342\tvalidation_1-mlogloss:1.36716\n",
      "[507]\tvalidation_0-mlogloss:0.68265\tvalidation_1-mlogloss:1.36714\n",
      "[508]\tvalidation_0-mlogloss:0.68187\tvalidation_1-mlogloss:1.36714\n",
      "[509]\tvalidation_0-mlogloss:0.68129\tvalidation_1-mlogloss:1.36707\n",
      "[510]\tvalidation_0-mlogloss:0.68049\tvalidation_1-mlogloss:1.36695\n",
      "[511]\tvalidation_0-mlogloss:0.67994\tvalidation_1-mlogloss:1.36696\n",
      "[512]\tvalidation_0-mlogloss:0.67903\tvalidation_1-mlogloss:1.36694\n",
      "[513]\tvalidation_0-mlogloss:0.67843\tvalidation_1-mlogloss:1.36688\n",
      "[514]\tvalidation_0-mlogloss:0.67767\tvalidation_1-mlogloss:1.36690\n",
      "[515]\tvalidation_0-mlogloss:0.67697\tvalidation_1-mlogloss:1.36689\n",
      "[516]\tvalidation_0-mlogloss:0.67637\tvalidation_1-mlogloss:1.36689\n",
      "[517]\tvalidation_0-mlogloss:0.67548\tvalidation_1-mlogloss:1.36683\n",
      "[518]\tvalidation_0-mlogloss:0.67492\tvalidation_1-mlogloss:1.36679\n",
      "[519]\tvalidation_0-mlogloss:0.67415\tvalidation_1-mlogloss:1.36693\n",
      "[520]\tvalidation_0-mlogloss:0.67364\tvalidation_1-mlogloss:1.36679\n",
      "[521]\tvalidation_0-mlogloss:0.67291\tvalidation_1-mlogloss:1.36671\n",
      "[522]\tvalidation_0-mlogloss:0.67228\tvalidation_1-mlogloss:1.36673\n",
      "[523]\tvalidation_0-mlogloss:0.67172\tvalidation_1-mlogloss:1.36681\n",
      "[524]\tvalidation_0-mlogloss:0.67114\tvalidation_1-mlogloss:1.36675\n",
      "[525]\tvalidation_0-mlogloss:0.67043\tvalidation_1-mlogloss:1.36680\n",
      "[526]\tvalidation_0-mlogloss:0.66976\tvalidation_1-mlogloss:1.36680\n",
      "[527]\tvalidation_0-mlogloss:0.66914\tvalidation_1-mlogloss:1.36696\n",
      "[528]\tvalidation_0-mlogloss:0.66841\tvalidation_1-mlogloss:1.36686\n",
      "[529]\tvalidation_0-mlogloss:0.66777\tvalidation_1-mlogloss:1.36689\n",
      "[530]\tvalidation_0-mlogloss:0.66716\tvalidation_1-mlogloss:1.36690\n",
      "[531]\tvalidation_0-mlogloss:0.66661\tvalidation_1-mlogloss:1.36688\n",
      "[532]\tvalidation_0-mlogloss:0.66593\tvalidation_1-mlogloss:1.36684\n",
      "[533]\tvalidation_0-mlogloss:0.66524\tvalidation_1-mlogloss:1.36678\n",
      "[534]\tvalidation_0-mlogloss:0.66451\tvalidation_1-mlogloss:1.36676\n",
      "[535]\tvalidation_0-mlogloss:0.66387\tvalidation_1-mlogloss:1.36665\n",
      "[536]\tvalidation_0-mlogloss:0.66326\tvalidation_1-mlogloss:1.36660\n",
      "[537]\tvalidation_0-mlogloss:0.66263\tvalidation_1-mlogloss:1.36654\n",
      "[538]\tvalidation_0-mlogloss:0.66180\tvalidation_1-mlogloss:1.36661\n",
      "[539]\tvalidation_0-mlogloss:0.66122\tvalidation_1-mlogloss:1.36663\n",
      "[540]\tvalidation_0-mlogloss:0.66068\tvalidation_1-mlogloss:1.36656\n",
      "[541]\tvalidation_0-mlogloss:0.66010\tvalidation_1-mlogloss:1.36661\n",
      "[542]\tvalidation_0-mlogloss:0.65926\tvalidation_1-mlogloss:1.36671\n",
      "[543]\tvalidation_0-mlogloss:0.65873\tvalidation_1-mlogloss:1.36678\n",
      "[544]\tvalidation_0-mlogloss:0.65804\tvalidation_1-mlogloss:1.36682\n",
      "[545]\tvalidation_0-mlogloss:0.65735\tvalidation_1-mlogloss:1.36688\n",
      "[546]\tvalidation_0-mlogloss:0.65678\tvalidation_1-mlogloss:1.36674\n",
      "[547]\tvalidation_0-mlogloss:0.65623\tvalidation_1-mlogloss:1.36673\n",
      "[548]\tvalidation_0-mlogloss:0.65554\tvalidation_1-mlogloss:1.36675\n",
      "[549]\tvalidation_0-mlogloss:0.65515\tvalidation_1-mlogloss:1.36670\n",
      "[550]\tvalidation_0-mlogloss:0.65456\tvalidation_1-mlogloss:1.36665\n",
      "[551]\tvalidation_0-mlogloss:0.65388\tvalidation_1-mlogloss:1.36676\n",
      "[552]\tvalidation_0-mlogloss:0.65336\tvalidation_1-mlogloss:1.36668\n",
      "[553]\tvalidation_0-mlogloss:0.65271\tvalidation_1-mlogloss:1.36672\n",
      "[554]\tvalidation_0-mlogloss:0.65198\tvalidation_1-mlogloss:1.36673\n",
      "[555]\tvalidation_0-mlogloss:0.65138\tvalidation_1-mlogloss:1.36679\n",
      "[556]\tvalidation_0-mlogloss:0.65070\tvalidation_1-mlogloss:1.36680\n",
      "[557]\tvalidation_0-mlogloss:0.65001\tvalidation_1-mlogloss:1.36684\n"
     ]
    },
    {
     "data": {
      "text/plain": [
       "XGBClassifier(base_score=0.5, booster='gbtree', callbacks=None,\n",
       "              colsample_bylevel=1, colsample_bynode=1, colsample_bytree=1,\n",
       "              early_stopping_rounds=None, enable_categorical=False,\n",
       "              eval_metric=None, gamma=0.6, gpu_id=-1, grow_policy='depthwise',\n",
       "              importance_type=None, interaction_constraints='',\n",
       "              learning_rate=0.01, max_bin=256, max_cat_to_onehot=4,\n",
       "              max_delta_step=0, max_depth=6, max_leaves=0, min_child_weight=1,\n",
       "              missing=nan, monotone_constraints='()', n_estimators=1000,\n",
       "              n_jobs=0, num_parallel_tree=1, objective='multi:softprob',\n",
       "              predictor='auto', random_state=42, reg_alpha=0, ...)"
      ]
     },
     "execution_count": 34,
     "metadata": {},
     "output_type": "execute_result"
    }
   ],
   "source": [
    "from sklearn.model_selection import train_test_split\n",
    "X_train,X_valid,Y_train,Y_valid=train_test_split(X, Y, test_size=0.2, random_state=42)\n",
    "#To get feature importance, we first need to fit.\n",
    "xgboost.fit(\n",
    "    X_train, \n",
    "    Y_train, \n",
    "    eval_metric=\"mlogloss\", \n",
    "    eval_set=[(X_train, Y_train), (X_valid, Y_valid)], \n",
    "    verbose=True, \n",
    "    early_stopping_rounds = 20)"
   ]
  },
  {
   "cell_type": "code",
   "execution_count": 35,
   "id": "a3e165df",
   "metadata": {
    "execution": {
     "iopub.execute_input": "2023-02-13T17:12:48.557427Z",
     "iopub.status.busy": "2023-02-13T17:12:48.556715Z",
     "iopub.status.idle": "2023-02-13T17:12:48.924507Z",
     "shell.execute_reply": "2023-02-13T17:12:48.923579Z"
    },
    "papermill": {
     "duration": 0.417498,
     "end_time": "2023-02-13T17:12:48.926707",
     "exception": false,
     "start_time": "2023-02-13T17:12:48.509209",
     "status": "completed"
    },
    "tags": []
   },
   "outputs": [
    {
     "data": {
      "text/plain": [
       "<AxesSubplot:title={'center':'Feature importance'}, xlabel='F score', ylabel='Features'>"
      ]
     },
     "execution_count": 35,
     "metadata": {},
     "output_type": "execute_result"
    },
    {
     "data": {
      "image/png": "[encoded data removed]",
      "text/plain": [
       "<Figure size 720x1008 with 1 Axes>"
      ]
     },
     "metadata": {
      "needs_background": "light"
     },
     "output_type": "display_data"
    }
   ],
   "source": [
    "#Feature importance\n",
    "from xgboost import plot_importance\n",
    "\n",
    "def plot_features(booster, figsize):    \n",
    "    fig, ax = plt.subplots(1,1,figsize=figsize)\n",
    "    return plot_importance(booster=booster, ax=ax)\n",
    "\n",
    "plot_features(xgboost, (10,14))"
   ]
  }
 ],
 "metadata": {
  "kernelspec": {
   "display_name": "Python 3",
   "language": "python",
   "name": "python3"
  },
  "language_info": {
   "codemirror_mode": {
    "name": "ipython",
    "version": 3
   },
   "file_extension": ".py",
   "mimetype": "text/x-python",
   "name": "python",
   "nbconvert_exporter": "python",
   "pygments_lexer": "ipython3",
   "version": "3.7.12"
  },
  "papermill": {
   "default_parameters": {},
   "duration": 739.437909,
   "end_time": "2023-02-13T17:12:49.799527",
   "environment_variables": {},
   "exception": null,
   "input_path": "__notebook__.ipynb",
   "output_path": "__notebook__.ipynb",
   "parameters": {},
   "start_time": "2023-02-13T17:00:30.361618",
   "version": "2.3.4"
  }
 },
 "nbformat": 4,
 "nbformat_minor": 5
}
